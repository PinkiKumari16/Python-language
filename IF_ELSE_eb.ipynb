{
  "nbformat": 4,
  "nbformat_minor": 0,
  "metadata": {
    "colab": {
      "provenance": [],
      "authorship_tag": "ABX9TyPb4R4txCpQLCH/eLphFEj6",
      "include_colab_link": true
    },
    "kernelspec": {
      "name": "python3",
      "display_name": "Python 3"
    },
    "language_info": {
      "name": "python"
    }
  },
  "cells": [
    {
      "cell_type": "markdown",
      "metadata": {
        "id": "view-in-github",
        "colab_type": "text"
      },
      "source": [
        "<a href=\"https://colab.research.google.com/github/pinkikumari1/kbc/blob/main/IF_ELSE_eb.ipynb\" target=\"_parent\"><img src=\"https://colab.research.google.com/assets/colab-badge.svg\" alt=\"Open In Colab\"/></a>"
      ]
    },
    {
      "cell_type": "code",
      "execution_count": null,
      "metadata": {
        "colab": {
          "base_uri": "https://localhost:8080/"
        },
        "id": "XsO_4oCtx3m1",
        "outputId": "718d6aa5-5972-47f5-aa7c-6b9905850f50"
      },
      "outputs": [
        {
          "output_type": "stream",
          "name": "stdout",
          "text": [
            "Enter your Cost Price=>70\n",
            "Enter your Selling Price=>100\n",
            "The profit is of Rs. 30\n"
          ]
        }
      ],
      "source": [
        "C=int(input(\"Enter your Cost Price=>\"))\n",
        "S=int(input(\"Enter your Selling Price=>\"))\n",
        "if S>C:\n",
        "  print(\"The profit is of Rs.\",S-C)\n",
        "elif S<C:\n",
        "  print(\"The loss is of Rs.\",C-S)\n",
        "else:\n",
        "  print(\"There are no profit and no loss\",S-C)"
      ]
    },
    {
      "cell_type": "code",
      "source": [
        "a=int(input(\"political marks= \"))\n",
        "b=int(input(\"home scinence marks= \"))\n",
        "c=int(input(\"economic marks= \"))\n",
        "d=int(input(\"english marks= \"))\n",
        "e=int(input(\"hindi marks= \"))\n",
        "f=int(input(\"total marks= \"))\n",
        "p=(a+b+c+d+e)/f*100\n",
        "if p>=90:\n",
        "  print(\"Percentage=\",p,\"Grade A+\")\n",
        "elif p>=80:\n",
        "  print(\"Percentage=\",p,\"Grade B+\")\n",
        "elif p>=70:\n",
        "  print(\"Percentage=\",p,\"Grade C+\")\n",
        "elif p>=60:\n",
        " print(\"Percentage=\",p,\"Grade D+\")\n",
        "elif p>=40:\n",
        " print(\"Percentage=\",p,\"Grade E+\")\n",
        "else:\n",
        " print(\"Percentage=\",p,\"Grade F\")"
      ],
      "metadata": {
        "colab": {
          "base_uri": "https://localhost:8080/"
        },
        "id": "NWrQNTzz3BnM",
        "outputId": "fa1c4f77-dfd6-4138-ac38-b5100b6b3c26"
      },
      "execution_count": null,
      "outputs": [
        {
          "output_type": "stream",
          "name": "stdout",
          "text": [
            "political marks= 45\n",
            "home scinence marks= 67\n",
            "economic marks= 89\n",
            "english marks= 99\n",
            "hindi marks= 98\n",
            "total marks= 500\n",
            "Percentage= 79.60000000000001 Grade C+\n"
          ]
        }
      ]
    },
    {
      "cell_type": "code",
      "source": [
        "a=int(input(\"Enter your Basic salary=> \"))\n",
        "if a<=10000:\n",
        "  print(\"Gross Salary\",a+a*20/100+a*80/100)\n",
        "elif a<=20000:\n",
        "  print(\"Gross salary\",a+a*25/100+a*90/100)\n",
        "else:\n",
        " print(\"Gross salary\",a+a*30/100+a*95/100)"
      ],
      "metadata": {
        "colab": {
          "base_uri": "https://localhost:8080/"
        },
        "id": "BbY-EIT16TwB",
        "outputId": "9d149f4f-1b2a-4547-cbc6-09a1b8ca7166"
      },
      "execution_count": null,
      "outputs": [
        {
          "output_type": "stream",
          "name": "stdout",
          "text": [
            "Enter your Basic salary=> 500000\n",
            "Gross salary 1125000.0\n"
          ]
        }
      ]
    },
    {
      "cell_type": "code",
      "source": [
        "u=float(input(\"enter electricity unit=\"))\n",
        "if u<=50:\n",
        "  print(\"Electricity bill\",u*0.50+u*20/100,\"Rs.\")\n",
        "elif u<=100:\n",
        " print(\"Elecricity bill\",u*0.75+u*20/100,\"Rs.\")\n",
        "elif u<=200:\n",
        " print(\"Electicity bill\",u*1.20+u*20/100,\"Rs.\")\n",
        "else:\n",
        " print(\"Elecricity bill\",u*1.50+u*20/100,\"Rs.\")\n",
        "\n"
      ],
      "metadata": {
        "colab": {
          "base_uri": "https://localhost:8080/"
        },
        "id": "6uNdPJG79rCg",
        "outputId": "ad398295-3eb0-4ef7-d1e5-5db4aed62ffa"
      },
      "execution_count": null,
      "outputs": [
        {
          "output_type": "stream",
          "name": "stdout",
          "text": [
            "enter electricity unit=80\n",
            "Elecricity bill 76.0 Rs.\n"
          ]
        }
      ]
    },
    {
      "cell_type": "code",
      "source": [
        "a=int(input(\"Enter your Mathamatic Num=\"))\n",
        "if a>=20:\n",
        "  b=int(input(\"Enter your English Num=\"))\n",
        "  if b>=25:\n",
        "    c=int(input(\"Enter your Aljebra Num=\"))\n",
        "    if c>=25:\n",
        "      d=int(input(\"Enter your cultureal Num=\"))\n",
        "      if d>=10:\n",
        "        print(\"Congretulations🥳☺️💫Your🌟🍫 Admmition is🎇🎆 Successfull 😄😄\")\n",
        "      else:\n",
        "        print(\"Better luck next time\")\n",
        "    else:\n",
        "      print(\"Better luck next time\")\n",
        "  else: \n",
        "    print(\"Better luck next time\")\n",
        "else:\n",
        "   print(\"Try Again With Your Hardwork 😊\")        \n"
      ],
      "metadata": {
        "id": "M31QUDl-D3GY",
        "colab": {
          "base_uri": "https://localhost:8080/"
        },
        "outputId": "5c9e32e1-0495-41cd-fc70-ecce38ff87b7"
      },
      "execution_count": null,
      "outputs": [
        {
          "output_type": "stream",
          "name": "stdout",
          "text": [
            "Enter your Mathamatic Num=21\n",
            "Enter your English Num=24\n",
            "Better luck next time\n"
          ]
        }
      ]
    },
    {
      "cell_type": "code",
      "source": [
        "a=int(input(\"Enter your Salary=>\"))\n",
        "b=int(input(\"Enter your Year of Service =>\"))\n",
        "if b>5:\n",
        "  print(\"Net Bonus=>\",a*5//100,\"Rs.\")\n",
        "else:\n",
        "  print(\"You Don't Deserve it\")\n",
        "\n"
      ],
      "metadata": {
        "colab": {
          "base_uri": "https://localhost:8080/"
        },
        "id": "ViCsJeGzBgXB",
        "outputId": "5f2cd132-dc22-462d-ecfc-92393649a7e8"
      },
      "execution_count": null,
      "outputs": [
        {
          "output_type": "stream",
          "name": "stdout",
          "text": [
            "Enter your Salary=>10000\n",
            "Enter your Year of Service =>6\n",
            "Net Bonus=> 500 Rs.\n"
          ]
        }
      ]
    },
    {
      "cell_type": "code",
      "source": [
        "n=int(input(\"Enter your Marks=>\"))\n",
        "if n<25:\n",
        "  print(\"Grade-F\")\n",
        "elif n<45:\n",
        " print(\"Grade-E\")\n",
        "elif n<50:\n",
        " print(\"Grade-D\")\n",
        "elif n<60:\n",
        " print(\"Grade-c\")\n",
        "elif n<80:\n",
        " print(\"Grade-B\")\n",
        "else:\n",
        " print(\"Grade-A\")"
      ],
      "metadata": {
        "colab": {
          "base_uri": "https://localhost:8080/"
        },
        "id": "W75pmgImBgOp",
        "outputId": "dce189e9-5267-428a-8004-49b8288d0c8e"
      },
      "execution_count": null,
      "outputs": [
        {
          "output_type": "stream",
          "name": "stdout",
          "text": [
            "Enter your Marks=>80\n",
            "Grade-A\n"
          ]
        }
      ]
    },
    {
      "cell_type": "code",
      "source": [
        "#Q.25\n",
        "a=int(input(\"Attended Classes=\"))\n",
        "b=int(input(\"Total classes=\"))\n",
        "c=a/b*100\n",
        "if c>75:\n",
        "  print(\"Percentage=\",c,\"%\")\n",
        "  print(\"The students is allowed to sit in the exam\")\n",
        "else:\n",
        "  print(\"Percentage=\",c,\"%\")\n",
        "  print(\"The students is not allowed to sit in the exam\")\n"
      ],
      "metadata": {
        "colab": {
          "base_uri": "https://localhost:8080/"
        },
        "id": "4wjsYXo0Jgso",
        "outputId": "553e76e6-5949-457a-cb1d-b127dfcff8d9"
      },
      "execution_count": null,
      "outputs": [
        {
          "output_type": "stream",
          "name": "stdout",
          "text": [
            "Attended Classes=6\n",
            "Total classes=35\n",
            "Percentage= 17.142857142857142 %\n",
            "The students is not allowed to sit in the exam\n"
          ]
        }
      ]
    },
    {
      "cell_type": "code",
      "source": [
        "#q.24\n",
        "\n",
        "p=int(input(\"Enter Age of First Person= \"))\n",
        "q=int(input(\"Enter Age of Second Person= \"))\n",
        "r=int(input(\"Enter Age of Third Person= \"))\n",
        "if p>q and p>r:\n",
        "  if q>r:\n",
        "    print(r,\"is youngest\")\n",
        "  else:\n",
        "    print(q,\"is youngest\")\n",
        "\n",
        "  print(p,\"Oldest Person\")\n",
        "7\n",
        "\n",
        "elif q>p and q>r:\n",
        "  if p>r:\n",
        "    print(r,\"is Youngest\")\n",
        "  else:\n",
        "    print(p,\"is youngest\")\n",
        "  print(q,\"is oldest\")\n",
        "else:\n",
        "  print(r,\"is oldest\")\n",
        "  if p>q:\n",
        "    print(q,\"is youngest\")\n",
        "  else:\n",
        "   print(p,\"is youngest\")\n"
      ],
      "metadata": {
        "colab": {
          "base_uri": "https://localhost:8080/"
        },
        "id": "cUTIuNheNSQr",
        "outputId": "fea7a9e1-866c-4654-c106-431aeb262b29"
      },
      "execution_count": null,
      "outputs": [
        {
          "output_type": "stream",
          "name": "stdout",
          "text": [
            "Enter Age of First Person= 45\n",
            "Enter Age of Second Person= 56\n",
            "Enter Age of Third Person= 8\n",
            "8 is Youngest\n",
            "56 is oldest\n"
          ]
        }
      ]
    },
    {
      "cell_type": "code",
      "source": [
        "#q.28\n",
        "#Ans=Yes\n",
        "if 4<8:\n",
        "  print(\"\"\"Kidzania is an indoor education and entertainment theme park for families and kids.where kids are educated .inspired and empowered by real life experience through role play actibities.\n",
        "  Kidzania is a kid-sized detailed replica of the real world.\"\"\")"
      ],
      "metadata": {
        "colab": {
          "base_uri": "https://localhost:8080/"
        },
        "id": "DOlcAEQxR7Z3",
        "outputId": "56daaaf3-211d-4279-ffa8-a89adee65144"
      },
      "execution_count": null,
      "outputs": [
        {
          "output_type": "stream",
          "name": "stdout",
          "text": [
            "Kidzania is an indoor education and entertainment theme park for families and kids.where kids are educated .inspired and empowered by real life experience through role play actibities.\n",
            "  Kidzania is a kid-sized detailed replica of the real world.\n"
          ]
        }
      ]
    },
    {
      "cell_type": "code",
      "source": [
        "#Q.29\n",
        "\n",
        "a=int(input(\"Enter your Age=>\"))\n",
        "if a<18:\n",
        "  print(\"You are Not Eligible For Vote\")\n",
        "else:\n",
        "  print(\"You are Eligible For Vote\")"
      ],
      "metadata": {
        "colab": {
          "base_uri": "https://localhost:8080/"
        },
        "id": "k7m0kRDpRITV",
        "outputId": "71ef5c69-41d6-4b8f-ee1f-7fe1cbafdc40"
      },
      "execution_count": null,
      "outputs": [
        {
          "output_type": "stream",
          "name": "stdout",
          "text": [
            "Enter your Age=>17\n",
            "You are Not Eligible For Vote\n"
          ]
        }
      ]
    },
    {
      "cell_type": "code",
      "source": [
        "#Q.30\n",
        "n=int(input(\"Enter any number=\"))\n",
        "if  n%7==0:\n",
        "  print(\"This number is Divisible of 7\")\n",
        "else:\n",
        " print(\"This number is Not Divisible of 7\")"
      ],
      "metadata": {
        "colab": {
          "base_uri": "https://localhost:8080/"
        },
        "id": "qAABibLvYqI7",
        "outputId": "dabea685-b6c2-4827-87f7-66575b380c4c"
      },
      "execution_count": null,
      "outputs": [
        {
          "output_type": "stream",
          "name": "stdout",
          "text": [
            "Enter any number=77\n",
            "This number is Divisible of 7\n"
          ]
        }
      ]
    },
    {
      "cell_type": "code",
      "source": [
        "#Q.31\n",
        "a=int(input(\"Enter any number=>\"))\n",
        "if a%5==0:\n",
        "  print(\"Hello\")\n",
        "else:\n",
        " print(\"Bye\")\n"
      ],
      "metadata": {
        "colab": {
          "base_uri": "https://localhost:8080/"
        },
        "id": "HBdvZhqAZs9O",
        "outputId": "5fdf7cdb-dd44-485f-a4b6-6620cf0448c3"
      },
      "execution_count": null,
      "outputs": [
        {
          "output_type": "stream",
          "name": "stdout",
          "text": [
            "Enter any number=>55\n",
            "Hello\n"
          ]
        }
      ]
    },
    {
      "cell_type": "code",
      "source": [
        "if 4>5:\n",
        "  print(\"\"\"anjum, kajal,zoya,rupa,\n",
        "  pinki,\n",
        "  radha\"\"\")"
      ],
      "metadata": {
        "id": "O2xhr21ObzSB"
      },
      "execution_count": null,
      "outputs": []
    },
    {
      "cell_type": "code",
      "source": [
        "#Q.32\n",
        "u=int(input(\"Enter the unit=\"))\n",
        "v=(u-100)\n",
        "w=(v-100)\n",
        "if u<=100:\n",
        "  print(\"No Charge\")\n",
        "elif u<=200:\n",
        " print(\"Total bill=\",v*5)\n",
        "elif u>200:\n",
        "  print(\"Total bill=\",(100*5)+w*10)\n",
        "else:\n",
        "  print(\"No pending \")\n"
      ],
      "metadata": {
        "id": "vT_Pxql_NwwE",
        "colab": {
          "base_uri": "https://localhost:8080/"
        },
        "outputId": "6be20a3c-661b-4a89-eb7b-823628b6b16b"
      },
      "execution_count": null,
      "outputs": [
        {
          "output_type": "stream",
          "name": "stdout",
          "text": [
            "Enter the unit=250\n",
            "Total bill= 1000\n"
          ]
        }
      ]
    },
    {
      "cell_type": "markdown",
      "source": [],
      "metadata": {
        "id": "11Guqs5uIp7G"
      }
    },
    {
      "cell_type": "code",
      "source": [
        "#Q.21\n",
        "a=int(input(\"Enter Your cost of Purchased=\"))\n",
        "if a>1000:\n",
        "  print(\"Total cost for User with discount=\",a-a*10/100,\"Rs.\")\n",
        "else:\n",
        "  print(\"Total pay=\",a)"
      ],
      "metadata": {
        "colab": {
          "base_uri": "https://localhost:8080/"
        },
        "id": "oWIkY24xEiTt",
        "outputId": "cbc3dca1-a13f-4a96-cd49-dfa1f8d6fa3c"
      },
      "execution_count": null,
      "outputs": [
        {
          "output_type": "stream",
          "name": "stdout",
          "text": [
            "Enter Your cost of Purchased=20000\n",
            "Total cost for User with discount= 18000.0 Rs.\n"
          ]
        }
      ]
    },
    {
      "cell_type": "code",
      "source": [
        "#Q.33\n",
        "a=int(input(\"enter any number=>\"))\n",
        "b=a%10\n",
        "if b!=0:\n",
        "  print(b)\n",
        "else:\n",
        "  print(\"Invalid\")"
      ],
      "metadata": {
        "colab": {
          "base_uri": "https://localhost:8080/"
        },
        "id": "7jn0CyEcJ8Ff",
        "outputId": "10342831-e615-44c6-ebb4-0373468939a1"
      },
      "execution_count": null,
      "outputs": [
        {
          "output_type": "stream",
          "name": "stdout",
          "text": [
            "enter any number=>98\n",
            "8\n"
          ]
        }
      ]
    },
    {
      "cell_type": "code",
      "source": [
        "#Q.34\n",
        "a=int(input(\"Enter any number=>\"))\n",
        "b=a%10\n",
        "if b==3:\n",
        "  if b%3==0:\n",
        "    print(\"Its a divisible of 3=\",a)\n",
        "else:\n",
        "  print(\"Its a not divisible of 3=\",a)"
      ],
      "metadata": {
        "id": "we0xauwaJ8BG"
      },
      "execution_count": null,
      "outputs": []
    },
    {
      "cell_type": "code",
      "source": [
        "#Q.35\n",
        "i=int(input(\"cost price=\"))\n",
        "if i>100000:\n",
        "  print(\"The Road tax to be paid=\",i*15/100,\"Rs.\")\n",
        "elif i>=50000:\n",
        "  print(\"The Road tax to be paid=\",i*10/100,\"Rs.\")\n",
        "elif i<=50000:\n",
        "  print(\"The Road tax to be paid=\",i*5/100,\"Rs.\")\n",
        "else:\n",
        "  print(\"Invalid\")\n"
      ],
      "metadata": {
        "id": "BvKGQvissqgH",
        "colab": {
          "base_uri": "https://localhost:8080/"
        },
        "outputId": "dbdaf817-7bab-4008-b425-51b4335f5cfe"
      },
      "execution_count": null,
      "outputs": [
        {
          "output_type": "stream",
          "name": "stdout",
          "text": [
            "cost price=200000\n",
            "The Road tax to be paid= 30000.0 Rs.\n"
          ]
        }
      ]
    },
    {
      "cell_type": "code",
      "source": [
        "#Q.37\n",
        "city=input(\"Enter the city Name=>\")\n",
        "if city==\"delhi\":\n",
        "  print(\"red Fort\")\n",
        "elif city==\"agra\":\n",
        "  print(\"taj Mahal\")\n",
        "elif city==\"jaipur\":\n",
        "  print(\"jal Mahal\")\n",
        "else:\n",
        "  print(\"Invalid\")\n"
      ],
      "metadata": {
        "colab": {
          "base_uri": "https://localhost:8080/"
        },
        "id": "BkJ-7mI5P6IY",
        "outputId": "d16e1205-9cc1-4471-d92d-0404c5e8a899"
      },
      "execution_count": null,
      "outputs": [
        {
          "output_type": "stream",
          "name": "stdout",
          "text": [
            "Enter the city Name=>agra\n",
            "taj Mahal\n"
          ]
        }
      ]
    },
    {
      "cell_type": "code",
      "source": [
        "a=\"54\"\n",
        "b=\"32\"\n",
        "p=10*str(int(a)+int(b))\n",
        "print(\"\\n\", p)"
      ],
      "metadata": {
        "id": "VdXTRlaKP6DG",
        "colab": {
          "base_uri": "https://localhost:8080/"
        },
        "outputId": "6138f54c-7b93-4a0c-d26c-fe98b584885d"
      },
      "execution_count": null,
      "outputs": [
        {
          "output_type": "stream",
          "name": "stdout",
          "text": [
            "\n",
            " 86868686868686868686\n"
          ]
        }
      ]
    },
    {
      "cell_type": "code",
      "source": [
        "#Q.38\n",
        "a=int(input(\"Enetr your age=>\"))\n",
        "if a>=60:\n",
        "  print(\"Person is a senior citizen\")\n",
        "else:\n",
        "  print(\"Person is a not senior citizen\")"
      ],
      "metadata": {
        "id": "Xno0WAyYP6AG",
        "colab": {
          "base_uri": "https://localhost:8080/"
        },
        "outputId": "440136da-976b-43d5-c957-1a623255fd4c"
      },
      "execution_count": null,
      "outputs": [
        {
          "output_type": "stream",
          "name": "stdout",
          "text": [
            "Enetr your age=>60\n",
            "Person is a senior citizen\n"
          ]
        }
      ]
    },
    {
      "cell_type": "code",
      "source": [
        "#Q.39\n",
        "a=int(input(\"Enter the first number=>\"))\n",
        "b=int(input(\"Enter the second  number=>\"))\n",
        "if a<b:\n",
        " print(a,\"is the lowest number\")\n",
        "else:\n",
        " print(b,\"is the lowest number\")"
      ],
      "metadata": {
        "id": "SBKhnM4o2HeA",
        "colab": {
          "base_uri": "https://localhost:8080/"
        },
        "outputId": "a1e37b55-4257-4c0f-a9dd-6325472974cf"
      },
      "execution_count": null,
      "outputs": [
        {
          "output_type": "stream",
          "name": "stdout",
          "text": [
            "Enter the first number=>32\n",
            "Enter the second  number=>18\n",
            "18 is the lowest number\n"
          ]
        }
      ]
    },
    {
      "cell_type": "markdown",
      "source": [],
      "metadata": {
        "id": "nK_gRfi1CdCc"
      }
    },
    {
      "cell_type": "code",
      "source": [
        "#Q.40\n",
        "a=int(input(\"Enter any number=>\"))\n",
        "c=str(a)\n",
        "b=len(c)\n",
        "if b==3:\n",
        "  print(a,\"is a three digit number\")\n",
        "else:\n",
        " print(a,\"is a not three digit number\")"
      ],
      "metadata": {
        "colab": {
          "base_uri": "https://localhost:8080/"
        },
        "id": "3Gn9O1epBKF2",
        "outputId": "bafc8bd1-ae0d-4624-f214-634f74809dcf"
      },
      "execution_count": null,
      "outputs": [
        {
          "output_type": "stream",
          "name": "stdout",
          "text": [
            "Enter any number=>432\n",
            "432 is a three digit number\n"
          ]
        }
      ]
    },
    {
      "cell_type": "code",
      "source": [
        "#Q.41\n",
        "a=int(input(\"Enter the temperrature of water=>\"))\n",
        "if a>=100:\n",
        "  print(\"It is Boilling\")\n",
        "else:\n",
        "  print(\"It is Not Boilling\")\n",
        "\n"
      ],
      "metadata": {
        "colab": {
          "base_uri": "https://localhost:8080/"
        },
        "id": "07CDKJgeCp6n",
        "outputId": "75eb88fb-ad52-484c-b7a6-774d6102b340"
      },
      "execution_count": null,
      "outputs": [
        {
          "output_type": "stream",
          "name": "stdout",
          "text": [
            "Enter the temperrature of water=>100\n",
            "It is Boilling\n"
          ]
        }
      ]
    },
    {
      "cell_type": "code",
      "source": [
        "#Q.42\n",
        "a=int(input(\"Enter the first number=>\"))\n",
        "b=int(input(\"Enter the second number=>\"))\n",
        "c=input(\"Enter any Operator=>\")\n",
        "if c==\"+\":\n",
        "  print(\"The Answer is=\",a+b)\n",
        "elif c==\"-\":\n",
        "  print(\"The Answer is=\",a-b)\n",
        "elif c==\"*\":\n",
        "  print(\"The Answer is=\",a*b)\n",
        "elif c==\"/\":\n",
        "  print(\"The Answer is=\",a/b)\n",
        "elif c==\"%\":\n",
        "  print(\"The Answer is=\",a%b)\n",
        "elif c==\"**\":\n",
        "  print(\"The Answer is=\",a**b)\n",
        "elif c==\"//\":\n",
        "  print(\"The Answer is=\",a//b)\n",
        "else:\n",
        " print(\"Invalid Operator\")"
      ],
      "metadata": {
        "id": "eiXgYd8kGtqw",
        "colab": {
          "base_uri": "https://localhost:8080/"
        },
        "outputId": "e3f0fcf3-32bf-45e9-a504-f38bf4145743"
      },
      "execution_count": null,
      "outputs": [
        {
          "output_type": "stream",
          "name": "stdout",
          "text": [
            "Enter the first number=>16\n",
            "Enter the second number=>4\n",
            "Enter any Operator=>//\n",
            "The Answer is= 4\n"
          ]
        }
      ]
    },
    {
      "cell_type": "code",
      "source": [
        "#Q.43\n",
        "a=int(input(\"Enter your age=>\"))\n",
        "b=input(\"Enter your sex(M,F)=>\")\n",
        "c=int(input(\"Enter your Number of days=>\"))\n",
        "if a>=18 and a<30:\n",
        "  if b==\"male\":\n",
        "    print(\"Wage is=\",c*700,\"Rs.\")\n",
        "  else:\n",
        "    print(\"Wage is=\",c*750,\"Rs.\")\n",
        "elif a>=30 and a<=40:\n",
        "  if b==\"male\":\n",
        "    print(\"Wage is =\",c*800,\"Rs.\")\n",
        "  else:\n",
        "    print(\"Wage is =\",c*850,\"Rs.\")   \n",
        "else:\n",
        "  print(\"Enter appropriate age\")"
      ],
      "metadata": {
        "colab": {
          "base_uri": "https://localhost:8080/"
        },
        "id": "fyoagM8kKsmm",
        "outputId": "ff0d440b-b1f9-4067-b4dc-8bc531b30204"
      },
      "execution_count": null,
      "outputs": [
        {
          "output_type": "stream",
          "name": "stdout",
          "text": [
            "Enter your age=>20\n",
            "Enter your sex(M,F)=>female\n",
            "Enter your Number of days=>20\n",
            "Wage is= 15000 Rs.\n"
          ]
        }
      ]
    },
    {
      "cell_type": "code",
      "source": [
        "#Q.44\n",
        "a=int(input(\"Enter first number=\"))\n",
        "b=int(input(\"Enter second number=\"))\n",
        "c=int(input(\"Enter third number=\"))\n",
        "if a>b and a>c:\n",
        "  if b>c:\n",
        "    print(b,\"is the second largest number\")\n",
        "  else:\n",
        "    print(c,\"is the largest number\")\n",
        "elif b>c and b>a:\n",
        "  if a>c:\n",
        "    print(a,\"is the second largest number\")\n",
        "  else:\n",
        "    print(c,\"is the second largest number\")\n",
        "elif c>a and c>b:\n",
        "  if a>b:\n",
        "    print(a,\"is the second largest number\")\n",
        "  else:\n",
        "    print(b,\"is the second largest number\")\n",
        "else:\n",
        "  print(\"Invalid\")\n"
      ],
      "metadata": {
        "colab": {
          "base_uri": "https://localhost:8080/"
        },
        "id": "m-e8nhe-HSfU",
        "outputId": "683d102e-5cd8-47c7-c6f4-2d72b7bd1263"
      },
      "execution_count": null,
      "outputs": [
        {
          "output_type": "stream",
          "name": "stdout",
          "text": [
            "Enter first number=9\n",
            "Enter second number=20\n",
            "Enter third number=15\n",
            "15 is the second largest number\n"
          ]
        }
      ]
    },
    {
      "cell_type": "code",
      "source": [
        "#Q>45\n",
        "a=int(input(\"Enter no. of days=\"))\n",
        "b=a-5\n",
        "c=b-5\n",
        "d=c-5\n",
        "if a<=5:\n",
        "  print(\"The Charge for Library=\",a*2,\"Rs.\")\n",
        "elif a>=6 and a<=10:\n",
        "  print(\"The Charge for Liberary=\",(5*2)+(b*3),\"Rs.\")\n",
        "elif a>=11 and a<=15:\n",
        "  print(\"The Charge for Liberary=\",(5*2)+(5*3)+(c*4),\"Rs.\")\n",
        "else:\n",
        "  print(\"The Charge for Liberary=\",(5*2)+(5*3)+(5*4)+(d*5),\"Rs.\")"
      ],
      "metadata": {
        "colab": {
          "base_uri": "https://localhost:8080/"
        },
        "id": "UqUWsUWWl9sx",
        "outputId": "06332b4b-ae63-4b41-c7eb-e8adc495af61"
      },
      "execution_count": null,
      "outputs": [
        {
          "output_type": "stream",
          "name": "stdout",
          "text": [
            "Enter no. of days=18\n",
            "The Charge for Liberary= 60 Rs.\n"
          ]
        }
      ]
    },
    {
      "cell_type": "code",
      "source": [
        "#Q.46\n",
        "a=input(\"Enter any number=\")\n",
        "if a>\"0\" and a<\"9\":\n",
        "  print(a,\"is the Number\")\n",
        "else:\n",
        "  print(a,\"is not number\")"
      ],
      "metadata": {
        "colab": {
          "base_uri": "https://localhost:8080/"
        },
        "id": "W_3uhuYI2k89",
        "outputId": "7462a37c-f9d0-4ed6-c5df-432296f4c831"
      },
      "execution_count": null,
      "outputs": [
        {
          "output_type": "stream",
          "name": "stdout",
          "text": [
            "Enter any number=6766\n",
            "6766 is the Number\n"
          ]
        }
      ]
    },
    {
      "cell_type": "code",
      "source": [
        "#Q.47\n",
        "a=int(input(\"Enter the any Month=>\"))\n",
        "b=int(input(\"Enter the No. of Days=>\"))\n",
        "if a==5 or a==6 or a==7:\n",
        "  if b==31 or b==30:\n",
        "    print(\"The Season is Summer\")\n",
        "  else:\n",
        "   print(\"Nothing\")\n",
        "elif a==11 or a==12 or a==1: \n",
        " if b==31 or b==30:\n",
        "   print(\"The Season is Winter\")\n",
        " else:\n",
        "  print(\"Nothing\")\n",
        "elif a==8 or a==9 or a==10: \n",
        " if b==31 or b==30:\n",
        "  print(\"The season is Rainy\")\n",
        " else:\n",
        "  print(\"Nothing\")\n",
        "elif a==2:\n",
        " if b==28:\n",
        "  print(\"The season is Autumn\")\n",
        " else:\n",
        "  print(\"Nothing\") \n",
        "elif a==3 or a==4:\n",
        "  if b==30 or b==31:\n",
        "   print(\"The season is Spring\")\n",
        "  else:\n",
        "   print(\"Nothing\")\n",
        "else:\n",
        "  print(\"This not month\")\n"
      ],
      "metadata": {
        "id": "Mvwt1Edx7AUc",
        "colab": {
          "base_uri": "https://localhost:8080/"
        },
        "outputId": "dbc2ad87-11b2-49fa-9b54-d85b65484466"
      },
      "execution_count": null,
      "outputs": [
        {
          "output_type": "stream",
          "name": "stdout",
          "text": [
            "Enter the any Month=>4\n",
            "Enter the No. of Days=>30\n",
            "The season is Spring\n"
          ]
        }
      ]
    },
    {
      "cell_type": "markdown",
      "source": [],
      "metadata": {
        "id": "uG8TCE1FsvW-"
      }
    },
    {
      "cell_type": "code",
      "source": [
        "#Q.48\n",
        "p=float(input(\"Enter first num=\"))\n",
        "q=float(input(\"Enter second num=\"))\n",
        "r=float(input(\"Enter third num=\"))\n",
        "if p>q:\n",
        " if p<r:\n",
        "  print(\"The Median is\",p)\n",
        " elif q>r:\n",
        "  print(\"The Median is\",q)\n",
        " else:\n",
        "  print(\"The Median is\",r)\n",
        "else:\n",
        "  if p>r:\n",
        "   print(\"The Median is\",p)\n",
        "  elif q<r:\n",
        "   print(\"The Median is\",q)\n",
        "  else:\n",
        "   print(\"The Median is\",c)\n"
      ],
      "metadata": {
        "colab": {
          "base_uri": "https://localhost:8080/"
        },
        "id": "pEqiRSz6tky9",
        "outputId": "eb388ca6-069f-4368-ad4b-46ac9dfe0cad"
      },
      "execution_count": null,
      "outputs": [
        {
          "output_type": "stream",
          "name": "stdout",
          "text": [
            "Enter first num=100\n",
            "Enter second num=379\n",
            "Enter third num=14\n",
            "The Median is 100.0\n"
          ]
        }
      ]
    },
    {
      "cell_type": "markdown",
      "source": [],
      "metadata": {
        "id": "Ns5VLtSKpbuO"
      }
    },
    {
      "cell_type": "markdown",
      "source": [],
      "metadata": {
        "id": "BxKfxXtLpbni"
      }
    },
    {
      "cell_type": "code",
      "source": [],
      "metadata": {
        "id": "xaBeyYNfrd-0"
      },
      "execution_count": null,
      "outputs": []
    },
    {
      "cell_type": "code",
      "source": [
        "year=int(input(\"Enter the year=\"))\n",
        "month=int(input(\"Enter the month=\"))\n",
        "day=int(input(\"Enter  the day=\"))\n",
        "if day>0 and day<=30:\n",
        "  print(\"The Next Date is[\",year,\"-\",month,\"-\",day+1,\"]\")\n",
        "else:\n",
        "  print(\"Invalid\")\n",
        "\n"
      ],
      "metadata": {
        "id": "7_YpXCXB3YxF",
        "colab": {
          "base_uri": "https://localhost:8080/"
        },
        "outputId": "faa45858-7227-4ba2-fd52-a1bb29036c0a"
      },
      "execution_count": null,
      "outputs": [
        {
          "output_type": "stream",
          "name": "stdout",
          "text": [
            "Enter the year=2022\n",
            "Enter the month=5\n",
            "Enter  the day=23\n",
            "The Next Date is[ 2022 - 5 - 24 ]\n"
          ]
        }
      ]
    },
    {
      "cell_type": "code",
      "source": [
        "#Q.49 enter the date so output is next date\n",
        "year=int(input(\"Enter the year=\"))\n",
        "month=int(input(\"Enter the month[1-12]=\"))\n",
        "day=int(input(\"Enter  the day[1-31]=\"))\n",
        "if month==1 or month==3 or month==5 or month==7 or month==8 or month==10:\n",
        "  if day>0 and day<=30:\n",
        "    print(\"Next Date=[\",day+1,'-',month,'-',year,\"]\")\n",
        "  elif day==31:\n",
        "    print(\"Next Date=[1-\",month+1,'-',year,\"]\")\n",
        "  else:\n",
        "    print(\"Invalid\")\n",
        "elif month==4 or month==6 or month==9 or month==11:\n",
        "  if day>0 and day<=29:\n",
        "    print(\"Next Date=[\",day+1,'-',month,'-',year,\"]\")\n",
        "  elif day==30:\n",
        "    print(\"Next Date=[1-\",month+1,'-',year,\"]\")\n",
        "  else:\n",
        "    print(\"Invalid\")\n",
        "elif month==2:\n",
        "  if day>0 and day<=27:\n",
        "    print(\"Next Date=[\",day+1,'-',month,'-',year,\"]\")\n",
        "  elif day==28 or day==29:\n",
        "  print(\"Next Date=[1-\",month+1,'-',year,\"]\")\n",
        "  else:\n",
        "    print(\"Invalid\")\n",
        "elif month==12:\n",
        "  if day>0 and day<=30:\n",
        "    print(\"Next Date=[\",day+1,'-',month,'-',year,\"]\")\n",
        "    elif day==31:\n",
        "      print(\"Next Date=[1-1-\",year+1,\"]\")\n",
        "  else:\n",
        "    print(\"Invalid\")\n",
        "else:\n",
        "  print(\"It is not Valid\")\n"
      ],
      "metadata": {
        "colab": {
          "base_uri": "https://localhost:8080/"
        },
        "id": "ktj4fPxfqyD0",
        "outputId": "6a10f03f-f3fb-47ab-cdef-ba6b2de78260"
      },
      "execution_count": null,
      "outputs": [
        {
          "output_type": "stream",
          "name": "stdout",
          "text": [
            "Enter the year=2016\n",
            "Enter the month[1-12]=12\n",
            "Enter  the day[1-31]=31\n",
            "Next Date=[1-1- 2017 ]\n"
          ]
        }
      ]
    },
    {
      "cell_type": "code",
      "source": [
        "(2**3//4+8-12/6%3*4)"
      ],
      "metadata": {
        "colab": {
          "base_uri": "https://localhost:8080/"
        },
        "id": "fiLLlADVyAFl",
        "outputId": "34c62339-f24c-49b4-8352-2fbdf2d3cb32"
      },
      "execution_count": null,
      "outputs": [
        {
          "output_type": "execute_result",
          "data": {
            "text/plain": [
              "2.0"
            ]
          },
          "metadata": {},
          "execution_count": 4
        }
      ]
    },
    {
      "cell_type": "code",
      "source": [
        "#Q.51\n",
        "a=input(\"Enter any word=>\")\n",
        "if a:\n",
        "  print(len(a))"
      ],
      "metadata": {
        "colab": {
          "base_uri": "https://localhost:8080/"
        },
        "id": "-toOhgpjoJIe",
        "outputId": "d9cd769d-2c05-44c5-e17e-f63d55e51efb"
      },
      "execution_count": null,
      "outputs": [
        {
          "output_type": "stream",
          "name": "stdout",
          "text": [
            "Enter any word=>shivji sah\n",
            "10\n"
          ]
        }
      ]
    },
    {
      "cell_type": "code",
      "source": [
        "#Q.52\n",
        "a=input(\"Enter any Word=>\")\n",
        "b=len(a)\n",
        "if b==3:\n",
        "  print(a+'ing')\n",
        "elif b>3:\n",
        "  print(a+'ly')\n",
        "else:\n",
        "  print(\"Unchanged\")"
      ],
      "metadata": {
        "colab": {
          "base_uri": "https://localhost:8080/"
        },
        "id": "Vlp2eCVpoxxj",
        "outputId": "589d6570-c2b0-42e4-cfae-fb926c181015"
      },
      "execution_count": null,
      "outputs": [
        {
          "output_type": "stream",
          "name": "stdout",
          "text": [
            "Enter any Word=>put\n",
            "puting\n"
          ]
        }
      ]
    },
    {
      "cell_type": "code",
      "source": [
        "\n",
        "\n"
      ],
      "metadata": {
        "id": "-rAKmiI0sa3s"
      },
      "execution_count": null,
      "outputs": []
    },
    {
      "cell_type": "code",
      "source": [
        "a=int(input(\"First num=\"))\n",
        "b=int(input(\"Secon num=\"))\n",
        "c=int(input(\"Third num=\"))\n",
        "if a>b and a>c:\n",
        "  print(a,\"is highest num\")\n",
        "if b>a and b>c:\n",
        "  print(b,\"is highest num\")\n",
        "if c>a and c>b:\n",
        "  print(c,\"is highest\")\n",
        "if a<b and a<c:\n",
        "  print(a,\"is lowest num\")\n",
        "if b<a and b<c:\n",
        "  print(b,\"is lowest num\")\n",
        "if c<a and c<b:\n",
        "  print(c,\"is lowest num\")\n",
        "else:\n",
        "  print(\"Invalid\")"
      ],
      "metadata": {
        "colab": {
          "base_uri": "https://localhost:8080/"
        },
        "id": "VfvbMjhC2RXS",
        "outputId": "f742d612-a4c3-463c-9942-6700a2864816"
      },
      "execution_count": null,
      "outputs": [
        {
          "output_type": "stream",
          "name": "stdout",
          "text": [
            "First num=6\n",
            "Secon num=9\n",
            "Third num=4\n",
            "9 is highest num\n",
            "4 is lowest num\n"
          ]
        }
      ]
    },
    {
      "cell_type": "code",
      "source": [
        "#Q.54\n",
        "import datetime\n",
        "now = datetime.datetime.now()\n",
        "print (\"Current date and time : \")\n",
        "print (now.strftime(\"%Y-%m-%d %H:%M:%S\"))\n"
      ],
      "metadata": {
        "colab": {
          "base_uri": "https://localhost:8080/"
        },
        "id": "rC6KmbROaKrK",
        "outputId": "dc1f2561-adfa-4c80-8105-33294c96ed67"
      },
      "execution_count": null,
      "outputs": [
        {
          "output_type": "stream",
          "name": "stdout",
          "text": [
            "Current date and time : \n",
            "2022-05-21 07:05:12\n"
          ]
        }
      ]
    },
    {
      "cell_type": "code",
      "source": [
        "#Q.58\n",
        "a=float(input(\"Enter the Redius:= \"))\n",
        "b=input(\"cm/m:= \")\n",
        "if b=='cm':\n",
        "  print(\"The Area is=\",3.14*a**2,\"cm\")\n",
        "elif b=='m':\n",
        "  print(\"The Area is=\",3.14*a**2,\"m\")\n",
        "else:\n",
        "  print(\"Don't Accepted\")\n"
      ],
      "metadata": {
        "colab": {
          "base_uri": "https://localhost:8080/"
        },
        "id": "WEoaw6Fqb41j",
        "outputId": "2d2ed3c6-35e3-4d97-d33d-877fdeb67006"
      },
      "execution_count": null,
      "outputs": [
        {
          "output_type": "stream",
          "name": "stdout",
          "text": [
            "Enter the Redius:= 6\n",
            "cm/m:= m\n",
            "The Area is= 113.04 m\n"
          ]
        }
      ]
    },
    {
      "cell_type": "code",
      "source": [
        "#Q.59\n",
        "a=input(\"Enter your Last name:=\")\n",
        "b=input(\"Enter your First Name:=\")\n",
        "a,b = b,a\n",
        "if a:\n",
        "  print(a+' '+b)"
      ],
      "metadata": {
        "colab": {
          "base_uri": "https://localhost:8080/"
        },
        "id": "W-o9KZX9hLC4",
        "outputId": "dd51ee96-fafe-49ca-a931-d76d3c1c406e"
      },
      "execution_count": null,
      "outputs": [
        {
          "output_type": "stream",
          "name": "stdout",
          "text": [
            "Enter your Last name:=kumari\n",
            "Enter your First Name:=pinki\n",
            "pinki kumari\n"
          ]
        }
      ]
    },
    {
      "cell_type": "code",
      "source": [
        "#Q.59\n",
        "a=input(\"Enter your Last name:=\")\n",
        "b=input(\"Enter your First Name:=\")\n",
        "c=a\n",
        "a=b\n",
        "b=c\n",
        "if a:\n",
        "  print(a+' '+b)"
      ],
      "metadata": {
        "colab": {
          "base_uri": "https://localhost:8080/"
        },
        "id": "pleQSQrywmTa",
        "outputId": "d772679a-e61e-4861-af69-f0087b97e694"
      },
      "execution_count": null,
      "outputs": [
        {
          "output_type": "stream",
          "name": "stdout",
          "text": [
            "Enter your Last name:=kumari\n",
            "Enter your First Name:=pinki\n",
            "pinki kumari\n"
          ]
        }
      ]
    },
    {
      "cell_type": "code",
      "source": [
        "#abc.pinki hme . se todna hai or isse aage ka print karvana hai\n",
        "#eg:abc=0,pinki=1\n",
        "#Q.60\n",
        "a=input(\"Enter your file name: \")\n",
        "b=a.split(\".\")\n",
        "print(b[0])"
      ],
      "metadata": {
        "colab": {
          "base_uri": "https://localhost:8080/"
        },
        "id": "SPKa9gWv0J14",
        "outputId": "0633b694-3c8a-4e68-fd26-9da31ce2cf4d"
      },
      "execution_count": null,
      "outputs": [
        {
          "output_type": "stream",
          "name": "stdout",
          "text": [
            "Enter your file name: pinki.org\n",
            "pinki\n"
          ]
        }
      ]
    },
    {
      "cell_type": "code",
      "source": [
        "#Q \n",
        "a=int(input(\"Enter the temprature: \"))\n",
        "b=input(\"Enter the temprature in 'C'/'F': \")\n",
        "if b==\"c\":\n",
        "  if a>30:\n",
        "    print(\"Hot, The temprature is:\",(a+9/5)+32,\"F.\")\n",
        "  elif a>20 and a<=30:\n",
        "    print(\"Normal, The temprature is:\",(a+9/5)+32,\"F.\")\n",
        "  else:\n",
        "    print(\"Cool, The temprature is:\",(a+9/5)+32,\"F.\")\n",
        "elif b==\"f\":\n",
        "  if a>30:\n",
        "    print(\"Hot, The temprature is:\",(a-32)*5/9,\"C\")\n",
        "  elif a>20 and a<=30:\n",
        "    print(\"Normal, The temprature is:\",(a-32)*5/9,\"C\")\n",
        "  else:\n",
        "    print(\"Cool, The temprature is:\",(a-32)*5/9,\"C\")\n",
        "else:\n",
        "  print(\"Not accept\")\n"
      ],
      "metadata": {
        "id": "SK-Q4nTWBdnM",
        "colab": {
          "base_uri": "https://localhost:8080/"
        },
        "outputId": "20a5b3eb-2a74-4c28-8675-e15947fe353a"
      },
      "execution_count": null,
      "outputs": [
        {
          "output_type": "stream",
          "name": "stdout",
          "text": [
            "Enter the temprature: 60\n",
            "Enter the temprature in 'C'/'F': f\n",
            "Hot, The temprature is: 15.555555555555555 C\n"
          ]
        }
      ]
    },
    {
      "cell_type": "code",
      "source": [
        "a=float(input(\"Enter your hight: \"))\n",
        "b=input(\"Enter your hight in 'CM/Inch': \")\n",
        "if b==\"cm\":\n",
        "   c=a/2.54\n",
        "   if a>=25 and a<=45:\n",
        "     print(\"Small, and your hight is:\",c,\"Inch\")\n",
        "   elif a>=46 and a<=65:\n",
        "     print(\"Medium, and your hight is:\",c,\"Inch\")\n",
        "   elif a>=66 and a<=85:\n",
        "     print(\"Good, and your hight is:\",c,\"Inch\")\n",
        "   else:\n",
        "     print(\"Tall, and your hight is:\",c,\"Inch\")\n",
        "elif b==\"inch\":\n",
        "     e=a*2.54\n",
        "     if a>=25 and a<=45:\n",
        "       print(\"Small, and your hight is:\",e,\"CM\")\n",
        "     elif a<=46 and a>=65:\n",
        "       print(\"Medium, and your hight is:\",e,\"CM\")\n",
        "     elif a<=66 and a>=85:\n",
        "       print(\"Good, and your hight is:\",e,\"CM\")\n",
        "     else:\n",
        "        print(\"Tall, and your hight is:\",e,\"CM\")\n",
        "else:\n",
        "  print(\"Don't Accept\")"
      ],
      "metadata": {
        "colab": {
          "base_uri": "https://localhost:8080/"
        },
        "id": "NGoWIVs3slo8",
        "outputId": "ffc3d6a8-ad2c-4228-8864-0931908cb9b6"
      },
      "execution_count": null,
      "outputs": [
        {
          "output_type": "stream",
          "name": "stdout",
          "text": [
            "Enter your hight: 37\n",
            "Enter your hight in 'CM/Inch': inch\n",
            "Small, and your hight is: 93.98 CM\n"
          ]
        }
      ]
    },
    {
      "cell_type": "code",
      "source": [
        "a=int(input(\"Enter any number: \"))\n",
        "if a==1:\n",
        "  print(10.5,\"Year\")\n",
        "elif a==2:\n",
        "  print(10.5*2,\"year\")\n",
        "elif a>=3:\n",
        "  print(21+((a-2)*4),\"year\")\n",
        "  \n",
        "  \n"
      ],
      "metadata": {
        "colab": {
          "base_uri": "https://localhost:8080/"
        },
        "id": "WyGzh0LQZre4",
        "outputId": "3f9fb3e2-286c-4916-9f3b-48cc41cfe50b"
      },
      "execution_count": null,
      "outputs": [
        {
          "output_type": "stream",
          "name": "stdout",
          "text": [
            "Enter any number: 8\n",
            "45 year\n"
          ]
        }
      ]
    },
    {
      "cell_type": "code",
      "source": [],
      "metadata": {
        "id": "1PYvmdnkZqDq"
      },
      "execution_count": null,
      "outputs": []
    }
  ]
}