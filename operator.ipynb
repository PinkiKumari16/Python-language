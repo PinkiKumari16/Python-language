{
  "cells": [
    {
      "cell_type": "markdown",
      "metadata": {
        "id": "view-in-github",
        "colab_type": "text"
      },
      "source": [
        "<a href=\"https://colab.research.google.com/github/pinkikumari1/kbc/blob/main/operator.ipynb\" target=\"_parent\"><img src=\"https://colab.research.google.com/assets/colab-badge.svg\" alt=\"Open In Colab\"/></a>"
      ]
    },
    {
      "cell_type": "code",
      "source": [
        "print(\"this line will be printed in python.\")"
      ],
      "metadata": {
        "colab": {
          "base_uri": "https://localhost:8080/"
        },
        "id": "K7AtXKPkD87Q",
        "outputId": "1f229480-d2de-4bf7-8717-a7e1894f774e"
      },
      "execution_count": 2,
      "outputs": [
        {
          "output_type": "stream",
          "name": "stdout",
          "text": [
            "this line will be printed in python.\n"
          ]
        }
      ]
    },
    {
      "cell_type": "code",
      "source": [
        "print(\"this, another line will also be prrinted in python\")"
      ],
      "metadata": {
        "colab": {
          "base_uri": "https://localhost:8080/"
        },
        "id": "0TVufS8XEAwG",
        "outputId": "10db0f82-2a28-46af-f392-81182290b8fe"
      },
      "execution_count": 1,
      "outputs": [
        {
          "output_type": "stream",
          "name": "stdout",
          "text": [
            "this, another line will also be prrinted in python\n"
          ]
        }
      ]
    },
    {
      "cell_type": "code",
      "source": [
        "print(\"this line will be printed in python.\")\n",
        "print(\"this, another line will also be prrinted in python\")\n",
        "print(2+5)"
      ],
      "metadata": {
        "colab": {
          "base_uri": "https://localhost:8080/"
        },
        "id": "uzJOmCGKEIPv",
        "outputId": "153ec132-02bc-4fcd-dcb2-6c1e5ec24bd4"
      },
      "execution_count": 3,
      "outputs": [
        {
          "output_type": "stream",
          "name": "stdout",
          "text": [
            "this line will be printed in python.\n",
            "this, another line will also be prrinted in python\n",
            "7\n"
          ]
        }
      ]
    },
    {
      "cell_type": "code",
      "source": [
        "a=10\n",
        "if a*2==20:\n",
        "  print()\n",
        "  print(\"variable a when multiplied by 2 does not give 20.\")  \n"
      ],
      "metadata": {
        "colab": {
          "base_uri": "https://localhost:8080/"
        },
        "id": "Opzmly__EZGB",
        "outputId": "f14b23ab-90ca-4b99-caee-261f9d672636"
      },
      "execution_count": 5,
      "outputs": [
        {
          "output_type": "stream",
          "name": "stdout",
          "text": [
            "\n",
            "variable a when multiplied by 2 does not give 20.\n"
          ]
        }
      ]
    },
    {
      "cell_type": "code",
      "source": [
        "age=(input(\"please enter your age=>\"))"
      ],
      "metadata": {
        "colab": {
          "base_uri": "https://localhost:8080/"
        },
        "id": "muOEz4XVESpW",
        "outputId": "113dff26-fcf0-4d87-87d7-0acb28dfe16b"
      },
      "execution_count": 4,
      "outputs": [
        {
          "name": "stdout",
          "output_type": "stream",
          "text": [
            "please enter your age=>78\n"
          ]
        }
      ]
    },
    {
      "cell_type": "code",
      "source": [
        "counter=1\n",
        "while counter < 10:\n",
        "  if counter %2==0:\n",
        "    print(\"counter is an even number.\")\n",
        "  print(\"the counter is\"+(str(counter))\n",
        "  counter = counter+1\n",
        "print('-----')\n"
      ],
      "metadata": {
        "colab": {
          "base_uri": "https://localhost:8080/",
          "height": 130
        },
        "id": "DAFX1doiEd6z",
        "outputId": "df2f1cfa-63b6-4a57-b76a-f790a10712b7"
      },
      "execution_count": 6,
      "outputs": [
        {
          "output_type": "error",
          "ename": "SyntaxError",
          "evalue": "ignored",
          "traceback": [
            "\u001b[0;36m  File \u001b[0;32m\"<ipython-input-6-f34ddb4683be>\"\u001b[0;36m, line \u001b[0;32m6\u001b[0m\n\u001b[0;31m    counter = counter+1\u001b[0m\n\u001b[0m          ^\u001b[0m\n\u001b[0;31mSyntaxError\u001b[0m\u001b[0;31m:\u001b[0m invalid syntax\n"
          ]
        }
      ]
    },
    {
      "cell_type": "code",
      "execution_count": null,
      "metadata": {
        "colab": {
          "base_uri": "https://localhost:8080/"
        },
        "id": "TzW-Ro79Jy8r",
        "outputId": "5000ef2b-d526-4669-df05-c67e01e7164e"
      },
      "outputs": [
        {
          "name": "stdout",
          "output_type": "stream",
          "text": [
            "9.0\n"
          ]
        }
      ],
      "source": [
        "print(36/4)"
      ]
    },
    {
      "cell_type": "code",
      "execution_count": null,
      "metadata": {
        "colab": {
          "base_uri": "https://localhost:8080/",
          "height": 130
        },
        "id": "97U8ASLzKo3L",
        "outputId": "8a5f6d35-7339-40bd-d733-0db7ae1864ff"
      },
      "outputs": [
        {
          "ename": "SyntaxError",
          "evalue": "ignored",
          "output_type": "error",
          "traceback": [
            "\u001b[0;36m  File \u001b[0;32m\"<ipython-input-3-ab6b900ca1af>\"\u001b[0;36m, line \u001b[0;32m1\u001b[0m\n\u001b[0;31m    print(26%)\u001b[0m\n\u001b[0m             ^\u001b[0m\n\u001b[0;31mSyntaxError\u001b[0m\u001b[0;31m:\u001b[0m invalid syntax\n"
          ]
        }
      ],
      "source": [
        "print(26%)"
      ]
    },
    {
      "cell_type": "code",
      "execution_count": null,
      "metadata": {
        "id": "rRlrgMM-K9Kd"
      },
      "outputs": [],
      "source": [
        "x=10\n",
        "y=5\n",
        "if(x**2>100 and y<100):\n",
        "  print(x,y)"
      ]
    },
    {
      "cell_type": "code",
      "execution_count": null,
      "metadata": {
        "colab": {
          "base_uri": "https://localhost:8080/"
        },
        "id": "tgkzEyuxMo5S",
        "outputId": "688ea4ff-0f8a-454b-c1cf-9cdd69eb4012"
      },
      "outputs": [
        {
          "name": "stdout",
          "output_type": "stream",
          "text": [
            "[10, 20, 30, 40]\n",
            "[10, 20, 30, 40]\n"
          ]
        }
      ],
      "source": [
        "a=[10,20]\n",
        "b=a\n",
        "b+=[30,40]\n",
        "print(a)\n",
        "print(b)"
      ]
    },
    {
      "cell_type": "code",
      "execution_count": null,
      "metadata": {
        "colab": {
          "base_uri": "https://localhost:8080/"
        },
        "id": "ADXd452WOGSQ",
        "outputId": "d0b3e6fd-2123-4a30-f931-9eb60ce0cb94"
      },
      "outputs": [
        {
          "name": "stdout",
          "output_type": "stream",
          "text": [
            "50\n"
          ]
        }
      ],
      "source": [
        "x=100\n",
        "y=50\n",
        "print(x and y)"
      ]
    },
    {
      "cell_type": "code",
      "execution_count": null,
      "metadata": {
        "colab": {
          "base_uri": "https://localhost:8080/"
        },
        "id": "f67OluUFOsoG",
        "outputId": "9ee65674-ecb1-4b05-fdfe-ac9ebc0de77e"
      },
      "outputs": [
        {
          "name": "stdout",
          "output_type": "stream",
          "text": [
            "36\n",
            "3\n"
          ]
        }
      ],
      "source": [
        "x=6\n",
        "y=2\n",
        "print(x**y)\n",
        "print(x//y)"
      ]
    },
    {
      "cell_type": "code",
      "execution_count": null,
      "metadata": {
        "colab": {
          "base_uri": "https://localhost:8080/"
        },
        "id": "O2Q44ji5PMPD",
        "outputId": "12bc19ca-55a9-4b1b-cd45-6f5e7ac6df89"
      },
      "outputs": [
        {
          "name": "stdout",
          "output_type": "stream",
          "text": [
            "-4\n"
          ]
        }
      ],
      "source": [
        "print(-18//5)"
      ]
    },
    {
      "cell_type": "code",
      "execution_count": null,
      "metadata": {
        "colab": {
          "base_uri": "https://localhost:8080/"
        },
        "id": "be9N-Pt6QVFn",
        "outputId": "b55e53f4-6534-4bea-f74c-1d8b533c18ff"
      },
      "outputs": [
        {
          "name": "stdout",
          "output_type": "stream",
          "text": [
            "2\n"
          ]
        }
      ],
      "source": [
        "print(10-4*2)"
      ]
    },
    {
      "cell_type": "code",
      "execution_count": null,
      "metadata": {
        "colab": {
          "base_uri": "https://localhost:8080/",
          "height": 130
        },
        "id": "LN7FzasIQ4nt",
        "outputId": "bc73aaca-1af1-4cf9-99ee-aa81f736c681"
      },
      "outputs": [
        {
          "ename": "SyntaxError",
          "evalue": "ignored",
          "output_type": "error",
          "traceback": [
            "\u001b[0;36m  File \u001b[0;32m\"<ipython-input-23-9622727c84d9>\"\u001b[0;36m, line \u001b[0;32m2\u001b[0m\n\u001b[0;31m    x=y+=2\u001b[0m\n\u001b[0m        ^\u001b[0m\n\u001b[0;31mSyntaxError\u001b[0m\u001b[0;31m:\u001b[0m invalid syntax\n"
          ]
        }
      ],
      "source": [
        "y=10\n",
        "x=y+=2\n",
        "print(x)"
      ]
    },
    {
      "cell_type": "code",
      "execution_count": null,
      "metadata": {
        "colab": {
          "base_uri": "https://localhost:8080/"
        },
        "id": "tItheVA5SAxf",
        "outputId": "56bbdff9-76e2-4586-cd04-4bb3fdecafd8"
      },
      "outputs": [
        {
          "name": "stdout",
          "output_type": "stream",
          "text": [
            "15\n",
            "1\n"
          ]
        }
      ],
      "source": [
        "a=4\n",
        "b=11\n",
        "print(a|b)\n",
        "print(a>>2)"
      ]
    },
    {
      "cell_type": "code",
      "source": [],
      "metadata": {
        "id": "HeLL5RmIIdn0"
      },
      "execution_count": null,
      "outputs": []
    },
    {
      "cell_type": "code",
      "source": [
        "num=6.8\n",
        "num1=5\n",
        "print(type(num+num1))"
      ],
      "metadata": {
        "colab": {
          "base_uri": "https://localhost:8080/"
        },
        "id": "40PvhzFKpLOx",
        "outputId": "ca72dbb0-4d62-47a7-ab15-3e48c6105f54"
      },
      "execution_count": null,
      "outputs": [
        {
          "output_type": "stream",
          "name": "stdout",
          "text": [
            "<class 'float'>\n"
          ]
        }
      ]
    },
    {
      "cell_type": "code",
      "source": [
        "x=20\n",
        "y=5\n",
        "result=x + True +y -False\n",
        "print(result)"
      ],
      "metadata": {
        "colab": {
          "base_uri": "https://localhost:8080/"
        },
        "id": "8eIgizjhph7t",
        "outputId": "6f528237-acff-4c26-b778-2afeea77bc80"
      },
      "execution_count": null,
      "outputs": [
        {
          "output_type": "stream",
          "name": "stdout",
          "text": [
            "26\n"
          ]
        }
      ]
    },
    {
      "cell_type": "code",
      "source": [
        "str3=\"'hello'\" \"\" \"\" \"\"+\"\"\"world\"\"\"\n",
        "print(str3)"
      ],
      "metadata": {
        "colab": {
          "base_uri": "https://localhost:8080/"
        },
        "id": "DF_O3ulzrsAK",
        "outputId": "9377cfd2-8640-4718-9636-55122efb3242"
      },
      "execution_count": null,
      "outputs": [
        {
          "output_type": "stream",
          "name": "stdout",
          "text": [
            "'hello'world\n"
          ]
        }
      ]
    },
    {
      "cell_type": "code",
      "source": [
        "num1=6.8\n",
        "print(num)\n",
        "num=12\n",
        "print(num)\n",
        "print(num1+num)\n",
        "num=num+10\n",
        "print(num)"
      ],
      "metadata": {
        "colab": {
          "base_uri": "https://localhost:8080/"
        },
        "id": "C4p1o2Q7sYze",
        "outputId": "96c6c62f-47ce-4cc5-bc50-8844b54da0d4"
      },
      "execution_count": null,
      "outputs": [
        {
          "output_type": "stream",
          "name": "stdout",
          "text": [
            "6.8\n",
            "12\n",
            "18.8\n",
            "22\n"
          ]
        }
      ]
    },
    {
      "cell_type": "code",
      "source": [
        "a=10\n",
        "b=3\n",
        "c=a//b\n",
        "print(c)\n",
        "c=a%b\n",
        "print(c)\n",
        "c=a**b\n",
        "print(c)"
      ],
      "metadata": {
        "id": "uN7ZlZavtKeO",
        "colab": {
          "base_uri": "https://localhost:8080/"
        },
        "outputId": "0cf4793f-4abc-4143-8d6b-b1e07489b505"
      },
      "execution_count": null,
      "outputs": [
        {
          "output_type": "stream",
          "name": "stdout",
          "text": [
            "3\n",
            "1\n",
            "1000\n"
          ]
        }
      ]
    },
    {
      "cell_type": "code",
      "source": [
        "a=10\n",
        "b=5\n",
        "c=a+b\n",
        "print(c)\n",
        "c=a-b\n",
        "print(c)\n",
        "c=a*b\n",
        "print(c)\n",
        "c=a/b\n",
        "print(c)"
      ],
      "metadata": {
        "colab": {
          "base_uri": "https://localhost:8080/"
        },
        "id": "hvfHEDRA8Jbr",
        "outputId": "98654569-8420-4744-f129-d56e61eec6db"
      },
      "execution_count": null,
      "outputs": [
        {
          "output_type": "stream",
          "name": "stdout",
          "text": [
            "15\n",
            "5\n",
            "50\n",
            "2.0\n"
          ]
        }
      ]
    },
    {
      "cell_type": "code",
      "source": [
        "a=2**2**2**2\n",
        "print(a)\n"
      ],
      "metadata": {
        "colab": {
          "base_uri": "https://localhost:8080/"
        },
        "id": "UJ5KoUPnGPe6",
        "outputId": "da3562af-d63e-4b46-977f-c086da4724f7"
      },
      "execution_count": null,
      "outputs": [
        {
          "output_type": "stream",
          "name": "stdout",
          "text": [
            "65536\n"
          ]
        }
      ]
    },
    {
      "cell_type": "code",
      "source": [
        "print(3==3.0)"
      ],
      "metadata": {
        "colab": {
          "base_uri": "https://localhost:8080/"
        },
        "id": "HTurMlO0QkLu",
        "outputId": "c89dafa3-2855-441c-b130-c22fd7bea146"
      },
      "execution_count": null,
      "outputs": [
        {
          "output_type": "stream",
          "name": "stdout",
          "text": [
            "True\n"
          ]
        }
      ]
    },
    {
      "cell_type": "code",
      "source": [
        "x=\"true\"\n",
        "y=\"false\"\n",
        "print('x and y is',x and y)\n",
        "print('x or y is', x or y)\n",
        "print('not x is', not x)"
      ],
      "metadata": {
        "colab": {
          "base_uri": "https://localhost:8080/"
        },
        "id": "pFYa-1hbQvvB",
        "outputId": "2f62b639-fa35-4d6f-c219-73dfe4ade27d"
      },
      "execution_count": null,
      "outputs": [
        {
          "output_type": "stream",
          "name": "stdout",
          "text": [
            "x and y is false\n",
            "x or y is true\n",
            "not x is False\n"
          ]
        }
      ]
    },
    {
      "cell_type": "code",
      "source": [
        "x=5>3\n",
        "y=10<5\n",
        "print('x and y is',x and y )\n",
        "print('x or y is',x or y)\n",
        "print('not y is',  not x)"
      ],
      "metadata": {
        "id": "jAnV9pyKsYlm",
        "colab": {
          "base_uri": "https://localhost:8080/"
        },
        "outputId": "886ee970-e011-4fb7-95c0-af3613e2dc41"
      },
      "execution_count": null,
      "outputs": [
        {
          "output_type": "stream",
          "name": "stdout",
          "text": [
            "x and y is False\n",
            "x or y is True\n",
            "not y is False\n"
          ]
        }
      ]
    },
    {
      "cell_type": "code",
      "source": [
        "print(0=='false')"
      ],
      "metadata": {
        "colab": {
          "base_uri": "https://localhost:8080/"
        },
        "id": "9z1x4_V4wDoe",
        "outputId": "36993fd6-e918-4b27-99f8-bd0e5966b255"
      },
      "execution_count": null,
      "outputs": [
        {
          "output_type": "stream",
          "name": "stdout",
          "text": [
            "False\n"
          ]
        }
      ]
    },
    {
      "cell_type": "code",
      "source": [
        "a=2\n",
        "print(a<=a*2)"
      ],
      "metadata": {
        "colab": {
          "base_uri": "https://localhost:8080/"
        },
        "id": "lCbJqEm-wR9O",
        "outputId": "f28be791-d0d1-4364-87a6-5724c472e73e"
      },
      "execution_count": null,
      "outputs": [
        {
          "output_type": "stream",
          "name": "stdout",
          "text": [
            "True\n"
          ]
        }
      ]
    },
    {
      "cell_type": "code",
      "source": [
        "print(3==3.0)\n",
        "print(4!=4.0)"
      ],
      "metadata": {
        "colab": {
          "base_uri": "https://localhost:8080/"
        },
        "id": "5JB52Jpdxlqd",
        "outputId": "74b35411-05f3-4b77-e7cb-a4d1a85f6025"
      },
      "execution_count": null,
      "outputs": [
        {
          "output_type": "stream",
          "name": "stdout",
          "text": [
            "True\n",
            "False\n"
          ]
        }
      ]
    },
    {
      "cell_type": "code",
      "source": [
        "x=200\n",
        "print(x>4 or x<300)"
      ],
      "metadata": {
        "colab": {
          "base_uri": "https://localhost:8080/"
        },
        "id": "r_RDn7sEyCYC",
        "outputId": "0af1a447-318f-4c86-b87c-2c14fc97ddcf"
      },
      "execution_count": null,
      "outputs": [
        {
          "output_type": "stream",
          "name": "stdout",
          "text": [
            "True\n"
          ]
        }
      ]
    },
    {
      "cell_type": "code",
      "source": [
        "print(3<6)\n"
      ],
      "metadata": {
        "colab": {
          "base_uri": "https://localhost:8080/"
        },
        "id": "XydYIsrHyvU6",
        "outputId": "10dd64b9-d5b7-4959-ccfe-56adb2b283d9"
      },
      "execution_count": null,
      "outputs": [
        {
          "output_type": "stream",
          "name": "stdout",
          "text": [
            "True\n"
          ]
        }
      ]
    },
    {
      "cell_type": "code",
      "source": [
        "print(3<3.0)"
      ],
      "metadata": {
        "colab": {
          "base_uri": "https://localhost:8080/"
        },
        "id": "k5X89u7py_NS",
        "outputId": "f946a04c-11b0-4533-a405-86dfa6c085e9"
      },
      "execution_count": null,
      "outputs": [
        {
          "output_type": "stream",
          "name": "stdout",
          "text": [
            "False\n"
          ]
        }
      ]
    },
    {
      "cell_type": "code",
      "source": [
        "print(3=='3')"
      ],
      "metadata": {
        "colab": {
          "base_uri": "https://localhost:8080/"
        },
        "id": "0gR9dky1zR6p",
        "outputId": "32d46f88-8bdd-4b15-f0ed-77de84679470"
      },
      "execution_count": null,
      "outputs": [
        {
          "output_type": "stream",
          "name": "stdout",
          "text": [
            "False\n"
          ]
        }
      ]
    },
    {
      "cell_type": "code",
      "source": [
        "i=3\n",
        "j=2\n",
        "i+5>=j-6\n",
        "j*10<i**2\n",
        "\n"
      ],
      "metadata": {
        "colab": {
          "base_uri": "https://localhost:8080/"
        },
        "id": "l8BTT-khzgX-",
        "outputId": "cd1e4880-af29-4cc5-e71d-814dfeb2f9c6"
      },
      "execution_count": null,
      "outputs": [
        {
          "output_type": "execute_result",
          "data": {
            "text/plain": [
              "False"
            ]
          },
          "metadata": {},
          "execution_count": 48
        }
      ]
    },
    {
      "cell_type": "code",
      "source": [
        "i=4\n",
        "j=5\n",
        "k=4\n",
        "print(i<k)\n",
        "print(i<j)\n",
        "print(i<=k)\n",
        "print(i==j)\n",
        "print(i==k)\n",
        "print(j>k)\n",
        "print(j>=i)\n",
        "print(j!=i)\n",
        "print(j<=k)"
      ],
      "metadata": {
        "id": "-OGXvGcA89Ir",
        "colab": {
          "base_uri": "https://localhost:8080/"
        },
        "outputId": "2797600e-43ad-4c56-9154-5445712956b1"
      },
      "execution_count": null,
      "outputs": [
        {
          "output_type": "stream",
          "name": "stdout",
          "text": [
            "False\n",
            "True\n",
            "True\n",
            "False\n",
            "True\n",
            "True\n",
            "True\n",
            "True\n",
            "False\n"
          ]
        }
      ]
    },
    {
      "cell_type": "code",
      "source": [
        "a=1\n",
        "b=2\n",
        "c=b\n",
        "b=c\n",
        "c=a\n",
        "print(a)\n",
        "print(b)\n",
        "print(c)"
      ],
      "metadata": {
        "colab": {
          "base_uri": "https://localhost:8080/"
        },
        "id": "rj72TpuWhVT2",
        "outputId": "f0822415-d294-4214-d7a7-c8a131d6cd19"
      },
      "execution_count": null,
      "outputs": [
        {
          "output_type": "stream",
          "name": "stdout",
          "text": [
            "1\n",
            "2\n",
            "1\n"
          ]
        }
      ]
    },
    {
      "cell_type": "code",
      "source": [
        "a=1\n",
        "b=a*2\n",
        "c=b*2\n",
        "a=c*2\n",
        "print(a)\n",
        "print(b)\n",
        "print(c)"
      ],
      "metadata": {
        "colab": {
          "base_uri": "https://localhost:8080/"
        },
        "id": "pcGj3KI3hyLX",
        "outputId": "a3e9bc13-ba5b-4445-a9d4-4beb4cd1448d"
      },
      "execution_count": null,
      "outputs": [
        {
          "output_type": "stream",
          "name": "stdout",
          "text": [
            "8\n",
            "2\n",
            "4\n"
          ]
        }
      ]
    },
    {
      "cell_type": "code",
      "source": [
        "a=1\n",
        "b=2\n",
        "b=a\n",
        "print(b)"
      ],
      "metadata": {
        "colab": {
          "base_uri": "https://localhost:8080/"
        },
        "id": "3sNrD010ipzs",
        "outputId": "a6aa5aeb-a28b-4782-e4bc-a27b4c47f95b"
      },
      "execution_count": null,
      "outputs": [
        {
          "output_type": "stream",
          "name": "stdout",
          "text": [
            "1\n"
          ]
        }
      ]
    },
    {
      "cell_type": "code",
      "source": [
        "a=100\n",
        "a1=a+50\n",
        "a2=a/3\n",
        "a3=a*2\n",
        "print(a,a1,a2,a3)\n"
      ],
      "metadata": {
        "colab": {
          "base_uri": "https://localhost:8080/"
        },
        "id": "vaPI4ovxjNL_",
        "outputId": "99428037-515f-4d5f-e3f0-54ebc44112d2"
      },
      "execution_count": null,
      "outputs": [
        {
          "output_type": "stream",
          "name": "stdout",
          "text": [
            "100 150 33.333333333333336 200\n"
          ]
        }
      ]
    },
    {
      "cell_type": "code",
      "source": [
        "a=\"123\"\n",
        "b=\"2.5\"\n",
        "c='pinki'\n",
        "print(c, a, b)"
      ],
      "metadata": {
        "colab": {
          "base_uri": "https://localhost:8080/"
        },
        "id": "qsRcxzjPWde1",
        "outputId": "c1ca4724-498b-4052-9cdb-29713ff1f098"
      },
      "execution_count": null,
      "outputs": [
        {
          "output_type": "stream",
          "name": "stdout",
          "text": [
            "pinki 123 2.5\n"
          ]
        }
      ]
    },
    {
      "cell_type": "code",
      "source": [
        "n='zoya'\n",
        "n1=7.4\n",
        "n1=int(n1*2)\n",
        "n2=n1//2\n",
        "n3=n2*7\n",
        "print(n1,\"=\",n)\n",
        "print(n,n2)\n",
        "print(n,n1, \",\" ,n3)"
      ],
      "metadata": {
        "colab": {
          "base_uri": "https://localhost:8080/"
        },
        "id": "erFv99s7KDtp",
        "outputId": "0f2237d5-ae4f-49e3-9c17-c1f060f7e3d9"
      },
      "execution_count": null,
      "outputs": [
        {
          "output_type": "stream",
          "name": "stdout",
          "text": [
            "14 = zoya\n",
            "zoya 7\n",
            "zoya 14 , 49\n"
          ]
        }
      ]
    },
    {
      "cell_type": "code",
      "source": [
        "a=\" amarjeet, \"\n",
        "print(a*5)"
      ],
      "metadata": {
        "id": "xVcg5mRIkZVh",
        "colab": {
          "base_uri": "https://localhost:8080/"
        },
        "outputId": "95151bde-62d2-4f0d-9fba-8d5f8c94f32c"
      },
      "execution_count": null,
      "outputs": [
        {
          "output_type": "stream",
          "name": "stdout",
          "text": [
            " amarjeet,  amarjeet,  amarjeet,  amarjeet,  amarjeet, \n"
          ]
        }
      ]
    },
    {
      "cell_type": "code",
      "source": [
        "a=\" pinki\"\n",
        "b=5\n",
        "c=6.2\n",
        "d=int(c)\n",
        "e = int(b*d)\n",
        "print(a*2,e)"
      ],
      "metadata": {
        "colab": {
          "base_uri": "https://localhost:8080/"
        },
        "id": "bpcy-HydIUp3",
        "outputId": "2b713e26-27d1-4d13-8908-067888e2582a"
      },
      "execution_count": null,
      "outputs": [
        {
          "output_type": "stream",
          "name": "stdout",
          "text": [
            " pinki pinki 30\n"
          ]
        }
      ]
    },
    {
      "cell_type": "code",
      "source": [
        "a='hope'\n",
        "b=' 3'\n",
        "print(a+ b)"
      ],
      "metadata": {
        "colab": {
          "base_uri": "https://localhost:8080/"
        },
        "id": "prQN77Sqc6BF",
        "outputId": "233dd109-ece6-4b8f-ed62-7c43f92e3674"
      },
      "execution_count": null,
      "outputs": [
        {
          "output_type": "stream",
          "name": "stdout",
          "text": [
            "hope 3\n"
          ]
        }
      ]
    },
    {
      "cell_type": "code",
      "source": [
        "a=\"friday\"\n",
        "b=\"monday\"\n",
        "print(a[:3] ,'+', b[:3]) "
      ],
      "metadata": {
        "colab": {
          "base_uri": "https://localhost:8080/"
        },
        "id": "nMwRgWU6d8T0",
        "outputId": "84de358c-7b47-47aa-c08d-42ace6eed912"
      },
      "execution_count": null,
      "outputs": [
        {
          "output_type": "stream",
          "name": "stdout",
          "text": [
            "fri + mon\n"
          ]
        }
      ]
    },
    {
      "cell_type": "code",
      "source": [
        "num='123'\n",
        "print(num[2:3])"
      ],
      "metadata": {
        "colab": {
          "base_uri": "https://localhost:8080/"
        },
        "id": "tHZX7vHwmv8Y",
        "outputId": "82cdb927-0cf4-4718-a34a-8c33c1b2753e"
      },
      "execution_count": null,
      "outputs": [
        {
          "output_type": "stream",
          "name": "stdout",
          "text": [
            "3\n"
          ]
        }
      ]
    },
    {
      "cell_type": "code",
      "source": [
        "\n",
        "a='pinki'\n",
        "b=5.0\n",
        "c=6.0\n",
        "d=int(b+c)\n",
        "e=int(b*c)\n",
        "print(a,e,d)"
      ],
      "metadata": {
        "colab": {
          "base_uri": "https://localhost:8080/"
        },
        "id": "yV66AFaLrQvr",
        "outputId": "6abc859e-1373-4e34-e785-2cc7417458c9"
      },
      "execution_count": null,
      "outputs": [
        {
          "output_type": "stream",
          "name": "stdout",
          "text": [
            "pinki 30 11\n"
          ]
        }
      ]
    },
    {
      "cell_type": "code",
      "source": [
        "2**3**2"
      ],
      "metadata": {
        "colab": {
          "base_uri": "https://localhost:8080/"
        },
        "id": "9_vylLTvvbL2",
        "outputId": "371ff427-dff3-4918-c547-efb389913db0"
      },
      "execution_count": null,
      "outputs": [
        {
          "output_type": "execute_result",
          "data": {
            "text/plain": [
              "512"
            ]
          },
          "metadata": {},
          "execution_count": 96
        }
      ]
    },
    {
      "cell_type": "code",
      "source": [
        "23/3+4+(5*3)-17/15"
      ],
      "metadata": {
        "colab": {
          "base_uri": "https://localhost:8080/"
        },
        "id": "993_FQegwMa9",
        "outputId": "8127dd75-8b54-468d-c564-c1d796686cec"
      },
      "execution_count": null,
      "outputs": [
        {
          "output_type": "execute_result",
          "data": {
            "text/plain": [
              "25.533333333333335"
            ]
          },
          "metadata": {},
          "execution_count": 97
        }
      ]
    },
    {
      "cell_type": "code",
      "source": [
        "2**2**3*4//8"
      ],
      "metadata": {
        "colab": {
          "base_uri": "https://localhost:8080/"
        },
        "id": "zbjncPJAxVqF",
        "outputId": "7d81fbf5-94af-4a42-b321-04ef4cc7d23b"
      },
      "execution_count": null,
      "outputs": [
        {
          "output_type": "execute_result",
          "data": {
            "text/plain": [
              "128"
            ]
          },
          "metadata": {},
          "execution_count": 98
        }
      ]
    },
    {
      "cell_type": "code",
      "source": [
        "age=25\n",
        "print(AGE)"
      ],
      "metadata": {
        "colab": {
          "base_uri": "https://localhost:8080/",
          "height": 183
        },
        "id": "fQuH67Iczp47",
        "outputId": "761e37a8-02c0-4e58-d208-1424d6971c42"
      },
      "execution_count": null,
      "outputs": [
        {
          "output_type": "error",
          "ename": "NameError",
          "evalue": "ignored",
          "traceback": [
            "\u001b[0;31m---------------------------------------------------------------------------\u001b[0m",
            "\u001b[0;31mNameError\u001b[0m                                 Traceback (most recent call last)",
            "\u001b[0;32m<ipython-input-25-1846aad0a816>\u001b[0m in \u001b[0;36m<module>\u001b[0;34m()\u001b[0m\n\u001b[1;32m      1\u001b[0m \u001b[0mage\u001b[0m\u001b[0;34m=\u001b[0m\u001b[0;36m25\u001b[0m\u001b[0;34m\u001b[0m\u001b[0;34m\u001b[0m\u001b[0m\n\u001b[0;32m----> 2\u001b[0;31m \u001b[0mprint\u001b[0m\u001b[0;34m(\u001b[0m\u001b[0mAGE\u001b[0m\u001b[0;34m)\u001b[0m\u001b[0;34m\u001b[0m\u001b[0;34m\u001b[0m\u001b[0m\n\u001b[0m",
            "\u001b[0;31mNameError\u001b[0m: name 'AGE' is not defined"
          ]
        }
      ]
    },
    {
      "cell_type": "code",
      "source": [
        "a='delhi'\n",
        "b='up'\n",
        "c='nagpur'\n",
        "d='bihar'\n",
        "e='hariyana'\n",
        "f='kashmir'\n",
        "g='karnatka'\n",
        "h='goa'\n",
        "i='sikkim'\n",
        "j='mp'\n",
        "print(a,'\\n',b,'\\n',c,'\\n',d,'\\n',e,'\\n',f,'\\n',g,'\\n',h,'\\n',i,'\\n',j)"
      ],
      "metadata": {
        "colab": {
          "base_uri": "https://localhost:8080/"
        },
        "id": "edjQXEQP0Dek",
        "outputId": "ffee2bcf-597b-467b-8eb7-b23bb1e64afd"
      },
      "execution_count": null,
      "outputs": [
        {
          "output_type": "stream",
          "name": "stdout",
          "text": [
            "delhi \n",
            " up \n",
            " nagpur \n",
            " bihar \n",
            " hariyana \n",
            " kashmir \n",
            " karnatka \n",
            " gova \n",
            " sikkim \n",
            " mp\n"
          ]
        }
      ]
    },
    {
      "cell_type": "code",
      "source": [
        "a=4\n",
        "b=2\n",
        "if a**b==96:\n",
        " print(\"true\")\n",
        "else:\n",
        " print(\"false\")"
      ],
      "metadata": {
        "id": "gUzKSMB4z-_Z",
        "colab": {
          "base_uri": "https://localhost:8080/"
        },
        "outputId": "709f6cb3-aecd-4f7d-cb21-089eab672fc1"
      },
      "execution_count": null,
      "outputs": [
        {
          "output_type": "stream",
          "name": "stdout",
          "text": [
            "false\n"
          ]
        }
      ]
    },
    {
      "cell_type": "code",
      "source": [
        "a=3\n",
        "b=8\n",
        "if a>b:\n",
        " print(\"false\")\n",
        "else:\n",
        " print(\"true\")"
      ],
      "metadata": {
        "colab": {
          "base_uri": "https://localhost:8080/"
        },
        "id": "-F5TP87DyI4U",
        "outputId": "a8f92d54-4ae1-4994-b862-0d25e1963e33"
      },
      "execution_count": null,
      "outputs": [
        {
          "output_type": "stream",
          "name": "stdout",
          "text": [
            "true\n"
          ]
        }
      ]
    },
    {
      "cell_type": "code",
      "source": [
        "\n",
        "a=int(input(\"enter first number:=\"))\n",
        "b=int(input(\"enter second number:=\"))\n",
        "if a>b:\n",
        " print(a)\n",
        "else:\n",
        " print(b)\n",
        " "
      ],
      "metadata": {
        "colab": {
          "base_uri": "https://localhost:8080/"
        },
        "id": "V7DDWQEBzJoF",
        "outputId": "21f8840b-835d-45e9-d0d3-c025c6f332c9"
      },
      "execution_count": null,
      "outputs": [
        {
          "output_type": "stream",
          "name": "stdout",
          "text": [
            "enter first number:=3\n",
            "enter second number:=12\n",
            "12\n"
          ]
        }
      ]
    },
    {
      "cell_type": "code",
      "source": [
        "a=int(input(\"enter 1st No.=> \"))\n",
        "b=int(input(\"enter 2nd No.=> \"))\n",
        "c=int(input(\"enter 3rd No.=> \"))\n",
        "if a>b and a>c:\n",
        " print(\"a is the greater\")\n",
        "elif b>c and b>a:\n",
        " print(\"b is the greater\")\n",
        "else:\n",
        " print(\"c is the greatest\")"
      ],
      "metadata": {
        "colab": {
          "base_uri": "https://localhost:8080/"
        },
        "id": "0yzXXZFo4UOv",
        "outputId": "6307bd9c-6cc4-4c39-bca0-5fc643d2e403"
      },
      "execution_count": null,
      "outputs": [
        {
          "output_type": "stream",
          "name": "stdout",
          "text": [
            "enter 1st No.=> 6\n",
            "enter 2nd No.=> 4\n",
            "enter 3rd No.=> 10\n",
            "c is the greatest\n"
          ]
        }
      ]
    },
    {
      "cell_type": "code",
      "execution_count": null,
      "metadata": {
        "colab": {
          "base_uri": "https://localhost:8080/"
        },
        "id": "IfGZQwSdSAg2",
        "outputId": "5a083a22-f69e-4b6f-9aa6-ac5bd2d26133"
      },
      "outputs": [
        {
          "data": {
            "text/plain": [
              "512"
            ]
          },
          "execution_count": 26,
          "metadata": {},
          "output_type": "execute_result"
        }
      ],
      "source": [
        "(2**3**2)"
      ]
    },
    {
      "cell_type": "code",
      "execution_count": null,
      "metadata": {
        "colab": {
          "base_uri": "https://localhost:8080/"
        },
        "id": "KNc38eYxSAcX",
        "outputId": "21ed31a7-0000-4d2c-e70c-8dfadf71f77f"
      },
      "outputs": [
        {
          "data": {
            "text/plain": [
              "216"
            ]
          },
          "execution_count": 3,
          "metadata": {},
          "output_type": "execute_result"
        }
      ],
      "source": [
        "(2*3**3*4)"
      ]
    },
    {
      "cell_type": "code",
      "source": [
        "print(\"pinki\")"
      ],
      "metadata": {
        "colab": {
          "base_uri": "https://localhost:8080/"
        },
        "id": "4_lDMOQbbphi",
        "outputId": "17f5bea6-34ac-4364-8c85-85656c6add2e"
      },
      "execution_count": null,
      "outputs": [
        {
          "output_type": "stream",
          "name": "stdout",
          "text": [
            "pinki\n"
          ]
        }
      ]
    },
    {
      "cell_type": "code",
      "source": [
        "l=[2,4,6]\n",
        "print(l[3:3])"
      ],
      "metadata": {
        "colab": {
          "base_uri": "https://localhost:8080/"
        },
        "id": "OSVpgv-6FxWt",
        "outputId": "8c153747-1e15-4fd4-9510-f4f1c44a6112"
      },
      "execution_count": 7,
      "outputs": [
        {
          "output_type": "stream",
          "name": "stdout",
          "text": [
            "[]\n"
          ]
        }
      ]
    },
    {
      "cell_type": "code",
      "source": [
        "print(5<4)"
      ],
      "metadata": {
        "colab": {
          "base_uri": "https://localhost:8080/"
        },
        "id": "tuPiZe_Pevlk",
        "outputId": "3f9f149c-7072-411a-8df9-0b3d9e8a72d8"
      },
      "execution_count": null,
      "outputs": [
        {
          "output_type": "stream",
          "name": "stdout",
          "text": [
            "False\n"
          ]
        }
      ]
    },
    {
      "cell_type": "code",
      "source": [
        "print(6<9)"
      ],
      "metadata": {
        "colab": {
          "base_uri": "https://localhost:8080/"
        },
        "id": "li_DzYk8e8c5",
        "outputId": "667f1a2b-de7d-43f3-b4dd-ee03e1e3b938"
      },
      "execution_count": null,
      "outputs": [
        {
          "output_type": "stream",
          "name": "stdout",
          "text": [
            "True\n"
          ]
        }
      ]
    },
    {
      "cell_type": "code",
      "source": [
        "a=7\n",
        "b=6\n",
        "print(a+b)"
      ],
      "metadata": {
        "colab": {
          "base_uri": "https://localhost:8080/"
        },
        "id": "CCase1AffDOP",
        "outputId": "8bc80314-565e-4012-f690-c79ea1e0db10"
      },
      "execution_count": null,
      "outputs": [
        {
          "output_type": "stream",
          "name": "stdout",
          "text": [
            "13\n"
          ]
        }
      ]
    },
    {
      "cell_type": "code",
      "source": [
        "a=50\n",
        "b=10\n",
        "print(a/b)\n"
      ],
      "metadata": {
        "colab": {
          "base_uri": "https://localhost:8080/"
        },
        "id": "mLjrbAH4fSFe",
        "outputId": "c01aeef4-ecc7-4dd8-caf3-cebffc416dee"
      },
      "execution_count": null,
      "outputs": [
        {
          "output_type": "stream",
          "name": "stdout",
          "text": [
            "5.0\n"
          ]
        }
      ]
    },
    {
      "cell_type": "code",
      "source": [
        "a =\"megha\"\n",
        "Print(a)"
      ],
      "metadata": {
        "colab": {
          "base_uri": "https://localhost:8080/",
          "height": 183
        },
        "id": "SOgp3tYsft5b",
        "outputId": "fab1e4d6-d5ed-4dec-f572-8d85b9dd4c64"
      },
      "execution_count": null,
      "outputs": [
        {
          "output_type": "error",
          "ename": "NameError",
          "evalue": "ignored",
          "traceback": [
            "\u001b[0;31m---------------------------------------------------------------------------\u001b[0m",
            "\u001b[0;31mNameError\u001b[0m                                 Traceback (most recent call last)",
            "\u001b[0;32m<ipython-input-21-628230bb2922>\u001b[0m in \u001b[0;36m<module>\u001b[0;34m()\u001b[0m\n\u001b[1;32m      1\u001b[0m \u001b[0ma\u001b[0m \u001b[0;34m=\u001b[0m\u001b[0;34m\"megha\"\u001b[0m\u001b[0;34m\u001b[0m\u001b[0;34m\u001b[0m\u001b[0m\n\u001b[0;32m----> 2\u001b[0;31m \u001b[0mPrint\u001b[0m\u001b[0;34m(\u001b[0m\u001b[0ma\u001b[0m\u001b[0;34m)\u001b[0m\u001b[0;34m\u001b[0m\u001b[0;34m\u001b[0m\u001b[0m\n\u001b[0m",
            "\u001b[0;31mNameError\u001b[0m: name 'Print' is not defined"
          ]
        }
      ]
    },
    {
      "cell_type": "code",
      "source": [
        "var=5\n",
        "print(var)"
      ],
      "metadata": {
        "colab": {
          "base_uri": "https://localhost:8080/"
        },
        "id": "rmQTD1BDgVRm",
        "outputId": "c5bb1e71-cd33-40a4-e58b-92802e8161bd"
      },
      "execution_count": null,
      "outputs": [
        {
          "output_type": "stream",
          "name": "stdout",
          "text": [
            "5\n"
          ]
        }
      ]
    },
    {
      "cell_type": "code",
      "source": [
        "num=6\n",
        "print(num)"
      ],
      "metadata": {
        "colab": {
          "base_uri": "https://localhost:8080/"
        },
        "id": "Cc3cDYaYghwA",
        "outputId": "e1407c95-b8e2-4bf2-e7b0-b99d48ae81b2"
      },
      "execution_count": null,
      "outputs": [
        {
          "output_type": "stream",
          "name": "stdout",
          "text": [
            "6\n"
          ]
        }
      ]
    },
    {
      "cell_type": "code",
      "source": [
        "name=\"python\" \n",
        "print(name)"
      ],
      "metadata": {
        "colab": {
          "base_uri": "https://localhost:8080/"
        },
        "id": "Y3tJO9_KgoHK",
        "outputId": "e8dc773e-d70a-4305-da0d-34804c5a76cd"
      },
      "execution_count": null,
      "outputs": [
        {
          "output_type": "stream",
          "name": "stdout",
          "text": [
            "python\n"
          ]
        }
      ]
    },
    {
      "cell_type": "code",
      "source": [
        "marks=90\n",
        "print(type(marks))"
      ],
      "metadata": {
        "colab": {
          "base_uri": "https://localhost:8080/"
        },
        "id": "3IkhEovNhKOu",
        "outputId": "6e5812f9-2064-4b98-824f-0f4b87f8350d"
      },
      "execution_count": null,
      "outputs": [
        {
          "output_type": "stream",
          "name": "stdout",
          "text": [
            "<class 'int'>\n"
          ]
        }
      ]
    },
    {
      "cell_type": "code",
      "source": [
        "print(type(marks))"
      ],
      "metadata": {
        "colab": {
          "base_uri": "https://localhost:8080/"
        },
        "id": "T3nBwok_0757",
        "outputId": "e3296962-5fc3-4474-8a5c-a5801051a37b"
      },
      "execution_count": null,
      "outputs": [
        {
          "output_type": "stream",
          "name": "stdout",
          "text": [
            "<class 'int'>\n"
          ]
        }
      ]
    },
    {
      "cell_type": "code",
      "source": [
        "toy=\"Robot\"\n",
        "print(type(toy))"
      ],
      "metadata": {
        "colab": {
          "base_uri": "https://localhost:8080/"
        },
        "id": "q9VweKbN1aAM",
        "outputId": "e1f989e7-51dc-4c18-f777-ac34ace77c15"
      },
      "execution_count": null,
      "outputs": [
        {
          "output_type": "stream",
          "name": "stdout",
          "text": [
            "<class 'str'>\n"
          ]
        }
      ]
    },
    {
      "cell_type": "code",
      "source": [
        "weight=70.5\n",
        "print(type(weight))"
      ],
      "metadata": {
        "colab": {
          "base_uri": "https://localhost:8080/"
        },
        "id": "UhleOwib1n7E",
        "outputId": "9098dbd5-de74-4a56-dc36-5b54bc9619b4"
      },
      "execution_count": null,
      "outputs": [
        {
          "output_type": "stream",
          "name": "stdout",
          "text": [
            "<class 'float'>\n"
          ]
        }
      ]
    },
    {
      "cell_type": "code",
      "source": [
        "a=5+4j\n",
        "print(type(a))"
      ],
      "metadata": {
        "colab": {
          "base_uri": "https://localhost:8080/"
        },
        "id": "n8dLOafL13jj",
        "outputId": "a69b9fe6-faf0-464d-d762-88794dbf013a"
      },
      "execution_count": null,
      "outputs": [
        {
          "output_type": "stream",
          "name": "stdout",
          "text": [
            "<class 'complex'>\n"
          ]
        }
      ]
    },
    {
      "cell_type": "code",
      "source": [
        "x=5\n",
        "y=10\n",
        "x,y,=y,x\n",
        "print(\"x=\",y)\n",
        "print(\"y=\"x)"
      ],
      "metadata": {
        "id": "k0nNANl72CRU"
      },
      "execution_count": null,
      "outputs": []
    },
    {
      "cell_type": "code",
      "source": [
        "a='hello'\n",
        "b='navgurukul'\n",
        "print(a ,b)"
      ],
      "metadata": {
        "colab": {
          "base_uri": "https://localhost:8080/"
        },
        "id": "6T3E2RW2aVhL",
        "outputId": "00885596-027b-4837-83c8-c668ea89736c"
      },
      "execution_count": null,
      "outputs": [
        {
          "output_type": "stream",
          "name": "stdout",
          "text": [
            "hello navgurukul\n"
          ]
        }
      ]
    },
    {
      "cell_type": "code",
      "source": [
        "a=3\n",
        "b=4\n",
        "c=a*b\n",
        "print(c)\n",
        "print(a)\n",
        "a=b*c\n",
        "print(a)\n",
        "b=a+c\n",
        "print(b)\n",
        "c=a+b+c\n",
        "print(c)"
      ],
      "metadata": {
        "colab": {
          "base_uri": "https://localhost:8080/"
        },
        "id": "ksj1lniobQqX",
        "outputId": "84300d34-dcbc-428e-9387-43276b4f0f16"
      },
      "execution_count": null,
      "outputs": [
        {
          "output_type": "stream",
          "name": "stdout",
          "text": [
            "12\n",
            "3\n",
            "48\n",
            "60\n",
            "120\n"
          ]
        }
      ]
    },
    {
      "cell_type": "code",
      "source": [
        "a=1\n",
        "b=2\n",
        "b=a\n",
        "print(b)"
      ],
      "metadata": {
        "colab": {
          "base_uri": "https://localhost:8080/"
        },
        "id": "1-xNzjl_cpje",
        "outputId": "0444637c-e28c-4822-f9bf-e4fdaf348a1c"
      },
      "execution_count": null,
      "outputs": [
        {
          "output_type": "stream",
          "name": "stdout",
          "text": [
            "1\n"
          ]
        }
      ]
    },
    {
      "cell_type": "code",
      "source": [
        "a=7\n",
        "b=8*4\n",
        "print(b)\n",
        "b=a\n",
        "print(b)"
      ],
      "metadata": {
        "colab": {
          "base_uri": "https://localhost:8080/"
        },
        "id": "nOuC3hp-dGj2",
        "outputId": "953fc9f8-053d-4774-a83a-4aa6c4959447"
      },
      "execution_count": null,
      "outputs": [
        {
          "output_type": "stream",
          "name": "stdout",
          "text": [
            "32\n",
            "7\n"
          ]
        }
      ]
    },
    {
      "cell_type": "code",
      "source": [
        "a=1\n",
        "b=2\n",
        "c=b\n",
        "b=a\n",
        "a=c\n",
        "print(a,b,c)"
      ],
      "metadata": {
        "colab": {
          "base_uri": "https://localhost:8080/"
        },
        "id": "ZsSDt5MYdr3i",
        "outputId": "4e5be396-6f01-4ddc-f155-0c5c01367ee8"
      },
      "execution_count": null,
      "outputs": [
        {
          "output_type": "stream",
          "name": "stdout",
          "text": [
            "2 1 2\n"
          ]
        }
      ]
    },
    {
      "cell_type": "code",
      "source": [
        "a=100\n",
        "a=a+50\n",
        "a=a*2\n",
        "print(a)"
      ],
      "metadata": {
        "colab": {
          "base_uri": "https://localhost:8080/"
        },
        "id": "GUINO7E7eDcP",
        "outputId": "2d923899-2cfc-481b-a2b6-d5ef959efd51"
      },
      "execution_count": null,
      "outputs": [
        {
          "output_type": "stream",
          "name": "stdout",
          "text": [
            "300\n"
          ]
        }
      ]
    },
    {
      "cell_type": "code",
      "source": [
        "a=10\n",
        "b=10\n",
        "c=a*b\n",
        "a=c-b\n",
        "b=c+a\n",
        "c=a*c\n",
        "print(a,b,c)"
      ],
      "metadata": {
        "colab": {
          "base_uri": "https://localhost:8080/"
        },
        "id": "YtIJ63Z2fDeD",
        "outputId": "e90d4052-af07-41cf-ca67-1f99c3055b5f"
      },
      "execution_count": null,
      "outputs": [
        {
          "output_type": "stream",
          "name": "stdout",
          "text": [
            "90 190 9000\n"
          ]
        }
      ]
    },
    {
      "cell_type": "code",
      "source": [
        "nav=188\n",
        "print(nav)"
      ],
      "metadata": {
        "colab": {
          "base_uri": "https://localhost:8080/"
        },
        "id": "8nyXH09kfnIY",
        "outputId": "f1fb6dfa-5b98-4662-e6aa-17577f0d585d"
      },
      "execution_count": null,
      "outputs": [
        {
          "output_type": "stream",
          "name": "stdout",
          "text": [
            "188\n"
          ]
        }
      ]
    },
    {
      "cell_type": "code",
      "source": [
        "gurukul=\"complete to dream\"\n",
        "print(gurukul)"
      ],
      "metadata": {
        "colab": {
          "base_uri": "https://localhost:8080/"
        },
        "id": "QU-7y0w6f-p3",
        "outputId": "b487affd-a335-470c-eafb-19a380f1d205"
      },
      "execution_count": null,
      "outputs": [
        {
          "output_type": "stream",
          "name": "stdout",
          "text": [
            "complete to dream\n"
          ]
        }
      ]
    },
    {
      "cell_type": "code",
      "source": [
        "gurukul=\"arive to deame\"\n",
        "nav=99.9 \n",
        "guru=\"%\"\n",
        "kul=\"is true\"\n",
        "print(gurukul,nav,guru,kul)"
      ],
      "metadata": {
        "colab": {
          "base_uri": "https://localhost:8080/"
        },
        "id": "07OlPTMBgTKc",
        "outputId": "407479eb-4607-4038-af3e-af4b5996e2a5"
      },
      "execution_count": null,
      "outputs": [
        {
          "output_type": "stream",
          "name": "stdout",
          "text": [
            "arive to deame 99.9 % is true\n"
          ]
        }
      ]
    },
    {
      "cell_type": "code",
      "source": [
        "x=5\n",
        "y=10\n",
        "x,y=y,x\n",
        "print(\"x\",x)\n",
        "print(\"y\",y)"
      ],
      "metadata": {
        "colab": {
          "base_uri": "https://localhost:8080/"
        },
        "id": "ZazGZGyaghF4",
        "outputId": "5d20249d-f8ed-488f-8f21-b9d59d9fa4f6"
      },
      "execution_count": null,
      "outputs": [
        {
          "output_type": "stream",
          "name": "stdout",
          "text": [
            "x 10\n",
            "y 5\n"
          ]
        }
      ]
    },
    {
      "cell_type": "code",
      "source": [
        "x=int(input(\"enter your age \"))\n",
        "prin(x)"
      ],
      "metadata": {
        "id": "PLrgZfvsvSoV"
      },
      "execution_count": null,
      "outputs": []
    },
    {
      "cell_type": "markdown",
      "metadata": {
        "id": "MKgBidpfVhSo"
      },
      "source": [
        "# New Section"
      ]
    },
    {
      "cell_type": "code",
      "execution_count": null,
      "metadata": {
        "colab": {
          "base_uri": "https://localhost:8080/"
        },
        "id": "_M-FS2gzU8-N",
        "outputId": "4d1f9014-ba05-4242-ea43-363336e48260"
      },
      "outputs": [
        {
          "data": {
            "text/plain": [
              "1"
            ]
          },
          "execution_count": 4,
          "metadata": {},
          "output_type": "execute_result"
        }
      ],
      "source": [
        "22%3"
      ]
    },
    {
      "cell_type": "code",
      "execution_count": null,
      "metadata": {
        "colab": {
          "base_uri": "https://localhost:8080/"
        },
        "id": "R-uYxSh8VtX3",
        "outputId": "ed6d74a8-4e1f-4332-edb4-4dcf7ffc6609"
      },
      "outputs": [
        {
          "data": {
            "text/plain": [
              "3"
            ]
          },
          "execution_count": 5,
          "metadata": {},
          "output_type": "execute_result"
        }
      ],
      "source": [
        "3*1**3"
      ]
    },
    {
      "cell_type": "code",
      "execution_count": null,
      "metadata": {
        "colab": {
          "base_uri": "https://localhost:8080/"
        },
        "id": "vzyGpfhQ2M0r",
        "outputId": "ed5f44c2-0b4f-4653-d9ba-4bf2f6c5f2a0"
      },
      "outputs": [
        {
          "data": {
            "text/plain": [
              "1.3333333333333333"
            ]
          },
          "execution_count": 6,
          "metadata": {},
          "output_type": "execute_result"
        }
      ],
      "source": [
        "4/(3*(2-1)) and 4/3*(2-1)"
      ]
    },
    {
      "cell_type": "code",
      "execution_count": null,
      "metadata": {
        "colab": {
          "base_uri": "https://localhost:8080/"
        },
        "id": "JR4tmIEQ5QEH",
        "outputId": "5755ae09-128e-45c0-a5d4-bfb21ddaa93e"
      },
      "outputs": [
        {
          "data": {
            "text/plain": [
              "7"
            ]
          },
          "execution_count": 7,
          "metadata": {},
          "output_type": "execute_result"
        }
      ],
      "source": [
        "4+3%5"
      ]
    },
    {
      "cell_type": "code",
      "execution_count": null,
      "metadata": {
        "colab": {
          "base_uri": "https://localhost:8080/"
        },
        "id": "nAUh4hnng4vO",
        "outputId": "966aaf7a-294e-4ed4-9242-f75562a3c935"
      },
      "outputs": [
        {
          "name": "stdout",
          "output_type": "stream",
          "text": [
            "15\n",
            "1\n"
          ]
        }
      ],
      "source": [
        "a=4\n",
        "b=11\n",
        "print(a|b)\n",
        "print(a>>2)"
      ]
    },
    {
      "cell_type": "code",
      "execution_count": null,
      "metadata": {
        "colab": {
          "base_uri": "https://localhost:8080/"
        },
        "id": "3Vyi5kf8ru2y",
        "outputId": "3aa75f4d-8702-446b-d056-1c984f97451a"
      },
      "outputs": [
        {
          "data": {
            "text/plain": [
              "0"
            ]
          },
          "execution_count": 1,
          "metadata": {},
          "output_type": "execute_result"
        }
      ],
      "source": [
        "a=16\n",
        "b=15\n",
        "a%b//a"
      ]
    },
    {
      "cell_type": "code",
      "execution_count": null,
      "metadata": {
        "colab": {
          "base_uri": "https://localhost:8080/"
        },
        "id": "h_GaLc3Ytv3f",
        "outputId": "1e7d4548-18eb-4be2-cb6d-1a13b3d88ff5"
      },
      "outputs": [
        {
          "data": {
            "text/plain": [
              "44"
            ]
          },
          "execution_count": 5,
          "metadata": {},
          "output_type": "execute_result"
        }
      ],
      "source": [
        "int(43.55+2/2)"
      ]
    },
    {
      "cell_type": "code",
      "execution_count": null,
      "metadata": {
        "colab": {
          "base_uri": "https://localhost:8080/"
        },
        "id": "z0-7dOReuZ4V",
        "outputId": "33f88953-955c-4c19-fe06-5ef94ec8f853"
      },
      "outputs": [
        {
          "data": {
            "text/plain": [
              "(6.0, 16.0)"
            ]
          },
          "execution_count": 6,
          "metadata": {},
          "output_type": "execute_result"
        }
      ],
      "source": [
        "2+4.00,2**4.0"
      ]
    },
    {
      "cell_type": "code",
      "execution_count": null,
      "metadata": {
        "colab": {
          "base_uri": "https://localhost:8080/"
        },
        "id": "lEMDHlu9w4TW",
        "outputId": "2ff7858f-6aaa-4790-edf5-68cd7d536e67"
      },
      "outputs": [
        {
          "data": {
            "text/plain": [
              "(512, 64, 512)"
            ]
          },
          "execution_count": 11,
          "metadata": {},
          "output_type": "execute_result"
        }
      ],
      "source": [
        "2**(3**2),(2**3)**2,2**3**2"
      ]
    },
    {
      "cell_type": "code",
      "execution_count": null,
      "metadata": {
        "colab": {
          "base_uri": "https://localhost:8080/"
        },
        "id": "rn6mEIPozYtH",
        "outputId": "71025781-e1a6-4bd7-8e47-7ddf55be10c2"
      },
      "outputs": [
        {
          "data": {
            "text/plain": [
              "(1.0, 4.0)"
            ]
          },
          "execution_count": 12,
          "metadata": {},
          "output_type": "execute_result"
        }
      ],
      "source": [
        "8/4/2,8/(4/2)"
      ]
    },
    {
      "cell_type": "code",
      "execution_count": null,
      "metadata": {
        "colab": {
          "base_uri": "https://localhost:8080/"
        },
        "id": "HlXP0nRi0Ndv",
        "outputId": "1d6a2b9f-47fc-45e5-98cd-622a2ed7dd3f"
      },
      "outputs": [
        {
          "data": {
            "text/plain": [
              "8.333333333333332"
            ]
          },
          "execution_count": 13,
          "metadata": {},
          "output_type": "execute_result"
        }
      ],
      "source": [
        "float(22/3+3/3)"
      ]
    },
    {
      "cell_type": "code",
      "execution_count": null,
      "metadata": {
        "colab": {
          "base_uri": "https://localhost:8080/"
        },
        "id": "G49hvMCE0rd7",
        "outputId": "f42faa41-0c73-42e0-c69f-902b4d3406cc"
      },
      "outputs": [
        {
          "data": {
            "text/plain": [
              "1.0"
            ]
          },
          "execution_count": 14,
          "metadata": {},
          "output_type": "execute_result"
        }
      ],
      "source": [
        "(4.00/(2.0+2.0))"
      ]
    },
    {
      "cell_type": "code",
      "execution_count": null,
      "metadata": {
        "colab": {
          "base_uri": "https://localhost:8080/"
        },
        "id": "7TdRjubn0y6l",
        "outputId": "bc8f3156-fbc2-4487-a270-14baf7d4074c"
      },
      "outputs": [
        {
          "data": {
            "text/plain": [
              "27.2"
            ]
          },
          "execution_count": 15,
          "metadata": {},
          "output_type": "execute_result"
        }
      ],
      "source": [
        "\n",
        "2+9*((3*12)-8)/10"
      ]
    },
    {
      "cell_type": "code",
      "execution_count": null,
      "metadata": {
        "colab": {
          "base_uri": "https://localhost:8080/"
        },
        "id": "cWV67FzD2jHm",
        "outputId": "95a41f15-54e2-4f10-ceef-d6871ec0b61c"
      },
      "outputs": [
        {
          "data": {
            "text/plain": [
              "(1.7, 3.2, 49.77, 8.0)"
            ]
          },
          "execution_count": 17,
          "metadata": {},
          "output_type": "execute_result"
        }
      ],
      "source": [
        "1.7%2,4.7-1.5,7.9*6.3,3.4+4.6"
      ]
    },
    {
      "cell_type": "code",
      "execution_count": null,
      "metadata": {
        "colab": {
          "base_uri": "https://localhost:8080/"
        },
        "id": "OldG4UrQ4VaA",
        "outputId": "24f81f81-f599-4b43-9f45-4d5f8d4913d6"
      },
      "outputs": [
        {
          "data": {
            "text/plain": [
              "(1, 3)"
            ]
          },
          "execution_count": 18,
          "metadata": {},
          "output_type": "execute_result"
        }
      ],
      "source": [
        "24//6%3,24//4//2"
      ]
    },
    {
      "cell_type": "code",
      "execution_count": null,
      "metadata": {
        "colab": {
          "base_uri": "https://localhost:8080/"
        },
        "id": "bV2WuFy04kf0",
        "outputId": "46b0523e-c2bf-4459-8f07-1b0afb4807d9"
      },
      "outputs": [
        {
          "data": {
            "text/plain": [
              "4.0"
            ]
          },
          "execution_count": 1,
          "metadata": {},
          "output_type": "execute_result"
        }
      ],
      "source": [
        "float(4+int(2.39)%2)"
      ]
    },
    {
      "cell_type": "code",
      "execution_count": null,
      "metadata": {
        "colab": {
          "base_uri": "https://localhost:8080/"
        },
        "id": "hRQnYrj75HOV",
        "outputId": "90a303d1-d88b-43f9-ce45-1c3d4e9ff6d5"
      },
      "outputs": [
        {
          "data": {
            "text/plain": [
              "7.0"
            ]
          },
          "execution_count": 2,
          "metadata": {},
          "output_type": "execute_result"
        }
      ],
      "source": [
        "4.0+float(3)"
      ]
    },
    {
      "cell_type": "code",
      "execution_count": null,
      "metadata": {
        "colab": {
          "base_uri": "https://localhost:8080/",
          "height": 200
        },
        "id": "FeRGLBZO52Nv",
        "outputId": "64102096-836b-4b78-c4c9-975a962a454f"
      },
      "outputs": [
        {
          "ename": "ValueError",
          "evalue": "ignored",
          "output_type": "error",
          "traceback": [
            "\u001b[0;31m---------------------------------------------------------------------------\u001b[0m",
            "\u001b[0;31mValueError\u001b[0m                                Traceback (most recent call last)",
            "\u001b[0;32m<ipython-input-3-704fc9c25111>\u001b[0m in \u001b[0;36m<module>\u001b[0;34m()\u001b[0m\n\u001b[1;32m      2\u001b[0m \u001b[0mint\u001b[0m\u001b[0;34m(\u001b[0m\u001b[0;34m'10'\u001b[0m\u001b[0;34m)\u001b[0m\u001b[0;34m\u001b[0m\u001b[0;34m\u001b[0m\u001b[0m\n\u001b[1;32m      3\u001b[0m \u001b[0mfloat\u001b[0m\u001b[0;34m(\u001b[0m\u001b[0;34m'10.8'\u001b[0m\u001b[0;34m)\u001b[0m\u001b[0;34m\u001b[0m\u001b[0;34m\u001b[0m\u001b[0m\n\u001b[0;32m----> 4\u001b[0;31m \u001b[0mint\u001b[0m\u001b[0;34m(\u001b[0m\u001b[0;34m'10.8'\u001b[0m\u001b[0;34m)\u001b[0m\u001b[0;34m\u001b[0m\u001b[0;34m\u001b[0m\u001b[0m\n\u001b[0m",
            "\u001b[0;31mValueError\u001b[0m: invalid literal for int() with base 10: '10.8'"
          ]
        }
      ],
      "source": [
        "float('10')\n",
        "int('10')\n",
        "float('10.8')\n",
        "int('10.8')"
      ]
    },
    {
      "cell_type": "code",
      "execution_count": null,
      "metadata": {
        "colab": {
          "base_uri": "https://localhost:8080/"
        },
        "id": "9F9SKyNv6n0K",
        "outputId": "c033c18b-bd16-4f31-c477-e619efab0afc"
      },
      "outputs": [
        {
          "data": {
            "text/plain": [
              "7"
            ]
          },
          "execution_count": 4,
          "metadata": {},
          "output_type": "execute_result"
        }
      ],
      "source": [
        "4+2**5//10"
      ]
    },
    {
      "cell_type": "code",
      "execution_count": null,
      "metadata": {
        "colab": {
          "base_uri": "https://localhost:8080/"
        },
        "id": "6yLEFo2N-j9O",
        "outputId": "e6ebb9ec-91a4-4292-a84d-b5a51424dd79"
      },
      "outputs": [
        {
          "data": {
            "text/plain": [
              "(256, 64)"
            ]
          },
          "execution_count": 6,
          "metadata": {},
          "output_type": "execute_result"
        }
      ],
      "source": [
        "2**2**3,(2**2)**3"
      ]
    },
    {
      "cell_type": "code",
      "execution_count": null,
      "metadata": {
        "colab": {
          "base_uri": "https://localhost:8080/"
        },
        "id": "PYd0u0g5_U4w",
        "outputId": "8bc8171b-2e3f-4697-97e3-5cb7a7a60e03"
      },
      "outputs": [
        {
          "data": {
            "text/plain": [
              "False"
            ]
          },
          "execution_count": 10,
          "metadata": {},
          "output_type": "execute_result"
        }
      ],
      "source": [
        "bool('False')\n",
        "bool()"
      ]
    },
    {
      "cell_type": "code",
      "execution_count": null,
      "metadata": {
        "colab": {
          "base_uri": "https://localhost:8080/",
          "height": 35
        },
        "id": "Ql_ghEsfARM9",
        "outputId": "3a21491d-234b-473b-e9c0-9c5d5424a6ee"
      },
      "outputs": [
        {
          "data": {
            "application/vnd.google.colaboratory.intrinsic+json": {
              "type": "string"
            },
            "text/plain": [
              "'hello'"
            ]
          },
          "execution_count": 16,
          "metadata": {},
          "output_type": "execute_result"
        }
      ],
      "source": [
        "[\"hello\",'morning'][bool('')]"
      ]
    },
    {
      "cell_type": "code",
      "execution_count": null,
      "metadata": {
        "colab": {
          "base_uri": "https://localhost:8080/"
        },
        "id": "4IOlpLngBKgm",
        "outputId": "203afdbe-a681-4e35-bccf-2fbdfff8abd8"
      },
      "outputs": [
        {
          "data": {
            "text/plain": [
              "(True, False)"
            ]
          },
          "execution_count": 18,
          "metadata": {},
          "output_type": "execute_result"
        }
      ],
      "source": [
        "not(3>4),not(1&1)"
      ]
    },
    {
      "cell_type": "code",
      "execution_count": null,
      "metadata": {
        "colab": {
          "base_uri": "https://localhost:8080/",
          "height": 35
        },
        "id": "cKTlTSeXBb5N",
        "outputId": "2daf17b5-7ea6-4799-a887-433bf43e8442"
      },
      "outputs": [
        {
          "data": {
            "application/vnd.google.colaboratory.intrinsic+json": {
              "type": "string"
            },
            "text/plain": [
              "'t'"
            ]
          },
          "execution_count": 19,
          "metadata": {},
          "output_type": "execute_result"
        }
      ],
      "source": [
        "['f','t'][bool('spam')]"
      ]
    },
    {
      "cell_type": "code",
      "execution_count": null,
      "metadata": {
        "colab": {
          "base_uri": "https://localhost:8080/"
        },
        "id": "oVXyTIMdCBVB",
        "outputId": "93fd7b57-e0c0-4a5f-a0b9-7d435b7c8e92"
      },
      "outputs": [
        {
          "data": {
            "text/plain": [
              "[1, 2, 'hello']"
            ]
          },
          "execution_count": 20,
          "metadata": {},
          "output_type": "execute_result"
        }
      ],
      "source": [
        "L=[1,0,2,0,'hello','',[]]\n",
        "list(filter(bool,L))"
      ]
    },
    {
      "cell_type": "code",
      "execution_count": null,
      "metadata": {
        "colab": {
          "background_save": true,
          "base_uri": "https://localhost:8080/",
          "height": 130
        },
        "id": "aVEObQHnCoP9",
        "outputId": "5f1bca44-ea55-4580-fe04-4a25dfe8cf76"
      },
      "outputs": [
        {
          "ename": "IndentationError",
          "evalue": "ignored",
          "output_type": "error",
          "traceback": [
            "\u001b[0;36m  File \u001b[0;32m\"<ipython-input-23-69b56d66aebb>\"\u001b[0;36m, line \u001b[0;32m3\u001b[0m\n\u001b[0;31m    x=Truth()\u001b[0m\n\u001b[0m             ^\u001b[0m\n\u001b[0;31mIndentationError\u001b[0m\u001b[0;31m:\u001b[0m unindent does not match any outer indentation level\n"
          ]
        }
      ],
      "source": [
        "class Truth:\n",
        "        pass\n",
        "  x=Truth()\n",
        "  bool(x)     "
      ]
    },
    {
      "cell_type": "code",
      "execution_count": null,
      "metadata": {
        "colab": {
          "base_uri": "https://localhost:8080/"
        },
        "id": "LN1SHn92iQ4p",
        "outputId": "1b7fde3a-a5d3-4b4b-89c4-ad9fa6f6afa7"
      },
      "outputs": [
        {
          "name": "stdout",
          "output_type": "stream",
          "text": [
            "Good\n"
          ]
        }
      ],
      "source": [
        "if(9<0)and(0<-9):\n",
        "  print(\"hello\")\n",
        "elif(9>0)or False:\n",
        "  print(\"Good\")\n",
        "else:\n",
        "  print(\"Bab\")"
      ]
    },
    {
      "cell_type": "code",
      "execution_count": null,
      "metadata": {
        "colab": {
          "base_uri": "https://localhost:8080/"
        },
        "id": "0CGet-CRkUmV",
        "outputId": "b78969ee-1d15-4f4a-f4f0-0a1cfae40f49"
      },
      "outputs": [
        {
          "name": "stdout",
          "output_type": "stream",
          "text": [
            "False\n",
            "False\n",
            "False\n",
            "True\n"
          ]
        }
      ],
      "source": [
        "a=not(-6 or-6>10)\n",
        "b=-6>=0 and-6==10\n",
        "c=not(-6<10 or-6==10)\n",
        "d=not(-6>10 or-6==10)\n",
        "print(a)\n",
        "print(b)\n",
        "print(c)\n",
        "print(d)"
      ]
    },
    {
      "cell_type": "code",
      "execution_count": null,
      "metadata": {
        "colab": {
          "base_uri": "https://localhost:8080/"
        },
        "id": "qOlv9JitmuoH",
        "outputId": "12679906-0048-455c-d5a9-f02b1d5a7889"
      },
      "outputs": [
        {
          "data": {
            "text/plain": [
              "False"
            ]
          },
          "execution_count": 4,
          "metadata": {},
          "output_type": "execute_result"
        }
      ],
      "source": [
        "not(10<20)and not(10>30)"
      ]
    },
    {
      "cell_type": "code",
      "execution_count": null,
      "metadata": {
        "colab": {
          "base_uri": "https://localhost:8080/"
        },
        "id": "KW66fTmhnH-a",
        "outputId": "ffeb19a5-34c8-4b30-c931-b6e0809fc895"
      },
      "outputs": [
        {
          "data": {
            "text/plain": [
              "0"
            ]
          },
          "execution_count": 6,
          "metadata": {},
          "output_type": "execute_result"
        }
      ],
      "source": [
        "a=16\n",
        "b=15\n",
        "b//a"
      ]
    },
    {
      "cell_type": "code",
      "execution_count": null,
      "metadata": {
        "colab": {
          "base_uri": "https://localhost:8080/"
        },
        "id": "uCbQhgISoFyD",
        "outputId": "13dff481-6cd2-43c6-f8d5-3e2207d1e123"
      },
      "outputs": [
        {
          "name": "stdout",
          "output_type": "stream",
          "text": [
            "43\n"
          ]
        }
      ],
      "source": [
        "x=int(43.5522)\n",
        "print(x)"
      ]
    },
    {
      "cell_type": "code",
      "execution_count": null,
      "metadata": {
        "colab": {
          "base_uri": "https://localhost:8080/"
        },
        "id": "mSPKZjvbotsG",
        "outputId": "57c79bc8-40cb-402f-8758-a87d0e1dc1d2"
      },
      "outputs": [
        {
          "data": {
            "text/plain": [
              "2"
            ]
          },
          "execution_count": 9,
          "metadata": {},
          "output_type": "execute_result"
        }
      ],
      "source": [
        "8//4//(3//2)%9"
      ]
    },
    {
      "cell_type": "code",
      "execution_count": null,
      "metadata": {
        "colab": {
          "base_uri": "https://localhost:8080/"
        },
        "id": "b_VMR6-ApfHO",
        "outputId": "d880223f-3cff-404c-bd9e-0ef74f68d7fd"
      },
      "outputs": [
        {
          "data": {
            "text/plain": [
              "(512, 64, 134217728)"
            ]
          },
          "execution_count": 12,
          "metadata": {},
          "output_type": "execute_result"
        }
      ],
      "source": [
        "2**(3**2),(2**3)**2,2**3**3"
      ]
    },
    {
      "cell_type": "code",
      "execution_count": null,
      "metadata": {
        "colab": {
          "base_uri": "https://localhost:8080/"
        },
        "id": "Yz6bDvYDq8-L",
        "outputId": "e986142a-74ac-43e0-a03f-1b3bfda00e30"
      },
      "outputs": [
        {
          "data": {
            "text/plain": [
              "(1.0, 4.0)"
            ]
          },
          "execution_count": 13,
          "metadata": {},
          "output_type": "execute_result"
        }
      ],
      "source": [
        "8/4/2,8/(4/2)"
      ]
    },
    {
      "cell_type": "code",
      "execution_count": null,
      "metadata": {
        "colab": {
          "base_uri": "https://localhost:8080/"
        },
        "id": "wvqLZq8nrqGs",
        "outputId": "2a7aa284-91d3-4229-8091-3bf12c6a036a"
      },
      "outputs": [
        {
          "data": {
            "text/plain": [
              "8.0"
            ]
          },
          "execution_count": 14,
          "metadata": {},
          "output_type": "execute_result"
        }
      ],
      "source": [
        "22//3+3/3"
      ]
    },
    {
      "cell_type": "code",
      "execution_count": null,
      "metadata": {
        "colab": {
          "base_uri": "https://localhost:8080/"
        },
        "id": "cG1BzqaQrp5y",
        "outputId": "e55880fa-9666-4ed1-dcb6-76173e17df00"
      },
      "outputs": [
        {
          "data": {
            "text/plain": [
              "1.0"
            ]
          },
          "execution_count": 15,
          "metadata": {},
          "output_type": "execute_result"
        }
      ],
      "source": [
        "(4.00/(2.0+2.0))"
      ]
    },
    {
      "cell_type": "code",
      "execution_count": null,
      "metadata": {
        "colab": {
          "base_uri": "https://localhost:8080/"
        },
        "id": "MjpQ2TBnsW1a",
        "outputId": "982874a4-d4bc-4b8c-d84c-22293913b0c7"
      },
      "outputs": [
        {
          "data": {
            "text/plain": [
              "(1, 3)"
            ]
          },
          "execution_count": 16,
          "metadata": {},
          "output_type": "execute_result"
        }
      ],
      "source": [
        "24//6%3,24//4//2"
      ]
    },
    {
      "cell_type": "code",
      "source": [
        "a=16//3+16//-3\n",
        "print(a)\n",
        "a=3.2//3//5+6%3+4//2 and 1\n",
        "print(a)\n",
        "a=not (8 or 3 and 4*3)or 6\n",
        "print(a)\n",
        "a=8%15\n",
        "print(a)\n",
        "b=-9//4\n",
        "print(b)\n"
      ],
      "metadata": {
        "id": "0voB4CFaNKRV"
      },
      "execution_count": null,
      "outputs": []
    }
  ],
  "metadata": {
    "colab": {
      "provenance": [],
      "authorship_tag": "ABX9TyMExUWwU02/O8/PLS+lqyCM",
      "include_colab_link": true
    },
    "kernelspec": {
      "display_name": "Python 3",
      "name": "python3"
    },
    "language_info": {
      "name": "python"
    }
  },
  "nbformat": 4,
  "nbformat_minor": 0
}