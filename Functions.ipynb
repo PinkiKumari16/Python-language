{
  "nbformat": 4,
  "nbformat_minor": 0,
  "metadata": {
    "colab": {
      "provenance": [],
      "authorship_tag": "ABX9TyPD7t3UQF2AYb68xOL60PYS",
      "include_colab_link": true
    },
    "kernelspec": {
      "name": "python3",
      "display_name": "Python 3"
    },
    "language_info": {
      "name": "python"
    }
  },
  "cells": [
    {
      "cell_type": "markdown",
      "metadata": {
        "id": "view-in-github",
        "colab_type": "text"
      },
      "source": [
        "<a href=\"https://colab.research.google.com/github/pinkikumari1/kbc/blob/main/Functions.ipynb\" target=\"_parent\"><img src=\"https://colab.research.google.com/assets/colab-badge.svg\" alt=\"Open In Colab\"/></a>"
      ]
    },
    {
      "cell_type": "code",
      "execution_count": null,
      "metadata": {
        "colab": {
          "base_uri": "https://localhost:8080/"
        },
        "id": "sNgpXddGpZnd",
        "outputId": "c7bbdce9-fc6e-4635-f0e7-be9cea841c21"
      },
      "outputs": [
        {
          "output_type": "stream",
          "name": "stdout",
          "text": [
            "hello pinki\n"
          ]
        }
      ],
      "source": [
        "# create a function\n",
        "\n",
        "def my_function():\n",
        "  print(\"hello pinki\")\n",
        "my_function()\n"
      ]
    },
    {
      "cell_type": "code",
      "source": [
        "T=int(input())\n",
        "for i in range(T):\n",
        "  "
      ],
      "metadata": {
        "id": "agfP4Ro7mC3q"
      },
      "execution_count": null,
      "outputs": []
    },
    {
      "cell_type": "code",
      "source": [
        "# arguments\n",
        "\n",
        "def my_function(name):\n",
        "  print(name + \" pinki\")\n",
        "my_function(\"miss\")\n",
        "my_function(\"rinki\")"
      ],
      "metadata": {
        "colab": {
          "base_uri": "https://localhost:8080/"
        },
        "id": "aq2AWKIdq3ch",
        "outputId": "4537bd88-34af-4922-b8e2-40dec9c0a9b0"
      },
      "execution_count": null,
      "outputs": [
        {
          "output_type": "stream",
          "name": "stdout",
          "text": [
            "miss pinki\n",
            "rinki pinki\n"
          ]
        }
      ]
    },
    {
      "cell_type": "code",
      "source": [
        "def fun(nik):\n",
        "  print(\"pinki \"+nik)\n",
        "fun(\"kumari\")\n",
        "fun(\"gupta\")\n",
        "fun(\"jha\")"
      ],
      "metadata": {
        "colab": {
          "base_uri": "https://localhost:8080/"
        },
        "id": "M_AedGg3ru5o",
        "outputId": "bd109327-1cec-4494-bafe-c289bccadce1"
      },
      "execution_count": null,
      "outputs": [
        {
          "output_type": "stream",
          "name": "stdout",
          "text": [
            "pinki kumari\n",
            "pinki gupta\n",
            "pinki jha\n"
          ]
        }
      ]
    },
    {
      "cell_type": "code",
      "source": [
        "# number of arguments(this function expects 2 argument, and gets 2 arguments:)\n",
        "\n",
        "def my_function(fname,lname):\n",
        "  print(fname +\" \"+lname)\n",
        "my_function(\"pinki\",\"kumari\")\n"
      ],
      "metadata": {
        "colab": {
          "base_uri": "https://localhost:8080/"
        },
        "id": "B5beEYrQsJX4",
        "outputId": "7208ba8a-dc7d-40d3-bf3d-e8ac69d2a181"
      },
      "execution_count": null,
      "outputs": [
        {
          "output_type": "stream",
          "name": "stdout",
          "text": [
            "pinki kumari\n"
          ]
        }
      ]
    },
    {
      "cell_type": "code",
      "source": [
        "# this function expects 2 arguments, but gets only 1: That time its show the error.\n",
        "\n",
        "def my_function(fname,lname):\n",
        "  print(fname+lname)\n",
        "my_function(\"pinki\")\n"
      ],
      "metadata": {
        "colab": {
          "base_uri": "https://localhost:8080/",
          "height": 202
        },
        "id": "loa4r6XLtX4U",
        "outputId": "106fadf6-2853-42ad-86af-9866edc759bc"
      },
      "execution_count": null,
      "outputs": [
        {
          "output_type": "error",
          "ename": "TypeError",
          "evalue": "ignored",
          "traceback": [
            "\u001b[0;31m---------------------------------------------------------------------------\u001b[0m",
            "\u001b[0;31mTypeError\u001b[0m                                 Traceback (most recent call last)",
            "\u001b[0;32m<ipython-input-10-7c3938f7c56c>\u001b[0m in \u001b[0;36m<module>\u001b[0;34m()\u001b[0m\n\u001b[1;32m      2\u001b[0m \u001b[0;32mdef\u001b[0m \u001b[0mmy_function\u001b[0m\u001b[0;34m(\u001b[0m\u001b[0mfname\u001b[0m\u001b[0;34m,\u001b[0m\u001b[0mlname\u001b[0m\u001b[0;34m)\u001b[0m\u001b[0;34m:\u001b[0m\u001b[0;34m\u001b[0m\u001b[0;34m\u001b[0m\u001b[0m\n\u001b[1;32m      3\u001b[0m   \u001b[0mprint\u001b[0m\u001b[0;34m(\u001b[0m\u001b[0mfname\u001b[0m\u001b[0;34m+\u001b[0m\u001b[0mlname\u001b[0m\u001b[0;34m)\u001b[0m\u001b[0;34m\u001b[0m\u001b[0;34m\u001b[0m\u001b[0m\n\u001b[0;32m----> 4\u001b[0;31m \u001b[0mmy_function\u001b[0m\u001b[0;34m(\u001b[0m\u001b[0;34m\"pinki\"\u001b[0m\u001b[0;34m)\u001b[0m\u001b[0;34m\u001b[0m\u001b[0;34m\u001b[0m\u001b[0m\n\u001b[0m",
            "\u001b[0;31mTypeError\u001b[0m: my_function() missing 1 required positional argument: 'lname'"
          ]
        }
      ]
    },
    {
      "cell_type": "code",
      "source": [
        "# Arbitrary Arguments, (*args)\n",
        "\n",
        "def my_function(*kid):\n",
        "  print(\"The youngest girl is \"+kid[0])\n",
        "my_function(\"pinki\",\"rinki\",'kiran')"
      ],
      "metadata": {
        "colab": {
          "base_uri": "https://localhost:8080/"
        },
        "id": "S1hpjUAfuK89",
        "outputId": "72fcee68-a3ea-4873-d70d-d2add6fde145"
      },
      "execution_count": null,
      "outputs": [
        {
          "output_type": "stream",
          "name": "stdout",
          "text": [
            "The youngest girl is pinki\n"
          ]
        }
      ]
    },
    {
      "cell_type": "code",
      "source": [
        "# KEYWORD ARGUMENTS\n",
        "\n",
        "def my_function(l1,l2,l3):\n",
        "  print(\"The youngest child is \"+l3)\n",
        "  print(\"The youngest child is \"+l2)\n",
        "my_function(l1=\"aarav\",l2=\"Abhi\",l3=\"Ansh\")"
      ],
      "metadata": {
        "colab": {
          "base_uri": "https://localhost:8080/"
        },
        "id": "6P2iak_Ju0mN",
        "outputId": "8fb8dbb9-8766-4101-886b-2df60ebec7fa"
      },
      "execution_count": null,
      "outputs": [
        {
          "output_type": "stream",
          "name": "stdout",
          "text": [
            "The youngest child is Ansh\n",
            "The youngest child is Abhi\n"
          ]
        }
      ]
    },
    {
      "cell_type": "code",
      "source": [
        "# ARBITRARY KEYWORD ARGUMENT, (**KWARGS)\n",
        "\n",
        "def my_function(**kid):\n",
        "  print(\"His last name is \"+kid[\"l1\"])\n",
        "  print(\"His last name is \"+kid['l2'])\n",
        "my_function(l1=\"Devi\",l2=\"Gupta\")"
      ],
      "metadata": {
        "colab": {
          "base_uri": "https://localhost:8080/"
        },
        "id": "Rwqt5_79vsq2",
        "outputId": "1d61ebcb-94dd-4f19-9de8-66b7c41ed35c"
      },
      "execution_count": null,
      "outputs": [
        {
          "output_type": "stream",
          "name": "stdout",
          "text": [
            "His last name is Devi\n",
            "His last name is Gupta\n"
          ]
        }
      ]
    },
    {
      "cell_type": "code",
      "source": [
        "# DEFAULT PARAMENTER VALUE\n",
        "\n",
        "def my_function(country=\"India\"):\n",
        "  print(\"I am from \"+country)\n",
        "my_function(\"USA\")\n",
        "my_function(\"UK\")\n",
        "my_function(\"FRANSH\")\n",
        "my_function()"
      ],
      "metadata": {
        "colab": {
          "base_uri": "https://localhost:8080/"
        },
        "id": "YYKzvFB3yp9H",
        "outputId": "26c216a9-9a67-4dba-a705-c102ef9b6e19"
      },
      "execution_count": null,
      "outputs": [
        {
          "output_type": "stream",
          "name": "stdout",
          "text": [
            "I am from USA\n",
            "I am from UK\n",
            "I am from FRANSH\n",
            "I am from India\n"
          ]
        }
      ]
    },
    {
      "cell_type": "code",
      "source": [
        "# PASSING A LIST AS AN ARGUMENT\n",
        "\n",
        "def my_function(food):\n",
        "  for i in food:\n",
        "    print(i)\n",
        "fruits=[\"apple\",'banana','lichi','papaya']\n",
        "my_function(fruits)"
      ],
      "metadata": {
        "colab": {
          "base_uri": "https://localhost:8080/"
        },
        "id": "2C-3M-J3zw1l",
        "outputId": "5d1bf89f-5694-4665-ce4b-ef3380a94dce"
      },
      "execution_count": null,
      "outputs": [
        {
          "output_type": "stream",
          "name": "stdout",
          "text": [
            "apple\n",
            "banana\n",
            "lichi\n",
            "papaya\n"
          ]
        }
      ]
    },
    {
      "cell_type": "code",
      "source": [
        "# RETURN VALUES\n",
        "\n",
        "def my_function(x):\n",
        "  return 5*x\n",
        "print(my_function(3))\n",
        "print(my_function(7))\n",
        "print(my_function(15))"
      ],
      "metadata": {
        "colab": {
          "base_uri": "https://localhost:8080/"
        },
        "id": "sO7A04cA10TK",
        "outputId": "120bb0fb-7ac4-4c11-8dbe-50eb415dfbc5"
      },
      "execution_count": null,
      "outputs": [
        {
          "output_type": "stream",
          "name": "stdout",
          "text": [
            "15\n",
            "35\n",
            "75\n"
          ]
        }
      ]
    },
    {
      "cell_type": "code",
      "source": [
        "def my_function(x):\n",
        "  return 10//x\n",
        "print(my_function(3))\n",
        "print(my_function(7))\n",
        "print(my_function(15))"
      ],
      "metadata": {
        "colab": {
          "base_uri": "https://localhost:8080/"
        },
        "id": "REcA0S034DVX",
        "outputId": "e0d5468a-bc49-4030-ee71-e6c6a9c89bf7"
      },
      "execution_count": null,
      "outputs": [
        {
          "output_type": "stream",
          "name": "stdout",
          "text": [
            "3\n",
            "1\n",
            "0\n"
          ]
        }
      ]
    },
    {
      "cell_type": "code",
      "source": [
        "def my_function(x):\n",
        "  return 2*x\n",
        "\n",
        "print(my_function(3))\n",
        "print(my_function(7))\n",
        "print(my_function(15))"
      ],
      "metadata": {
        "colab": {
          "base_uri": "https://localhost:8080/"
        },
        "id": "oHTcQWLk4HtV",
        "outputId": "b9abe968-7cfb-4265-a7dd-67a132812697"
      },
      "execution_count": null,
      "outputs": [
        {
          "output_type": "stream",
          "name": "stdout",
          "text": [
            "6\n",
            "14\n",
            "30\n"
          ]
        }
      ]
    },
    {
      "cell_type": "code",
      "source": [
        "#  THE PASS ATATEMENT\n",
        "# (put in the pass statement to avoid getting an error)\n",
        "def my_function():\n",
        "  pass"
      ],
      "metadata": {
        "id": "ADp2r5Zq4ZyN"
      },
      "execution_count": null,
      "outputs": []
    },
    {
      "cell_type": "code",
      "source": [
        "###########      TEST   INTERVIEW         ################################\n",
        "#  NUM=[4,5,11,6,7]\n",
        "#  find max number\n",
        "def sec_max(n):\n",
        "  max1=0\n",
        "  for i in n:\n",
        "    max1=max(max1,i)\n",
        "  n.remove(max1)\n",
        "  max2=0\n",
        "  for j in n:\n",
        "    max2=max(max2,j)\n",
        "  print(max2)\n",
        "num=[4,5,11,6,7]\n",
        "sec_max(num) "
      ],
      "metadata": {
        "colab": {
          "base_uri": "https://localhost:8080/"
        },
        "id": "kbzywUAZo-xU",
        "outputId": "f52cdccc-2f01-4f47-dc39-0e528732cd78"
      },
      "execution_count": null,
      "outputs": [
        {
          "output_type": "stream",
          "name": "stdout",
          "text": [
            "7\n"
          ]
        }
      ]
    },
    {
      "cell_type": "code",
      "source": [
        "#  remove zero in (1004) and replace 5\n",
        "# res= 1554\n",
        "def num():\n",
        "  a=1004\n",
        "  b=str(a)\n",
        "  for i in b:\n",
        "    if i=='0':\n",
        "      c=b.replace('0','5')\n",
        "  res=int(c)\n",
        "  print(res)\n",
        "  print(type(res))\n",
        "num()"
      ],
      "metadata": {
        "colab": {
          "base_uri": "https://localhost:8080/"
        },
        "id": "BSwLgrtQqoWh",
        "outputId": "d4539a0c-00ef-4e59-d965-ad2c5348acbb"
      },
      "execution_count": null,
      "outputs": [
        {
          "output_type": "stream",
          "name": "stdout",
          "text": [
            "1554\n",
            "<class 'int'>\n"
          ]
        }
      ]
    },
    {
      "cell_type": "code",
      "source": [
        "def num():\n",
        "  a=1004\n",
        "  b=str(a)\n",
        "  c=b.replace('0','5')\n",
        "  p=int(c)\n",
        "  print(p)\n",
        "  print(type(p))\n",
        "num()"
      ],
      "metadata": {
        "colab": {
          "base_uri": "https://localhost:8080/"
        },
        "id": "6LR1p9SrsbxW",
        "outputId": "63978b97-b9ab-4795-a89a-b6b57f9a86b9"
      },
      "execution_count": null,
      "outputs": [
        {
          "output_type": "stream",
          "name": "stdout",
          "text": [
            "1554\n",
            "<class 'int'>\n"
          ]
        }
      ]
    },
    {
      "cell_type": "code",
      "source": [
        "def count1(m):\n",
        "  p=[]\n",
        "  for i in range(len(m)):\n",
        "    c=0\n",
        "    j=i+1\n",
        "    while j<(len(m)):\n",
        "      if m[i]>m[j]:\n",
        "        c+=1\n",
        "      j+=1\n",
        "    p.append(c)\n",
        "  print(p)\n",
        "num=[12,1,2,3,0,11,4]\n",
        "count1(num)"
      ],
      "metadata": {
        "colab": {
          "base_uri": "https://localhost:8080/"
        },
        "id": "qEUHDpqxuAgc",
        "outputId": "67691f5f-578d-4dc1-ea86-e877c8782221"
      },
      "execution_count": null,
      "outputs": [
        {
          "output_type": "stream",
          "name": "stdout",
          "text": [
            "[6, 1, 1, 1, 0, 1, 0]\n"
          ]
        }
      ]
    },
    {
      "cell_type": "code",
      "source": [
        "#######  SIMPLE   QUESTIONS        ###################\n",
        "def sum(a,b):\n",
        "  print(a+b)\n",
        "sum(12,4)"
      ],
      "metadata": {
        "colab": {
          "base_uri": "https://localhost:8080/"
        },
        "id": "0xzp0HjrG0Uj",
        "outputId": "c184cbcd-2396-47ae-9d62-012724d5df54"
      },
      "execution_count": null,
      "outputs": [
        {
          "output_type": "stream",
          "name": "stdout",
          "text": [
            "16\n"
          ]
        }
      ]
    },
    {
      "cell_type": "code",
      "source": [
        "a=[1,33,4]\n",
        "print(a*2)"
      ],
      "metadata": {
        "colab": {
          "base_uri": "https://localhost:8080/"
        },
        "id": "VwzF0JKP2_ke",
        "outputId": "3b372a39-55dd-4830-dc89-4f439125bd72"
      },
      "execution_count": null,
      "outputs": [
        {
          "output_type": "stream",
          "name": "stdout",
          "text": [
            "[1, 33, 4, 1, 33, 4]\n"
          ]
        }
      ]
    },
    {
      "cell_type": "code",
      "source": [
        "def sum(a,r):\n",
        "  b=a+r\n",
        "  print(b)\n",
        "sum(2,7)"
      ],
      "metadata": {
        "colab": {
          "base_uri": "https://localhost:8080/"
        },
        "id": "rmvdkJ9oHv3Q",
        "outputId": "95dc899f-7893-44ab-b9a4-25db5b71c39a"
      },
      "execution_count": null,
      "outputs": [
        {
          "output_type": "stream",
          "name": "stdout",
          "text": [
            "9\n"
          ]
        }
      ]
    },
    {
      "cell_type": "code",
      "source": [
        "def sum():\n",
        "  a=3\n",
        "  b=6\n",
        "  print(a+b)\n",
        "sum()"
      ],
      "metadata": {
        "colab": {
          "base_uri": "https://localhost:8080/"
        },
        "id": "fMtvtn0_IDuk",
        "outputId": "980f9668-acb9-469b-e8a0-76065da33df1"
      },
      "execution_count": null,
      "outputs": [
        {
          "output_type": "stream",
          "name": "stdout",
          "text": [
            "9\n"
          ]
        }
      ]
    },
    {
      "cell_type": "code",
      "source": [
        "def pro():\n",
        "  a=8\n",
        "  b=3\n",
        "  c=a*b\n",
        "  \n",
        "  print(c)\n",
        "  return c\n",
        "print(pro())\n"
      ],
      "metadata": {
        "colab": {
          "base_uri": "https://localhost:8080/"
        },
        "id": "MzGsBuewIkZK",
        "outputId": "b6db8bfa-e0dc-45a7-f36a-43c617dd6e66"
      },
      "execution_count": null,
      "outputs": [
        {
          "output_type": "stream",
          "name": "stdout",
          "text": [
            "24\n",
            "24\n"
          ]
        }
      ]
    },
    {
      "cell_type": "code",
      "source": [
        "a=[[4,3,2],[4,6,8],[2,4,1]]\n",
        "b=[]\n",
        "i=0\n",
        "while i<len(a):\n",
        "  j=0\n",
        "  p=1\n",
        "  while j<len(a[i]):\n",
        "    p*=a[j][i]\n",
        "    j+=1\n",
        "  b.append(p)\n",
        "  i+=1\n",
        "print(b)"
      ],
      "metadata": {
        "colab": {
          "base_uri": "https://localhost:8080/"
        },
        "id": "-vnZNFtxeVcJ",
        "outputId": "1f90adc2-7ece-4cd2-fbf3-1ed522600aa3"
      },
      "execution_count": null,
      "outputs": [
        {
          "output_type": "stream",
          "name": "stdout",
          "text": [
            "[32, 72, 16]\n"
          ]
        }
      ]
    },
    {
      "cell_type": "code",
      "source": [
        "def expo(a,b):\n",
        "  print(a**b)\n",
        "expo(3,3)"
      ],
      "metadata": {
        "colab": {
          "base_uri": "https://localhost:8080/"
        },
        "id": "6Y3S5liyVZuj",
        "outputId": "8406de58-0271-4088-a835-499324b59bed"
      },
      "execution_count": null,
      "outputs": [
        {
          "output_type": "stream",
          "name": "stdout",
          "text": [
            "27\n"
          ]
        }
      ]
    },
    {
      "cell_type": "code",
      "source": [
        "def funt(a,b):\n",
        "  c=a+b\n",
        "  return c\n",
        "print(funt(4,8))\n",
        "\n"
      ],
      "metadata": {
        "colab": {
          "base_uri": "https://localhost:8080/"
        },
        "id": "W5PQWhnfik01",
        "outputId": "291af89c-93ec-425a-dd40-0131a337293c"
      },
      "execution_count": null,
      "outputs": [
        {
          "output_type": "stream",
          "name": "stdout",
          "text": [
            "12\n"
          ]
        }
      ]
    },
    {
      "cell_type": "code",
      "source": [
        "def sum():\n",
        "  a=4\n",
        "  b=5\n",
        "  x=a*b\n",
        "  print(x)\n",
        "print(sum())"
      ],
      "metadata": {
        "colab": {
          "base_uri": "https://localhost:8080/"
        },
        "id": "QGmW_i-6jqja",
        "outputId": "3c327c91-4bfb-4ab7-c293-9c3225c3711d"
      },
      "execution_count": null,
      "outputs": [
        {
          "output_type": "stream",
          "name": "stdout",
          "text": [
            "20\n",
            "None\n"
          ]
        }
      ]
    },
    {
      "cell_type": "code",
      "source": [
        "x=5\n",
        "def sum():\n",
        "  # x=3\n",
        "  y=9+x\n",
        "  # return x*y\n",
        "  print(y)\n",
        "print(sum())\n",
        "print(x)"
      ],
      "metadata": {
        "colab": {
          "base_uri": "https://localhost:8080/"
        },
        "id": "fIKwJ9oWkxzY",
        "outputId": "4ba0fa6b-5bad-4a5e-f4bf-fa367794bea6"
      },
      "execution_count": null,
      "outputs": [
        {
          "output_type": "stream",
          "name": "stdout",
          "text": [
            "14\n",
            "None\n",
            "5\n"
          ]
        }
      ]
    },
    {
      "cell_type": "code",
      "source": [
        "def add(a,b=5,c=10):\n",
        "    return (a+b+c)\n",
        "print(add(2))\n",
        "print(add(9,2))\n",
        "print(add(3,9,6))\n",
        "\n",
        "\n"
      ],
      "metadata": {
        "colab": {
          "base_uri": "https://localhost:8080/"
        },
        "id": "YjmoKn1IuRKX",
        "outputId": "ee220bad-0d5a-48bb-d8e1-de4eb0b4c973"
      },
      "execution_count": null,
      "outputs": [
        {
          "output_type": "stream",
          "name": "stdout",
          "text": [
            "17\n",
            "21\n",
            "18\n"
          ]
        }
      ]
    },
    {
      "cell_type": "code",
      "source": [],
      "metadata": {
        "id": "KmzcaFmupUpS"
      },
      "execution_count": null,
      "outputs": []
    },
    {
      "cell_type": "code",
      "source": [
        "def s():\n",
        "  x=8*3\n",
        "  return x\n",
        "print(s())\n",
        "y=s()\n",
        "print(y)"
      ],
      "metadata": {
        "colab": {
          "base_uri": "https://localhost:8080/"
        },
        "id": "1ntu7_WAo17u",
        "outputId": "97e09fdc-4fc0-4002-9337-68902e586bbe"
      },
      "execution_count": null,
      "outputs": [
        {
          "output_type": "stream",
          "name": "stdout",
          "text": [
            "24\n",
            "24\n"
          ]
        }
      ]
    },
    {
      "cell_type": "code",
      "source": [
        "def s():\n",
        "  x=5*4\n",
        "  print(x)\n",
        "  return x\n",
        "  \n",
        "print(s())"
      ],
      "metadata": {
        "colab": {
          "base_uri": "https://localhost:8080/"
        },
        "id": "UBj6qp7ppi1-",
        "outputId": "33a0e6b0-5c4b-4ca6-b2b0-0e1c4044ffe7"
      },
      "execution_count": null,
      "outputs": [
        {
          "output_type": "stream",
          "name": "stdout",
          "text": [
            "20\n",
            "20\n"
          ]
        }
      ]
    },
    {
      "cell_type": "code",
      "source": [
        "def div(a,b):\n",
        "  print(a//b)\n",
        "  return a\n",
        "print(div(10,5))"
      ],
      "metadata": {
        "colab": {
          "base_uri": "https://localhost:8080/"
        },
        "id": "GrQ3m358JDgA",
        "outputId": "d9ac6573-2937-47cb-daa1-c7e587450602"
      },
      "execution_count": null,
      "outputs": [
        {
          "output_type": "stream",
          "name": "stdout",
          "text": [
            "2\n",
            "10\n"
          ]
        }
      ]
    },
    {
      "cell_type": "code",
      "source": [
        "def sum(*a):\n",
        "  s=0\n",
        "  for i in a:\n",
        "    s+=i\n",
        "    print(s)\n",
        "sum(3,8)"
      ],
      "metadata": {
        "id": "KAgPpPipJiJS",
        "colab": {
          "base_uri": "https://localhost:8080/"
        },
        "outputId": "84181efe-b9be-47ad-b1a2-c38aacd6e106"
      },
      "execution_count": null,
      "outputs": [
        {
          "output_type": "stream",
          "name": "stdout",
          "text": [
            "11\n"
          ]
        }
      ]
    },
    {
      "cell_type": "code",
      "source": [
        "def pic(n):\n",
        "  for i in range(1,11):\n",
        "    print(i*n)\n",
        "pic(3)"
      ],
      "metadata": {
        "colab": {
          "base_uri": "https://localhost:8080/"
        },
        "id": "9T0Riz_hpEl9",
        "outputId": "1cb0ffca-8f30-4025-8e0d-e15a5bb57884"
      },
      "execution_count": null,
      "outputs": [
        {
          "output_type": "stream",
          "name": "stdout",
          "text": [
            "3\n",
            "6\n",
            "9\n",
            "12\n",
            "15\n",
            "18\n",
            "21\n",
            "24\n",
            "27\n",
            "30\n"
          ]
        }
      ]
    },
    {
      "cell_type": "code",
      "source": [
        "def tab(n):\n",
        "  for i in range(1,11):\n",
        "    print(n,\"*\",i,\"=\",n*i)\n",
        "tab(int(input(\"num :\")))"
      ],
      "metadata": {
        "colab": {
          "base_uri": "https://localhost:8080/"
        },
        "id": "Lnqb5CF8tX7e",
        "outputId": "2ef90a5f-6fff-45bd-b751-d1e96d75f68d"
      },
      "execution_count": null,
      "outputs": [
        {
          "output_type": "stream",
          "name": "stdout",
          "text": [
            "num :3\n",
            "3 * 1 = 3\n",
            "3 * 2 = 6\n",
            "3 * 3 = 9\n",
            "3 * 4 = 12\n",
            "3 * 5 = 15\n",
            "3 * 6 = 18\n",
            "3 * 7 = 21\n",
            "3 * 8 = 24\n",
            "3 * 9 = 27\n",
            "3 * 10 = 30\n"
          ]
        }
      ]
    },
    {
      "cell_type": "code",
      "source": [
        "def fun(a):\n",
        "  i=1\n",
        "  while i<=10:\n",
        "    j=a\n",
        "    while j<=(a+5):\n",
        "      print(j,\"*\",i,\"=\",j*i,end=\"     \")\n",
        "      j+=1\n",
        "    print('\\n')\n",
        "    i+=1\n",
        "fun(int(input(\"num :\")))"
      ],
      "metadata": {
        "colab": {
          "base_uri": "https://localhost:8080/"
        },
        "id": "gJyGv0O9vks5",
        "outputId": "8e6fa6bb-3f0b-4f19-e3be-f57260bb2e67"
      },
      "execution_count": null,
      "outputs": [
        {
          "output_type": "stream",
          "name": "stdout",
          "text": [
            "num :5\n",
            "5 * 1 = 5     6 * 1 = 6     7 * 1 = 7     8 * 1 = 8     9 * 1 = 9     10 * 1 = 10     \n",
            "\n",
            "5 * 2 = 10     6 * 2 = 12     7 * 2 = 14     8 * 2 = 16     9 * 2 = 18     10 * 2 = 20     \n",
            "\n",
            "5 * 3 = 15     6 * 3 = 18     7 * 3 = 21     8 * 3 = 24     9 * 3 = 27     10 * 3 = 30     \n",
            "\n",
            "5 * 4 = 20     6 * 4 = 24     7 * 4 = 28     8 * 4 = 32     9 * 4 = 36     10 * 4 = 40     \n",
            "\n",
            "5 * 5 = 25     6 * 5 = 30     7 * 5 = 35     8 * 5 = 40     9 * 5 = 45     10 * 5 = 50     \n",
            "\n",
            "5 * 6 = 30     6 * 6 = 36     7 * 6 = 42     8 * 6 = 48     9 * 6 = 54     10 * 6 = 60     \n",
            "\n",
            "5 * 7 = 35     6 * 7 = 42     7 * 7 = 49     8 * 7 = 56     9 * 7 = 63     10 * 7 = 70     \n",
            "\n",
            "5 * 8 = 40     6 * 8 = 48     7 * 8 = 56     8 * 8 = 64     9 * 8 = 72     10 * 8 = 80     \n",
            "\n",
            "5 * 9 = 45     6 * 9 = 54     7 * 9 = 63     8 * 9 = 72     9 * 9 = 81     10 * 9 = 90     \n",
            "\n",
            "5 * 10 = 50     6 * 10 = 60     7 * 10 = 70     8 * 10 = 80     9 * 10 = 90     10 * 10 = 100     \n",
            "\n"
          ]
        }
      ]
    },
    {
      "cell_type": "code",
      "source": [
        "################ MERAKIS  QUESTIONS         #####################\n",
        "\n",
        "\n",
        "def ask_question():\n",
        "  print(\"Once\")\n",
        "  \n",
        "ask_question()\n",
        "ask_question()\n",
        "ask_question()\n",
        "ask_question()\n",
        "ask_question()"
      ],
      "metadata": {
        "colab": {
          "base_uri": "https://localhost:8080/"
        },
        "id": "UY5o6a5gzPwR",
        "outputId": "231cefa9-8178-45cf-bc63-8a9a1d1c4424"
      },
      "execution_count": null,
      "outputs": [
        {
          "output_type": "stream",
          "name": "stdout",
          "text": [
            "Once\n",
            "Once\n",
            "Once\n",
            "Once\n",
            "Once\n"
          ]
        }
      ]
    },
    {
      "cell_type": "code",
      "source": [
        "def ask_question():\n",
        "  print(\"Once\")\n",
        "i=1\n",
        "while i<=5:\n",
        "  ask_question()\n",
        "  i+=1\n",
        "\n"
      ],
      "metadata": {
        "colab": {
          "base_uri": "https://localhost:8080/"
        },
        "id": "CWl2T3Xe5VMd",
        "outputId": "91a6e28e-4c74-4485-9118-5ee56522ed40"
      },
      "execution_count": null,
      "outputs": [
        {
          "output_type": "stream",
          "name": "stdout",
          "text": [
            "Once\n",
            "Once\n",
            "Once\n",
            "Once\n",
            "Once\n"
          ]
        }
      ]
    },
    {
      "cell_type": "code",
      "source": [
        "def ask_question():\n",
        "  print(\"Once\",end=\" ,\")\n",
        "i=1\n",
        "while i<=100:\n",
        "  ask_question()\n",
        "  i+=1"
      ],
      "metadata": {
        "colab": {
          "base_uri": "https://localhost:8080/"
        },
        "id": "pstJ8LLH4Q5x",
        "outputId": "72be701b-ba9f-4e3f-90ce-fa01c192bd4e"
      },
      "execution_count": null,
      "outputs": [
        {
          "output_type": "stream",
          "name": "stdout",
          "text": [
            "Once ,Once ,Once ,Once ,Once ,Once ,Once ,Once ,Once ,Once ,Once ,Once ,Once ,Once ,Once ,Once ,Once ,Once ,Once ,Once ,Once ,Once ,Once ,Once ,Once ,Once ,Once ,Once ,Once ,Once ,Once ,Once ,Once ,Once ,Once ,Once ,Once ,Once ,Once ,Once ,Once ,Once ,Once ,Once ,Once ,Once ,Once ,Once ,Once ,Once ,Once ,Once ,Once ,Once ,Once ,Once ,Once ,Once ,Once ,Once ,Once ,Once ,Once ,Once ,Once ,Once ,Once ,Once ,Once ,Once ,Once ,Once ,Once ,Once ,Once ,Once ,Once ,Once ,Once ,Once ,Once ,Once ,Once ,Once ,Once ,Once ,Once ,Once ,Once ,Once ,Once ,Once ,Once ,Once ,Once ,Once ,Once ,Once ,Once ,Once ,"
          ]
        }
      ]
    },
    {
      "cell_type": "code",
      "source": [
        "def maximum(m):\n",
        "  print(max(m))\n",
        "num=[3,5,7,34,2,89,2,5]\n",
        "maximum(num)"
      ],
      "metadata": {
        "colab": {
          "base_uri": "https://localhost:8080/"
        },
        "id": "oSSdoCrA6iGH",
        "outputId": "1c05854b-2389-4afd-bd62-85a032019a04"
      },
      "execution_count": null,
      "outputs": [
        {
          "output_type": "stream",
          "name": "stdout",
          "text": [
            "89\n"
          ]
        }
      ]
    },
    {
      "cell_type": "code",
      "source": [
        "print(sum(2,4,7,8,5,4,11))"
      ],
      "metadata": {
        "colab": {
          "base_uri": "https://localhost:8080/"
        },
        "id": "wRKqUfLH-4N-",
        "outputId": "22f51187-e247-4a5c-a1ca-15480f19503d"
      },
      "execution_count": null,
      "outputs": [
        {
          "output_type": "stream",
          "name": "stdout",
          "text": [
            "41\n",
            "None\n"
          ]
        }
      ]
    },
    {
      "cell_type": "code",
      "source": [
        "def my_sum(n):\n",
        "  s=0\n",
        "  for i in n:\n",
        "    s+=i\n",
        "  print(s)\n",
        "num=[2,6,7,6,4,3,2]\n",
        "my_sum(num)"
      ],
      "metadata": {
        "colab": {
          "base_uri": "https://localhost:8080/"
        },
        "id": "Jf_13E-NCQhY",
        "outputId": "6f12e2ec-9b19-4a85-833b-a50e729e0594"
      },
      "execution_count": null,
      "outputs": [
        {
          "output_type": "stream",
          "name": "stdout",
          "text": [
            "30\n"
          ]
        }
      ]
    },
    {
      "cell_type": "code",
      "source": [],
      "metadata": {
        "id": "-CWGObeHhjsm"
      },
      "execution_count": null,
      "outputs": []
    },
    {
      "cell_type": "code",
      "source": [
        "def my_sum(n):\n",
        "  s=0\n",
        "  for i in n:\n",
        "    s+=i\n",
        "  print(s)\n",
        "num=[1,2,3,4,5]\n",
        "my_sum(num)"
      ],
      "metadata": {
        "colab": {
          "base_uri": "https://localhost:8080/"
        },
        "id": "CZ9DX4cCQhqe",
        "outputId": "0577ce17-7d63-45bc-f0f2-bc8315be4130"
      },
      "execution_count": null,
      "outputs": [
        {
          "output_type": "stream",
          "name": "stdout",
          "text": [
            "15\n"
          ]
        }
      ]
    },
    {
      "cell_type": "code",
      "source": [
        "#    Using sort function sort the given list\n",
        "def short(s):\n",
        "  s.sort()\n",
        "  print(s)\n",
        "unorder_list = [6, 8, 4, 3, 9, 56, 0, 34, 7, 15]\n",
        "short(unorder_list)"
      ],
      "metadata": {
        "colab": {
          "base_uri": "https://localhost:8080/"
        },
        "id": "0YqmaNv9Q5UL",
        "outputId": "479dca34-e231-4a5a-ee97-99ae23cce924"
      },
      "execution_count": null,
      "outputs": [
        {
          "output_type": "stream",
          "name": "stdout",
          "text": [
            "[0, 3, 4, 6, 7, 8, 9, 15, 34, 56]\n"
          ]
        }
      ]
    },
    {
      "cell_type": "code",
      "source": [
        "l = [6, 8, 4, 3, 9, 56, 0, 34, 7, 15]\n",
        "print(l.sort())"
      ],
      "metadata": {
        "colab": {
          "base_uri": "https://localhost:8080/"
        },
        "id": "yw2LjwMoS7lu",
        "outputId": "7972fcc9-e656-4d9e-f2e1-bf3d8ddb7050"
      },
      "execution_count": null,
      "outputs": [
        {
          "output_type": "stream",
          "name": "stdout",
          "text": [
            "None\n"
          ]
        }
      ]
    },
    {
      "cell_type": "code",
      "source": [
        "###       By using reverse function print the reverse order of the list.\n",
        "def reverse(rev):\n",
        "  print(rev[-1::-1])\n",
        "reverse_list = [\"Z\", \"A\", \"A\", \"B\", \"E\", \"M\", \"A\", \"R\", \"D\"]\n",
        "reverse(reverse_list)\n"
      ],
      "metadata": {
        "colab": {
          "base_uri": "https://localhost:8080/"
        },
        "id": "O9Z5E57MUK4Z",
        "outputId": "87227474-68e2-46b9-e5c6-8959f15b0899"
      },
      "execution_count": null,
      "outputs": [
        {
          "output_type": "stream",
          "name": "stdout",
          "text": [
            "['D', 'R', 'A', 'M', 'E', 'B', 'A', 'A', 'Z']\n"
          ]
        }
      ]
    },
    {
      "cell_type": "code",
      "source": [
        "def reverse(rev):\n",
        "  rev.sort(reverse=True)\n",
        "  print(rev)\n",
        "reverse_list = [\"Z\", \"A\", \"A\", \"B\", \"E\", \"M\", \"A\", \"R\", \"D\"]\n",
        "reverse(reverse_list)"
      ],
      "metadata": {
        "colab": {
          "base_uri": "https://localhost:8080/"
        },
        "id": "k6stFNEiUyYo",
        "outputId": "5540e1bf-93b5-4ebf-ecfa-0e46d7fe9ff6"
      },
      "execution_count": null,
      "outputs": [
        {
          "output_type": "stream",
          "name": "stdout",
          "text": [
            "['Z', 'R', 'M', 'E', 'D', 'B', 'A', 'A', 'A']\n"
          ]
        }
      ]
    },
    {
      "cell_type": "code",
      "source": [
        "def reverse(rev):\n",
        "  rev.reverse()\n",
        "  print(rev)\n",
        "reverse_list = [\"Z\", \"A\", \"A\", \"B\", \"E\", \"M\", \"A\", \"R\", \"D\"]\n",
        "reverse(reverse_list)"
      ],
      "metadata": {
        "colab": {
          "base_uri": "https://localhost:8080/"
        },
        "id": "_AfIPviAXc2m",
        "outputId": "24604bf6-29bd-4278-a723-f8070194e325"
      },
      "execution_count": null,
      "outputs": [
        {
          "output_type": "stream",
          "name": "stdout",
          "text": [
            "['D', 'R', 'A', 'M', 'E', 'B', 'A', 'A', 'Z']\n"
          ]
        }
      ]
    },
    {
      "cell_type": "code",
      "source": [
        "##   Use the min function and find the minimun value of the list.\n",
        "def min1(m):\n",
        "  print(min(m))\n",
        "list = [8, 6, 4, 8, 4, 50, 2, 7]\n",
        "min(list)"
      ],
      "metadata": {
        "colab": {
          "base_uri": "https://localhost:8080/"
        },
        "id": "BofmW2GDYdSq",
        "outputId": "fd2bcef4-9546-482b-be19-358716cec617"
      },
      "execution_count": null,
      "outputs": [
        {
          "output_type": "execute_result",
          "data": {
            "text/plain": [
              "2"
            ]
          },
          "metadata": {},
          "execution_count": 4
        }
      ]
    },
    {
      "cell_type": "code",
      "source": [
        "def sum():\n",
        "    print(12+13)\n",
        "sum()"
      ],
      "metadata": {
        "colab": {
          "base_uri": "https://localhost:8080/"
        },
        "id": "B9xH1d0hYcOt",
        "outputId": "0bfebf86-3ce8-465e-bc7d-7f863e7a68fd"
      },
      "execution_count": null,
      "outputs": [
        {
          "output_type": "stream",
          "name": "stdout",
          "text": [
            "25\n"
          ]
        }
      ]
    },
    {
      "cell_type": "code",
      "source": [
        "\n",
        "def welcome():\n",
        "    print(\"Welcome to function\")\n",
        "welcome()"
      ],
      "metadata": {
        "colab": {
          "base_uri": "https://localhost:8080/"
        },
        "id": "uSc4Hz7kanHd",
        "outputId": "3f62d292-8afd-48df-8101-a808e83f27fd"
      },
      "execution_count": null,
      "outputs": [
        {
          "output_type": "stream",
          "name": "stdout",
          "text": [
            "Welcome to function\n"
          ]
        }
      ]
    },
    {
      "cell_type": "code",
      "source": [
        "def isEven():\n",
        "  if(12%2==0):\n",
        "    print(\"Even number\")\n",
        "  else:\n",
        "    print(\"Odd number\")\n",
        "\n",
        "isEven()\n",
        "\n",
        " "
      ],
      "metadata": {
        "colab": {
          "base_uri": "https://localhost:8080/"
        },
        "id": "GqUFzUiQZG5g",
        "outputId": "7b60c382-8b5b-48f9-d771-50582a00b958"
      },
      "execution_count": null,
      "outputs": [
        {
          "output_type": "stream",
          "name": "stdout",
          "text": [
            "Even number\n"
          ]
        }
      ]
    },
    {
      "cell_type": "code",
      "source": [
        "\n",
        "numbers_list = [1, 2, 3, 4, 5, 6, 7, 10, -2]\n",
        "print(max(numbers_list))\n",
        "print(min(numbers_list))\n",
        "print(len(numbers_list))"
      ],
      "metadata": {
        "colab": {
          "base_uri": "https://localhost:8080/"
        },
        "id": "Sv-jiScPY_XZ",
        "outputId": "afef655e-6547-4a28-a485-306684e06ab0"
      },
      "execution_count": null,
      "outputs": [
        {
          "output_type": "stream",
          "name": "stdout",
          "text": [
            "10\n",
            "-2\n",
            "9\n"
          ]
        }
      ]
    },
    {
      "cell_type": "code",
      "source": [
        "\n",
        "def say_hello(name):\n",
        "    print(\"Hello\",name)\n",
        "    print(\"How are you?\")\n",
        "say_hello(\"pinki\")"
      ],
      "metadata": {
        "colab": {
          "base_uri": "https://localhost:8080/"
        },
        "id": "0SvCWLvNY7L_",
        "outputId": "60ca8c63-c76d-4463-c6d4-51ae996a5507"
      },
      "execution_count": null,
      "outputs": [
        {
          "output_type": "stream",
          "name": "stdout",
          "text": [
            "Hello pinki\n",
            "How are you?\n"
          ]
        }
      ]
    },
    {
      "cell_type": "code",
      "source": [
        "\n",
        "def ask_question(n):\n",
        "    print(n)\n",
        "    return n\n",
        "ask_question(\"pinki\")"
      ],
      "metadata": {
        "colab": {
          "base_uri": "https://localhost:8080/",
          "height": 53
        },
        "id": "xvNOS5U0Y3q1",
        "outputId": "799537bf-7953-466d-fadb-fba9a5870f63"
      },
      "execution_count": null,
      "outputs": [
        {
          "output_type": "stream",
          "name": "stdout",
          "text": [
            "pinki\n"
          ]
        },
        {
          "output_type": "execute_result",
          "data": {
            "text/plain": [
              "'pinki'"
            ],
            "application/vnd.google.colaboratory.intrinsic+json": {
              "type": "string"
            }
          },
          "metadata": {},
          "execution_count": 9
        }
      ]
    },
    {
      "cell_type": "code",
      "source": [
        "def max1(m): \n",
        "    print(max(m))\n",
        "    return m\n",
        "num=[1,5,76,5,3]\n",
        "max1(num)\n"
      ],
      "metadata": {
        "colab": {
          "base_uri": "https://localhost:8080/"
        },
        "id": "uvs_G1YvYzTG",
        "outputId": "c8f6bad6-a42b-47d4-8a72-9a52a97ba994"
      },
      "execution_count": null,
      "outputs": [
        {
          "output_type": "stream",
          "name": "stdout",
          "text": [
            "76\n"
          ]
        },
        {
          "output_type": "execute_result",
          "data": {
            "text/plain": [
              "[1, 5, 76, 5, 3]"
            ]
          },
          "metadata": {},
          "execution_count": 8
        }
      ]
    },
    {
      "cell_type": "code",
      "source": [
        "\n",
        "def min1(m): \n",
        "    print(min(m))\n",
        "    return m\n",
        "num=[1,5,76,5,3]\n",
        "min1(num)"
      ],
      "metadata": {
        "colab": {
          "base_uri": "https://localhost:8080/"
        },
        "id": "UlRjs_ExYtla",
        "outputId": "a8b61bd1-2010-4bf4-d84e-a203714c9d11"
      },
      "execution_count": null,
      "outputs": [
        {
          "output_type": "stream",
          "name": "stdout",
          "text": [
            "1\n"
          ]
        },
        {
          "output_type": "execute_result",
          "data": {
            "text/plain": [
              "[1, 5, 76, 5, 3]"
            ]
          },
          "metadata": {},
          "execution_count": 7
        }
      ]
    },
    {
      "cell_type": "code",
      "source": [
        "\n",
        "def sum1(m): \n",
        "    print(sum(m))\n",
        "    return m\n",
        "num=[1,5,76,5,3]\n",
        "sum1(num)"
      ],
      "metadata": {
        "colab": {
          "base_uri": "https://localhost:8080/"
        },
        "id": "HMjU1At4Yj-8",
        "outputId": "92821eb1-8516-46b8-dacd-120cb3f5eb63"
      },
      "execution_count": null,
      "outputs": [
        {
          "output_type": "stream",
          "name": "stdout",
          "text": [
            "90\n"
          ]
        },
        {
          "output_type": "execute_result",
          "data": {
            "text/plain": [
              "[1, 5, 76, 5, 3]"
            ]
          },
          "metadata": {},
          "execution_count": 6
        }
      ]
    },
    {
      "cell_type": "code",
      "source": [
        "##########  DOCS QUESTION     ###########################\n",
        "def sort1(m): \n",
        "    m.sort()\n",
        "    print(m)\n",
        "    return m\n",
        "num=[1,5,76,5,3]\n",
        "sort1(num)\n"
      ],
      "metadata": {
        "colab": {
          "base_uri": "https://localhost:8080/"
        },
        "id": "AslqOud9YeVT",
        "outputId": "2f488d25-6345-44d3-83b1-4ede339fe30c"
      },
      "execution_count": null,
      "outputs": [
        {
          "output_type": "stream",
          "name": "stdout",
          "text": [
            "[1, 3, 5, 5, 76]\n"
          ]
        },
        {
          "output_type": "execute_result",
          "data": {
            "text/plain": [
              "[1, 3, 5, 5, 76]"
            ]
          },
          "metadata": {},
          "execution_count": 10
        }
      ]
    },
    {
      "cell_type": "code",
      "source": [
        "# Q2. Write a Python function to find the Max of three numbers.\n",
        "def max1(a,b,c):\n",
        "  print(max(a,b,c))\n",
        "max(3,8,9)\n"
      ],
      "metadata": {
        "colab": {
          "base_uri": "https://localhost:8080/"
        },
        "id": "V7bJtuTQ2mTh",
        "outputId": "6f92c962-fae7-488e-c744-1dd4b69864cd"
      },
      "execution_count": null,
      "outputs": [
        {
          "output_type": "execute_result",
          "data": {
            "text/plain": [
              "9"
            ]
          },
          "metadata": {},
          "execution_count": 1
        }
      ]
    },
    {
      "cell_type": "code",
      "source": [
        "# Q3.Write a Python function to sum all the numbers in a list.\n",
        "# Sample List : (8, 2, 3, 0, 7)\n",
        "# Output : 20.\n",
        "def sum1(s):\n",
        "  print(sum(s))\n",
        "list=(8,2,3,0,7)\n",
        "sum1(list)"
      ],
      "metadata": {
        "colab": {
          "base_uri": "https://localhost:8080/"
        },
        "id": "WwRQGkK_Pq08",
        "outputId": "70b50329-9042-4b40-fce4-440a5279351a"
      },
      "execution_count": null,
      "outputs": [
        {
          "output_type": "stream",
          "name": "stdout",
          "text": [
            "20\n"
          ]
        }
      ]
    },
    {
      "cell_type": "code",
      "source": [
        "# Q4.Write a Python program to reverse a string.\n",
        "# Sample String : \"1234abcd\"\n",
        "# Output : \"dcba4321\".\n",
        "def rev(r):\n",
        "  rever=\"\"\n",
        "  for i in range(-1,-(len(r)+1),-1):\n",
        "    rever+=r[i]\n",
        "  print(rever)\n",
        "rev('1234abcd')"
      ],
      "metadata": {
        "colab": {
          "base_uri": "https://localhost:8080/"
        },
        "id": "ZS4V2ZI_QLtp",
        "outputId": "fe8d24ee-b318-47f6-d57e-b062f975a7bc"
      },
      "execution_count": null,
      "outputs": [
        {
          "output_type": "stream",
          "name": "stdout",
          "text": [
            "dcba4321\n"
          ]
        }
      ]
    },
    {
      "cell_type": "code",
      "source": [
        "# Q.5 takes a list and returns a new list with unique elements of the first list.\n",
        "# Sample List : [1,2,3,3,3,3,4,5]\n",
        "# Unique List : [1, 2, 3, 4, 5].\n",
        "\n",
        "def unique(u):\n",
        "  unique_list=[]\n",
        "  for i in range(len(u)):\n",
        "    if u[i] not in unique_list:\n",
        "      unique_list.append(u[i])\n",
        "  print(unique_list)\n",
        "list=[1,2,3,3,3,3,4,5]\n",
        "unique(list)"
      ],
      "metadata": {
        "colab": {
          "base_uri": "https://localhost:8080/"
        },
        "id": "gqqosdceeE3a",
        "outputId": "c1dd8db1-fdc0-4512-9d19-f321e7ebafb9"
      },
      "execution_count": null,
      "outputs": [
        {
          "output_type": "stream",
          "name": "stdout",
          "text": [
            "[1, 2, 3, 4, 5]\n"
          ]
        }
      ]
    },
    {
      "cell_type": "code",
      "source": [
        "# Q6.Write a Python program to print the even numbers from a given list.\n",
        "# Sample List : [1, 2, 3, 4, 5, 6, 7, 8, 9]\n",
        "# Expected Result : [2, 4, 6, 8].\n",
        "def res(result):\n",
        "  p=[]\n",
        "  for i in range(len(result)):\n",
        "    if result[i]%2==0:\n",
        "      p.append(result[i])\n",
        "  print(p)\n",
        "list=[1,2,3,4,5,6,7,8,9]\n",
        "res(list)\n"
      ],
      "metadata": {
        "colab": {
          "base_uri": "https://localhost:8080/"
        },
        "id": "uXf-4MjagHYi",
        "outputId": "4cac1c39-1b0d-4206-d8e3-6221a43ef793"
      },
      "execution_count": null,
      "outputs": [
        {
          "output_type": "stream",
          "name": "stdout",
          "text": [
            "[2, 4, 6, 8]\n"
          ]
        }
      ]
    },
    {
      "cell_type": "code",
      "source": [
        "# Q7.Write function bmi that calculates body mass index (bmi = weight / height2).\n",
        "# if bmi <= 18.5 return \"Underweight\"\n",
        "# if bmi <= 25.0 return \"Normal\"\n",
        "# if bmi <= 30.0 return \"Overweight\"\n",
        "# if bmi > 30 return \"Obese\"\n",
        "\n",
        "def bmi(w,h):\n",
        "  bmi_m=w/h**2\n",
        "  if bmi_m<=18.5:\n",
        "    print(\"Underweight\")\n",
        "  elif bmi_m<=25.0:\n",
        "    print(\"Normal\")\n",
        "  elif bmi_m<=30.0:\n",
        "    print(\"Overweight\")\n",
        "  else:\n",
        "    print(\"Obese\")\n",
        "bmi(float(input(\"enter weight : \")),float(input(\"enter height : \")))"
      ],
      "metadata": {
        "colab": {
          "base_uri": "https://localhost:8080/"
        },
        "id": "cbUirM-5k7s_",
        "outputId": "50d77973-9865-4a20-a16f-6a81383c5c58"
      },
      "execution_count": null,
      "outputs": [
        {
          "output_type": "stream",
          "name": "stdout",
          "text": [
            "enter weight : 45\n",
            "enter height : 5.5\n",
            "Underweight\n"
          ]
        }
      ]
    },
    {
      "cell_type": "code",
      "source": [
        "# Q8.Write a Python function that accepts a string and calculate the number of upper case letters and lower case letters. Go to the editor\n",
        "# Sample String : 'The quick Brow Fox'\n",
        "# Expected Output :\n",
        "# No. of Uppercase characters : 3\n",
        "# No. of Lower case Characters : 12\n",
        "def str1(s):\n",
        "  c_l=0\n",
        "  c_u=0\n",
        "  for i in range(len(s)):\n",
        "    if s[i]>='A' and s[i]<='Z':\n",
        "      c_u+=1\n",
        "    elif s[i]>='a' and s[i]<='z':\n",
        "      c_l+=1\n",
        "    else:\n",
        "      True    \n",
        "  print('No. of Uppercase characters :',c_u)\n",
        "  print('No. of Lowerrcase characters :',c_l)\n",
        "str1(input(\"Enter the word :\"))\n"
      ],
      "metadata": {
        "colab": {
          "base_uri": "https://localhost:8080/"
        },
        "id": "pO1SjFUPtbQ1",
        "outputId": "213cb7f5-1752-4bdf-ac77-7a504706e6a7"
      },
      "execution_count": null,
      "outputs": [
        {
          "output_type": "stream",
          "name": "stdout",
          "text": [
            "Enter the word :Miss Pinki Kumari\n",
            "No. of Uppercase characters : 3\n",
            "No. of Lowerrcase characters : 12\n"
          ]
        }
      ]
    },
    {
      "cell_type": "code",
      "source": [
        "# Q9.Write a Python program to generate and print a list of first and last 5 elements where \n",
        "#   the values are square of numbers between 1 and 30 (both included).\n",
        "# Output :-([1, 4, 9, 16, 25], [676, 729, 784, 841, 900]).\n",
        "\n"
      ],
      "metadata": {
        "id": "c6SExnhbuPB1"
      },
      "execution_count": null,
      "outputs": []
    },
    {
      "cell_type": "code",
      "source": [
        "# Q10.Create a function that takes 2 positive integers in form of a string as an input, and outputs the sum (also as a string):\n",
        "\n",
        "# \"4\",  \"5\" --> \"9\"\n",
        "# \"34\", \"5\" --> \"39\"\n",
        "# Notes:\n",
        "\n",
        "def sum1(a,b):\n",
        "  if a ==\"\":\n",
        "    a=0\n",
        "  elif b==\"\":\n",
        "    b=0\n",
        "  c=int(a)+int(b)\n",
        "  c=str(c)\n",
        "  print(c)\n",
        "  print(type(c))\n",
        "\n",
        "\n",
        "sum1(input(\"enter num :\"),input(\"enter num :\"))\n",
        "  "
      ],
      "metadata": {
        "colab": {
          "base_uri": "https://localhost:8080/"
        },
        "id": "dSQng_pWu68Q",
        "outputId": "758f74f1-3967-4d7d-86cf-27815969e0a0"
      },
      "execution_count": null,
      "outputs": [
        {
          "output_type": "stream",
          "name": "stdout",
          "text": [
            "enter num :\n",
            "enter num :6\n",
            "6\n",
            "<class 'str'>\n"
          ]
        }
      ]
    },
    {
      "cell_type": "code",
      "source": [
        "# Q11.Implement a function named generateRange(min, max, step), which takes three arguments and generates a range of integers from min to max, with the step. The first integer is the minimum value, the second is the maximum of the range and the third is the step. (min < max)\n",
        "\n",
        "# Task\n",
        "# Implement a function named\n",
        "\n",
        "# generate_range(2, 10, 2) # should return list of [2,4,6,8,10]\n",
        "# generate_range(1, 10, 3) # should return list of [1,4,7,10]\n",
        "# generate_range(2, 10, 2) # should return array of [2, 4, 6, 8, 10]\n",
        "# generate_range(1, 10, 3) # should return array of [1, 4, 7, 10]\n",
        "# Note\n",
        "# min < max\n",
        "# step > 0\n",
        "# the range does not HAVE to include max (depending on the step)\n",
        "\n",
        "def num(min1,max1,step1):\n",
        "  p=[]\n",
        "  for i in range(min1,max1,step1):\n",
        "    p.append(i)\n",
        "  print(p)\n",
        "num(int(input(\"num :\")),int(input(\"num :\")),int(input(\"num :\")))\n"
      ],
      "metadata": {
        "colab": {
          "base_uri": "https://localhost:8080/"
        },
        "id": "Cd4Hk5FwztVg",
        "outputId": "e3231337-6785-4b14-d586-94bee6ce007e"
      },
      "execution_count": null,
      "outputs": [
        {
          "output_type": "stream",
          "name": "stdout",
          "text": [
            "num :1\n",
            "num :8\n",
            "num :2\n",
            "[1, 3, 5, 7]\n"
          ]
        }
      ]
    },
    {
      "cell_type": "code",
      "source": [
        "# Q12.Numbers ending with zeros are boring.\n",
        "\n",
        "# They might be fun in your world, but not here.\n",
        "\n",
        "# Get rid of them. Only the ending ones.\n",
        "\n",
        "# 1450 -> 145\n",
        "# 960000 -> 96\n",
        "# 1050 -> 105\n",
        "# -1050 -> -105\n",
        "\n",
        "def zero(z):\n",
        "  for i in range(len(z)):\n",
        "    a=int(z)%10\n",
        "    if a>0:\n",
        "      print(z)\n",
        "      break\n",
        "    z=int(z)//10\n",
        "\n",
        "zero(input(\"num :\"))"
      ],
      "metadata": {
        "colab": {
          "base_uri": "https://localhost:8080/"
        },
        "id": "Vh8ICZqq2j_l",
        "outputId": "f42e72bc-bbe1-483f-ad31-17ab851d7877"
      },
      "execution_count": null,
      "outputs": [
        {
          "output_type": "stream",
          "name": "stdout",
          "text": [
            "num :1200\n",
            "12\n"
          ]
        }
      ]
    },
    {
      "cell_type": "code",
      "source": [
        "# Q13.Write a function to check if a number is even or not.\n",
        "def even(num):\n",
        "  if num%2==0:\n",
        "    print(\"this is a Even number\")\n",
        "  else:\n",
        "    print(\"this is NOT Even number\")\n",
        "even(int(input(\"enter num :\")))"
      ],
      "metadata": {
        "colab": {
          "base_uri": "https://localhost:8080/"
        },
        "id": "b-o1krFK85N1",
        "outputId": "cb7dbdfb-cefd-4ed2-e65c-db090d229a8a"
      },
      "execution_count": null,
      "outputs": [
        {
          "output_type": "stream",
          "name": "stdout",
          "text": [
            "enter num :67\n",
            "this is NOT Even number\n"
          ]
        }
      ]
    },
    {
      "cell_type": "code",
      "source": [
        "# Q14.Write a function to check if a number is prime or not.\n",
        "def prime(p):\n",
        "  if p%2==0 or p==2:\n",
        "    print(\"NOT prime\")\n",
        "  else:\n",
        "    c=0\n",
        "    for i in range(3,p//2):\n",
        "      if p%i==0:\n",
        "        c+=1\n",
        "    if c==0:\n",
        "      print(\"prime number\")\n",
        "    else:\n",
        "      print(\"Not prime\")\n",
        "\n",
        "prime(int(input(\"num :\")))\n",
        "\n"
      ],
      "metadata": {
        "colab": {
          "base_uri": "https://localhost:8080/"
        },
        "id": "Ya_fMDpR9cLR",
        "outputId": "26b7fee7-729d-42b9-a295-1ca808ce63fb"
      },
      "execution_count": null,
      "outputs": [
        {
          "output_type": "stream",
          "name": "stdout",
          "text": [
            "num :99\n",
            "Not prime\n"
          ]
        }
      ]
    },
    {
      "cell_type": "code",
      "source": [
        "# Q15.Write a function to calculate power of a number raised to other ( ab ) .\n",
        "def power(p,q):\n",
        "  print(p**q)\n",
        "power(int(input(\"enter num :\")),int(input(\"enter power :\")))\n",
        "\n"
      ],
      "metadata": {
        "id": "gZxdspWX9fCn",
        "colab": {
          "base_uri": "https://localhost:8080/"
        },
        "outputId": "e680af05-8bd6-4e41-e748-49c3522db5e7"
      },
      "execution_count": null,
      "outputs": [
        {
          "output_type": "stream",
          "name": "stdout",
          "text": [
            "enter num :2\n",
            "enter power :4\n",
            "16\n"
          ]
        }
      ]
    },
    {
      "cell_type": "code",
      "source": [
        "# Q16.Print multiplication table of 12 using function.\n",
        "def tab(n):\n",
        "  for i in range(1,11):\n",
        "    print(n,\"*\",i,\"=\",n*i)\n",
        "tab(int(input(\"num :\")))\n"
      ],
      "metadata": {
        "colab": {
          "base_uri": "https://localhost:8080/"
        },
        "id": "0vmKxIOP9hwO",
        "outputId": "915c67d1-28d3-45e8-c656-58da88a485dc"
      },
      "execution_count": null,
      "outputs": [
        {
          "output_type": "stream",
          "name": "stdout",
          "text": [
            "num :19\n",
            "19 * 1 = 19\n",
            "19 * 2 = 38\n",
            "19 * 3 = 57\n",
            "19 * 4 = 76\n",
            "19 * 5 = 95\n",
            "19 * 6 = 114\n",
            "19 * 7 = 133\n",
            "19 * 8 = 152\n",
            "19 * 9 = 171\n",
            "19 * 10 = 190\n"
          ]
        }
      ]
    },
    {
      "cell_type": "code",
      "source": [
        "# Q17. Write a function to tell user if he/she is able to vote or not.( Consider minimum age of voting to be 18. )\n",
        "def vote(v):\n",
        "  if v>=18:\n",
        "    print(\"You are able to VOTE\")\n",
        "  else:\n",
        "    print(\"You are NOT able to VOTE\")\n",
        "vote(int(input(\"enter your age :\")))"
      ],
      "metadata": {
        "colab": {
          "base_uri": "https://localhost:8080/"
        },
        "id": "FZU9yrM85J7N",
        "outputId": "1386bd0a-e833-4391-fcbe-c4f6196fa486"
      },
      "execution_count": null,
      "outputs": [
        {
          "output_type": "stream",
          "name": "stdout",
          "text": [
            "enter your age :22\n",
            "You are able to VOTE\n"
          ]
        }
      ]
    },
    {
      "cell_type": "code",
      "source": [
        "##  Q.19  ################\n",
        "def func(x=1,y=2):\n",
        "  x=x+y\n",
        "  y+=1\n",
        "  print(x,y)\n",
        "func(y=2,x=1)"
      ],
      "metadata": {
        "colab": {
          "base_uri": "https://localhost:8080/"
        },
        "id": "miSmwA7p9KHP",
        "outputId": "0f786989-7f29-4b55-f20d-0e366081b98d"
      },
      "execution_count": null,
      "outputs": [
        {
          "output_type": "stream",
          "name": "stdout",
          "text": [
            "3 3\n"
          ]
        }
      ]
    },
    {
      "cell_type": "code",
      "source": [
        "##  Q.20  #################\n",
        "num=1\n",
        "def func():\n",
        "  num=3\n",
        "  print(num)\n",
        "func()\n",
        "print(num)"
      ],
      "metadata": {
        "colab": {
          "base_uri": "https://localhost:8080/"
        },
        "id": "INMss61lCmmB",
        "outputId": "e02ad38a-9730-44ec-81b4-9f681abf6267"
      },
      "execution_count": null,
      "outputs": [
        {
          "output_type": "stream",
          "name": "stdout",
          "text": [
            "3\n",
            "1\n"
          ]
        }
      ]
    },
    {
      "cell_type": "code",
      "source": [
        "##  Q.21  #################\n",
        "num=1\n",
        "def func():\n",
        "  num+=3\n",
        "  print(num)\n",
        "func()\n",
        "print(num)"
      ],
      "metadata": {
        "colab": {
          "base_uri": "https://localhost:8080/",
          "height": 341
        },
        "id": "tr1Iwy-dD9XA",
        "outputId": "5a4d9634-23e7-4255-fbe4-214240070d31"
      },
      "execution_count": null,
      "outputs": [
        {
          "output_type": "error",
          "ename": "UnboundLocalError",
          "evalue": "ignored",
          "traceback": [
            "\u001b[0;31m---------------------------------------------------------------------------\u001b[0m",
            "\u001b[0;31mUnboundLocalError\u001b[0m                         Traceback (most recent call last)",
            "\u001b[0;32m<ipython-input-11-a452ad0f26ce>\u001b[0m in \u001b[0;36m<module>\u001b[0;34m()\u001b[0m\n\u001b[1;32m      4\u001b[0m   \u001b[0mnum\u001b[0m\u001b[0;34m+=\u001b[0m\u001b[0;36m3\u001b[0m\u001b[0;34m\u001b[0m\u001b[0;34m\u001b[0m\u001b[0m\n\u001b[1;32m      5\u001b[0m   \u001b[0mprint\u001b[0m\u001b[0;34m(\u001b[0m\u001b[0mnum\u001b[0m\u001b[0;34m)\u001b[0m\u001b[0;34m\u001b[0m\u001b[0;34m\u001b[0m\u001b[0m\n\u001b[0;32m----> 6\u001b[0;31m \u001b[0mfunc\u001b[0m\u001b[0;34m(\u001b[0m\u001b[0;34m)\u001b[0m\u001b[0;34m\u001b[0m\u001b[0;34m\u001b[0m\u001b[0m\n\u001b[0m\u001b[1;32m      7\u001b[0m \u001b[0mprint\u001b[0m\u001b[0;34m(\u001b[0m\u001b[0mnum\u001b[0m\u001b[0;34m)\u001b[0m\u001b[0;34m\u001b[0m\u001b[0;34m\u001b[0m\u001b[0m\n",
            "\u001b[0;32m<ipython-input-11-a452ad0f26ce>\u001b[0m in \u001b[0;36mfunc\u001b[0;34m()\u001b[0m\n\u001b[1;32m      2\u001b[0m \u001b[0mnum\u001b[0m\u001b[0;34m=\u001b[0m\u001b[0;36m1\u001b[0m\u001b[0;34m\u001b[0m\u001b[0;34m\u001b[0m\u001b[0m\n\u001b[1;32m      3\u001b[0m \u001b[0;32mdef\u001b[0m \u001b[0mfunc\u001b[0m\u001b[0;34m(\u001b[0m\u001b[0;34m)\u001b[0m\u001b[0;34m:\u001b[0m\u001b[0;34m\u001b[0m\u001b[0;34m\u001b[0m\u001b[0m\n\u001b[0;32m----> 4\u001b[0;31m   \u001b[0mnum\u001b[0m\u001b[0;34m+=\u001b[0m\u001b[0;36m3\u001b[0m\u001b[0;34m\u001b[0m\u001b[0;34m\u001b[0m\u001b[0m\n\u001b[0m\u001b[1;32m      5\u001b[0m   \u001b[0mprint\u001b[0m\u001b[0;34m(\u001b[0m\u001b[0mnum\u001b[0m\u001b[0;34m)\u001b[0m\u001b[0;34m\u001b[0m\u001b[0;34m\u001b[0m\u001b[0m\n\u001b[1;32m      6\u001b[0m \u001b[0mfunc\u001b[0m\u001b[0;34m(\u001b[0m\u001b[0;34m)\u001b[0m\u001b[0;34m\u001b[0m\u001b[0;34m\u001b[0m\u001b[0m\n",
            "\u001b[0;31mUnboundLocalError\u001b[0m: local variable 'num' referenced before assignment"
          ]
        }
      ]
    },
    {
      "cell_type": "code",
      "source": [
        "##  Q.22   #################\n",
        "num=1\n",
        "def func():\n",
        "  global num\n",
        "  num=num+3\n",
        "  print(num)\n",
        "func()\n",
        "print(num)"
      ],
      "metadata": {
        "colab": {
          "base_uri": "https://localhost:8080/"
        },
        "id": "exsMJfE1H3x1",
        "outputId": "ab22459f-aa5e-41c6-d613-08e7db27d513"
      },
      "execution_count": null,
      "outputs": [
        {
          "output_type": "stream",
          "name": "stdout",
          "text": [
            "4\n",
            "4\n"
          ]
        }
      ]
    },
    {
      "cell_type": "code",
      "source": [
        "##  Q.23   #################\n",
        "def func(x=1,y=2):\n",
        "  x=x+y\n",
        "  y+=1\n",
        "  print(x,y)\n",
        "func()"
      ],
      "metadata": {
        "colab": {
          "base_uri": "https://localhost:8080/"
        },
        "id": "YzZB5TiBSfPE",
        "outputId": "d2469173-3751-4ff7-f63e-f4cdf18320f2"
      },
      "execution_count": null,
      "outputs": [
        {
          "output_type": "stream",
          "name": "stdout",
          "text": [
            "3 3\n"
          ]
        }
      ]
    },
    {
      "cell_type": "code",
      "source": [
        "##  Q.24   #################\n",
        "def test(x=1,y=2):\n",
        "  x=x+y\n",
        "  y+=1\n",
        "  print(x,y)\n",
        "test(2,1)"
      ],
      "metadata": {
        "colab": {
          "base_uri": "https://localhost:8080/"
        },
        "id": "BAN6eDwOVSDf",
        "outputId": "963be0db-0aa7-45db-e1f5-b52219fa210d"
      },
      "execution_count": null,
      "outputs": [
        {
          "output_type": "stream",
          "name": "stdout",
          "text": [
            "3 2\n"
          ]
        }
      ]
    },
    {
      "cell_type": "code",
      "source": [
        "# Q25. Given a list of numbers, write a Python program to count positive and negative numbers in a List using function.\n",
        "# Example:\n",
        "# list1 = [2, -7, 5, -64, -14]\n",
        "# Output: pos = 2, neg = 3\n",
        "\n",
        "def count(num):\n",
        "  c_p=0\n",
        "  c_n=0\n",
        "  for i in num:\n",
        "    if i>=0:\n",
        "      c_p+=1\n",
        "    else:\n",
        "      c_n+=1\n",
        "  print(\"Count Of Positive Number :\",c_p)\n",
        "  print(\"Count Of Nagetive Number :\",c_n)\n",
        "list=[2,-7,5,-64,-14]\n",
        "count(list)"
      ],
      "metadata": {
        "colab": {
          "base_uri": "https://localhost:8080/"
        },
        "id": "cV7KkpUNW_kc",
        "outputId": "c77aa103-54d0-489e-adc0-7ba27078947f"
      },
      "execution_count": null,
      "outputs": [
        {
          "output_type": "stream",
          "name": "stdout",
          "text": [
            "Count Of Positive Number : 2\n",
            "Count Of Nagetive Number : 3\n"
          ]
        }
      ]
    },
    {
      "cell_type": "code",
      "source": [
        "# Q26. Write a function called fizz_buzz that takes a number.\n",
        "# If the number is divisible by 3, it should return “Fizz”.\n",
        "# If it is divisible by 5, it should return “Buzz”.\n",
        "# If it is divisible by both 3 and 5, it should return “FizzBuzz”.\n",
        "# Otherwise, it should return the same number.\n",
        "\n",
        "def fizz_buzz(n):\n",
        "    if n%3==0 and n%5==0:\n",
        "        print(\"FIZZ BUZZ\")\n",
        "    elif n%3==0:\n",
        "        print(\"FIZZ\")\n",
        "    elif n%5==0:\n",
        "        print(\"BUZZ\")\n",
        "    else:\n",
        "        print(n)\n",
        "fizz_buzz(int(input(\"Enter Number :\")))\n",
        "\n"
      ],
      "metadata": {
        "id": "btBAmkLFYguq",
        "colab": {
          "base_uri": "https://localhost:8080/"
        },
        "outputId": "2a4ab9e9-ca43-4416-9ea4-012a8d111bfe"
      },
      "execution_count": null,
      "outputs": [
        {
          "output_type": "stream",
          "name": "stdout",
          "text": [
            "Enter Number :15\n",
            "FIZZ BUZZ\n"
          ]
        }
      ]
    },
    {
      "cell_type": "code",
      "source": [
        "# Q27. Write a function for checking the speed of drivers. This function should have one parameter: speed.\n",
        "# If speed is less than 70, it should print “Ok”.\n",
        "# Otherwise, for every 5km above the speed limit (70), it should give the driver one demerit point and print the total number of demerit points. For example, if the speed is 80, it should print: “Points: 2”.\n",
        "# If the driver gets more than 12 points, the function should print: “License suspended”\n",
        "#********************    SPEED CHECK ************************\n",
        "def speed(s):\n",
        "    if s<70:\n",
        "        print(\"OK\")\n",
        "    else:\n",
        "        points=(s-70)//5\n",
        "        print(\"Points :\",points)\n",
        "        if points>12:\n",
        "            print(\"License Suspended\")\n",
        "speed(int(input(\"Enter the Speed :\")))\n"
      ],
      "metadata": {
        "id": "TE0jvt9cE-Nt"
      },
      "execution_count": null,
      "outputs": []
    },
    {
      "cell_type": "code",
      "source": [
        "# Q28. Write a function called showNumbers that takes a parameter called limit. It should print all the numbers between 0 and limit with a label to identify the even and odd numbers. \n",
        "#For example, if the limit is 3, it should print: - 0 even,1 odd, 2 even, 3 odd \n",
        "#**************************  IDENTITY THE EVEN AND ODD NUMBER   ***************\n",
        "def showNumber(limit):\n",
        "    for i in range(limit+1):\n",
        "        if i%2==0:\n",
        "            print(i,\"Even\",end=\", \")\n",
        "        else:\n",
        "            print(i,\"Odd\",end=\", \")\n",
        "showNumber(int(input(\"enter the limit :\")))\n"
      ],
      "metadata": {
        "id": "OvNhMCu0FBWS"
      },
      "execution_count": null,
      "outputs": []
    },
    {
      "cell_type": "code",
      "source": [
        "# Q29. Write a function that returns the sum of multiples of 3 and 5 between 0 and limit (parameter). \n",
        "#For example, if limit is 20, it should return the sum of 3, 5, 6, 9, 10, 12, 15, 18, 20.\n",
        "#***************  SUM OF MULTIFICATION OF 3 AND 5  ********************\n",
        "def showNumber(limit):\n",
        "    sum=0\n",
        "    for i in range(1,limit+1):\n",
        "        if i%3==0 or i%5==0:\n",
        "            sum+=i\n",
        "            print(i,end=\", \")\n",
        "    print(\"Sum of multiple of 3 and 5 :\",sum)\n",
        "showNumber(int(input(\"enter the limit :\")))"
      ],
      "metadata": {
        "id": "8KYcsdGhFBu7"
      },
      "execution_count": null,
      "outputs": []
    },
    {
      "cell_type": "code",
      "source": [
        "# Q30. Write a function that prints all the prime numbers between 0 and limit where limit is a parameter.\n",
        "#****************  PRIME NUMBER (between two num) with while loop  *********************\n",
        "def showNumber(limit):\n",
        "    i=1\n",
        "    while i<=limit:\n",
        "        j=1\n",
        "        c=0\n",
        "        while j<=i:\n",
        "            if i%j==0:\n",
        "                c+=1\n",
        "            j+=1\n",
        "        if c==2:\n",
        "            print(i,end=\", \")\n",
        "        i+=1\n",
        "showNumber(int(input(\"enter the limit :\")))\n"
      ],
      "metadata": {
        "id": "a7nnMRivFCKg"
      },
      "execution_count": null,
      "outputs": []
    },
    {
      "cell_type": "code",
      "source": [
        "#****************  PRIME NUMBER (between two num) with FOR loop  *********************\n",
        "def showNumber(limit):\n",
        "    for i in range(1,limit+1):\n",
        "        c=0\n",
        "        for j in range(1,i+1):\n",
        "            if i%j==0:\n",
        "                c+=1\n",
        "        if c==2:\n",
        "            print(i,end=\", \")\n",
        "showNumber(int(input(\"enter the limit :\")))\n"
      ],
      "metadata": {
        "colab": {
          "base_uri": "https://localhost:8080/"
        },
        "id": "9dcgDxzQFCp6",
        "outputId": "0a2756bd-5772-47cc-f47f-0ce0d2ac234b"
      },
      "execution_count": null,
      "outputs": [
        {
          "output_type": "stream",
          "name": "stdout",
          "text": [
            "enter the limit :25\n",
            "2, 3, 5, 7, 11, 13, 17, 19, 23, "
          ]
        }
      ]
    },
    {
      "cell_type": "code",
      "source": [
        "#**************** POSSITION PRIME NUMBER   *********************\n",
        "def showNumber(limit,posi):\n",
        "    p=0\n",
        "    for i in range(2,limit+1):\n",
        "        if i==2:\n",
        "            p+=1\n",
        "            print(i)\n",
        "            if posi==p:\n",
        "                print(posi,\"possition of primr num :\",i)\n",
        "        elif i%2!=0:\n",
        "            c=0\n",
        "            for j in range(3,i//2):\n",
        "                if i%j==0:\n",
        "                    c+=1\n",
        "            if c==0:\n",
        "                print(i)\n",
        "                p+=1\n",
        "                if posi==p:\n",
        "                    print((posi,\"possition of primr num :\",i))\n",
        "showNumber(int(input(\"enter the limit :\")),int(input(\"posinal prime :\")))"
      ],
      "metadata": {
        "colab": {
          "base_uri": "https://localhost:8080/"
        },
        "id": "gdI2TNamEUeW",
        "outputId": "38300dda-0fd4-4f65-aa73-280c4b9667be"
      },
      "execution_count": null,
      "outputs": [
        {
          "output_type": "stream",
          "name": "stdout",
          "text": [
            "enter the limit :11\n",
            "posinal prime :4\n",
            "2\n",
            "3\n",
            "5\n",
            "7\n",
            "4 possition of primr num : 7\n",
            "11\n"
          ]
        }
      ]
    },
    {
      "cell_type": "code",
      "source": [
        "# Q31. Your goal is to return multiplication table for number that is always an integer from 1 to 10.\n",
        "# For example, a multiplication table (string) for number == 5 looks like below:- \n",
        "# 1 * 5 =5 \n",
        "# 2 * 5 =10\n",
        "# 3 * 5 =15\n",
        "#10 * 5 =50.\n",
        "def multi(num):\n",
        "  for i in range(1,11):\n",
        "    print(i,\"*\",num,\"=\",i*int(num))\n",
        "multi(input(\"Enter the table num :\"))\n",
        "\n"
      ],
      "metadata": {
        "id": "VcgXv4qTIWq1",
        "colab": {
          "base_uri": "https://localhost:8080/"
        },
        "outputId": "a48b89b9-f93d-41a2-b6e3-9b0e3c56411c"
      },
      "execution_count": null,
      "outputs": [
        {
          "output_type": "stream",
          "name": "stdout",
          "text": [
            "Enter the table num :5\n",
            "1 * 5 = 5\n",
            "2 * 5 = 10\n",
            "3 * 5 = 15\n",
            "4 * 5 = 20\n",
            "5 * 5 = 25\n",
            "6 * 5 = 30\n",
            "7 * 5 = 35\n",
            "8 * 5 = 40\n",
            "9 * 5 = 45\n",
            "10 * 5 = 50\n"
          ]
        }
      ]
    },
    {
      "cell_type": "code",
      "source": [
        "# Q32.Complete the function that takes a non-negative integer n as input, and returns a list of all the powers of 2 with the exponent ranging from 0 to n (inclusive). \n",
        "# n=0 == >[1]   #[2^0]\n",
        "# n = 1  ==> [1, 2]     # [2^0, 2^1]\n",
        "# n = 2  ==> [1, 2, 4]  # [2^0, 2^1, 2^2].\n",
        "def power(p):\n",
        "  a=[]\n",
        "  for i in range(p):\n",
        "    a.append(2**i)\n",
        "  print(a)\n",
        "power(int(input(\"Enter the number :\")))"
      ],
      "metadata": {
        "colab": {
          "base_uri": "https://localhost:8080/"
        },
        "id": "Qfa1kXjOZI7p",
        "outputId": "58716b73-656c-432a-a767-d163122f21a6"
      },
      "execution_count": null,
      "outputs": [
        {
          "output_type": "stream",
          "name": "stdout",
          "text": [
            "Enter the number :8\n",
            "[1, 2, 4, 8, 16, 32, 64, 128]\n"
          ]
        }
      ]
    },
    {
      "cell_type": "code",
      "source": [
        "# Q34. Write a function which converts the input string to uppercase.\n",
        "# Write a function which converts the input string to uppercase.\n",
        "# For example:-\n",
        "# [10, 14, 2, 23, 19] -->  42 (= 23 + 19)\n",
        "# [99, 2, 2, 23, 19]  --> 122 (= 99 + 23)\n",
        "# Input sequence contains minimum two elements and every element is an integer.\n",
        "\n"
      ],
      "metadata": {
        "id": "utytbIc2a_lV"
      },
      "execution_count": null,
      "outputs": []
    },
    {
      "cell_type": "code",
      "source": [
        "#@@@@@@@@@@@@@@@@@@@@@@@@@@@@@@@   QUETION OF SLIDE    @@@@@@@@@@@@@@@@@@@@"
      ],
      "metadata": {
        "id": "jhI7Vg_ZmH1w"
      },
      "execution_count": null,
      "outputs": []
    },
    {
      "cell_type": "code",
      "source": [
        "def print_str(str1):\n",
        "  print(str1)\n",
        "  return\n",
        "print_str(\"Calling the user definde function \")"
      ],
      "metadata": {
        "colab": {
          "base_uri": "https://localhost:8080/"
        },
        "id": "rtD5DoRsmQG_",
        "outputId": "0035b726-96b8-4563-e15d-bc5de999234a"
      },
      "execution_count": null,
      "outputs": [
        {
          "output_type": "stream",
          "name": "stdout",
          "text": [
            "Calling the user definde function \n"
          ]
        }
      ]
    },
    {
      "cell_type": "code",
      "source": [
        "#  EXAMPLE OF PASSING IMMUTABLE ARGUMENTS\n",
        "a=10\n",
        "def change_value(a):\n",
        "  a=20\n",
        "  print(\"inside function ,a=\",a,\"address=\",id(a))\n",
        "  return\n",
        "print(\"BEFORE function ,a=\",a,\"address=\",id(a))\n",
        "change_value(a)\n",
        "print(\"BEFORE function ,a=\",a,\"address=\",id(a))\n"
      ],
      "metadata": {
        "colab": {
          "base_uri": "https://localhost:8080/"
        },
        "id": "wgTjZNHjn5x-",
        "outputId": "a2fe9a5c-6f14-4ee4-a05f-4030997f3c8d"
      },
      "execution_count": null,
      "outputs": [
        {
          "output_type": "stream",
          "name": "stdout",
          "text": [
            "BEFORE function ,a= 10 address= 11256352\n",
            "inside function ,a= 20 address= 11256672\n",
            "BEFORE function ,a= 10 address= 11256352\n"
          ]
        }
      ]
    },
    {
      "cell_type": "code",
      "source": [
        "#  EXAMPLE OF PASSING MUTABLE ARGUMENTS\n",
        "l=[1,2,3,4,5,6]\n",
        "def change_value(l):\n",
        "  l[3]=30\n",
        "  print(\"Value inside the function , list=\",l,\"address=\",id(l))\n",
        "  return\n",
        "print(\"BEFORE function call , list=\",l,\"address=\",id(l))\n",
        "change_value(l)\n",
        "print(\"AFTER function call , list=\",l,\"address=\",id(l))\n"
      ],
      "metadata": {
        "colab": {
          "base_uri": "https://localhost:8080/"
        },
        "id": "GsBNoviBuPCG",
        "outputId": "7d57e8cf-440a-4f8b-a41d-eb7fdae49241"
      },
      "execution_count": null,
      "outputs": [
        {
          "output_type": "stream",
          "name": "stdout",
          "text": [
            "BEFORE function call , list= [1, 2, 3, 4, 5, 6] address= 140628467550320\n",
            "Value inside the function , list= [1, 2, 3, 30, 5, 6] address= 140628467550320\n",
            "AFTER function call , list= [1, 2, 3, 30, 5, 6] address= 140628467550320\n"
          ]
        }
      ]
    },
    {
      "cell_type": "code",
      "source": [
        "\n",
        "def fun1(a,b=90):\n",
        "  print(\"Value of a :\",a)\n",
        "  print(\"Value of b :\",b)\n",
        "  return\n",
        "fun1(a=\"pinki\",b=95)\n",
        "fun1(a=\"Rinki\")"
      ],
      "metadata": {
        "colab": {
          "base_uri": "https://localhost:8080/"
        },
        "id": "UhuBbVZ2ciwh",
        "outputId": "33c914ed-ffc8-4658-a7b9-fadc09aab7b2"
      },
      "execution_count": null,
      "outputs": [
        {
          "output_type": "stream",
          "name": "stdout",
          "text": [
            "Value of a : pinki\n",
            "Value of b : 95\n",
            "Value of a : Rinki\n",
            "Value of b : 90\n"
          ]
        }
      ]
    },
    {
      "cell_type": "code",
      "source": [
        "def outer():\n",
        "    x='local'\n",
        "    def inner():\n",
        "        nonlocal x\n",
        "        x='nonlocal'\n",
        "        print(\"inner :\",x)\n",
        "    inner()\n",
        "    print('outer :',x)\n",
        "outer()   \n"
      ],
      "metadata": {
        "colab": {
          "base_uri": "https://localhost:8080/"
        },
        "id": "JNCC__ukbH22",
        "outputId": "56ab8782-0fe0-458d-afd9-3d21d24af0fc"
      },
      "execution_count": null,
      "outputs": [
        {
          "output_type": "stream",
          "name": "stdout",
          "text": [
            "inner : nonlocal\n",
            "outer : nonlocal\n"
          ]
        }
      ]
    },
    {
      "cell_type": "code",
      "source": [
        "x='global'\n",
        "def foo():\n",
        "    global x \n",
        "    y='local'\n",
        "    y=x*2\n",
        "    print(x)\n",
        "    print(y)\n",
        "foo()\n",
        "print(x)"
      ],
      "metadata": {
        "colab": {
          "base_uri": "https://localhost:8080/"
        },
        "id": "zkmcAQwndn2q",
        "outputId": "ab8e0a8d-ea96-40e9-9ac6-34809c6d3cf6"
      },
      "execution_count": null,
      "outputs": [
        {
          "output_type": "stream",
          "name": "stdout",
          "text": [
            "global\n",
            "globalglobal\n",
            "global\n"
          ]
        }
      ]
    },
    {
      "cell_type": "code",
      "source": [
        "##   keyword argument   ##########\n",
        "def greet(name,massage):\n",
        "    print(\"hello\",name)\n",
        "    print(massage)\n",
        "greet('pinki','good')\n",
        "greet('funtastic','rinki')\n",
        "greet(massage=\"howdy\",name=\"pinki\")"
      ],
      "metadata": {
        "colab": {
          "base_uri": "https://localhost:8080/"
        },
        "id": "D7EZzK-_drRh",
        "outputId": "fefb60ad-2f6b-4b65-c4e6-af37316b17ab"
      },
      "execution_count": null,
      "outputs": [
        {
          "output_type": "stream",
          "name": "stdout",
          "text": [
            "hello pinki\n",
            "good\n",
            "hello funtastic\n",
            "rinki\n",
            "hello pinki\n",
            "howdy\n"
          ]
        }
      ]
    },
    {
      "cell_type": "code",
      "source": [
        "#  user defained function \n",
        "def add(x,y):\n",
        "    sum=x+y\n",
        "    return sum\n",
        "a=5\n",
        "b=7\n",
        "print(\"sum :\",add(a,b))"
      ],
      "metadata": {
        "colab": {
          "base_uri": "https://localhost:8080/"
        },
        "id": "lq2IsumfdukW",
        "outputId": "3fcb399d-c92e-487f-99ee-a5e6c220717f"
      },
      "execution_count": null,
      "outputs": [
        {
          "output_type": "stream",
          "name": "stdout",
          "text": [
            "sum : 12\n"
          ]
        }
      ]
    },
    {
      "cell_type": "code",
      "source": [
        "def fun():\n",
        "    x=10\n",
        "    print(\"value\",x)\n",
        "x=20\n",
        "print(fun())\n",
        "print(x)"
      ],
      "metadata": {
        "colab": {
          "base_uri": "https://localhost:8080/"
        },
        "id": "01LRlTgddxnM",
        "outputId": "203f491b-fad9-4e23-8f4b-b7b97aa947bb"
      },
      "execution_count": null,
      "outputs": [
        {
          "output_type": "stream",
          "name": "stdout",
          "text": [
            "value 10\n",
            "None\n",
            "20\n"
          ]
        }
      ]
    },
    {
      "cell_type": "code",
      "source": [
        "def value(num):\n",
        "    if num>=0:\n",
        "        return num\n",
        "    else:\n",
        "        return -num\n",
        "print(value(-2))\n",
        "print(value(4))"
      ],
      "metadata": {
        "colab": {
          "base_uri": "https://localhost:8080/"
        },
        "id": "6HvnhnDcd09i",
        "outputId": "54a28fd4-901e-42ed-a3f3-cc7484e39ce9"
      },
      "execution_count": null,
      "outputs": [
        {
          "output_type": "stream",
          "name": "stdout",
          "text": [
            "2\n",
            "4\n"
          ]
        }
      ]
    },
    {
      "cell_type": "code",
      "source": [
        "def greet(name):\n",
        "    print(\"hello\",name)\n",
        "    return name\n",
        "    print(\"pinki,rinki\")"
      ],
      "metadata": {
        "id": "akxMk1Hld3r3"
      },
      "execution_count": null,
      "outputs": []
    },
    {
      "cell_type": "code",
      "source": [
        "def add(a,b):\n",
        "    sum=a+b\n",
        "    return sum\n",
        "x=add(4,8)\n",
        "print(x)\n",
        "print(x+7)"
      ],
      "metadata": {
        "colab": {
          "base_uri": "https://localhost:8080/"
        },
        "id": "xW1s0hI_d6Oh",
        "outputId": "5e84f25b-cc5c-44e8-cc80-d0534674a4b5"
      },
      "execution_count": null,
      "outputs": [
        {
          "output_type": "stream",
          "name": "stdout",
          "text": [
            "12\n",
            "19\n"
          ]
        }
      ]
    },
    {
      "cell_type": "code",
      "source": [
        "def add(a,b):\n",
        "    sum=a+b\n",
        "print(sum,add(4,8))"
      ],
      "metadata": {
        "colab": {
          "base_uri": "https://localhost:8080/"
        },
        "id": "e8qywrzseCal",
        "outputId": "5fbc9a0e-b02e-4259-a54d-ae779541915c"
      },
      "execution_count": null,
      "outputs": [
        {
          "output_type": "stream",
          "name": "stdout",
          "text": [
            "<built-in function sum> None\n"
          ]
        }
      ]
    },
    {
      "cell_type": "code",
      "source": [
        "\n",
        "def add(a,b):\n",
        "    sum=a+b\n",
        "    print(sum)\n",
        "add(3,8)"
      ],
      "metadata": {
        "colab": {
          "base_uri": "https://localhost:8080/"
        },
        "id": "FgOTvjMAeE2Q",
        "outputId": "9ecd0c7c-a250-4305-f73d-81f9ba12c3e3"
      },
      "execution_count": null,
      "outputs": [
        {
          "output_type": "stream",
          "name": "stdout",
          "text": [
            "11\n"
          ]
        }
      ]
    },
    {
      "cell_type": "code",
      "source": [
        "\n",
        "def get(name):\n",
        "    print(\"hello\",name)\n",
        "get(\"pinki\")\n",
        "get(\"pinki rinki\")"
      ],
      "metadata": {
        "colab": {
          "base_uri": "https://localhost:8080/"
        },
        "id": "kPh9rqpteHMZ",
        "outputId": "1c5a18e1-f825-4608-d54d-48200922d124"
      },
      "execution_count": null,
      "outputs": [
        {
          "output_type": "stream",
          "name": "stdout",
          "text": [
            "hello pinki\n",
            "hello pinki rinki\n"
          ]
        }
      ]
    },
    {
      "cell_type": "code",
      "source": [
        "def pinki():\n",
        "    print(\"pinki is a good girl.\")\n",
        "    print(5+8)\n",
        "    return(8+9)\n",
        "print(\"the sum of return :\",pinki())"
      ],
      "metadata": {
        "colab": {
          "base_uri": "https://localhost:8080/"
        },
        "id": "xdPm2UFZeLt_",
        "outputId": "994587f7-d4eb-488d-c316-229f2335afbe"
      },
      "execution_count": null,
      "outputs": [
        {
          "output_type": "stream",
          "name": "stdout",
          "text": [
            "pinki is a good girl.\n",
            "13\n",
            "the sum of return : 17\n"
          ]
        }
      ]
    },
    {
      "cell_type": "code",
      "source": [
        "##########  infinete  function  ###############   like recursion  \n",
        "def pinki():\n",
        "    print(\"pinki is a good girl.\")\n",
        "    print(5+8)\n",
        "    pinki()\n",
        "pinki()"
      ],
      "metadata": {
        "id": "7PpDXkcKeOKY"
      },
      "execution_count": null,
      "outputs": []
    },
    {
      "cell_type": "code",
      "source": [
        "def pinki():\n",
        "    print(\"pinki is a good girl.\")\n",
        "    print(5+8)\n",
        "pinki()\n",
        "pinki()"
      ],
      "metadata": {
        "colab": {
          "base_uri": "https://localhost:8080/"
        },
        "id": "uqlXm39beR2P",
        "outputId": "e15da6d5-f891-471d-c1fa-310c18468911"
      },
      "execution_count": null,
      "outputs": [
        {
          "output_type": "stream",
          "name": "stdout",
          "text": [
            "pinki is a good girl.\n",
            "13\n",
            "pinki is a good girl.\n",
            "13\n"
          ]
        }
      ]
    },
    {
      "cell_type": "code",
      "source": [
        "#######   PRACTICE QUESTION   #########################\n",
        "def num(a=3,b=9):\n",
        "  sum=a+b\n",
        "  sub=a-b\n",
        "  mul=a*b\n",
        "  return sum ,sub ,mul\n",
        "print(num())\n"
      ],
      "metadata": {
        "colab": {
          "base_uri": "https://localhost:8080/"
        },
        "id": "OMag1qDtfa7G",
        "outputId": "5fcaa0d4-3633-405e-a8cd-4c687621ab07"
      },
      "execution_count": null,
      "outputs": [
        {
          "output_type": "stream",
          "name": "stdout",
          "text": [
            "(12, -6, 27)\n"
          ]
        }
      ]
    },
    {
      "cell_type": "code",
      "source": [
        "l=[34,67,78,73,39,89,9,23,12]\n",
        "def roll_check(roll_list):\n",
        "  roll=int(input(\"enter the roll No. :\"))\n",
        "  if roll in roll_list:\n",
        "    print(\"YES\")\n",
        "  else:\n",
        "    print(\"NO\")\n",
        "roll_check(l)\n"
      ],
      "metadata": {
        "colab": {
          "base_uri": "https://localhost:8080/"
        },
        "id": "rBlzGMcvjyRj",
        "outputId": "96411518-9d4f-473d-f881-0993124d0771"
      },
      "execution_count": null,
      "outputs": [
        {
          "output_type": "stream",
          "name": "stdout",
          "text": [
            "enter the roll No. :32\n",
            "NO\n"
          ]
        }
      ]
    },
    {
      "cell_type": "code",
      "source": [
        "def max_num(a,b,c):\n",
        "  max=0\n",
        "  if a>b and a>c:\n",
        "    max=a\n",
        "  elif b>a and b>c:\n",
        "    max=b\n",
        "  else:\n",
        "    max=c\n",
        "  return max\n",
        "print(\"max num is :\",max_num(int(input(\"a :\")),int(input(\"b :\")),int(input(\"c :\"))))"
      ],
      "metadata": {
        "colab": {
          "base_uri": "https://localhost:8080/"
        },
        "id": "h57fHp6SmMC_",
        "outputId": "80d28866-476d-451f-f90c-aa6dbfb2213f"
      },
      "execution_count": null,
      "outputs": [
        {
          "output_type": "stream",
          "name": "stdout",
          "text": [
            "a :23\n",
            "b :78\n",
            "c :56\n",
            "max num is : 78\n"
          ]
        }
      ]
    },
    {
      "cell_type": "code",
      "source": [
        "def check_alfa(str1):\n",
        "  sum_v=0\n",
        "  sum_c=0\n",
        "  i=0\n",
        "  while i<len(str1):\n",
        "    if str1[i]==\"a\" or str1[i]==\"e\" or str1[i]==\"i\" or str1[i]==\"o\" or str1[i]==\"u\" :\n",
        "      sum_v+=1\n",
        "    elif str1[i]==\" \":\n",
        "      pass\n",
        "    else:\n",
        "      sum_c+=1\n",
        "    i+=1\n",
        "  return sum_v ,sum_c\n",
        "print(\"COUNT OF VOWELS and CONSONANT: \",check_alfa(input(\"enter srting :\")))"
      ],
      "metadata": {
        "colab": {
          "base_uri": "https://localhost:8080/"
        },
        "id": "4kx19N6solab",
        "outputId": "e312ea2c-fb4e-4eb0-dd10-ce5d29327cc3"
      },
      "execution_count": null,
      "outputs": [
        {
          "output_type": "stream",
          "name": "stdout",
          "text": [
            "enter srting :anita kumari devi\n",
            "COUNT OF VOWELS and CONSONANT:  (8, 7)\n"
          ]
        }
      ]
    },
    {
      "cell_type": "code",
      "source": [
        "def fac(num=int(input(\"enter num :\"))):\n",
        "  fac=1\n",
        "  while num>1:\n",
        "    fac*=num\n",
        "    num-=1\n",
        "  return fac\n",
        "print(\"FACTORIAL IS :\",fac())\n"
      ],
      "metadata": {
        "colab": {
          "base_uri": "https://localhost:8080/"
        },
        "id": "bdNzz9ZqrQji",
        "outputId": "e55eec33-497c-46b2-92e9-0af52d6efabf"
      },
      "execution_count": null,
      "outputs": [
        {
          "output_type": "stream",
          "name": "stdout",
          "text": [
            "enter num :6\n",
            "FACTORIAL IS : 720\n"
          ]
        }
      ]
    },
    {
      "cell_type": "code",
      "source": [
        "def low_str(str1=input(\"enter the str :\")):\n",
        "  if str1.islower():\n",
        "    return str1.upper()\n",
        "  else:\n",
        "    return str1.lower()\n",
        "print(low_str())\n"
      ],
      "metadata": {
        "colab": {
          "base_uri": "https://localhost:8080/"
        },
        "id": "xMzXyr0AsZjl",
        "outputId": "8f1d5355-a40e-4f60-e170-1688f0268f68"
      },
      "execution_count": null,
      "outputs": [
        {
          "output_type": "stream",
          "name": "stdout",
          "text": [
            "enter the str :PINKI\n",
            "pinki\n"
          ]
        }
      ]
    },
    {
      "cell_type": "code",
      "source": [
        "def area(Redi):\n",
        "  area=22/7*(Redi**2)\n",
        "  return area\n",
        "print(\"The AREA IS :\",area(int(input(\"enter the redius :\"))))"
      ],
      "metadata": {
        "colab": {
          "base_uri": "https://localhost:8080/"
        },
        "id": "txhvPPV3vN-d",
        "outputId": "660de43a-4141-4d26-e967-5ecb3ad54111"
      },
      "execution_count": null,
      "outputs": [
        {
          "output_type": "stream",
          "name": "stdout",
          "text": [
            "enter the redius :4\n",
            "The AREA IS : 50.285714285714285\n"
          ]
        }
      ]
    },
    {
      "cell_type": "code",
      "source": [
        "##########################  prime number ##################3\n",
        "def prime(p):\n",
        "    i=1\n",
        "    c=0\n",
        "    while i<=(p**1/2):\n",
        "       if p%i==0:\n",
        "          c+=1\n",
        "       i+=1\n",
        "    if c==1:\n",
        "        return True\n",
        "    else:\n",
        "        return False\n",
        "print(prime(int(input(\"enter the num :\"))))\n",
        "  "
      ],
      "metadata": {
        "colab": {
          "base_uri": "https://localhost:8080/"
        },
        "id": "R5xOBRLEgVVD",
        "outputId": "e2cb877b-cd69-4b50-80b1-603eb5baef75"
      },
      "execution_count": null,
      "outputs": [
        {
          "output_type": "stream",
          "name": "stdout",
          "text": [
            "enter the num :144\n",
            "False\n"
          ]
        }
      ]
    },
    {
      "cell_type": "code",
      "source": [
        "####################### DEFAULT ARGUNMENT  ##########################\n",
        "def add(a,b=9):\n",
        "  return a+b\n",
        "print(add(8))\n",
        "\n"
      ],
      "metadata": {
        "colab": {
          "base_uri": "https://localhost:8080/"
        },
        "id": "wslrcz51ixGg",
        "outputId": "aefb434b-145f-41f5-8486-6331cebc61e4"
      },
      "execution_count": null,
      "outputs": [
        {
          "output_type": "stream",
          "name": "stdout",
          "text": [
            "17\n"
          ]
        }
      ]
    },
    {
      "cell_type": "code",
      "source": [
        "####################  ASSIGNMENT  FUNCTION     ##############################\n",
        "# 1. Write a Python function to find the Max of three numbers.###############\n",
        "def max1(a,b,c):\n",
        "    if a>b:\n",
        "        max=a\n",
        "        min=b\n",
        "    else:\n",
        "        max=b\n",
        "        min=a\n",
        "    if max>c:\n",
        "        max=max\n",
        "    else:\n",
        "        if c>min:\n",
        "            max=c\n",
        "        else:\n",
        "            max=min\n",
        "    print(max)\n",
        "max1(int(input(\"A:\")),int(input(\"B:\")),int(input(\"C:\")))\n"
      ],
      "metadata": {
        "id": "mYckSVQmtStB"
      },
      "execution_count": null,
      "outputs": []
    },
    {
      "cell_type": "code",
      "source": [
        "# 2. Write a Python function to sum all the numbers in a list.Sample List : (8, 2, 3, 0, 7)\n",
        "def add(l):\n",
        "    i=0\n",
        "    sum=0\n",
        "    while i <len(l):\n",
        "        sum+=l[i]\n",
        "        i+=1\n",
        "    return sum\n",
        "l1=[8,2,3,0,7]\n",
        "print(add(l1))\n"
      ],
      "metadata": {
        "id": "6XUINKeagspn",
        "colab": {
          "base_uri": "https://localhost:8080/"
        },
        "outputId": "b894d2b2-8e2d-49e8-c821-054cb9d95d2c"
      },
      "execution_count": null,
      "outputs": [
        {
          "output_type": "stream",
          "name": "stdout",
          "text": [
            "20\n"
          ]
        }
      ]
    },
    {
      "cell_type": "code",
      "source": [
        "# # 3. Write a Python function to multiply all the numbers in a list.Sample List : (8, 2, 3, -1, 7)\n",
        "def multi(l):\n",
        "    i=0\n",
        "    multiply=1\n",
        "    while i<len(l):\n",
        "        multiply*=l[i]\n",
        "        i+=1\n",
        "    return multiply\n",
        "n=[8,2,3,-1,7]\n",
        "print(multi(n))\n"
      ],
      "metadata": {
        "colab": {
          "base_uri": "https://localhost:8080/"
        },
        "id": "MEM4tg8ApLbY",
        "outputId": "c636a420-6ccc-4bd8-b63d-1514d9dbc92c"
      },
      "execution_count": null,
      "outputs": [
        {
          "output_type": "stream",
          "name": "stdout",
          "text": [
            "-336\n"
          ]
        }
      ]
    },
    {
      "cell_type": "code",
      "source": [
        "# 4. Write a Python function to reverse a string Sample String\n",
        "# # :\"1234abcd\" , \"dcba4321\"\n",
        "def rev(s):\n",
        "    r=s[::-1]\n",
        "    return r\n",
        "print(rev(\"1234abcd\"))\n"
      ],
      "metadata": {
        "colab": {
          "base_uri": "https://localhost:8080/"
        },
        "id": "HmPNgnzXphRz",
        "outputId": "ef174fd2-3e3e-420a-f6f3-deaa078bd508"
      },
      "execution_count": null,
      "outputs": [
        {
          "output_type": "stream",
          "name": "stdout",
          "text": [
            "dcba4321\n"
          ]
        }
      ]
    },
    {
      "cell_type": "code",
      "source": [
        "# 5. Write a Python function to calculate the factorial of a number (a non-negative integer). The\n",
        "# function accepts the number as an argument.\n",
        "def f(num):\n",
        "    i=num\n",
        "    fac=1\n",
        "    while i>0:\n",
        "        fac*=i\n",
        "        i-=1\n",
        "    return fac\n",
        "print(f(int(input(\"enter the num:\"))))\n"
      ],
      "metadata": {
        "colab": {
          "base_uri": "https://localhost:8080/"
        },
        "id": "KP8fPq7KppBk",
        "outputId": "a9386c6d-d156-413c-b838-e6ccee5fe981"
      },
      "execution_count": null,
      "outputs": [
        {
          "output_type": "stream",
          "name": "stdout",
          "text": [
            "enter the num:6\n",
            "720\n"
          ]
        }
      ]
    },
    {
      "cell_type": "code",
      "source": [
        "# 6. Write a Python function to check whether a number falls in a given range. Function\n",
        "# argements are (u, l, n) where u=upper limit, l = lowr limit and n = number to search for.\n",
        "def search(num,u,l):\n",
        "    if num>l :\n",
        "        if num<u:\n",
        "            return True\n",
        "    else:\n",
        "        return False\n",
        "a=search(int(input(\"search num:\")),int(input(\"UPPER LIMIT:\")),int(input(\"LOWER LIMIT:\")))\n",
        "print(a)\n"
      ],
      "metadata": {
        "id": "czwlPSS_pyS6"
      },
      "execution_count": null,
      "outputs": []
    },
    {
      "cell_type": "code",
      "source": [
        "# 7. Write a Python function that accepts a string and calculate the number of upper case letters\n",
        "# # and lower case letters.Sample String : 'The quick Brow Fox Jumps Over the Lazy Dog.’'\n",
        "def count_str(s):\n",
        "   U_c=0\n",
        "   L_c=0\n",
        "   i=0\n",
        "   while i<len(s):\n",
        "       if s[i]>='A' and s[i]<='Z':\n",
        "           U_c+=1\n",
        "       elif s[i]>='a' and s[i]<='z':\n",
        "           L_c+=1\n",
        "       i+=1\n",
        "   return ('upper',U_c,'lower',L_c)\n",
        "p=count_str(input(\"enter string :\"))\n",
        "print(p)\n"
      ],
      "metadata": {
        "colab": {
          "base_uri": "https://localhost:8080/"
        },
        "id": "vnabDiRGp5wl",
        "outputId": "259f2c42-bbe9-4b73-f065-5d27ba890194"
      },
      "execution_count": null,
      "outputs": [
        {
          "output_type": "stream",
          "name": "stdout",
          "text": [
            "enter string :pINKI kumari\n",
            "('upper', 4, 'lower', 7)\n"
          ]
        }
      ]
    },
    {
      "cell_type": "code",
      "source": [
        "# # Q.8. Write a Python function that takes a list and returns a new list with unique elements of the first\n",
        "def fun(l):\n",
        "    unique=[]\n",
        "    i=0\n",
        "    while i<len(l):\n",
        "        if l[i] not in unique:\n",
        "            unique.append(l[i])\n",
        "        i+=1\n",
        "    return \"unique list\",unique\n",
        "n=[1,2,3,3,3,3,4,5]\n",
        "print(fun(n))\n"
      ],
      "metadata": {
        "colab": {
          "base_uri": "https://localhost:8080/"
        },
        "id": "a2JQGlpQrHvY",
        "outputId": "58a465cd-f6bc-489a-c88c-c0f34ec31c0d"
      },
      "execution_count": null,
      "outputs": [
        {
          "output_type": "stream",
          "name": "stdout",
          "text": [
            "('unique list', [1, 2, 3, 4, 5])\n"
          ]
        }
      ]
    },
    {
      "cell_type": "code",
      "source": [
        "# Q.9 Write a Python function that takes a number as a parameter and check the number is prime\n",
        "# #########  prime number ######\n",
        "def prime(p):\n",
        "    i=1\n",
        "    c=0\n",
        "    while i<=(p**1/2):\n",
        "       if p%i==0:\n",
        "          c+=1\n",
        "       i+=1\n",
        "    if c==1:\n",
        "        return True\n",
        "    else:\n",
        "        return False\n",
        "print(prime(int(input(\"enter the num :\"))))\n"
      ],
      "metadata": {
        "id": "PnzjB2kPvd0U"
      },
      "execution_count": null,
      "outputs": []
    },
    {
      "cell_type": "code",
      "source": [
        "# # Q.10 Write a Python function to print the even numbers from a given list.\n",
        "def even(l):\n",
        "    even=[]\n",
        "    i=0\n",
        "    while i<len(l):\n",
        "        if l[i]%2==0:\n",
        "            even.append(l[i])\n",
        "        i+=1\n",
        "    return \"even list\",even\n",
        "n=[1,2,3,4,5,6,7,8,9]\n",
        "print(even(n))\n"
      ],
      "metadata": {
        "colab": {
          "base_uri": "https://localhost:8080/"
        },
        "id": "tRpffq8BtYQZ",
        "outputId": "5d3ac1d7-1701-4543-d6bc-256f5e0d4189"
      },
      "execution_count": null,
      "outputs": [
        {
          "output_type": "stream",
          "name": "stdout",
          "text": [
            "('even list', [2, 4, 6, 8])\n"
          ]
        }
      ]
    },
    {
      "cell_type": "code",
      "source": [
        "# # Q.11. Write a Python function to check whether a number is perfect or not.\n",
        "def per(num):\n",
        "    sum=0\n",
        "    i=1\n",
        "    while i<=(num//2):\n",
        "        if num%i==0:\n",
        "            sum+=i\n",
        "        i+=1\n",
        "    if num==sum:\n",
        "        return \"perfect num\"\n",
        "    else:\n",
        "        return \"Not perfect num\"\n",
        "print(per(int(input(\"enter the num :\"))))\n"
      ],
      "metadata": {
        "colab": {
          "base_uri": "https://localhost:8080/"
        },
        "id": "e_ag2cextho5",
        "outputId": "bd5989ee-041e-4b91-ea30-4ffedcdf7a83"
      },
      "execution_count": null,
      "outputs": [
        {
          "output_type": "stream",
          "name": "stdout",
          "text": [
            "enter the num :28\n",
            "perfect num\n"
          ]
        }
      ]
    },
    {
      "cell_type": "code",
      "source": [
        "# Q.12 Write a Python function that checks whether a passed string is palindrome or not.\n",
        "def string(s):\n",
        "    a=s[::-1]\n",
        "    if a==s:\n",
        "        return \"String is Palidrom\"\n",
        "    else:\n",
        "        return \"String is Not palidrom\"\n",
        "print(string(input(\"enter the string :\")))\n",
        "\n"
      ],
      "metadata": {
        "colab": {
          "base_uri": "https://localhost:8080/"
        },
        "id": "8ukl0zD1twON",
        "outputId": "399c85df-5e2e-42e0-f5f7-1db080aa50d4"
      },
      "execution_count": null,
      "outputs": [
        {
          "output_type": "stream",
          "name": "stdout",
          "text": [
            "enter the string :samas\n",
            "String is Palidrom\n"
          ]
        }
      ]
    },
    {
      "cell_type": "code",
      "source": [],
      "metadata": {
        "id": "Etg3v1HFjTQr"
      },
      "execution_count": null,
      "outputs": []
    },
    {
      "cell_type": "code",
      "source": [
        "# Q.14. Write a Python function to check whether a string is a pangram or not.\n",
        "# For example : \"The quick brown fox jumps over the lazy dog\"\n",
        "def pan(s):\n",
        "    i=97\n",
        "    j=65\n",
        "    while i<=122:\n",
        "        if chr(i) not in s:\n",
        "            if chr(j) not in s:\n",
        "               return \"Not Pangram\"          \n",
        "        i+=1\n",
        "        j+=1\n",
        "    return \"Pangram \"\n",
        "print(pan(input(\"Enter the string :\")))"
      ],
      "metadata": {
        "colab": {
          "base_uri": "https://localhost:8080/"
        },
        "id": "13Rt_RoRyPHC",
        "outputId": "763ffccb-b82d-4ce5-80fb-2589f7ee9b89"
      },
      "execution_count": null,
      "outputs": [
        {
          "output_type": "stream",
          "name": "stdout",
          "text": [
            "Enter the string :abcdefghIjklMnopQRSTUvwxyz\n",
            "Pangram \n"
          ]
        }
      ]
    },
    {
      "cell_type": "code",
      "source": [
        "# 15. Write a Python program that accepts a hyphen-separated sequence of words as input and prints the words in \n",
        "# a hyphen-separated sequence after sorting them alphabetically.\n",
        "# green-red-yellow-black-white\n",
        "s='green-red-yellow-black-white'\n",
        "l=[]\n",
        "b=''\n",
        "for i in s:\n",
        "  if i==\"-\":\n",
        "    l.append(b)\n",
        "    b=''\n",
        "  else:\n",
        "    b+=i\n",
        "l.sort()\n",
        "b=''\n",
        "for i in range(len(l)):\n",
        "  if i==(len(l)-1):\n",
        "    b+=l[i]\n",
        "  else:\n",
        "    b+=l[i]\n",
        "    b+=\"-\"\n",
        "print(b)"
      ],
      "metadata": {
        "colab": {
          "base_uri": "https://localhost:8080/"
        },
        "id": "CDoh41IDVR4u",
        "outputId": "aef0c258-43f9-404b-9c7d-03432df96a5e"
      },
      "execution_count": null,
      "outputs": [
        {
          "output_type": "stream",
          "name": "stdout",
          "text": [
            "black-green-red-yellow\n"
          ]
        }
      ]
    },
    {
      "cell_type": "code",
      "source": [
        "# Q.16. Write a Python function to create and print a list where the values are square of numbers\n",
        "# between 1 and 30 (both included).\n",
        "def num():\n",
        "    j=1\n",
        "    i=1\n",
        "    square=[]\n",
        "    while i<=30:\n",
        "        if j**2==i:\n",
        "            square.append(i)\n",
        "            j+=1\n",
        "        i+=1\n",
        "    return \"Square list:\",square\n",
        "print(num())\n"
      ],
      "metadata": {
        "colab": {
          "base_uri": "https://localhost:8080/"
        },
        "id": "qYh5XWAAJISe",
        "outputId": "2677c893-885f-406b-e76d-4ccff9a5a988"
      },
      "execution_count": null,
      "outputs": [
        {
          "output_type": "stream",
          "name": "stdout",
          "text": [
            "('Square list:', [1, 4, 9, 16, 25])\n"
          ]
        }
      ]
    },
    {
      "cell_type": "code",
      "source": [
        "# 19. Write a Python program to access a function inside a function.\n",
        "def sum1(a,b):\n",
        "  c=a+b\n",
        "  return c\n",
        "def mul(n):\n",
        "  return(sum1(3,8)*n)\n",
        "print(mul(6))\n"
      ],
      "metadata": {
        "colab": {
          "base_uri": "https://localhost:8080/"
        },
        "id": "YORmCvEhLCTL",
        "outputId": "796a6dd3-bcb0-4341-d329-2e3e336a768e"
      },
      "execution_count": null,
      "outputs": [
        {
          "output_type": "stream",
          "name": "stdout",
          "text": [
            "66\n"
          ]
        }
      ]
    },
    {
      "cell_type": "code",
      "source": [
        "# 20. Write a Python program to detect the number of local variables declared in a function.\n",
        "def f():\n",
        "  a=\"pinki\"\n",
        "  b=98\n",
        "  c=4.8\n",
        "  d=True\n",
        "  e=3+5j\n",
        "f()\n",
        "print(f.__code__.co_nlocals)\n"
      ],
      "metadata": {
        "colab": {
          "base_uri": "https://localhost:8080/"
        },
        "id": "wyzHPU3UZQWD",
        "outputId": "f83def31-8c05-4eb4-f86d-66cd7c018eb0"
      },
      "execution_count": null,
      "outputs": [
        {
          "output_type": "stream",
          "name": "stdout",
          "text": [
            "4\n"
          ]
        }
      ]
    },
    {
      "cell_type": "code",
      "source": [
        "a=\"English-Science-Maths-Social sciences-Hindi\"\n",
        "a.split(\"-\") \n",
        "i=0\n",
        "while i<len(a):\n",
        "  print(a[i])\n",
        "  i+=1\n"
      ],
      "metadata": {
        "colab": {
          "base_uri": "https://localhost:8080/"
        },
        "id": "M7uU-sJcMhj8",
        "outputId": "cd5960db-3717-4e61-c585-c5e699c1cc93"
      },
      "execution_count": null,
      "outputs": [
        {
          "output_type": "stream",
          "name": "stdout",
          "text": [
            "E\n",
            "n\n",
            "g\n",
            "l\n",
            "i\n",
            "s\n",
            "h\n",
            "-\n",
            "S\n",
            "c\n",
            "i\n",
            "e\n",
            "n\n",
            "c\n",
            "e\n",
            "-\n",
            "M\n",
            "a\n",
            "t\n",
            "h\n",
            "s\n",
            "-\n",
            "S\n",
            "o\n",
            "c\n",
            "i\n",
            "a\n",
            "l\n",
            " \n",
            "s\n",
            "c\n",
            "i\n",
            "e\n",
            "n\n",
            "c\n",
            "e\n",
            "s\n",
            "-\n",
            "H\n",
            "i\n",
            "n\n",
            "d\n",
            "i\n"
          ]
        }
      ]
    },
    {
      "cell_type": "code",
      "source": [
        "a='hbghfy6nb'\n",
        "if a.isdigit():\n",
        " print(True)\n",
        "else:\n",
        "  print(\"NO\")\n"
      ],
      "metadata": {
        "colab": {
          "base_uri": "https://localhost:8080/"
        },
        "id": "V5ae22wS4nM9",
        "outputId": "af3815cf-489b-44db-8b00-e29a3fad77b4"
      },
      "execution_count": null,
      "outputs": [
        {
          "output_type": "stream",
          "name": "stdout",
          "text": [
            "NO\n"
          ]
        }
      ]
    },
    {
      "cell_type": "code",
      "source": [
        "def up(s):\n",
        "  return s.upper()\n",
        "a=up(\"pinki kimari\")\n",
        "print(a)"
      ],
      "metadata": {
        "colab": {
          "base_uri": "https://localhost:8080/"
        },
        "id": "G2UXTa_UBPh5",
        "outputId": "dcb72754-d858-49eb-e62c-6a226a98267f"
      },
      "execution_count": null,
      "outputs": [
        {
          "output_type": "stream",
          "name": "stdout",
          "text": [
            "PINKI KIMARI\n"
          ]
        }
      ]
    },
    {
      "cell_type": "code",
      "source": [
        "#######################   LAMDA FUNCTION   #################################\n",
        "#  SYNTAX OF LAMBDA \n",
        "#  LAMBDA ARGUMENT : EXPRESSION\n"
      ],
      "metadata": {
        "id": "gvkNGOa9f5Yx"
      },
      "execution_count": null,
      "outputs": []
    },
    {
      "cell_type": "code",
      "source": [
        "double=lambda m :m**2\n",
        "print(double(3))\n",
        "print(double(5))"
      ],
      "metadata": {
        "colab": {
          "base_uri": "https://localhost:8080/"
        },
        "id": "BZH255ov91k8",
        "outputId": "cee6fcda-3638-40ea-c7c9-31818e8dc46e"
      },
      "execution_count": null,
      "outputs": [
        {
          "output_type": "stream",
          "name": "stdout",
          "text": [
            "9\n",
            "25\n"
          ]
        }
      ]
    },
    {
      "cell_type": "code",
      "source": [
        "a=[('English', 88), ('Science', 90), ('Maths', 97), ('Social sciences', 82)]\n",
        "a.sort(key=lambda x:x[1] )\n",
        "print(a)"
      ],
      "metadata": {
        "colab": {
          "base_uri": "https://localhost:8080/"
        },
        "id": "opI_bspV7bds",
        "outputId": "5c5ce3f0-106b-4da0-80a1-b119ceedb004"
      },
      "execution_count": null,
      "outputs": [
        {
          "output_type": "stream",
          "name": "stdout",
          "text": [
            "[('Social sciences', 82), ('English', 88), ('Science', 90), ('Maths', 97)]\n"
          ]
        }
      ]
    },
    {
      "cell_type": "code",
      "source": [
        "# Original list of integers:\n",
        "# [1, 2, 3, 4, 5, 6, 7, 8, 9, 10]\n",
        "# Even numbers from the said list:\n",
        "# [2, 4, 6, 8, 10]\n",
        "# Odd numbers from the said list:\n",
        "# [1, 3, 5, 7, 9]\n",
        "l= [1, 2, 3, 4, 5, 6, 7, 8, 9, 10]\n",
        "l1=list(filter(lambda n : n%2==0 , l))\n",
        "print(l1)\n",
        "l2=list(filter(lambda n : n%2!=0 ,l))\n",
        "print(l2)"
      ],
      "metadata": {
        "id": "_ghSWqsZp3OH",
        "colab": {
          "base_uri": "https://localhost:8080/"
        },
        "outputId": "06b13eb7-a55b-44e4-f577-5e47cdd0c082"
      },
      "execution_count": null,
      "outputs": [
        {
          "output_type": "stream",
          "name": "stdout",
          "text": [
            "[2, 4, 6, 8, 10]\n",
            "[1, 3, 5, 7, 9]\n",
            "[1, 2, 3, 4, 5, 6, 7, 8, 9, 10]\n"
          ]
        }
      ]
    },
    {
      "cell_type": "code",
      "source": [
        "def str1(s):\n",
        "    lambda s :   if s==\"start\",return True\n",
        "    lambda s : else ,return False\n",
        "\n",
        "print(str1(input(\"enter string :\")))\n",
        "\n",
        "\n"
      ],
      "metadata": {
        "colab": {
          "base_uri": "https://localhost:8080/",
          "height": 132
        },
        "id": "HWQt8pDQR8bH",
        "outputId": "3c9a95f6-f142-479b-f359-0a3509dd8de6"
      },
      "execution_count": null,
      "outputs": [
        {
          "output_type": "error",
          "ename": "SyntaxError",
          "evalue": "ignored",
          "traceback": [
            "\u001b[0;36m  File \u001b[0;32m\"<ipython-input-14-71fff6bfe130>\"\u001b[0;36m, line \u001b[0;32m3\u001b[0m\n\u001b[0;31m    lambda s : return True\u001b[0m\n\u001b[0m                    ^\u001b[0m\n\u001b[0;31mSyntaxError\u001b[0m\u001b[0;31m:\u001b[0m invalid syntax\n"
          ]
        }
      ]
    },
    {
      "cell_type": "code",
      "source": [
        "a=4+8"
      ],
      "metadata": {
        "id": "8D7mJCwndXhB"
      },
      "execution_count": null,
      "outputs": []
    },
    {
      "cell_type": "code",
      "source": [
        "a"
      ],
      "metadata": {
        "colab": {
          "base_uri": "https://localhost:8080/"
        },
        "id": "5cb3_7RidlBK",
        "outputId": "bdef5d7e-6306-41fe-bb64-c08caae2115b"
      },
      "execution_count": null,
      "outputs": [
        {
          "output_type": "execute_result",
          "data": {
            "text/plain": [
              "12"
            ]
          },
          "metadata": {},
          "execution_count": 4
        }
      ]
    },
    {
      "cell_type": "code",
      "source": [
        "def abc(*n):\n",
        "  i=0\n",
        "  while i<len(n):\n",
        "    print(n[i]) \n",
        "    i+=1\n",
        "print(abc(1,2,3,4,5,6,7,8,9))"
      ],
      "metadata": {
        "colab": {
          "base_uri": "https://localhost:8080/"
        },
        "id": "2_oBY6sTeXs9",
        "outputId": "cd2f20ba-6d1b-4fb1-d06a-488ea519fe40"
      },
      "execution_count": null,
      "outputs": [
        {
          "output_type": "stream",
          "name": "stdout",
          "text": [
            "1\n",
            "2\n",
            "3\n",
            "4\n",
            "5\n",
            "6\n",
            "7\n",
            "8\n",
            "9\n",
            "None\n"
          ]
        }
      ]
    }
  ]
}