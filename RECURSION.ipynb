{
  "nbformat": 4,
  "nbformat_minor": 0,
  "metadata": {
    "colab": {
      "provenance": [],
      "authorship_tag": "ABX9TyNhRb18vNOPIDhcGsj3obvM",
      "include_colab_link": true
    },
    "kernelspec": {
      "name": "python3",
      "display_name": "Python 3"
    },
    "language_info": {
      "name": "python"
    }
  },
  "cells": [
    {
      "cell_type": "markdown",
      "metadata": {
        "id": "view-in-github",
        "colab_type": "text"
      },
      "source": [
        "<a href=\"https://colab.research.google.com/github/pinkikumari1/kbc/blob/main/RECURSION.ipynb\" target=\"_parent\"><img src=\"https://colab.research.google.com/assets/colab-badge.svg\" alt=\"Open In Colab\"/></a>"
      ]
    },
    {
      "cell_type": "code",
      "source": [
        "#           the father of python   (GUIDO VAN ROSSUM)  1991"
      ],
      "metadata": {
        "id": "4f83y7wKCjQ5"
      },
      "execution_count": null,
      "outputs": []
    },
    {
      "cell_type": "code",
      "execution_count": null,
      "metadata": {
        "id": "1vYCgBZqjas9"
      },
      "outputs": [],
      "source": [
        "# *************   SYNTEX OF RECURSION    **************************\n",
        "#    def function_name():\n",
        "#     ___________\n",
        "#      ___________\n",
        "#     ___________\n",
        "#     call function_name()\n",
        "#    function_name()\n"
      ]
    },
    {
      "cell_type": "code",
      "source": [
        "#  Q.1 Write a program in Python to print the first 50 natural numbers using recursion.\n",
        "def fun(i):\n",
        "  if i<50:\n",
        "    print(i,end=\" \")\n",
        "    fun(i+1)\n",
        "  return 50\n",
        "print(fun(1))"
      ],
      "metadata": {
        "colab": {
          "base_uri": "https://localhost:8080/"
        },
        "id": "RHW6jfgDkYbf",
        "outputId": "a2c58a7b-e293-4f72-dbea-0592ebfa587b"
      },
      "execution_count": null,
      "outputs": [
        {
          "output_type": "stream",
          "name": "stdout",
          "text": [
            "1 2 3 4 5 6 7 8 9 10 11 12 13 14 15 16 17 18 19 20 21 22 23 24 25 26 27 28 29 30 31 32 33 34 35 36 37 38 39 40 41 42 43 44 45 46 47 48 49 50\n"
          ]
        }
      ]
    },
    {
      "cell_type": "code",
      "source": [
        "def num(n):\n",
        "  if n==31:\n",
        "    # print(n,end=\" \")\n",
        "    return\n",
        "  num(n+1)\n",
        "  print(n,end=\" \")\n",
        "num(1)"
      ],
      "metadata": {
        "colab": {
          "base_uri": "https://localhost:8080/"
        },
        "id": "ie47mymq1WAK",
        "outputId": "b1838bc3-20a3-4ab7-da5e-4a4411cbb0f4"
      },
      "execution_count": null,
      "outputs": [
        {
          "output_type": "stream",
          "name": "stdout",
          "text": [
            "30 29 28 27 26 25 24 23 22 21 20 19 18 17 16 15 14 13 12 11 10 9 8 7 6 5 4 3 2 1 "
          ]
        }
      ]
    },
    {
      "cell_type": "code",
      "source": [
        "#  sum of digit \n",
        "def num(n):\n",
        "  if n<10:\n",
        "    return n\n",
        "  return n%10+num(n//10)\n",
        "print(num(347))"
      ],
      "metadata": {
        "colab": {
          "base_uri": "https://localhost:8080/"
        },
        "id": "X6eRthb57Qes",
        "outputId": "5a7ade14-7064-451a-a72e-92770745c05d"
      },
      "execution_count": null,
      "outputs": [
        {
          "output_type": "stream",
          "name": "stdout",
          "text": [
            "14\n"
          ]
        }
      ]
    },
    {
      "cell_type": "code",
      "source": [
        "#  power of number \n",
        "def power(n,p):\n",
        "  if p==0:\n",
        "    return 1\n",
        "  if p==1:\n",
        "    return n\n",
        "  if p%2==1:\n",
        "    return n*(power(n,p//2)*power(n,p//2)) \n",
        "  return power(n,p//2)*power(n,p//2)\n",
        "print(power(2,5))"
      ],
      "metadata": {
        "colab": {
          "base_uri": "https://localhost:8080/"
        },
        "id": "o_2BfTTxC7nm",
        "outputId": "22b2d03e-4ab9-45f4-99f0-e6c94b082e2a"
      },
      "execution_count": null,
      "outputs": [
        {
          "output_type": "stream",
          "name": "stdout",
          "text": [
            "32\n"
          ]
        }
      ]
    },
    {
      "cell_type": "code",
      "source": [
        "# 2. Write a program in Python to calculate the sum of numbers from 1 to n using\n",
        "def sum(n):\n",
        "  if n>1:\n",
        "    return n+sum(n-1)\n",
        "  return 1\n",
        "print(sum(int(input(\"enter the number :\"))))"
      ],
      "metadata": {
        "colab": {
          "base_uri": "https://localhost:8080/"
        },
        "id": "rNeG7OuBSS1W",
        "outputId": "01eb7cea-5f91-436e-df09-64af4092e956"
      },
      "execution_count": null,
      "outputs": [
        {
          "output_type": "stream",
          "name": "stdout",
          "text": [
            "enter the number :5\n",
            "15\n"
          ]
        }
      ]
    },
    {
      "cell_type": "code",
      "source": [
        "# 3. Write a program in Python to Print Fibonacci Series using recursion.\n",
        "a=0\n",
        "b=1\n",
        "def febu(n):\n",
        "  global a,b\n",
        "  if n>0:\n",
        "    print(a,end=\" \")\n",
        "    c=a+b\n",
        "    a=b\n",
        "    b=c\n",
        "    return febu(n-1)\n",
        "  return a \n",
        "print(\"FIBONACCI SERIES :\",end=\" \")\n",
        "print(febu(10))"
      ],
      "metadata": {
        "colab": {
          "base_uri": "https://localhost:8080/"
        },
        "id": "OiGS7_teT3XP",
        "outputId": "a75dc08b-9698-4fe0-aee8-d4176f020404"
      },
      "execution_count": null,
      "outputs": [
        {
          "output_type": "stream",
          "name": "stdout",
          "text": [
            "FIBONACCI SERIES : 0 1 1 2 3 5 8 13 21 34 55\n"
          ]
        }
      ]
    },
    {
      "cell_type": "code",
      "source": [
        "# febonaci serias  \n",
        "def feb(a,index):\n",
        "  if index==1:\n",
        "    a[2]=a[0]+a[1]\n",
        "    return\n",
        "  feb(a,index-1)\n",
        "  a[index]=a[index-1]+a[index-2]\n",
        "a=[0,1,0,0,0,0]\n",
        "feb(a,5)\n",
        "print(a)\n"
      ],
      "metadata": {
        "colab": {
          "base_uri": "https://localhost:8080/"
        },
        "id": "5G8xKqNTLblZ",
        "outputId": "af73d391-88e4-4dd5-b71c-c774055d927d"
      },
      "execution_count": null,
      "outputs": [
        {
          "output_type": "stream",
          "name": "stdout",
          "text": [
            "[0, 1, 1, 2, 3, 5]\n"
          ]
        }
      ]
    },
    {
      "cell_type": "code",
      "source": [
        "# 4. Write a program in Python to print the array elements using recursion.\n",
        "def array(n):\n",
        "  if n==0:\n",
        "    return l\n",
        "  l.append(int(input(\"num :\")))\n",
        "  return array(n-1)\n",
        "l=[]\n",
        "print(array(int(input(\"Enter Size Of Array: \"))))"
      ],
      "metadata": {
        "colab": {
          "base_uri": "https://localhost:8080/"
        },
        "id": "32izXEuVa10F",
        "outputId": "f605d7fb-c23c-4f1d-85ea-2ea56ecd949d"
      },
      "execution_count": null,
      "outputs": [
        {
          "output_type": "stream",
          "name": "stdout",
          "text": [
            "Enter Size Of Array: 4\n",
            "num :2\n",
            "num :5\n",
            "num :4\n",
            "num :1\n",
            "[2, 5, 4, 1]\n"
          ]
        }
      ]
    },
    {
      "cell_type": "code",
      "source": [
        "# 5. Write a program in Python to count the digits of a given number using recursion.\n",
        "def count_d(n):\n",
        "  if n<10:\n",
        "    return 1\n",
        "  return 1+count_d(n//10)\n",
        "print(count_d(int(input(\"enter the num :\"))))"
      ],
      "metadata": {
        "colab": {
          "base_uri": "https://localhost:8080/"
        },
        "id": "NusD4mw1xXqP",
        "outputId": "75490833-2384-467c-f2f7-1a4fdb8ed8c2"
      },
      "execution_count": null,
      "outputs": [
        {
          "output_type": "stream",
          "name": "stdout",
          "text": [
            "enter the num :7676565\n",
            "7\n"
          ]
        }
      ]
    },
    {
      "cell_type": "code",
      "source": [
        "\n",
        "def count_d(n):\n",
        "  if n>0:\n",
        "    a=n%10\n",
        "    return 1+count_d(n//10)\n",
        "  return 0\n",
        "print(count_d(int(input(\"enter the num :\"))))"
      ],
      "metadata": {
        "colab": {
          "base_uri": "https://localhost:8080/"
        },
        "id": "cnkWkVwt7Y2Q",
        "outputId": "d8bcb72b-e056-4388-a752-8576055955bb"
      },
      "execution_count": null,
      "outputs": [
        {
          "output_type": "stream",
          "name": "stdout",
          "text": [
            "enter the num :675768\n",
            "6\n"
          ]
        }
      ]
    },
    {
      "cell_type": "code",
      "source": [
        "# 6. Write a program in Python to find the sum of digits of a number using recursion.\n",
        "def count_d(n):\n",
        "  if n==0:\n",
        "    return 0\n",
        "  else:\n",
        "    a=n%10\n",
        "    return a+count_d(n//10)\n",
        "print(count_d(int(input(\"enter the num :\"))))\n"
      ],
      "metadata": {
        "colab": {
          "base_uri": "https://localhost:8080/"
        },
        "id": "v_aXhVwl2mJj",
        "outputId": "08d4371a-2fa7-4a43-a4dc-18acef12c821"
      },
      "execution_count": null,
      "outputs": [
        {
          "output_type": "stream",
          "name": "stdout",
          "text": [
            "enter the num :23\n",
            "5\n"
          ]
        }
      ]
    },
    {
      "cell_type": "code",
      "source": [
        "def sum1(n):\n",
        "  if n<10:\n",
        "    return n\n",
        "  return n%10+sum1(n//10)\n",
        "print(sum1(112))"
      ],
      "metadata": {
        "colab": {
          "base_uri": "https://localhost:8080/"
        },
        "id": "xEn8mxgyMN8u",
        "outputId": "23d81de1-5129-40e1-a251-4daa814c19a2"
      },
      "execution_count": null,
      "outputs": [
        {
          "output_type": "stream",
          "name": "stdout",
          "text": [
            "4\n"
          ]
        }
      ]
    },
    {
      "cell_type": "code",
      "source": [
        "# 8. Write a program in Python to get the largest element of an array using\n",
        "def array(n):\n",
        "  if n==0:\n",
        "    l.sort()\n",
        "    return l,l[-1]\n",
        "  else:\n",
        "    l.append(int(input(\"num :\")))\n",
        "    return array(n-1)\n",
        "l=[]\n",
        "print(array(int(input(\"Enter Size Of Array: \"))))"
      ],
      "metadata": {
        "colab": {
          "base_uri": "https://localhost:8080/"
        },
        "id": "QQdjMjUBctzl",
        "outputId": "1268f502-5b88-499d-e606-7b33fb1d049d"
      },
      "execution_count": null,
      "outputs": [
        {
          "output_type": "stream",
          "name": "stdout",
          "text": [
            "Enter Size Of Array: 4\n",
            "num :12\n",
            "num :78\n",
            "num :-98\n",
            "num :56\n",
            "([-98, 12, 56, 78], 78)\n"
          ]
        }
      ]
    },
    {
      "cell_type": "code",
      "source": [
        "# find max number in the array\n",
        "def maxi(max1,i):\n",
        "  if i==len(a):\n",
        "    return max1\n",
        "  elif a[i]>max1:\n",
        "    return maxi(a[i],i+1)\n",
        "  return maxi(max1,i+1)\n",
        "a=[12,45,67,43,21]\n",
        "print(maxi(a[0],1))"
      ],
      "metadata": {
        "colab": {
          "base_uri": "https://localhost:8080/"
        },
        "id": "ej-tmcHVfb-L",
        "outputId": "b7b0e9ca-f0da-414e-ed04-0a2231b8b6d7"
      },
      "execution_count": null,
      "outputs": [
        {
          "output_type": "stream",
          "name": "stdout",
          "text": [
            "67\n"
          ]
        }
      ]
    },
    {
      "cell_type": "code",
      "source": [
        "max=int(input(\"first iteam of array :\"))\n",
        "def array(n):\n",
        "  global max\n",
        "  l.append(max)\n",
        "  if n==0:\n",
        "\n",
        "    return l,max\n",
        "  else:\n",
        "    a=int(input(\"num :\"))\n",
        "    if a>max:\n",
        "      max=a\n",
        "    l.append(a)\n",
        "    return array(n-1)\n",
        "l=[]\n",
        "print(array(int(input(\"Enter Size Of Array: \"))))"
      ],
      "metadata": {
        "colab": {
          "base_uri": "https://localhost:8080/"
        },
        "id": "CfXedQdylIKF",
        "outputId": "6ed5a76b-6767-4325-eb82-6da191a977be"
      },
      "execution_count": null,
      "outputs": [
        {
          "output_type": "stream",
          "name": "stdout",
          "text": [
            "first iteam of array :9\n",
            "Enter Size Of Array: 4\n",
            "num :1\n",
            "num :2\n",
            "num :4\n",
            "num :7\n",
            "([9, 1, 9, 2, 9, 4, 9, 7, 9], 9)\n"
          ]
        }
      ]
    },
    {
      "cell_type": "code",
      "source": [
        "def gcd(a,b):\n",
        "  if a>b:\n",
        "    if b==0:\n",
        "      return a\n",
        "    c=a%b\n",
        "    a=b\n",
        "    b=c\n",
        "    return gcd(a,b)\n",
        "  else:\n",
        "    if b==0:\n",
        "      return b\n",
        "    c=b%a\n",
        "    b=a\n",
        "    a=c\n",
        "    return gcd(b,a)\n",
        "print(\"GCD\",gcd(36,12))"
      ],
      "metadata": {
        "colab": {
          "base_uri": "https://localhost:8080/"
        },
        "id": "6ebiTs9eQA8w",
        "outputId": "1d10080d-e87d-4c22-ab41-c5092cdb714d"
      },
      "execution_count": null,
      "outputs": [
        {
          "output_type": "stream",
          "name": "stdout",
          "text": [
            "GCD 12\n"
          ]
        }
      ]
    },
    {
      "cell_type": "code",
      "source": [
        "# 7. Write a program in Python to find the GCD of two numbers using recursion.\n",
        "def gcd(a,b):\n",
        "  if b==0:\n",
        "    return a\n",
        "  else:\n",
        "    return gcd(b,a%b)\n",
        "print(gcd(10,35)) "
      ],
      "metadata": {
        "id": "Ja8ovjqFUR6R",
        "colab": {
          "base_uri": "https://localhost:8080/"
        },
        "outputId": "89ccf0b1-97ea-4390-d670-61dc2ba8b520"
      },
      "execution_count": null,
      "outputs": [
        {
          "output_type": "stream",
          "name": "stdout",
          "text": [
            "5\n"
          ]
        }
      ]
    },
    {
      "cell_type": "code",
      "source": [
        "# 9. Write a program in Python to reverse a string using recursion.\n",
        "def rev(s,i=-1):\n",
        "  if i==-(len(s)+1):\n",
        "    return \"\"\n",
        "  return s[i]+rev(s,i-1)\n",
        "print(rev(input(\"enter string :\")))\n"
      ],
      "metadata": {
        "id": "kB40-JqagMJg",
        "colab": {
          "base_uri": "https://localhost:8080/"
        },
        "outputId": "80c71141-fdbc-4c23-a0b7-b3a76fc221e7"
      },
      "execution_count": null,
      "outputs": [
        {
          "output_type": "stream",
          "name": "stdout",
          "text": [
            "enter string :pinki\n",
            "iknip\n"
          ]
        }
      ]
    },
    {
      "cell_type": "code",
      "source": [
        "# 10. Write a program in Python to find the Factorial of a number using recursion.\n",
        "def count_d(n):\n",
        "  if n==0:\n",
        "    return 1\n",
        "  else:\n",
        "    return n*count_d(n-1)\n",
        "print(count_d(int(input(\"enter the num :\"))))\n"
      ],
      "metadata": {
        "colab": {
          "base_uri": "https://localhost:8080/"
        },
        "id": "_hB2XqLAcOlz",
        "outputId": "d6672110-1806-4c4f-ca63-d2f93732c7a5"
      },
      "execution_count": null,
      "outputs": [
        {
          "output_type": "stream",
          "name": "stdout",
          "text": [
            "enter the num :5\n",
            "120\n"
          ]
        }
      ]
    },
    {
      "cell_type": "code",
      "source": [
        "# 11. Write a program in python to convert a decimal number to binary using recursion.\n",
        "def bin(n):\n",
        "  if n==0:\n",
        "    return \"\"\n",
        "  return bin(n//2)+str(n%2)\n",
        "print(bin(4))"
      ],
      "metadata": {
        "colab": {
          "base_uri": "https://localhost:8080/"
        },
        "id": "9-9QGvsSLIsR",
        "outputId": "9e479cbc-0efb-41da-985d-f172e7e56945"
      },
      "execution_count": null,
      "outputs": [
        {
          "output_type": "stream",
          "name": "stdout",
          "text": [
            "100\n"
          ]
        }
      ]
    },
    {
      "cell_type": "code",
      "source": [
        "def binary(num):\n",
        "  if num==0:\n",
        "    return \"\"\n",
        "  else:\n",
        "    a=num%2\n",
        "    return str(a)+binary(num//2)\n",
        "c=binary(int(input(\"enter num :\")))\n",
        "print(c[::-1])"
      ],
      "metadata": {
        "colab": {
          "base_uri": "https://localhost:8080/"
        },
        "id": "It7XzwELm_MS",
        "outputId": "95869746-d3f7-42c1-9546-4d9579b0100a"
      },
      "execution_count": null,
      "outputs": [
        {
          "output_type": "stream",
          "name": "stdout",
          "text": [
            "enter num :10\n",
            "1010\n"
          ]
        }
      ]
    },
    {
      "cell_type": "code",
      "source": [
        "# 12. Write a program in Python to check whether a number is a prime number or not using recursion.\n",
        "c=0\n",
        "def prime(num,i=1):\n",
        "  global c\n",
        "  if i>(num**1/2):\n",
        "    if c==1:\n",
        "      return num,\"is Prime number\"\n",
        "    else:\n",
        "      return num,\"is Not Prime \"\n",
        "  else:\n",
        "    if num%i==0:\n",
        "      c+=1\n",
        "    return prime(num,i+1)\n",
        "print(prime(int(input(\"enter num :\"))))"
      ],
      "metadata": {
        "id": "6OsBIkMSnezo",
        "colab": {
          "base_uri": "https://localhost:8080/"
        },
        "outputId": "2ce2f75b-3f46-4a20-bea2-cfe9cb71c0c3"
      },
      "execution_count": null,
      "outputs": [
        {
          "output_type": "stream",
          "name": "stdout",
          "text": [
            "enter num :9\n",
            "(9, 'is Not Prime ')\n"
          ]
        }
      ]
    },
    {
      "cell_type": "code",
      "source": [
        "# 13. Write a program in Python to find the LCM of two numbers using recursion.\n",
        "a=int(input(\"A:\"))\n",
        "b=int(input(\"B:\"))\n",
        "if a>b:\n",
        "  grater=a\n",
        "else:\n",
        "  grater=b\n",
        "def lcm1(grater):\n",
        "  if grater%a==0 and grater%b==0:\n",
        "    return grater\n",
        "  else:\n",
        "    return lcm1(grater+1)\n",
        "print(\"lcm:\",lcm1(grater))"
      ],
      "metadata": {
        "colab": {
          "base_uri": "https://localhost:8080/"
        },
        "id": "XYBiAvZKv-oc",
        "outputId": "19677478-b64a-4634-d47d-4273275775d9"
      },
      "execution_count": null,
      "outputs": [
        {
          "output_type": "stream",
          "name": "stdout",
          "text": [
            "A:23\n",
            "B:34\n",
            "lcm:  782\n"
          ]
        }
      ]
    },
    {
      "cell_type": "code",
      "source": [
        "# 14. Write a program in Python to print even or odd numbers in a given ranget()\n",
        "E_N=''\n",
        "O_N=''\n",
        "def num(i,n):\n",
        "  global E_N\n",
        "  global O_N\n",
        "  if i>n:\n",
        "      print(\"even number :\",E_N)\n",
        "      print(\"even number :\",O_N)\n",
        "      return \n",
        "  else:\n",
        "    if i%2==0:\n",
        "      E_N+=str(i)+\" , \"\n",
        "    else:\n",
        "      O_N+=str(i)+\" , \"\n",
        "    return num(i+1,n)\n",
        "num(int(input(\"first number :\")),int(input(\"second num :\")))"
      ],
      "metadata": {
        "colab": {
          "base_uri": "https://localhost:8080/"
        },
        "id": "rstAq21E5_ds",
        "outputId": "2f424cc9-ac97-4bfb-96c7-4e9dc85a2657"
      },
      "execution_count": null,
      "outputs": [
        {
          "output_type": "stream",
          "name": "stdout",
          "text": [
            "first number :5\n",
            "second num :100\n",
            "even number : 6 , 8 , 10 , 12 , 14 , 16 , 18 , 20 , 22 , 24 , 26 , 28 , 30 , 32 , 34 , 36 , 38 , 40 , 42 , 44 , 46 , 48 , 50 , 52 , 54 , 56 , 58 , 60 , 62 , 64 , 66 , 68 , 70 , 72 , 74 , 76 , 78 , 80 , 82 , 84 , 86 , 88 , 90 , 92 , 94 , 96 , 98 , 100 , \n",
            "even number : 5 , 7 , 9 , 11 , 13 , 15 , 17 , 19 , 21 , 23 , 25 , 27 , 29 , 31 , 33 , 35 , 37 , 39 , 41 , 43 , 45 , 47 , 49 , 51 , 53 , 55 , 57 , 59 , 61 , 63 , 65 , 67 , 69 , 71 , 73 , 75 , 77 , 79 , 81 , 83 , 85 , 87 , 89 , 91 , 93 , 95 , 97 , 99 , \n"
          ]
        }
      ]
    },
    {
      "cell_type": "code",
      "source": [
        "# 15. Write a program in Python to multiply two matrices using recursion."
      ],
      "metadata": {
        "id": "Vds5XnD3HBbo"
      },
      "execution_count": null,
      "outputs": []
    },
    {
      "cell_type": "code",
      "source": [
        "# 16. Write a program in Python to Check whether a given String is Palindrome or not.\n",
        "def rev(s,i=-1):\n",
        "  global r\n",
        "  if i==-(len(s)+1):\n",
        "    if s==r:\n",
        "      return \"This is Palindrome \"\n",
        "    else:\n",
        "      return \"This is Not Palindrome \"\n",
        "  else:\n",
        "    r+=s[i]\n",
        "    return rev(s,i-1)\n",
        "r=''\n",
        "print(rev(input(\"enter string :\")))\n"
      ],
      "metadata": {
        "id": "ae4aAKXtLvuK",
        "colab": {
          "base_uri": "https://localhost:8080/"
        },
        "outputId": "e8754660-8f89-4f1b-d718-ad8d35d8db44"
      },
      "execution_count": null,
      "outputs": [
        {
          "output_type": "stream",
          "name": "stdout",
          "text": [
            "enter string :mom\n",
            "This is Palindrome \n"
          ]
        }
      ]
    },
    {
      "cell_type": "code",
      "source": [
        "# 18. Write a program in Python to find the Hailstone Sequence of a given number upto 1.\n",
        "def hail(n):\n",
        "  if n==1:\n",
        "    print(1)\n",
        "  if n%2==0:\n",
        "    return 3n+1\n",
        "  "
      ],
      "metadata": {
        "id": "NG_94SQkJof3"
      },
      "execution_count": null,
      "outputs": []
    },
    {
      "cell_type": "code",
      "source": [
        "N=int(input())\n",
        "C=list(map(int,input().split()))\n",
        "a=[]\n",
        "b=[]\n",
        "p=0\n",
        "A=C.index(max(C))\n",
        "for j in range(N):\n",
        "    if C[0]==max(C):\n",
        "        p=1\n",
        "        break\n",
        "    elif j<A:\n",
        "        a.append(str(C[j]))\n",
        "    else:\n",
        "        b.append(str(C[j]))\n",
        "if p==1:\n",
        "    print(-1)\n",
        "else:\n",
        "    print(A)\n",
        "    print(\"\".join(a))\n",
        "    print(len(C)-A)\n",
        "    print(\"\".join(b))"
      ],
      "metadata": {
        "id": "UvfQFVzKHeRY"
      },
      "execution_count": null,
      "outputs": []
    },
    {
      "cell_type": "code",
      "source": [
        "##################  STRING   ###############################"
      ],
      "metadata": {
        "id": "uOprvuDT4nb5"
      },
      "execution_count": null,
      "outputs": []
    },
    {
      "cell_type": "code",
      "source": [
        "a=\"pinki kumari\"\n",
        "print(a.split())"
      ],
      "metadata": {
        "colab": {
          "base_uri": "https://localhost:8080/"
        },
        "id": "6wVgA8KJ4qwI",
        "outputId": "92cf9d29-3077-4001-b1d6-88825bb383c7"
      },
      "execution_count": null,
      "outputs": [
        {
          "output_type": "stream",
          "name": "stdout",
          "text": [
            "['pinki', 'kumari']\n"
          ]
        }
      ]
    },
    {
      "cell_type": "code",
      "source": [
        "a=\"hello world\"\n",
        "print(a.split(\"o\"))"
      ],
      "metadata": {
        "colab": {
          "base_uri": "https://localhost:8080/"
        },
        "id": "7jp6XR4V5BuH",
        "outputId": "50273de5-1e77-4247-83c0-4433195ed2d4"
      },
      "execution_count": null,
      "outputs": [
        {
          "output_type": "stream",
          "name": "stdout",
          "text": [
            "['hell', ' w', 'rld']\n"
          ]
        }
      ]
    },
    {
      "cell_type": "code",
      "source": [
        "a='pinki'\n",
        "b='kumari'\n",
        "c=a+b\n",
        "print(c)\n",
        "print(a+\" \"+b)\n",
        "print(a*2)"
      ],
      "metadata": {
        "colab": {
          "base_uri": "https://localhost:8080/"
        },
        "id": "NFpNJyWr59kE",
        "outputId": "e003beea-9350-48ea-99ac-f398525eef4b"
      },
      "execution_count": null,
      "outputs": [
        {
          "output_type": "stream",
          "name": "stdout",
          "text": [
            "pinkikumari\n",
            "pinki kumari\n",
            "pinkipinki\n"
          ]
        }
      ]
    },
    {
      "cell_type": "code",
      "source": [
        "a='Ha'\n",
        "b='Ha'\n",
        "print(a*b)"
      ],
      "metadata": {
        "colab": {
          "base_uri": "https://localhost:8080/",
          "height": 202
        },
        "id": "6otVTvHs7WTt",
        "outputId": "49cdfa9e-81e6-4af7-81af-4cb25306bd98"
      },
      "execution_count": null,
      "outputs": [
        {
          "output_type": "error",
          "ename": "TypeError",
          "evalue": "ignored",
          "traceback": [
            "\u001b[0;31m---------------------------------------------------------------------------\u001b[0m",
            "\u001b[0;31mTypeError\u001b[0m                                 Traceback (most recent call last)",
            "\u001b[0;32m<ipython-input-7-ea9e73d5f278>\u001b[0m in \u001b[0;36m<module>\u001b[0;34m\u001b[0m\n\u001b[1;32m      1\u001b[0m \u001b[0ma\u001b[0m\u001b[0;34m=\u001b[0m\u001b[0;34m'Ha'\u001b[0m\u001b[0;34m\u001b[0m\u001b[0;34m\u001b[0m\u001b[0m\n\u001b[1;32m      2\u001b[0m \u001b[0mb\u001b[0m\u001b[0;34m=\u001b[0m\u001b[0;34m'Ha'\u001b[0m\u001b[0;34m\u001b[0m\u001b[0;34m\u001b[0m\u001b[0m\n\u001b[0;32m----> 3\u001b[0;31m \u001b[0mprint\u001b[0m\u001b[0;34m(\u001b[0m\u001b[0ma\u001b[0m\u001b[0;34m*\u001b[0m\u001b[0mb\u001b[0m\u001b[0;34m)\u001b[0m\u001b[0;34m\u001b[0m\u001b[0;34m\u001b[0m\u001b[0m\n\u001b[0m",
            "\u001b[0;31mTypeError\u001b[0m: can't multiply sequence by non-int of type 'str'"
          ]
        }
      ]
    },
    {
      "cell_type": "code",
      "source": [
        "age=20\n",
        "print(\"My age is\",age)\n",
        "print(\"I am\",age,\"years old.\")\n"
      ],
      "metadata": {
        "colab": {
          "base_uri": "https://localhost:8080/"
        },
        "id": "PVj97gT572GD",
        "outputId": "fca8f2b9-a5f3-4ee9-cec3-2db173c4bb48"
      },
      "execution_count": null,
      "outputs": [
        {
          "output_type": "stream",
          "name": "stdout",
          "text": [
            "My age is 20\n",
            "I am 20 years old.\n"
          ]
        }
      ]
    },
    {
      "cell_type": "code",
      "source": [
        "a=20\n",
        "b=6\n",
        "c=\"I have brought {} pens for {} repees.\"\n",
        "print(c.format(b,a))\n"
      ],
      "metadata": {
        "colab": {
          "base_uri": "https://localhost:8080/",
          "height": 132
        },
        "id": "2xO0pphs9eyk",
        "outputId": "c5416207-f8eb-4765-995e-577bc2865e20"
      },
      "execution_count": null,
      "outputs": [
        {
          "output_type": "error",
          "ename": "SyntaxError",
          "evalue": "ignored",
          "traceback": [
            "\u001b[0;36m  File \u001b[0;32m\"<ipython-input-12-c875994da096>\"\u001b[0;36m, line \u001b[0;32m5\u001b[0m\n\u001b[0;31m    print(type((a,b))\u001b[0m\n\u001b[0m                     ^\u001b[0m\n\u001b[0;31mSyntaxError\u001b[0m\u001b[0;31m:\u001b[0m unexpected EOF while parsing\n"
          ]
        }
      ]
    },
    {
      "cell_type": "code",
      "source": [
        "a='a9'\n",
        "print(a.isdigit())\n",
        "print(a.isnumaric())"
      ],
      "metadata": {
        "colab": {
          "base_uri": "https://localhost:8080/",
          "height": 219
        },
        "id": "-9kpn-cVBQNt",
        "outputId": "39f2aacd-8db3-4450-b2a7-f33b779501a3"
      },
      "execution_count": null,
      "outputs": [
        {
          "output_type": "stream",
          "name": "stdout",
          "text": [
            "False\n"
          ]
        },
        {
          "output_type": "error",
          "ename": "AttributeError",
          "evalue": "ignored",
          "traceback": [
            "\u001b[0;31m---------------------------------------------------------------------------\u001b[0m",
            "\u001b[0;31mAttributeError\u001b[0m                            Traceback (most recent call last)",
            "\u001b[0;32m<ipython-input-20-9bdecb482139>\u001b[0m in \u001b[0;36m<module>\u001b[0;34m\u001b[0m\n\u001b[1;32m      1\u001b[0m \u001b[0ma\u001b[0m\u001b[0;34m=\u001b[0m\u001b[0;34m'a9'\u001b[0m\u001b[0;34m\u001b[0m\u001b[0;34m\u001b[0m\u001b[0m\n\u001b[1;32m      2\u001b[0m \u001b[0mprint\u001b[0m\u001b[0;34m(\u001b[0m\u001b[0ma\u001b[0m\u001b[0;34m.\u001b[0m\u001b[0misdigit\u001b[0m\u001b[0;34m(\u001b[0m\u001b[0;34m)\u001b[0m\u001b[0;34m)\u001b[0m\u001b[0;34m\u001b[0m\u001b[0;34m\u001b[0m\u001b[0m\n\u001b[0;32m----> 3\u001b[0;31m \u001b[0mprint\u001b[0m\u001b[0;34m(\u001b[0m\u001b[0ma\u001b[0m\u001b[0;34m.\u001b[0m\u001b[0misnumaric\u001b[0m\u001b[0;34m(\u001b[0m\u001b[0;34m)\u001b[0m\u001b[0;34m)\u001b[0m\u001b[0;34m\u001b[0m\u001b[0;34m\u001b[0m\u001b[0m\n\u001b[0m",
            "\u001b[0;31mAttributeError\u001b[0m: 'str' object has no attribute 'isnumaric'"
          ]
        }
      ]
    },
    {
      "cell_type": "code",
      "source": [
        "print(chr(44))\n",
        "print(ord('₹'))"
      ],
      "metadata": {
        "colab": {
          "base_uri": "https://localhost:8080/"
        },
        "id": "xQ2t9i-xGCOA",
        "outputId": "61000b7f-1530-4a5b-eb7d-8a3c00b900a3"
      },
      "execution_count": null,
      "outputs": [
        {
          "output_type": "stream",
          "name": "stdout",
          "text": [
            ",\n",
            "8377\n"
          ]
        }
      ]
    },
    {
      "cell_type": "code",
      "source": [
        "a=[1,3,4,6,3,2,2,1,1]\n",
        "b={}\n",
        "for i in a :\n",
        "    if i not in b.keys():\n",
        "        b[i]=0\n",
        "    b[i]+=1\n",
        "print(b)\n"
      ],
      "metadata": {
        "colab": {
          "base_uri": "https://localhost:8080/"
        },
        "id": "grUrggh0UUKZ",
        "outputId": "b07db020-eb91-44f5-c225-b42d95af66c4"
      },
      "execution_count": null,
      "outputs": [
        {
          "output_type": "stream",
          "name": "stdout",
          "text": [
            "{1: 3, 3: 2, 4: 1, 6: 1, 2: 2}\n"
          ]
        }
      ]
    },
    {
      "cell_type": "code",
      "source": [
        "n=int(input())\n",
        "a=[1,2,4,5,8,6]\n",
        "c=0\n",
        "if n%2==0:\n",
        "  i=n//2-1\n",
        "  q=0\n",
        "  while i>=0:\n",
        "    p=-(i+1)\n",
        "    if (a[i]+c)<=a[p]:\n",
        "      c=c+(a[p]-(a[i]+c))\n",
        "      i-=1\n",
        "    else:\n",
        "      q=1\n",
        "      break\n",
        "  if q==1:\n",
        "    print(-1)\n",
        "  else:\n",
        "    print(c)\n",
        " \n",
        "else:\n",
        "  i=len(n)//2\n",
        "    q=0\n",
        "  while i>=0:\n",
        "    p=-(i)\n",
        "    if (a[i]+c)<=a[p]:\n",
        "      c=c+(a[p]-(a[i]+c))\n",
        "      i-=1\n",
        "    else:\n",
        "      q=1\n",
        "      break\n",
        "  if q==1:\n",
        "    print(-1)\n",
        "  else:\n",
        "    print(c)\n"
      ],
      "metadata": {
        "id": "vzqnoHAEVsQo"
      },
      "execution_count": null,
      "outputs": []
    },
    {
      "cell_type": "code",
      "source": [],
      "metadata": {
        "colab": {
          "base_uri": "https://localhost:8080/"
        },
        "id": "3-a0fQiLqaJY",
        "outputId": "d191fd3e-914e-45d0-98c0-e4e167b2b4bc"
      },
      "execution_count": null,
      "outputs": [
        {
          "output_type": "stream",
          "name": "stdout",
          "text": [
            "[0, 1, 2, 0, 4, 0, 6, 0, 0]\n"
          ]
        }
      ]
    }
  ]
}