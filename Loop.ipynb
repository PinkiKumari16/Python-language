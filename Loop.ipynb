{
  "cells": [
    {
      "cell_type": "markdown",
      "metadata": {
        "id": "view-in-github",
        "colab_type": "text"
      },
      "source": [
        "<a href=\"https://colab.research.google.com/github/pinkikumari1/kbc/blob/main/Loop.ipynb\" target=\"_parent\"><img src=\"https://colab.research.google.com/assets/colab-badge.svg\" alt=\"Open In Colab\"/></a>"
      ]
    },
    {
      "cell_type": "code",
      "source": [
        "import time\n",
        "from random import randint\n",
        "\n",
        "for i in range(1,85):\n",
        "  print('')\n",
        "\n",
        "space=''\n",
        "for i in range(1,1000):\n",
        "  count=randint(1,100)\n",
        "  while(count>0):\n",
        "    space+=''\n",
        "    count-=1\n",
        "  if (i%10==0):\n",
        "    print(space+'            🥧          🎂           Happy Brithday!          💛           🥮            PINKI  KUMARI                     🍰')\n",
        "  elif(i%9==0):\n",
        "    print(space+'  🎂             💛')\n",
        "  elif(i%5==0):\n",
        "    print(space+'        💛')\n",
        "    print(\"🥧    PINKI  KUMARI                              PINKI  KUMARI         HAPPY BRITHDAY🎂     🎂         🎂      PINKI  KUMARI         🎂   \")\n",
        "  elif(i%8==0):\n",
        "    print(space+'                          🥳')\n",
        "  elif(i%7==0):\n",
        "    print(space+'       🍫     🍬                          🎂           🍭')\n",
        "  elif(i%6==0):\n",
        "    print(space+'Happy Brithday!    💖        💗             PINKI  KUMARI           💞    HAPPY BRITHDAY')\n",
        "  else:\n",
        "    print(space+\"\")\n",
        "  space=''\n",
        "  time.sleep(0.2)\n"
      ],
      "metadata": {
        "id": "7qEb-CYYCPw6"
      },
      "execution_count": null,
      "outputs": []
    },
    {
      "cell_type": "code",
      "source": [
        "a=int(input(\"number \"))\n",
        "i=1\n",
        "while i<=10:\n",
        "  print(a,\"*\",i,\"=\",a*i)\n",
        "  i+=1"
      ],
      "metadata": {
        "id": "Ooybgcxh_IXt",
        "colab": {
          "base_uri": "https://localhost:8080/"
        },
        "outputId": "03a65f07-9452-439e-c5bf-e70b365153c4"
      },
      "execution_count": null,
      "outputs": [
        {
          "output_type": "stream",
          "name": "stdout",
          "text": [
            "number 19\n",
            "19 * 1 = 19\n",
            "19 * 2 = 38\n",
            "19 * 3 = 57\n",
            "19 * 4 = 76\n",
            "19 * 5 = 95\n",
            "19 * 6 = 114\n",
            "19 * 7 = 133\n",
            "19 * 8 = 152\n",
            "19 * 9 = 171\n",
            "19 * 10 = 190\n"
          ]
        }
      ]
    },
    {
      "cell_type": "code",
      "source": [
        "p=int(input(\"write a number:-\"))\n",
        "i=1\n",
        "while i<=10:\n",
        "  print(p,\"*\",i,\"=\",p*i)\n",
        "  i+=1"
      ],
      "metadata": {
        "colab": {
          "base_uri": "https://localhost:8080/"
        },
        "id": "1rt1Nvx4ebLm",
        "outputId": "2f1d9ff6-80a4-47f9-ece3-cb3db24e3748"
      },
      "execution_count": null,
      "outputs": [
        {
          "output_type": "stream",
          "name": "stdout",
          "text": [
            "write a number:-10\n",
            "10 * 1 = 10\n",
            "10 * 2 = 20\n",
            "10 * 3 = 30\n",
            "10 * 4 = 40\n",
            "10 * 5 = 50\n",
            "10 * 6 = 60\n",
            "10 * 7 = 70\n",
            "10 * 8 = 80\n",
            "10 * 9 = 90\n",
            "10 * 10 = 100\n"
          ]
        }
      ]
    },
    {
      "cell_type": "code",
      "source": [
        "a=int(input(\"enter the number:=\"))\n",
        "i=1\n",
        "while i<=10:\n",
        "  print(\"*\"*i)\n",
        "  i+=1\n"
      ],
      "metadata": {
        "colab": {
          "base_uri": "https://localhost:8080/"
        },
        "id": "fjiWX7scjzMV",
        "outputId": "d1d74aae-1ec1-4dc9-99e1-440bfacf046f"
      },
      "execution_count": null,
      "outputs": [
        {
          "output_type": "stream",
          "name": "stdout",
          "text": [
            "enter the number:=6\n",
            "*\n",
            "**\n",
            "***\n",
            "****\n",
            "*****\n",
            "******\n",
            "*******\n",
            "********\n",
            "*********\n",
            "**********\n"
          ]
        }
      ]
    },
    {
      "cell_type": "code",
      "source": [
        "for row in range(6):\n",
        "  for col in range(7):\n",
        "    if (row==0 and col%3!=0) or (row==1 and col%3==0) or (row-col==2) or (row+col ==8):\n",
        "      print(\"💖\",end=\" \")\n",
        "    else:\n",
        "      print(\" \",end=\" \")\n",
        "  print()"
      ],
      "metadata": {
        "colab": {
          "base_uri": "https://localhost:8080/"
        },
        "id": "cX8aNNyHBy-X",
        "outputId": "1f98cb42-7512-4aaf-bded-8406a4e6c885"
      },
      "execution_count": 4,
      "outputs": [
        {
          "output_type": "stream",
          "name": "stdout",
          "text": [
            "  💖 💖   💖 💖   \n",
            "💖     💖     💖 \n",
            "💖           💖 \n",
            "  💖       💖   \n",
            "    💖   💖     \n",
            "      💖       \n"
          ]
        }
      ]
    },
    {
      "cell_type": "code",
      "source": [
        "import turtle\n",
        "\n",
        "wn=turtle.Screen()         \n",
        "wn.setup(768,768)         \n",
        "wn.title(\"codehub.py instagram\")\n",
        "wn.bgcolor(\"#444444\")\n",
        "\n",
        "\n",
        "#Radha\n",
        "b=turtle.Turtle()\n",
        "b.color('#40ffff')\n",
        "b.up()\n",
        "b.speed(0)\n",
        "b.seth(0)\n",
        "b.fd(22)\n",
        "b.seth(90)\n",
        "b.fd(103)\n",
        "\n",
        "b.pensize(5)\n",
        "b.down()\n",
        "#1 eye1 1\n",
        "b.seth(10)\n",
        "b.circle(-50,25)\n",
        "b.pensize(4)\n",
        "b.circle(-50,10)\n",
        "b.pensize(3)\n",
        "b.circle(-50,5)\n",
        "b.pensize(2)\n",
        "b.circle(-50,3)\n",
        "\n",
        "b.up()\n",
        "b.seth(180)\n",
        "b.fd(35)\n",
        "b.seth(-90)\n",
        "b.fd(14)\n",
        "b.down()\n",
        "#1 eye1 2\n",
        "b.seth(-46)\n",
        "b.fd(5)\n",
        "b.pensize(3)\n",
        "b.fd(10)\n",
        "b.pensize(4)\n",
        "b.fd(4)\n",
        "b.pensize(5)\n",
        "b.circle(25,62)\n",
        "b.pensize(4)\n",
        "b.seth(-48)\n",
        "b.fd(3)\n",
        "b.pensize(3)\n",
        "b.fd(4)\n",
        "b.pensize(2)\n",
        "b.fd(3)\n",
        "\n",
        "b.up()\n",
        "b.seth(45)\n",
        "b.fd(63)\n",
        "b.down()\n",
        "#1 eye2 1\n",
        "b.circle(-100,3)\n",
        "b.pensize(3)\n",
        "b.circle(-100,8)\n",
        "b.pensize(4)\n",
        "b.circle(-100,9)\n",
        "b.pensize(5)\n",
        "b.circle(-100,13)\n",
        "b.pensize(4)\n",
        "b.circle(-100,8)\n",
        "b.pensize(3)\n",
        "b.circle(-100,6)\n",
        "b.pensize(2)\n",
        "b.circle(-100,3)\n",
        "\n",
        "b.up()\n",
        "b.seth(-139)\n",
        "b.fd(103)\n",
        "b.down()\n",
        "#1 eye2 2\n",
        "b.seth(46)\n",
        "b.fd(4)\n",
        "b.pensize(3)\n",
        "b.fd(6)\n",
        "b.pensize(4)\n",
        "b.fd(6)\n",
        "b.seth(-5)\n",
        "b.circle(115,5)\n",
        "b.pensize(5)\n",
        "b.circle(115,10)\n",
        "b.pensize(6)\n",
        "b.circle(115,15)\n",
        "b.pensize(5)\n",
        "b.circle(115,10)\n",
        "b.pensize(4)\n",
        "b.circle(115,5)\n",
        "b.pensize(3)\n",
        "b.circle(115,5)\n",
        "b.pensize(2)\n",
        "b.circle(115,5)\n",
        "\n",
        "\n",
        "b.up()\n",
        "b.seth(176)\n",
        "b.fd(142)\n",
        "b.down()\n",
        "#2 pottu\n",
        "b.pensize(7)\n",
        "b.circle(2)\n",
        "\n",
        "b.pensize(4)\n",
        "b.up()\n",
        "b.seth(-94)\n",
        "b.fd(118)\n",
        "b.down()\n",
        "#3 nose\n",
        "b.seth(-125)\n",
        "b.circle(15,85)\n",
        "b.fd(10)\n",
        "\n",
        "b.pensize(3)\n",
        "b.up()\n",
        "b.seth(-115)\n",
        "b.fd(22)\n",
        "b.down()\n",
        "#3 mouth\n",
        "b.seth(28)\n",
        "b.fd(15)\n",
        "b.circle(-9,85)\n",
        "b.seth(75)\n",
        "b.circle(-9,83)\n",
        "b.circle(40,48)\n",
        "b.seth(-131)\n",
        "b.circle(-65,62)\n",
        "#b.pensize(3)\n",
        "b.up()\n",
        "b.seth(-70)\n",
        "b.fd(6)\n",
        "b.down()\n",
        "b.seth(-34)\n",
        "b.circle(35,80)\n",
        "\n",
        "\n",
        "b.pensize(2)\n",
        "b.up()\n",
        "b.seth(150)\n",
        "b.fd(99)\n",
        "b.down()\n",
        "#3 face\n",
        "b.seth(-67)\n",
        "b.fd(10)\n",
        "b.pensize(3)\n",
        "b.fd(40)\n",
        "b.circle(122,36)\n",
        "b.seth(0)\n",
        "b.fd(27)\n",
        "b.seth(27)\n",
        "b.circle(220,40)\n",
        "b.pensize(2)\n",
        "b.circle(220,5)\n",
        "\n",
        "b.pensize(3)\n",
        "b.up()\n",
        "b.seth(-60)\n",
        "b.fd(10)\n",
        "b.down()\n",
        "#3 hear1\n",
        "b.seth(-90)\n",
        "b.fd(32)\n",
        "b.seth(0)\n",
        "b.circle(-25,160)\n",
        "b.pensize(4)\n",
        "b.circle(-25,100)\n",
        "b.pensize(5)\n",
        "b.circle(-25,50)\n",
        "b.pensize(4)\n",
        "b.circle(-25,35)\n",
        "b.pensize(3)\n",
        "b.circle(-25,15)\n",
        "\n",
        "b.pensize(3)\n",
        "b.up()\n",
        "b.seth(-10)\n",
        "b.fd(40)\n",
        "b.down()\n",
        "#3 hear2\n",
        "b.seth(-90)\n",
        "b.fd(14)\n",
        "b.seth(0)\n",
        "b.circle(-10,160)\n",
        "b.pensize(4)\n",
        "b.circle(-10,100)\n",
        "b.pensize(5)\n",
        "b.circle(-10,50)\n",
        "b.pensize(4)\n",
        "b.circle(-10,35)\n",
        "b.pensize(3)\n",
        "b.circle(-10,15)\n",
        "\n",
        "\n",
        "b.pensize(4)\n",
        "b.up()\n",
        "b.seth(147)\n",
        "b.fd(315)\n",
        "b.down()\n",
        "#3 hair1\n",
        "b.seth(90)\n",
        "b.circle(-120,5)\n",
        "b.pensize(3)\n",
        "b.circle(-120,40)\n",
        "b.pensize(3)\n",
        "b.circle(-45,50)\n",
        "b.pensize(4)\n",
        "b.circle(-45,42)\n",
        "b.fd(70)\n",
        "b.seth(-38)\n",
        "b.fd(50)\n",
        "b.pensize(5)\n",
        "b.circle(-75,44)\n",
        "b.fd(50)\n",
        "b.circle(70,48)\n",
        "b.seth(-5)\n",
        "b.pensize(4)\n",
        "b.fd(20)\n",
        "b.circle(-7,82)\n",
        "b.pensize(3)\n",
        "b.fd(25)\n",
        "b.circle(-60,33)\n",
        "b.pensize(2)\n",
        "b.circle(-60,10)\n",
        "\n",
        "\n",
        "b.pensize(1)\n",
        "b.up()\n",
        "b.seth(-90)\n",
        "b.fd(15)\n",
        "b.seth(-179)\n",
        "b.fd(212)\n",
        "b.down()\n",
        "#3 hair2\n",
        "b.pensize(7)\n",
        "b.seth(80)\n",
        "b.circle(30,51)\n",
        "b.pensize(4)\n",
        "b.fd(18)\n",
        "b.pensize(7)\n",
        "b.seth(150)\n",
        "b.circle(-50,37)\n",
        "b.pensize(6)\n",
        "b.circle(-250,13)\n",
        "b.pensize(5)\n",
        "b.circle(-250,6)\n",
        "b.pensize(4)\n",
        "b.circle(-250,4)\n",
        "\n",
        "b.pensize(1)\n",
        "b.up()\n",
        "b.seth(56)\n",
        "b.fd(238)\n",
        "b.down()\n",
        "#3 hair3\n",
        "b.pensize(4)\n",
        "b.seth(-2)\n",
        "b.circle(-100,31)\n",
        "b.pensize(6)\n",
        "b.circle(-100,31)\n",
        "b.fd(80)\n",
        "b.pensize(4)\n",
        "b.fd(45)\n",
        "\n",
        "\n",
        "b.pensize(1)\n",
        "b.up()\n",
        "b.seth(133)\n",
        "b.fd(100)\n",
        "b.down()\n",
        "#3 hair4\n",
        "b.seth(-78)\n",
        "b.pensize(2)\n",
        "b.circle(132,5)\n",
        "b.pensize(3)\n",
        "b.circle(132,10)\n",
        "b.pensize(4)\n",
        "b.circle(132,20)\n",
        "b.pensize(5)\n",
        "b.circle(132,20)\n",
        "b.circle(-120,20)\n",
        "b.pensize(4)\n",
        "b.circle(-120,10)\n",
        "b.pensize(3)\n",
        "b.circle(-120,8)\n",
        "b.pensize(2)\n",
        "b.circle(-120,7)\n",
        "\n",
        "b.pensize(1)\n",
        "b.up()\n",
        "b.seth(144)\n",
        "b.fd(368)\n",
        "b.down()\n",
        "#3 hair5\n",
        "b.begin_fill()\n",
        "b.seth(45)\n",
        "b.circle(-35,92)\n",
        "b.fd(70)\n",
        "b.seth(-42)\n",
        "b.fd(30)\n",
        "b.circle(-80,14)\n",
        "b.fd(60)\n",
        "b.seth(152)\n",
        "b.circle(-220,27)\n",
        "b.seth(115)\n",
        "b.circle(220,20)\n",
        "b.circle(2,176)\n",
        "b.circle(-150,25)\n",
        "b.circle(281,27)\n",
        "b.seth(138)\n",
        "b.circle(-280,26)\n",
        "b.circle(280,16)\n",
        "b.circle(24,65)\n",
        "b.end_fill()\n",
        "b.ht()\n",
        "\n",
        "#Krishna\n",
        "\n",
        "c=turtle.Turtle()\n",
        "c.speed(0)\n",
        "c.color('#40ffff')\n",
        "c.up()\n",
        "c.seth(166)\n",
        "c.fd(200)\n",
        "c.down()\n",
        "#1 eye1 1\n",
        "c.pensize(4)\n",
        "c.seth(150)\n",
        "c.circle(70,13)\n",
        "c.pensize(5)\n",
        "c.circle(70,10)\n",
        "c.pensize(6)\n",
        "c.circle(70,10)\n",
        "c.pensize(7)\n",
        "c.circle(70,15)\n",
        "c.pensize(5)\n",
        "c.circle(70,8)\n",
        "c.pensize(3)\n",
        "c.circle(70,7)\n",
        "c.pensize(2)\n",
        "c.circle(70,5)\n",
        "\n",
        "\n",
        "c.up()\n",
        "c.seth(-19.5)\n",
        "c.fd(104)\n",
        "c.down()\n",
        "#1 eye1 2\n",
        "c.pensize(5)\n",
        "c.seth(137)\n",
        "c.fd(8)\n",
        "c.pensize(4)\n",
        "c.fd(5)\n",
        "c.circle(8,92)\n",
        "c.circle(-37,26)\n",
        "c.pensize(5)\n",
        "c.circle(-37,20)\n",
        "c.pensize(6)\n",
        "c.circle(-37,10)\n",
        "c.pensize(7)\n",
        "c.circle(-37,10)\n",
        "c.pensize(6)\n",
        "c.circle(-37,10)\n",
        "c.pensize(4)\n",
        "c.circle(-37,10)\n",
        "c.pensize(3)\n",
        "c.fd(8)\n",
        "c.pensize(2)\n",
        "c.fd(7)\n",
        "c.pensize(1)\n",
        "c.fd(5)\n",
        "\n",
        "c.up()\n",
        "c.seth(17.5)\n",
        "c.fd(123)\n",
        "c.down()\n",
        "#1 eye2 1\n",
        "c.pensize(5)\n",
        "c.seth(58)\n",
        "c.circle(-80,5)\n",
        "c.pensize(6)\n",
        "c.circle(-80,10)\n",
        "c.pensize(7)\n",
        "c.circle(-80,15)\n",
        "c.pensize(8)\n",
        "c.circle(-80,15)\n",
        "c.pensize(7)\n",
        "c.circle(-80,10)\n",
        "c.pensize(6)\n",
        "c.circle(-80,8)\n",
        "c.pensize(4)\n",
        "c.circle(-80,7)\n",
        "c.pensize(3)\n",
        "c.circle(-80,5)\n",
        "c.pensize(2)\n",
        "c.circle(-80,3)\n",
        "c.pensize(1)\n",
        "c.circle(-80,2)\n",
        "\n",
        "\n",
        "c.up()\n",
        "c.seth(-139)\n",
        "c.fd(118)\n",
        "c.down()\n",
        "#1 eye2 2\n",
        "c.pensize(5)\n",
        "c.seth(68)\n",
        "c.fd(6)\n",
        "c.pensize(4)\n",
        "c.fd(3)\n",
        "c.pensize(3)\n",
        "c.fd(6)\n",
        "c.circle(-12,57)\n",
        "c.pensize(4)\n",
        "c.circle(-12,20)\n",
        "c.pensize(5)\n",
        "c.circle(-12,10)\n",
        "c.pensize(6)\n",
        "c.circle(45,30)\n",
        "c.pensize(7)\n",
        "c.circle(45,20)\n",
        "c.pensize(6)\n",
        "c.circle(45,15)\n",
        "c.pensize(4)\n",
        "c.circle(45,8)\n",
        "c.pensize(3)\n",
        "c.circle(45,7)\n",
        "c.fd(17)\n",
        "c.pensize(2)\n",
        "c.fd(10)\n",
        "\n",
        "c.up()\n",
        "c.seth(163)\n",
        "c.fd(165)\n",
        "c.down()\n",
        "#2 pottu\n",
        "c.seth(-10)\n",
        "c.pensize(4)\n",
        "c.fd(5)\n",
        "c.seth(-45)\n",
        "c.circle(-50,30)\n",
        "c.pensize(5)\n",
        "c.circle(-50,10)\n",
        "c.pensize(6)\n",
        "c.fd(15)\n",
        "c.circle(45,39)\n",
        "c.circle(7,138)\n",
        "c.pensize(7)\n",
        "c.fd(30)\n",
        "c.pensize(6)\n",
        "c.fd(20)\n",
        "c.pensize(5)\n",
        "c.fd(10)\n",
        "c.pensize(4)\n",
        "c.fd(5)\n",
        "c.circle(-18,35)\n",
        "c.pensize(3)\n",
        "c.circle(-18,20)\n",
        "\n",
        "\n",
        "c.up()\n",
        "c.seth(-89.5)\n",
        "c.fd(167)\n",
        "c.down()\n",
        "#2 nose\n",
        "c.circle(45,40)\n",
        "\n",
        "\n",
        "c.up()\n",
        "c.seth(-120)\n",
        "c.fd(31)\n",
        "c.down()\n",
        "#3 mouth\n",
        "c.seth(27)\n",
        "c.fd(18)\n",
        "c.circle(-9,85)\n",
        "c.seth(78)\n",
        "c.circle(-10,98)\n",
        "c.circle(25,80)\n",
        "c.seth(-127)\n",
        "c.circle(-67,68)\n",
        "c.up()\n",
        "c.seth(-35)\n",
        "c.fd(13)\n",
        "c.down()\n",
        "c.seth(-30)\n",
        "c.circle(37,85)\n",
        "\n",
        "c.pensize(1)\n",
        "c.up()\n",
        "c.seth(151.5)\n",
        "c.fd(270)\n",
        "c.down()\n",
        "#3 head1\n",
        "c.begin_fill()\n",
        "c.seth(127)\n",
        "c.circle(-90,43)\n",
        "c.seth(45.5)\n",
        "c.fd(118)\n",
        "c.circle(-1,165)\n",
        "c.fd(74)\n",
        "c.circle(25,45)\n",
        "c.seth(-111)\n",
        "c.fd(50)\n",
        "c.seth(-40)\n",
        "c.fd(10)\n",
        "c.seth(61)\n",
        "c.fd(100)\n",
        "c.circle(-185,32)\n",
        "c.circle(1,175)\n",
        "c.circle(200,37)\n",
        "c.circle(-2.5,180)\n",
        "c.fd(48)\n",
        "c.seth(60)\n",
        "c.circle(-180,58)\n",
        "c.seth(173)\n",
        "c.circle(150,60)\n",
        "c.seth(-155)\n",
        "c.circle(238,33)\n",
        "c.seth(-92)\n",
        "c.circle(95,43)\n",
        "c.end_fill()\n",
        "\n",
        "c.up()\n",
        "c.seth(23)\n",
        "c.fd(55)\n",
        "c.down()\n",
        "#3 head2\n",
        "c.begin_fill()\n",
        "c.seth(52)\n",
        "c.circle(-400,24)\n",
        "c.seth(-165)\n",
        "c.circle(200,50)\n",
        "c.end_fill()\n",
        "\n",
        "c.up()\n",
        "c.seth(38)\n",
        "c.fd(150)\n",
        "c.down()\n",
        "#3 head3\n",
        "c.begin_fill()\n",
        "c.seth(2)\n",
        "c.circle(-180,20)\n",
        "c.seth(133)\n",
        "c.circle(55,70)\n",
        "c.end_fill()\n",
        "\n",
        "c.up()\n",
        "c.seth(9)\n",
        "c.fd(152)\n",
        "c.down()\n",
        "#3 head4\n",
        "c.begin_fill()\n",
        "c.seth(-20)\n",
        "c.circle(-50,98)\n",
        "c.seth(80)\n",
        "c.circle(70,65)\n",
        "c.end_fill()\n",
        "\n",
        "\n",
        "c.up()\n",
        "c.seth(-91)\n",
        "c.fd(80)\n",
        "c.down()\n",
        "#1 hair1\n",
        "c.seth(-35)\n",
        "c.pensize(3)\n",
        "c.circle(-25,45)\n",
        "c.pensize(4)\n",
        "c.circle(-25,50)\n",
        "c.pensize(5)\n",
        "c.circle(-10,70)\n",
        "c.pensize(5)\n",
        "c.circle(-18,80)\n",
        "c.circle(-11,150)\n",
        "c.pensize(4)\n",
        "c.circle(-11,60)\n",
        "c.pensize(3)\n",
        "c.circle(-11,30)\n",
        "c.pensize(2)\n",
        "c.circle(-11,20)\n",
        "c.pensize(1)\n",
        "c.circle(-11,10)\n",
        "\n",
        "c.up()\n",
        "c.seth(32)\n",
        "c.fd(29)\n",
        "c.down()\n",
        "#1 hair2\n",
        "c.seth(24)\n",
        "c.pensize(3)\n",
        "c.circle(-25,45)\n",
        "c.pensize(4)\n",
        "c.circle(-25,50)\n",
        "c.pensize(5)\n",
        "c.circle(-11,70)\n",
        "c.pensize(5)\n",
        "c.circle(-19,80)\n",
        "c.circle(-12,150)\n",
        "c.pensize(4)\n",
        "c.circle(-12,60)\n",
        "c.pensize(3)\n",
        "c.circle(-12,30)\n",
        "c.pensize(2)\n",
        "c.circle(-12,20)\n",
        "c.pensize(1)\n",
        "c.circle(-12,10)\n",
        "\n",
        "c.up()\n",
        "c.seth(170)\n",
        "c.fd(31)\n",
        "c.down()\n",
        "#1 hair3\n",
        "c.seth(-33)\n",
        "c.pensize(3)\n",
        "c.circle(-48,45)\n",
        "c.pensize(4)\n",
        "c.circle(-48,50)\n",
        "c.pensize(5)\n",
        "c.circle(-22,90)\n",
        "c.pensize(6)\n",
        "c.circle(-30,95)\n",
        "c.pensize(6)\n",
        "c.circle(-20,150)\n",
        "c.pensize(5)\n",
        "c.circle(-20,60)\n",
        "c.pensize(4)\n",
        "c.circle(-20,30)\n",
        "c.pensize(3)\n",
        "c.circle(-20,20)\n",
        "c.pensize(2)\n",
        "c.circle(-20,10)\n",
        "\n",
        "\n",
        "c.up()\n",
        "c.seth(169)\n",
        "c.fd(245)\n",
        "c.down()\n",
        "#2 hair1\n",
        "c.seth(-155)\n",
        "c.pensize(3)\n",
        "c.circle(25,45)\n",
        "c.pensize(4)\n",
        "c.circle(25,50)\n",
        "c.pensize(5)\n",
        "c.circle(10,85)\n",
        "c.pensize(6)\n",
        "c.circle(16,70)\n",
        "c.circle(10,150)\n",
        "c.pensize(4)\n",
        "c.circle(10,60)\n",
        "c.pensize(3)\n",
        "c.circle(10,30)\n",
        "c.pensize(2)\n",
        "c.circle(10,20)\n",
        "c.pensize(1)\n",
        "c.circle(10,10)\n",
        "\n",
        "c.up()\n",
        "c.seth(167)\n",
        "c.fd(23)\n",
        "c.down()\n",
        "#2 hair2\n",
        "c.seth(168)\n",
        "c.pensize(3)\n",
        "c.circle(25,45)\n",
        "c.pensize(4)\n",
        "c.circle(25,50)\n",
        "c.pensize(5)\n",
        "c.circle(12,85)\n",
        "c.pensize(6)\n",
        "c.circle(19,70)\n",
        "c.circle(11,150)\n",
        "c.pensize(4)\n",
        "c.circle(11,60)\n",
        "c.pensize(3)\n",
        "c.circle(11,30)\n",
        "c.pensize(2)\n",
        "c.circle(11,20)\n",
        "c.pensize(1)\n",
        "c.circle(11,10)\n",
        "\n",
        "c.up()\n",
        "c.seth(21)\n",
        "c.fd(30)\n",
        "c.down()\n",
        "#2 hair3\n",
        "c.seth(-148)\n",
        "c.pensize(3)\n",
        "c.circle(48,40)\n",
        "c.pensize(5)\n",
        "c.circle(48,50)\n",
        "c.pensize(6)\n",
        "c.circle(22,90)\n",
        "c.pensize(7)\n",
        "c.circle(30,95)\n",
        "c.pensize(6)\n",
        "c.circle(20,150)\n",
        "c.pensize(5)\n",
        "c.circle(20,60)\n",
        "c.pensize(4)\n",
        "c.circle(20,30)\n",
        "c.pensize(3)\n",
        "c.circle(20,20)\n",
        "c.pensize(2)\n",
        "c.circle(20,10)\n",
        "\n",
        "c.up()\n",
        "c.seth(33)\n",
        "c.fd(258)\n",
        "c.down()\n",
        "#1 peacock1\n",
        "c.pensize(3)\n",
        "c.seth(85)\n",
        "c.circle(150,25)\n",
        "\n",
        "c.pensize(1)\n",
        "c.up()\n",
        "c.seth(-88)\n",
        "c.fd(42)\n",
        "c.down()\n",
        "#1 peacock2\n",
        "c.begin_fill()\n",
        "c.seth(131)\n",
        "c.circle(-75,45)\n",
        "c.circle(-12,150)\n",
        "c.circle(-85,35)\n",
        "c.seth(88)\n",
        "c.circle(75,34)\n",
        "c.circle(5,137)\n",
        "c.circle(75,40)\n",
        "c.end_fill()\n",
        "\n",
        "c.up()\n",
        "c.seth(135)\n",
        "c.fd(15)\n",
        "c.down()\n",
        "#1 peacock3\n",
        "c.begin_fill()\n",
        "c.seth(140)\n",
        "c.circle(-65,77)\n",
        "c.circle(-20,125)\n",
        "c.circle(-85,45)\n",
        "c.seth(84)\n",
        "c.circle(75,32)\n",
        "c.circle(15,140)\n",
        "c.circle(65,47)\n",
        "c.end_fill()\n",
        "c.end_fill()\n",
        "\n",
        "c.up()\n",
        "c.seth(-110)\n",
        "c.fd(4)\n",
        "c.down()\n",
        "#1 peacock4\n",
        "c.begin_fill()\n",
        "c.seth(140)\n",
        "c.circle(-70,70)\n",
        "c.circle(-28,145)\n",
        "c.circle(-85,27)\n",
        "c.seth(54)\n",
        "c.circle(50,50)\n",
        "c.circle(-30,60)\n",
        "c.seth(-140)\n",
        "c.circle(50,35)\n",
        "c.seth(74)\n",
        "c.circle(100,36)\n",
        "c.seth(-82)\n",
        "c.circle(-70,35)\n",
        "c.seth(92)\n",
        "c.circle(55,50)\n",
        "c.circle(-35,65)\n",
        "c.seth(-135)\n",
        "c.circle(125,70)\n",
        "c.seth(140)\n",
        "c.circle(-80,50)\n",
        "c.seth(-94)\n",
        "c.circle(100,70)\n",
        "c.end_fill()\n",
        "c.ht()\n",
        "\n",
        "\n",
        "#pullangulal\n",
        "\n",
        "d=turtle.Turtle()\n",
        "d.speed(0)\n",
        "d.color('#40ffff')\n",
        "d.up()\n",
        "d.seth(-159)\n",
        "d.fd(296)\n",
        "d.down()\n",
        "#1 \n",
        "d.pensize(3)\n",
        "d.seth(-90)\n",
        "d.begin_fill()\n",
        "d.fd(18)\n",
        "d.seth(-179)\n",
        "d.fd(20)\n",
        "d.seth(90)\n",
        "d.fd(18)\n",
        "d.seth(1)\n",
        "d.fd(20)\n",
        "d.end_fill()\n",
        "\n",
        "\n",
        "\n",
        "d.fd(550)\n",
        "d.seth(-90)\n",
        "d.fd(18)\n",
        "d.seth(-179)\n",
        "d.fd(550)\n",
        "d.seth(90)\n",
        "d.fd(18)\n",
        "d.pensize(1)\n",
        "d.seth(1)\n",
        "d.fd(115)\n",
        "d.seth(-50)\n",
        "d.begin_fill()\n",
        "d.circle(18,103)\n",
        "d.end_fill()\n",
        "d.seth(1)\n",
        "d.fd(91)\n",
        "d.seth(-50)\n",
        "d.begin_fill()\n",
        "d.circle(18,103)\n",
        "d.end_fill()\n",
        "d.seth(1)\n",
        "d.fd(35)\n",
        "d.seth(-50)\n",
        "d.begin_fill()\n",
        "d.circle(18,103)\n",
        "d.end_fill()\n",
        "d.seth(1)\n",
        "d.fd(35)\n",
        "d.seth(-50)\n",
        "d.begin_fill()\n",
        "d.circle(18,103)\n",
        "d.end_fill()\n",
        "d.seth(1)\n",
        "d.fd(35)\n",
        "d.seth(-50)\n",
        "d.begin_fill()\n",
        "d.circle(18,100)\n",
        "d.end_fill()\n",
        "d.seth(1)\n",
        "d.fd(99)\n",
        "d.seth(-90)\n",
        "d.fd(18)\n",
        "d.seth(-179)\n",
        "d.fd(550)\n",
        "d.seth(90)\n",
        "d.fd(18)\n",
        "\n",
        "\n",
        "d.seth(1)\n",
        "d.fd(550)\n",
        "d.seth(-90)\n",
        "d.fd(1)\n",
        "d.begin_fill()\n",
        "d.seth(1)\n",
        "d.fd(15)\n",
        "d.seth(90)\n",
        "d.fd(5)\n",
        "d.circle(-7,115)\n",
        "d.fd(55)\n",
        "d.seth(-162)\n",
        "d.fd(55)\n",
        "d.circle(-7,115)\n",
        "d.fd(5)\n",
        "d.seth(-179)\n",
        "d.fd(15)\n",
        "d.end_fill()\n",
        "\n",
        "\n",
        "d.pensize(5)\n",
        "d.up()\n",
        "d.seth(-90)\n",
        "d.fd(1)\n",
        "d.seth(-179)\n",
        "d.fd(47)\n",
        "d.down()\n",
        "d.begin_fill()\n",
        "d.seth(-110)\n",
        "d.circle(-130,90)\n",
        "d.circle(500,50)\n",
        "d.seth(20)\n",
        "d.circle(-400,46)\n",
        "d.circle(204,101)\n",
        "d.end_fill()\n",
        "d.ht()"
      ],
      "metadata": {
        "colab": {
          "base_uri": "https://localhost:8080/",
          "height": 382
        },
        "id": "HBzIbc-46Vtz",
        "outputId": "b95b1aff-cb84-4fde-8c25-d031c7bddd73"
      },
      "execution_count": null,
      "outputs": [
        {
          "output_type": "error",
          "ename": "TclError",
          "evalue": "ignored",
          "traceback": [
            "\u001b[0;31m---------------------------------------------------------------------------\u001b[0m",
            "\u001b[0;31mTclError\u001b[0m                                  Traceback (most recent call last)",
            "\u001b[0;32m<ipython-input-1-408609114d67>\u001b[0m in \u001b[0;36m<module>\u001b[0;34m\u001b[0m\n\u001b[1;32m      1\u001b[0m \u001b[0;32mimport\u001b[0m \u001b[0mturtle\u001b[0m\u001b[0;34m\u001b[0m\u001b[0;34m\u001b[0m\u001b[0m\n\u001b[1;32m      2\u001b[0m \u001b[0;34m\u001b[0m\u001b[0m\n\u001b[0;32m----> 3\u001b[0;31m \u001b[0mwn\u001b[0m\u001b[0;34m=\u001b[0m\u001b[0mturtle\u001b[0m\u001b[0;34m.\u001b[0m\u001b[0mScreen\u001b[0m\u001b[0;34m(\u001b[0m\u001b[0;34m)\u001b[0m\u001b[0;34m\u001b[0m\u001b[0;34m\u001b[0m\u001b[0m\n\u001b[0m\u001b[1;32m      4\u001b[0m \u001b[0mwn\u001b[0m\u001b[0;34m.\u001b[0m\u001b[0msetup\u001b[0m\u001b[0;34m(\u001b[0m\u001b[0;36m768\u001b[0m\u001b[0;34m,\u001b[0m\u001b[0;36m768\u001b[0m\u001b[0;34m)\u001b[0m\u001b[0;34m\u001b[0m\u001b[0;34m\u001b[0m\u001b[0m\n\u001b[1;32m      5\u001b[0m \u001b[0mwn\u001b[0m\u001b[0;34m.\u001b[0m\u001b[0mtitle\u001b[0m\u001b[0;34m(\u001b[0m\u001b[0;34m\"codehub.py instagram\"\u001b[0m\u001b[0;34m)\u001b[0m\u001b[0;34m\u001b[0m\u001b[0;34m\u001b[0m\u001b[0m\n",
            "\u001b[0;32m/usr/lib/python3.7/turtle.py\u001b[0m in \u001b[0;36mScreen\u001b[0;34m()\u001b[0m\n\u001b[1;32m   3660\u001b[0m     else return the existing one.\"\"\"\n\u001b[1;32m   3661\u001b[0m     \u001b[0;32mif\u001b[0m \u001b[0mTurtle\u001b[0m\u001b[0;34m.\u001b[0m\u001b[0m_screen\u001b[0m \u001b[0;32mis\u001b[0m \u001b[0;32mNone\u001b[0m\u001b[0;34m:\u001b[0m\u001b[0;34m\u001b[0m\u001b[0;34m\u001b[0m\u001b[0m\n\u001b[0;32m-> 3662\u001b[0;31m         \u001b[0mTurtle\u001b[0m\u001b[0;34m.\u001b[0m\u001b[0m_screen\u001b[0m \u001b[0;34m=\u001b[0m \u001b[0m_Screen\u001b[0m\u001b[0;34m(\u001b[0m\u001b[0;34m)\u001b[0m\u001b[0;34m\u001b[0m\u001b[0;34m\u001b[0m\u001b[0m\n\u001b[0m\u001b[1;32m   3663\u001b[0m     \u001b[0;32mreturn\u001b[0m \u001b[0mTurtle\u001b[0m\u001b[0;34m.\u001b[0m\u001b[0m_screen\u001b[0m\u001b[0;34m\u001b[0m\u001b[0;34m\u001b[0m\u001b[0m\n\u001b[1;32m   3664\u001b[0m \u001b[0;34m\u001b[0m\u001b[0m\n",
            "\u001b[0;32m/usr/lib/python3.7/turtle.py\u001b[0m in \u001b[0;36m__init__\u001b[0;34m(self)\u001b[0m\n\u001b[1;32m   3676\u001b[0m         \u001b[0;31m# preserved (perhaps by passing it as an optional parameter)\u001b[0m\u001b[0;34m\u001b[0m\u001b[0;34m\u001b[0m\u001b[0;34m\u001b[0m\u001b[0m\n\u001b[1;32m   3677\u001b[0m         \u001b[0;32mif\u001b[0m \u001b[0m_Screen\u001b[0m\u001b[0;34m.\u001b[0m\u001b[0m_root\u001b[0m \u001b[0;32mis\u001b[0m \u001b[0;32mNone\u001b[0m\u001b[0;34m:\u001b[0m\u001b[0;34m\u001b[0m\u001b[0;34m\u001b[0m\u001b[0m\n\u001b[0;32m-> 3678\u001b[0;31m             \u001b[0m_Screen\u001b[0m\u001b[0;34m.\u001b[0m\u001b[0m_root\u001b[0m \u001b[0;34m=\u001b[0m \u001b[0mself\u001b[0m\u001b[0;34m.\u001b[0m\u001b[0m_root\u001b[0m \u001b[0;34m=\u001b[0m \u001b[0m_Root\u001b[0m\u001b[0;34m(\u001b[0m\u001b[0;34m)\u001b[0m\u001b[0;34m\u001b[0m\u001b[0;34m\u001b[0m\u001b[0m\n\u001b[0m\u001b[1;32m   3679\u001b[0m             \u001b[0mself\u001b[0m\u001b[0;34m.\u001b[0m\u001b[0m_root\u001b[0m\u001b[0;34m.\u001b[0m\u001b[0mtitle\u001b[0m\u001b[0;34m(\u001b[0m\u001b[0m_Screen\u001b[0m\u001b[0;34m.\u001b[0m\u001b[0m_title\u001b[0m\u001b[0;34m)\u001b[0m\u001b[0;34m\u001b[0m\u001b[0;34m\u001b[0m\u001b[0m\n\u001b[1;32m   3680\u001b[0m             \u001b[0mself\u001b[0m\u001b[0;34m.\u001b[0m\u001b[0m_root\u001b[0m\u001b[0;34m.\u001b[0m\u001b[0mondestroy\u001b[0m\u001b[0;34m(\u001b[0m\u001b[0mself\u001b[0m\u001b[0;34m.\u001b[0m\u001b[0m_destroy\u001b[0m\u001b[0;34m)\u001b[0m\u001b[0;34m\u001b[0m\u001b[0;34m\u001b[0m\u001b[0m\n",
            "\u001b[0;32m/usr/lib/python3.7/turtle.py\u001b[0m in \u001b[0;36m__init__\u001b[0;34m(self)\u001b[0m\n\u001b[1;32m    432\u001b[0m     \u001b[0;34m\"\"\"Root class for Screen based on Tkinter.\"\"\"\u001b[0m\u001b[0;34m\u001b[0m\u001b[0;34m\u001b[0m\u001b[0m\n\u001b[1;32m    433\u001b[0m     \u001b[0;32mdef\u001b[0m \u001b[0m__init__\u001b[0m\u001b[0;34m(\u001b[0m\u001b[0mself\u001b[0m\u001b[0;34m)\u001b[0m\u001b[0;34m:\u001b[0m\u001b[0;34m\u001b[0m\u001b[0;34m\u001b[0m\u001b[0m\n\u001b[0;32m--> 434\u001b[0;31m         \u001b[0mTK\u001b[0m\u001b[0;34m.\u001b[0m\u001b[0mTk\u001b[0m\u001b[0;34m.\u001b[0m\u001b[0m__init__\u001b[0m\u001b[0;34m(\u001b[0m\u001b[0mself\u001b[0m\u001b[0;34m)\u001b[0m\u001b[0;34m\u001b[0m\u001b[0;34m\u001b[0m\u001b[0m\n\u001b[0m\u001b[1;32m    435\u001b[0m \u001b[0;34m\u001b[0m\u001b[0m\n\u001b[1;32m    436\u001b[0m     \u001b[0;32mdef\u001b[0m \u001b[0msetupcanvas\u001b[0m\u001b[0;34m(\u001b[0m\u001b[0mself\u001b[0m\u001b[0;34m,\u001b[0m \u001b[0mwidth\u001b[0m\u001b[0;34m,\u001b[0m \u001b[0mheight\u001b[0m\u001b[0;34m,\u001b[0m \u001b[0mcwidth\u001b[0m\u001b[0;34m,\u001b[0m \u001b[0mcheight\u001b[0m\u001b[0;34m)\u001b[0m\u001b[0;34m:\u001b[0m\u001b[0;34m\u001b[0m\u001b[0;34m\u001b[0m\u001b[0m\n",
            "\u001b[0;32m/usr/lib/python3.7/tkinter/__init__.py\u001b[0m in \u001b[0;36m__init__\u001b[0;34m(self, screenName, baseName, className, useTk, sync, use)\u001b[0m\n\u001b[1;32m   2021\u001b[0m                 \u001b[0mbaseName\u001b[0m \u001b[0;34m=\u001b[0m \u001b[0mbaseName\u001b[0m \u001b[0;34m+\u001b[0m \u001b[0mext\u001b[0m\u001b[0;34m\u001b[0m\u001b[0;34m\u001b[0m\u001b[0m\n\u001b[1;32m   2022\u001b[0m         \u001b[0minteractive\u001b[0m \u001b[0;34m=\u001b[0m \u001b[0;36m0\u001b[0m\u001b[0;34m\u001b[0m\u001b[0;34m\u001b[0m\u001b[0m\n\u001b[0;32m-> 2023\u001b[0;31m         \u001b[0mself\u001b[0m\u001b[0;34m.\u001b[0m\u001b[0mtk\u001b[0m \u001b[0;34m=\u001b[0m \u001b[0m_tkinter\u001b[0m\u001b[0;34m.\u001b[0m\u001b[0mcreate\u001b[0m\u001b[0;34m(\u001b[0m\u001b[0mscreenName\u001b[0m\u001b[0;34m,\u001b[0m \u001b[0mbaseName\u001b[0m\u001b[0;34m,\u001b[0m \u001b[0mclassName\u001b[0m\u001b[0;34m,\u001b[0m \u001b[0minteractive\u001b[0m\u001b[0;34m,\u001b[0m \u001b[0mwantobjects\u001b[0m\u001b[0;34m,\u001b[0m \u001b[0museTk\u001b[0m\u001b[0;34m,\u001b[0m \u001b[0msync\u001b[0m\u001b[0;34m,\u001b[0m \u001b[0muse\u001b[0m\u001b[0;34m)\u001b[0m\u001b[0;34m\u001b[0m\u001b[0;34m\u001b[0m\u001b[0m\n\u001b[0m\u001b[1;32m   2024\u001b[0m         \u001b[0;32mif\u001b[0m \u001b[0museTk\u001b[0m\u001b[0;34m:\u001b[0m\u001b[0;34m\u001b[0m\u001b[0;34m\u001b[0m\u001b[0m\n\u001b[1;32m   2025\u001b[0m             \u001b[0mself\u001b[0m\u001b[0;34m.\u001b[0m\u001b[0m_loadtk\u001b[0m\u001b[0;34m(\u001b[0m\u001b[0;34m)\u001b[0m\u001b[0;34m\u001b[0m\u001b[0;34m\u001b[0m\u001b[0m\n",
            "\u001b[0;31mTclError\u001b[0m: no display name and no $DISPLAY environment variable"
          ]
        }
      ]
    },
    {
      "cell_type": "code",
      "source": [
        "for row in range(9):\n",
        "  for col in range(11):\n",
        "    if ((row==2 and (col==10 or col==0)) or (row==1 and col%5==0) \n",
        "        or (row-col==3) or (row+col ==13) or (row==0 and (col>0 and col<10 and col!=5)) \n",
        "        or (col==4 and(row>1 and row<7)) or (col==5 and (row==2 or row==4)) or\n",
        "        (col==6 and row==3)) :\n",
        "      print(\"💞\",end=\" \")\n",
        "    else:\n",
        "      print(\"✨\",end=\" \")\n",
        "  print()"
      ],
      "metadata": {
        "colab": {
          "base_uri": "https://localhost:8080/"
        },
        "id": "8mDttiQ_kBIo",
        "outputId": "42f37fed-d4c2-46ea-bb19-304285934048"
      },
      "execution_count": null,
      "outputs": [
        {
          "output_type": "stream",
          "name": "stdout",
          "text": [
            "✨ 💞 💞 💞 💞 ✨ 💞 💞 💞 💞 ✨ \n",
            "💞 ✨ ✨ ✨ ✨ 💞 ✨ ✨ ✨ ✨ 💞 \n",
            "💞 ✨ ✨ ✨ 💞 💞 ✨ ✨ ✨ ✨ 💞 \n",
            "💞 ✨ ✨ ✨ 💞 ✨ 💞 ✨ ✨ ✨ 💞 \n",
            "✨ 💞 ✨ ✨ 💞 💞 ✨ ✨ ✨ 💞 ✨ \n",
            "✨ ✨ 💞 ✨ 💞 ✨ ✨ ✨ 💞 ✨ ✨ \n",
            "✨ ✨ ✨ 💞 💞 ✨ ✨ 💞 ✨ ✨ ✨ \n",
            "✨ ✨ ✨ ✨ 💞 ✨ 💞 ✨ ✨ ✨ ✨ \n",
            "✨ ✨ ✨ ✨ ✨ 💞 ✨ ✨ ✨ ✨ ✨ \n"
          ]
        }
      ]
    },
    {
      "cell_type": "code",
      "source": [
        "from turtle import *\n",
        "\n",
        "bgcolor(\"black\")\n",
        "speed(0)\n",
        "hideturtle()\n",
        "\n",
        "for i in range(120):\n",
        "  color('red')\n",
        "  circle(i)\n",
        "  color('orange')\n",
        "  circle(i*0.8)\n",
        "  right(3)\n",
        "  forward(3)\n",
        "done()"
      ],
      "metadata": {
        "id": "ZOFf_OtLpbeC"
      },
      "execution_count": null,
      "outputs": []
    },
    {
      "cell_type": "code",
      "source": [
        "for row in range(6):\n",
        "  for col in range(4):\n",
        "    if (col==0) or (col==1 and (row==0 or row==3)) or (col==2 and (row==1 or row==2)):\n",
        "      print(\"*\",end=\" \")\n",
        "    else:\n",
        "      print(end=\" \")\n",
        "  print()"
      ],
      "metadata": {
        "colab": {
          "base_uri": "https://localhost:8080/"
        },
        "id": "VWTOXXCkCAcP",
        "outputId": "7c4d28b0-9b5f-4878-fa63-53ea4208de72"
      },
      "execution_count": null,
      "outputs": [
        {
          "output_type": "stream",
          "name": "stdout",
          "text": [
            "* *   \n",
            "*  *  \n",
            "*  *  \n",
            "* *   \n",
            "*    \n",
            "*    \n"
          ]
        }
      ]
    },
    {
      "cell_type": "code",
      "execution_count": null,
      "metadata": {
        "colab": {
          "base_uri": "https://localhost:8080/"
        },
        "id": "X-05WjwFKY2I",
        "outputId": "ca886362-b186-4087-db74-20b6face65bf"
      },
      "outputs": [
        {
          "name": "stdout",
          "output_type": "stream",
          "text": [
            "Hello Geek\n",
            "Hello Geek\n",
            "Hello Geek\n"
          ]
        }
      ],
      "source": [
        "count=0\n",
        "while count<3:\n",
        "  count=count+1\n",
        "  print(\"Hello Geek\")"
      ]
    },
    {
      "cell_type": "code",
      "execution_count": null,
      "metadata": {
        "colab": {
          "base_uri": "https://localhost:8080/"
        },
        "id": "lenJ1OZwzWtD",
        "outputId": "655c74c8-e1a1-4102-db74-f5899ddbaa56"
      },
      "outputs": [
        {
          "name": "stdout",
          "output_type": "stream",
          "text": [
            "1\n",
            "2\n",
            "3\n",
            "4\n",
            "5\n"
          ]
        }
      ],
      "source": [
        "#Q.1\n",
        "i=0\n",
        "while i<=4:\n",
        "  i+=1\n",
        "  print(i)"
      ]
    },
    {
      "cell_type": "code",
      "execution_count": null,
      "metadata": {
        "colab": {
          "base_uri": "https://localhost:8080/"
        },
        "id": "sKn-i8vpzyZ_",
        "outputId": "9c9c12bc-e15f-4fff-d73b-b161a749edd6"
      },
      "outputs": [
        {
          "name": "stdout",
          "output_type": "stream",
          "text": [
            "0\n",
            "1\n",
            "2\n",
            "3\n",
            "4\n",
            "5\n"
          ]
        }
      ],
      "source": [
        "#Q.2\n",
        "i=0\n",
        "while i<=5:\n",
        "  print(i)\n",
        "  i+=1"
      ]
    },
    {
      "cell_type": "code",
      "execution_count": null,
      "metadata": {
        "id": "0oIw-bal0L1z"
      },
      "outputs": [],
      "source": [
        "#Q.3\n",
        "i=0\n",
        "while i<=5:\n",
        " print(i)\n",
        "i+=1"
      ]
    },
    {
      "cell_type": "code",
      "execution_count": null,
      "metadata": {
        "colab": {
          "base_uri": "https://localhost:8080/",
          "height": 132
        },
        "id": "poK3dPGX19Xc",
        "outputId": "9ef6caef-0aa8-4e8e-a27d-ea2b6454ed79"
      },
      "outputs": [
        {
          "ename": "IndentationError",
          "evalue": "ignored",
          "output_type": "error",
          "traceback": [
            "\u001b[0;36m  File \u001b[0;32m\"<ipython-input-6-07b2e622accc>\"\u001b[0;36m, line \u001b[0;32m3\u001b[0m\n\u001b[0;31m    i+=1\u001b[0m\n\u001b[0m    ^\u001b[0m\n\u001b[0;31mIndentationError\u001b[0m\u001b[0;31m:\u001b[0m expected an indented block\n"
          ]
        }
      ],
      "source": [
        "i=0\n",
        "while i<=4:\n",
        "i+=1\n",
        "print(i)"
      ]
    },
    {
      "cell_type": "code",
      "execution_count": null,
      "metadata": {
        "colab": {
          "base_uri": "https://localhost:8080/",
          "height": 132
        },
        "id": "rdMQRrd-4i8c",
        "outputId": "9e08a317-cea8-45e2-d2b3-8e1740006cc9"
      },
      "outputs": [
        {
          "ename": "SyntaxError",
          "evalue": "ignored",
          "output_type": "error",
          "traceback": [
            "\u001b[0;36m  File \u001b[0;32m\"<ipython-input-9-06cfc479c699>\"\u001b[0;36m, line \u001b[0;32m4\u001b[0m\n\u001b[0;31m    while i<=4:\u001b[0m\n\u001b[0m               ^\u001b[0m\n\u001b[0;31mSyntaxError\u001b[0m\u001b[0;31m:\u001b[0m unexpected EOF while parsing\n"
          ]
        }
      ],
      "source": [
        "i=0\n",
        "i+=1\n",
        "print(i)\n",
        "while i<=4:"
      ]
    },
    {
      "cell_type": "code",
      "execution_count": null,
      "metadata": {
        "colab": {
          "base_uri": "https://localhost:8080/",
          "height": 219
        },
        "id": "GflopQuC7M1M",
        "outputId": "5cbb1f32-dfd9-425f-d567-ec893a0146be"
      },
      "outputs": [
        {
          "ename": "KeyboardInterrupt",
          "evalue": "ignored",
          "output_type": "error",
          "traceback": [
            "\u001b[0;31m---------------------------------------------------------------------------\u001b[0m",
            "\u001b[0;31mKeyboardInterrupt\u001b[0m                         Traceback (most recent call last)",
            "\u001b[0;32m<ipython-input-15-fe2db1365d2e>\u001b[0m in \u001b[0;36m<module>\u001b[0;34m()\u001b[0m\n\u001b[0;32m----> 1\u001b[0;31m \u001b[0;32mwhile\u001b[0m \u001b[0mi\u001b[0m\u001b[0;34m<=\u001b[0m\u001b[0;36m4\u001b[0m\u001b[0;34m:\u001b[0m\u001b[0;34m\u001b[0m\u001b[0;34m\u001b[0m\u001b[0m\n\u001b[0m\u001b[1;32m      2\u001b[0m  \u001b[0mi\u001b[0m\u001b[0;34m=\u001b[0m\u001b[0;36m0\u001b[0m\u001b[0;34m\u001b[0m\u001b[0;34m\u001b[0m\u001b[0m\n\u001b[1;32m      3\u001b[0m  \u001b[0mi\u001b[0m\u001b[0;34m+=\u001b[0m\u001b[0;36m1\u001b[0m\u001b[0;34m\u001b[0m\u001b[0;34m\u001b[0m\u001b[0m\n\u001b[1;32m      4\u001b[0m \u001b[0mprint\u001b[0m\u001b[0;34m(\u001b[0m\u001b[0mi\u001b[0m\u001b[0;34m)\u001b[0m\u001b[0;34m\u001b[0m\u001b[0;34m\u001b[0m\u001b[0m\n",
            "\u001b[0;31mKeyboardInterrupt\u001b[0m: "
          ]
        }
      ],
      "source": [
        "while i<=4:\n",
        "i=0\n",
        " i+=1\n",
        " print(i)"
      ]
    },
    {
      "cell_type": "code",
      "execution_count": null,
      "metadata": {
        "colab": {
          "base_uri": "https://localhost:8080/"
        },
        "id": "vkFZEfDKBLV7",
        "outputId": "19b7416c-62e1-45d7-c935-afee9a6f1b92"
      },
      "outputs": [
        {
          "name": "stdout",
          "output_type": "stream",
          "text": [
            "5\n"
          ]
        }
      ],
      "source": [
        "i=2\n",
        "while i<=4:\n",
        "  i+=1\n",
        "print(i)"
      ]
    },
    {
      "cell_type": "code",
      "execution_count": null,
      "metadata": {
        "colab": {
          "base_uri": "https://localhost:8080/",
          "height": 132
        },
        "id": "04rqq5noJ-s0",
        "outputId": "3140c8ef-cd50-432d-a2c4-9f8034568a06"
      },
      "outputs": [
        {
          "ename": "SyntaxError",
          "evalue": "ignored",
          "output_type": "error",
          "traceback": [
            "\u001b[0;36m  File \u001b[0;32m\"<ipython-input-27-bb92d4a6c920>\"\u001b[0;36m, line \u001b[0;32m2\u001b[0m\n\u001b[0;31m    while i=0:\u001b[0m\n\u001b[0m           ^\u001b[0m\n\u001b[0;31mSyntaxError\u001b[0m\u001b[0;31m:\u001b[0m invalid syntax\n"
          ]
        }
      ],
      "source": [
        "i=10\n",
        "while i=0:\n",
        "  i-=2\n",
        "  print(i)"
      ]
    },
    {
      "cell_type": "code",
      "execution_count": null,
      "metadata": {
        "colab": {
          "base_uri": "https://localhost:8080/"
        },
        "id": "WZ479zj878xe",
        "outputId": "df5298b7-b83c-4b31-fbeb-d51a4cae92f0"
      },
      "outputs": [
        {
          "name": "stdout",
          "output_type": "stream",
          "text": [
            "1\n",
            "3\n",
            "5\n",
            "7\n",
            "9\n",
            "11\n",
            "13\n",
            "15\n",
            "17\n",
            "19\n"
          ]
        }
      ],
      "source": [
        "#Q.1\n",
        "i=1\n",
        "while i<=20:\n",
        "  print(i)\n",
        "  i+=2"
      ]
    },
    {
      "cell_type": "code",
      "execution_count": null,
      "metadata": {
        "colab": {
          "base_uri": "https://localhost:8080/"
        },
        "id": "Ig-zggW49JqG",
        "outputId": "fdb3b9cd-6dfd-4e4f-b60b-f996339ac926"
      },
      "outputs": [
        {
          "name": "stdout",
          "output_type": "stream",
          "text": [
            "0\n",
            "2\n",
            "4\n",
            "6\n",
            "8\n",
            "10\n",
            "12\n",
            "14\n",
            "16\n",
            "18\n"
          ]
        }
      ],
      "source": [
        "#Q.1(b)\n",
        "i=0\n",
        "while i<20:\n",
        "  print(i)\n",
        "  i+=2"
      ]
    },
    {
      "cell_type": "code",
      "execution_count": null,
      "metadata": {
        "colab": {
          "base_uri": "https://localhost:8080/"
        },
        "id": "6mXOttss9bcJ",
        "outputId": "9af0e3d8-fd2f-4c23-9fad-03a8a08c092f"
      },
      "outputs": [
        {
          "name": "stdout",
          "output_type": "stream",
          "text": [
            "Natural Number\n",
            "1\n",
            "2\n",
            "3\n",
            "4\n",
            "5\n",
            "6\n",
            "7\n",
            "8\n",
            "9\n",
            "10\n"
          ]
        }
      ],
      "source": [
        "#Q.3(c)\n",
        "print(\"Natural Number\")\n",
        "i=1\n",
        "while i<=10:\n",
        "  print(i)\n",
        "  i+=1\n"
      ]
    },
    {
      "cell_type": "code",
      "execution_count": null,
      "metadata": {
        "colab": {
          "base_uri": "https://localhost:8080/"
        },
        "id": "tJmrnLfU_V0G",
        "outputId": "2dda1fa7-3886-4818-b35a-c6e36898af1e"
      },
      "outputs": [
        {
          "name": "stdout",
          "output_type": "stream",
          "text": [
            "Whole number\n",
            "0\n",
            "1\n",
            "2\n",
            "3\n",
            "4\n",
            "5\n",
            "6\n",
            "7\n",
            "8\n",
            "9\n"
          ]
        }
      ],
      "source": [
        "#Q.1(c)\n",
        "print(\"Whole number\")\n",
        "i=0\n",
        "while i<10:\n",
        "  print(i)\n",
        "  i+=1"
      ]
    },
    {
      "cell_type": "code",
      "execution_count": null,
      "metadata": {
        "colab": {
          "base_uri": "https://localhost:8080/"
        },
        "id": "tqRyC9qO_57D",
        "outputId": "c1f51c76-5d3c-400c-8607-c164495d8569"
      },
      "outputs": [
        {
          "name": "stdout",
          "output_type": "stream",
          "text": [
            "1 1\n",
            "2 4\n",
            "3 9\n",
            "4 16\n",
            "5 25\n",
            "6 36\n",
            "7 49\n",
            "8 64\n",
            "9 81\n",
            "10 100\n"
          ]
        }
      ],
      "source": [
        "#Q.2\n",
        "i=1\n",
        "while i<=10:\n",
        "  print(i, i**2)\n",
        "  i+=1\n"
      ]
    },
    {
      "cell_type": "code",
      "execution_count": null,
      "metadata": {
        "colab": {
          "base_uri": "https://localhost:8080/"
        },
        "id": "DUi3ivBkAdzF",
        "outputId": "c67e8b87-4cae-47a7-8dd6-298e216d3a51"
      },
      "outputs": [
        {
          "name": "stdout",
          "output_type": "stream",
          "text": [
            "1 - 1 / 2 - 4 / 3 - 9 / 4 - 16 / 5 - 25 / 6 - 36 / 7 - 49 / 8 - 64 / 9 - 81 / 10 - 100 / "
          ]
        }
      ],
      "source": [
        "#Q.2\n",
        "i=1\n",
        "while i<=10:\n",
        "  print(i,\"-\",i**2,\"/\",end=\" \")\n",
        "  i+=1\n"
      ]
    },
    {
      "cell_type": "code",
      "execution_count": null,
      "metadata": {
        "colab": {
          "base_uri": "https://localhost:8080/"
        },
        "id": "xeMo0sG8CE0W",
        "outputId": "96bc9816-9219-482c-a82b-94ff41b79dd8"
      },
      "outputs": [
        {
          "name": "stdout",
          "output_type": "stream",
          "text": [
            "10 20 30 40 50 60 70 80 90 100 110 120 130 140 150 160 170 180 190 200 210 220 230 240 250 260 270 280 290 300 "
          ]
        }
      ],
      "source": [
        "#Q.3\n",
        "i=10\n",
        "while i<=300:\n",
        "  print(i,end=\" \")\n",
        "  i+=10"
      ]
    },
    {
      "cell_type": "code",
      "execution_count": null,
      "metadata": {
        "colab": {
          "base_uri": "https://localhost:8080/"
        },
        "id": "hKBpeTMUC4AN",
        "outputId": "ff5c5e1a-ae73-409a-a99f-e18eb2ec3c54"
      },
      "outputs": [
        {
          "name": "stdout",
          "output_type": "stream",
          "text": [
            "105 , 98 , 91 , 84 , 77 , 70 , 63 , 56 , 49 , 42 , 35 , 28 , 21 , 14 , 7 , "
          ]
        }
      ],
      "source": [
        "#Q.4\n",
        "i=105\n",
        "while i>=7:\n",
        "  print(i,\",\",end=\" \")\n",
        "  i-=7"
      ]
    },
    {
      "cell_type": "code",
      "execution_count": null,
      "metadata": {
        "colab": {
          "base_uri": "https://localhost:8080/"
        },
        "id": "3cleZhodDdKW",
        "outputId": "27eeb53e-3843-4365-db6c-39a50f05f4b5"
      },
      "outputs": [
        {
          "name": "stdout",
          "output_type": "stream",
          "text": [
            "10 9 8 7 6 5 4 3 2 1 "
          ]
        }
      ],
      "source": [
        "#Q.5\n",
        "i=10\n",
        "while i>=1:\n",
        "  print(i,end=\" \")\n",
        "  i-=1"
      ]
    },
    {
      "cell_type": "code",
      "execution_count": null,
      "metadata": {
        "colab": {
          "base_uri": "https://localhost:8080/"
        },
        "id": "erM6VD8ZD4TL",
        "outputId": "0394b0d7-383c-4977-ac2d-ec3550dcfceb"
      },
      "outputs": [
        {
          "name": "stdout",
          "output_type": "stream",
          "text": [
            "1\n",
            "2\n",
            "3\n",
            "4\n",
            "5\n",
            "6\n",
            "7\n",
            "8\n",
            "9\n",
            "10\n",
            "sum = 55\n"
          ]
        }
      ],
      "source": [
        "#Q.6\n",
        "i=1\n",
        "sum=0\n",
        "while i<=10:\n",
        "  sum=sum+i\n",
        "  print(i)\n",
        "  i+=1\n",
        "print(\"sum =\",sum)\n",
        "  "
      ]
    },
    {
      "cell_type": "code",
      "execution_count": null,
      "metadata": {
        "colab": {
          "base_uri": "https://localhost:8080/"
        },
        "id": "mHszNYAoG8Ca",
        "outputId": "8d378cde-6124-4148-fca0-d3e15625c1ba"
      },
      "outputs": [
        {
          "name": "stdout",
          "output_type": "stream",
          "text": [
            "\n",
            " 0 0\n",
            "\n",
            " 2 2\n",
            "\n",
            " 4 6\n",
            "\n",
            " 6 12\n",
            "\n",
            " 8 20\n",
            "\n",
            " 10 30\n",
            "\n",
            " 12 42\n",
            "\n",
            " 14 56\n",
            "\n",
            " 16 72\n",
            "\n",
            " 18 90\n"
          ]
        }
      ],
      "source": [
        "#Q.7\n",
        "i=0\n",
        "sum=0\n",
        "while i<20:\n",
        "  sum=sum+i\n",
        "  print(\"\\n\",i,sum)\n",
        "  i+=2\n",
        "\n",
        "  "
      ]
    },
    {
      "cell_type": "code",
      "execution_count": null,
      "metadata": {
        "colab": {
          "base_uri": "https://localhost:8080/"
        },
        "id": "mXfswNuQIYJX",
        "outputId": "879e93e9-02c8-46df-e0a5-e7b9153a05ca"
      },
      "outputs": [
        {
          "output_type": "stream",
          "name": "stdout",
          "text": [
            "Enter any number: 34\n",
            "34 * 1 = 34\n",
            "34 * 2 = 68\n",
            "34 * 3 = 102\n",
            "34 * 4 = 136\n",
            "34 * 5 = 170\n",
            "34 * 6 = 204\n",
            "34 * 7 = 238\n",
            "34 * 8 = 272\n",
            "34 * 9 = 306\n",
            "34 * 10 = 340\n"
          ]
        }
      ],
      "source": [
        "#Q.8\n",
        "a=int(input(\"Enter any number: \"))\n",
        "i=1\n",
        "while i<=10:\n",
        "  print(a,\"*\",i,\"=\",a*i)\n",
        "  i+=1"
      ]
    },
    {
      "cell_type": "code",
      "execution_count": null,
      "metadata": {
        "colab": {
          "base_uri": "https://localhost:8080/"
        },
        "id": "en_CqGsTJ70T",
        "outputId": "6ec507e7-b440-4a1f-94a2-4eeca3a7cb88"
      },
      "outputs": [
        {
          "name": "stdout",
          "output_type": "stream",
          "text": [
            "Enter any number: 10\n",
            "10 + 0 = 10\n",
            "10 + 1 = 11\n",
            "10 + 2 = 12\n",
            "10 + 3 = 13\n",
            "10 + 4 = 14\n",
            "10 + 5 = 15\n",
            "10 + 6 = 16\n",
            "10 + 7 = 17\n",
            "10 + 8 = 18\n",
            "10 + 9 = 19\n",
            "10 + 10 = 20\n"
          ]
        }
      ],
      "source": [
        "a=int(input(\"Enter any number: \"))\n",
        "i=0\n",
        "while i<=10:\n",
        "  print(a,\"+\",i,\"=\",a+i)\n",
        "  i+=1"
      ]
    },
    {
      "cell_type": "code",
      "execution_count": null,
      "metadata": {
        "colab": {
          "base_uri": "https://localhost:8080/"
        },
        "id": "jPe2GhI9LAuG",
        "outputId": "ac81320a-07eb-44d9-9ec0-4f4950aa1f82"
      },
      "outputs": [
        {
          "name": "stdout",
          "output_type": "stream",
          "text": [
            "Enter first  number: 5\n",
            "Enter second  number: 15\n",
            "6\n",
            "8\n",
            "10\n",
            "12\n",
            "14\n"
          ]
        }
      ],
      "source": [
        "#Q.9\n",
        "a=int(input(\"Enter first  number: \"))\n",
        "b=int(input(\"Enter second  number: \"))\n",
        "while a<=b:\n",
        "   if a%2==0:\n",
        "       print(a)\n",
        "   a+=1\n"
      ]
    },
    {
      "cell_type": "code",
      "execution_count": null,
      "metadata": {
        "colab": {
          "base_uri": "https://localhost:8080/"
        },
        "id": "oxUJVZT1_OgT",
        "outputId": "306c3d29-3a5b-4a73-89c4-8eaa3bdaddf4"
      },
      "outputs": [
        {
          "name": "stdout",
          "output_type": "stream",
          "text": [
            "Enter any number: 17\n",
            "2\n",
            "17 is a prime number\n"
          ]
        }
      ],
      "source": [
        "#Q.10\n",
        "num=int(input(\"Enter any number: \"))\n",
        "i=1\n",
        "factor=0\n",
        "while i<=num:\n",
        "  if num%i==0:\n",
        "    factor+=1\n",
        "  i+=1\n",
        "print(factor)\n",
        "if factor==2:\n",
        "  print(num,\"is a prime number\")\n",
        "else:\n",
        "  print(num,\"is not a prime number\")\n",
        "\n"
      ]
    },
    {
      "cell_type": "code",
      "execution_count": null,
      "metadata": {
        "colab": {
          "base_uri": "https://localhost:8080/"
        },
        "id": "UrIMEMRPIQSS",
        "outputId": "431dfb29-2549-4b3e-e163-81b63739bb73"
      },
      "outputs": [
        {
          "name": "stdout",
          "output_type": "stream",
          "text": [
            "Enter any number3\n",
            "Enter any number3\n",
            "Enter any number6\n",
            "Enter any number7\n",
            "Enter any number4\n",
            "Enter any number76\n",
            "99\n"
          ]
        }
      ],
      "source": [
        "#Q.11\n",
        "\n",
        "i=0\n",
        "sum=0\n",
        "while i<5:\n",
        "  a=int(input(\"Enter any number\"))\n",
        "  sum=sum+a\n",
        "  i+=1\n",
        "print(sum)\n",
        "\n",
        "\n",
        "\n"
      ]
    },
    {
      "cell_type": "code",
      "execution_count": null,
      "metadata": {
        "colab": {
          "base_uri": "https://localhost:8080/"
        },
        "id": "Yyz7-3_HZDzl",
        "outputId": "7bbc71ea-7603-4b3b-a398-f739898969f4"
      },
      "outputs": [
        {
          "name": "stdout",
          "output_type": "stream",
          "text": [
            "num:12\n",
            "num:45\n",
            "num:2\n",
            "num:8\n",
            "sum = 67\n"
          ]
        }
      ],
      "source": [
        "i=0\n",
        "sum=0\n",
        "while i<=3:\n",
        "  a=int(input(\"num:\"))\n",
        "  sum=sum+a\n",
        "  i+=1\n",
        "print(\"sum =\",sum)\n"
      ]
    },
    {
      "cell_type": "code",
      "execution_count": null,
      "metadata": {
        "colab": {
          "base_uri": "https://localhost:8080/"
        },
        "id": "cUeGodv1SED3",
        "outputId": "46de8cce-beee-49f6-fabf-ce216ca06802"
      },
      "outputs": [
        {
          "name": "stdout",
          "output_type": "stream",
          "text": [
            "2\n",
            "4\n",
            "6\n",
            "8\n",
            "10\n",
            "12\n",
            "14\n",
            "16\n",
            "18\n",
            "20\n",
            "22\n",
            "24\n",
            "26\n",
            "28\n",
            "30\n",
            "32\n",
            "34\n",
            "36\n",
            "38\n",
            "40\n",
            "42\n",
            "44\n",
            "46\n",
            "48\n",
            "50\n",
            "52\n",
            "54\n",
            "56\n",
            "58\n",
            "60\n",
            "62\n",
            "64\n",
            "66\n",
            "68\n",
            "70\n",
            "72\n",
            "74\n",
            "76\n",
            "78\n",
            "80\n",
            "82\n",
            "84\n",
            "86\n",
            "88\n",
            "90\n",
            "92\n",
            "94\n",
            "96\n",
            "98\n",
            "not valid\n"
          ]
        }
      ],
      "source": [
        "counter=1\n",
        "while counter<100:\n",
        "  if counter%2==0:\n",
        "    print(counter)\n",
        "  counter+=1\n",
        "print(\"not valid\")"
      ]
    },
    {
      "cell_type": "code",
      "execution_count": null,
      "metadata": {
        "colab": {
          "base_uri": "https://localhost:8080/"
        },
        "id": "8R4zN8HhcUC0",
        "outputId": "2ad56e39-cbe8-4015-8449-a0bfabe3c925"
      },
      "outputs": [
        {
          "name": "stdout",
          "output_type": "stream",
          "text": [
            "one laptop kept in the car.\n",
            "one laptop kept in the car.\n",
            "one laptop kept in the car.\n",
            "one laptop kept in the car.\n",
            "one laptop kept in the car.\n",
            "one laptop kept in the car.\n",
            "one laptop kept in the car.\n",
            "one laptop kept in the car.\n",
            "one laptop kept in the car.\n",
            "one laptop kept in the car.\n",
            "one laptop kept in the car.\n",
            "There are no laptop.\n"
          ]
        }
      ],
      "source": [
        "counter=0\n",
        "while counter<=10:\n",
        "  print(\"one laptop kept in the car.\")\n",
        "  counter+=1\n",
        "print(\"There are no laptop.\")"
      ]
    },
    {
      "cell_type": "code",
      "execution_count": null,
      "metadata": {
        "colab": {
          "base_uri": "https://localhost:8080/"
        },
        "id": "hw2_5ILLeY6n",
        "outputId": "76488a51-963c-4b47-966f-094a2a7fd233"
      },
      "outputs": [
        {
          "name": "stdout",
          "output_type": "stream",
          "text": [
            "1\n",
            "2\n",
            "3\n",
            "4\n",
            "5\n",
            "6\n",
            "7\n",
            "8\n",
            "9\n",
            "10\n",
            "11\n",
            "12\n",
            "13\n",
            "14\n",
            "15\n",
            "16\n",
            "17\n",
            "18\n",
            "19\n",
            "20\n"
          ]
        }
      ],
      "source": [
        "counter=1\n",
        "while counter<=20:\n",
        "  print(counter)\n",
        "  counter+=1"
      ]
    },
    {
      "cell_type": "code",
      "execution_count": null,
      "metadata": {
        "id": "HrWCfgKBfAEP"
      },
      "outputs": [],
      "source": [
        "2"
      ]
    },
    {
      "cell_type": "code",
      "execution_count": null,
      "metadata": {
        "colab": {
          "base_uri": "https://localhost:8080/"
        },
        "id": "1CCsCwHpe524",
        "outputId": "256f87ee-f097-4a3d-c879-98778ba64e34"
      },
      "outputs": [
        {
          "name": "stdout",
          "output_type": "stream",
          "text": [
            "20\n",
            "22\n",
            "24\n",
            "26\n",
            "28\n",
            "30\n",
            "32\n",
            "34\n",
            "36\n",
            "38\n",
            "40\n"
          ]
        }
      ],
      "source": [
        "counter=20\n",
        "while counter<=40:\n",
        "  if counter%2==0:\n",
        "    print(counter)\n",
        "  counter+=1"
      ]
    },
    {
      "cell_type": "code",
      "execution_count": null,
      "metadata": {
        "colab": {
          "base_uri": "https://localhost:8080/"
        },
        "id": "n9BLE5VbfgmC",
        "outputId": "a74f3b98-88fc-4c8c-ba8b-336edf78d259"
      },
      "outputs": [
        {
          "name": "stdout",
          "output_type": "stream",
          "text": [
            "1\n",
            "2\n",
            "3\n",
            "4\n",
            "5\n",
            "6\n",
            "7\n",
            "8\n",
            "9\n",
            "10\n",
            "11\n",
            "12\n",
            "13\n",
            "14\n",
            "15\n",
            "16\n",
            "17\n",
            "18\n",
            "19\n",
            "20\n",
            "21\n",
            "22\n",
            "23\n",
            "24\n",
            "25\n",
            "26\n",
            "27\n",
            "28\n",
            "29\n",
            "30\n",
            "31\n",
            "32\n",
            "33\n",
            "34\n",
            "35\n",
            "36\n",
            "37\n",
            "38\n",
            "39\n",
            "40\n",
            "41\n",
            "42\n",
            "43\n",
            "44\n",
            "45\n",
            "46\n",
            "47\n",
            "48\n",
            "49\n",
            "50\n",
            "51\n",
            "52\n",
            "53\n",
            "54\n",
            "55\n",
            "56\n",
            "57\n",
            "58\n",
            "59\n",
            "60\n",
            "61\n",
            "62\n",
            "63\n",
            "64\n",
            "65\n",
            "66\n",
            "67\n",
            "68\n",
            "69\n",
            "70\n",
            "71\n",
            "72\n",
            "73\n",
            "74\n",
            "75\n",
            "76\n",
            "77\n",
            "78\n",
            "79\n",
            "80\n",
            "81\n",
            "82\n",
            "83\n",
            "84\n",
            "85\n",
            "86\n",
            "87\n",
            "88\n",
            "89\n",
            "90\n",
            "91\n",
            "92\n",
            "93\n",
            "94\n",
            "95\n",
            "96\n",
            "97\n",
            "98\n",
            "99\n",
            "100\n"
          ]
        }
      ],
      "source": [
        "i=1\n",
        "while i<=100:\n",
        "  print(i)\n",
        "  i+=1"
      ]
    },
    {
      "cell_type": "code",
      "execution_count": null,
      "metadata": {
        "colab": {
          "base_uri": "https://localhost:8080/"
        },
        "id": "r7rDN5VJg5gA",
        "outputId": "1dd5c1e0-2b4c-41d9-f7b2-7f71fc4afcfa"
      },
      "outputs": [
        {
          "name": "stdout",
          "output_type": "stream",
          "text": [
            "7\n",
            "14\n",
            "21\n",
            "28\n",
            "35\n",
            "42\n",
            "49\n",
            "56\n",
            "63\n",
            "70\n",
            "77\n",
            "84\n",
            "91\n",
            "98\n"
          ]
        }
      ],
      "source": [
        "counter=1\n",
        "while counter<=100:\n",
        "  if counter%7==0:\n",
        "    print(counter)\n",
        "  counter+=1"
      ]
    },
    {
      "cell_type": "code",
      "execution_count": null,
      "metadata": {
        "colab": {
          "base_uri": "https://localhost:8080/"
        },
        "id": "Zff8RwMwhGvg",
        "outputId": "3465346e-ed32-432d-ce44-84aa92b613e8"
      },
      "outputs": [
        {
          "name": "stdout",
          "output_type": "stream",
          "text": [
            "1\n",
            "2\n",
            "3\n",
            "4\n",
            "5\n",
            "6\n",
            "7\n",
            "8\n",
            "9\n",
            "10\n",
            "11\n",
            "12\n",
            "13\n",
            "14\n",
            "15\n",
            "16\n",
            "17\n",
            "18\n",
            "19\n",
            "20\n",
            "21\n",
            "22\n",
            "23\n",
            "24\n",
            "25\n",
            "26\n",
            "27\n",
            "28\n",
            "29\n",
            "30\n",
            "31\n",
            "32\n",
            "33\n",
            "34\n",
            "35\n",
            "36\n",
            "37\n",
            "38\n",
            "39\n",
            "40\n",
            "41\n",
            "42\n",
            "43\n",
            "44\n",
            "45\n",
            "46\n",
            "47\n",
            "48\n",
            "49\n",
            "50\n",
            "51\n",
            "52\n",
            "53\n",
            "54\n",
            "55\n",
            "56\n",
            "57\n",
            "58\n",
            "59\n",
            "60\n",
            "61\n",
            "62\n",
            "63\n",
            "64\n",
            "65\n",
            "66\n",
            "67\n",
            "68\n",
            "69\n",
            "70\n",
            "71\n",
            "72\n",
            "73\n",
            "74\n",
            "75\n",
            "76\n",
            "77\n",
            "78\n",
            "79\n",
            "80\n",
            "81\n",
            "82\n",
            "83\n",
            "84\n",
            "85\n",
            "86\n",
            "87\n",
            "88\n",
            "89\n",
            "90\n",
            "91\n",
            "92\n",
            "93\n",
            "94\n",
            "95\n",
            "96\n",
            "97\n",
            "98\n",
            "99\n",
            "100\n",
            "5050\n"
          ]
        }
      ],
      "source": [
        "counter=1\n",
        "sum=0\n",
        "while counter<=100:\n",
        "  print(counter)\n",
        "  sum=sum+counter\n",
        "  counter+=1\n",
        "print(sum)"
      ]
    },
    {
      "cell_type": "code",
      "execution_count": null,
      "metadata": {
        "colab": {
          "base_uri": "https://localhost:8080/"
        },
        "id": "fYGEo-b7i43t",
        "outputId": "4b5233f2-d45f-4dd5-a90d-ecf3ab6544b2"
      },
      "outputs": [
        {
          "name": "stdout",
          "output_type": "stream",
          "text": [
            "Enter any num5\n",
            "5\n",
            "Enter any num6\n",
            "6\n",
            "Enter any num9\n",
            "9\n",
            "Enter any num4\n",
            "4\n",
            "Enter any num1\n",
            "1\n",
            "Enter any num2\n",
            "2\n",
            "Enter any num3\n",
            "3\n",
            "Enter any num3\n",
            "3\n",
            "Enter any num4\n",
            "4\n",
            "Enter any num5\n",
            "5\n",
            "42\n"
          ]
        }
      ],
      "source": [
        "counter=1\n",
        "sum=0\n",
        "while counter<=10:\n",
        "  num=int(input(\"Enter any num\"))\n",
        "  print(num)\n",
        "  sum=sum+num\n",
        "  counter+=1\n",
        "print(sum)\n"
      ]
    },
    {
      "cell_type": "code",
      "execution_count": null,
      "metadata": {
        "colab": {
          "base_uri": "https://localhost:8080/"
        },
        "id": "h4Q46wjHkxxC",
        "outputId": "0bcf9877-cc7b-4a4d-e40e-5c1e32f553a9"
      },
      "outputs": [
        {
          "name": "stdout",
          "output_type": "stream",
          "text": [
            "1 , -2 , 3 , -4 , 5 , -6 , 7 , -8 , 9 , -10 , 11 , -12 , 13 , -14 , 15 , -16 , 17 , -18 , 19 , -20 , 21 , -22 , 23 , -24 , 25 , -26 , 27 , -28 , 29 , -30 , 31 , -32 , 33 , -34 , 35 , -36 , 37 , -38 , 39 , -40 , 41 , -42 , 43 , -44 , 45 , -46 , 47 , -48 , 49 , -50 , 51 , -52 , 53 , -54 , 55 , -56 , 57 , -58 , 59 , -60 , 61 , -62 , 63 , -64 , 65 , -66 , 67 , -68 , 69 , -70 , 71 , -72 , 73 , -74 , 75 , -76 , 77 , -78 , 79 , -80 , 81 , -82 , 83 , -84 , 85 , -86 , 87 , -88 , 89 , -90 , 91 , -92 , 93 , -94 , 95 , -96 , 97 , -98 , 99 , -100 , "
          ]
        }
      ],
      "source": [
        "counter=1\n",
        "while counter<=100:\n",
        "  if counter%2==0:\n",
        "    print(counter*-1,\",\",end=\" \")\n",
        "  else:\n",
        "    print(counter,\",\",end=\" \")\n",
        "  counter+=1"
      ]
    },
    {
      "cell_type": "code",
      "execution_count": null,
      "metadata": {
        "colab": {
          "base_uri": "https://localhost:8080/"
        },
        "id": "r3BiBY24pqro",
        "outputId": "e1604759-0c6f-431d-c364-d5e80716b186"
      },
      "outputs": [
        {
          "name": "stdout",
          "output_type": "stream",
          "text": [
            "3\n",
            "6\n",
            "9\n",
            "12\n",
            "15\n",
            "18\n",
            "21\n",
            "24\n",
            "27\n",
            "30\n",
            "33\n",
            "36\n",
            "39\n"
          ]
        }
      ],
      "source": [
        "i=1\n",
        "while i<=40:\n",
        "  if i%3==0:\n",
        "    print(i)\n",
        "  i+=1"
      ]
    },
    {
      "cell_type": "code",
      "execution_count": null,
      "metadata": {
        "colab": {
          "base_uri": "https://localhost:8080/"
        },
        "id": "LbbaopH1wHl2",
        "outputId": "e546e12c-b929-4e01-aa2b-178e1ba0b344"
      },
      "outputs": [
        {
          "name": "stdout",
          "output_type": "stream",
          "text": [
            "3\n",
            "6\n",
            "9\n",
            "12\n",
            "15\n",
            "18\n",
            "21\n",
            "24\n",
            "27\n",
            "30\n",
            "33\n",
            "36\n",
            "39\n"
          ]
        }
      ],
      "source": [
        "i=891\n",
        "while i<931:\n",
        " z=i-890\n",
        " if z%3==0:\n",
        "  print(z)\n",
        " i=i+1\n"
      ]
    },
    {
      "cell_type": "code",
      "execution_count": null,
      "metadata": {
        "colab": {
          "base_uri": "https://localhost:8080/"
        },
        "id": "lEJNiqayw-RH",
        "outputId": "0ba61cf6-8fd5-406e-cb6e-bc699992f486"
      },
      "outputs": [
        {
          "name": "stdout",
          "output_type": "stream",
          "text": [
            "1\n",
            "6\n",
            "11\n",
            "16\n",
            "21\n",
            "26\n",
            "31\n",
            "36\n",
            "41\n",
            "46\n"
          ]
        }
      ],
      "source": [
        "i=1\n",
        "while i<=50:\n",
        "  print(i)\n",
        "  i+=5"
      ]
    },
    {
      "cell_type": "code",
      "execution_count": null,
      "metadata": {
        "colab": {
          "base_uri": "https://localhost:8080/"
        },
        "id": "P9_-N4EGxa8t",
        "outputId": "27c69dbf-6b9c-4e37-baa0-efc36ec82c75"
      },
      "outputs": [
        {
          "name": "stdout",
          "output_type": "stream",
          "text": [
            "5\n",
            "10\n",
            "15\n",
            "20\n",
            "25\n",
            "30\n",
            "35\n",
            "40\n",
            "45\n",
            "50\n"
          ]
        }
      ],
      "source": [
        "i=0\n",
        "while i<=50:\n",
        "  if i !=0:\n",
        "    print(i)\n",
        "  i+=5"
      ]
    },
    {
      "cell_type": "code",
      "execution_count": null,
      "metadata": {
        "colab": {
          "base_uri": "https://localhost:8080/"
        },
        "id": "RRsctzsKU9S-",
        "outputId": "ab0c8463-c4ae-4406-e01a-a9c60e75691e"
      },
      "outputs": [
        {
          "name": "stdout",
          "output_type": "stream",
          "text": [
            "51\n",
            "53\n",
            "55\n",
            "57\n",
            "59\n",
            "61\n",
            "63\n",
            "65\n",
            "67\n",
            "69\n",
            "71\n",
            "73\n",
            "75\n",
            "77\n",
            "79\n",
            "81\n",
            "83\n",
            "85\n",
            "87\n",
            "89\n",
            "91\n",
            "93\n",
            "95\n",
            "97\n",
            "99\n",
            "101\n"
          ]
        }
      ],
      "source": [
        "counter=49\n",
        "while counter<100:\n",
        "  counter+=2\n",
        "  print(counter)"
      ]
    },
    {
      "cell_type": "code",
      "execution_count": null,
      "metadata": {
        "colab": {
          "base_uri": "https://localhost:8080/"
        },
        "id": "Im4WbnIHZAhk",
        "outputId": "907bd3d8-edf1-4183-ba6b-45a9c39fad5a"
      },
      "outputs": [
        {
          "name": "stdout",
          "output_type": "stream",
          "text": [
            "51\n",
            "53\n",
            "55\n",
            "57\n",
            "59\n",
            "61\n",
            "63\n",
            "65\n",
            "67\n",
            "69\n",
            "71\n",
            "73\n",
            "75\n",
            "77\n",
            "79\n",
            "81\n",
            "83\n",
            "85\n",
            "87\n",
            "89\n",
            "91\n",
            "93\n",
            "95\n",
            "97\n",
            "99\n"
          ]
        }
      ],
      "source": [
        "counter=50\n",
        "while counter<=100:\n",
        "  if counter%2!=00:\n",
        "    print(counter)\n",
        "  counter+=1\n",
        "\n"
      ]
    },
    {
      "cell_type": "code",
      "execution_count": null,
      "metadata": {
        "colab": {
          "base_uri": "https://localhost:8080/"
        },
        "id": "4wIiLyY5YVpC",
        "outputId": "45f9bdee-6d40-4353-ea1b-09e0120cb08c"
      },
      "outputs": [
        {
          "name": "stdout",
          "output_type": "stream",
          "text": [
            "99\n",
            "97\n",
            "95\n",
            "93\n",
            "91\n",
            "89\n",
            "87\n",
            "85\n",
            "83\n",
            "81\n",
            "79\n",
            "77\n",
            "75\n",
            "73\n",
            "71\n",
            "69\n",
            "67\n",
            "65\n",
            "63\n",
            "61\n",
            "59\n",
            "57\n",
            "55\n",
            "53\n",
            "51\n"
          ]
        }
      ],
      "source": [
        "counter=400\n",
        "while counter>=350:\n",
        "  z=(counter-300)\n",
        "  if z%2!=0:\n",
        "    print(z)\n",
        "  counter-=1"
      ]
    },
    {
      "cell_type": "code",
      "execution_count": null,
      "metadata": {
        "colab": {
          "base_uri": "https://localhost:8080/"
        },
        "id": "k7tiAuhQbz_P",
        "outputId": "450798d1-e76b-44a5-f184-9601ad70b729"
      },
      "outputs": [
        {
          "name": "stdout",
          "output_type": "stream",
          "text": [
            "1\n",
            "2\n",
            "3\n",
            "4\n",
            "5\n",
            "6\n",
            "7\n",
            "8\n",
            "9\n",
            "10\n"
          ]
        }
      ],
      "source": [
        "counter=-1\n",
        "while counter>= (-10):\n",
        "  print(-counter)\n",
        "  counter=counter-1"
      ]
    },
    {
      "cell_type": "code",
      "execution_count": null,
      "metadata": {
        "colab": {
          "base_uri": "https://localhost:8080/"
        },
        "id": "bzpGDezDe8A3",
        "outputId": "57ca137f-e395-40ca-9250-6a0a6fd9ee2a"
      },
      "outputs": [
        {
          "name": "stdout",
          "output_type": "stream",
          "text": [
            "10\n",
            "11\n",
            "12\n",
            "13\n",
            "14\n",
            "15\n",
            "16\n",
            "17\n",
            "18\n",
            "19\n",
            "20\n"
          ]
        }
      ],
      "source": [
        "counter=-10\n",
        "while counter>= (-20):\n",
        "  print(-counter)\n",
        "  counter-=1"
      ]
    },
    {
      "cell_type": "code",
      "execution_count": null,
      "metadata": {
        "colab": {
          "base_uri": "https://localhost:8080/"
        },
        "id": "w68eadKYgAEP",
        "outputId": "2606c0aa-c1df-4b97-f9c9-d11071824f5b"
      },
      "outputs": [
        {
          "name": "stdout",
          "output_type": "stream",
          "text": [
            "1\n",
            "2\n",
            "3\n",
            "4\n",
            "5\n",
            "6\n",
            "7\n",
            "8\n",
            "9\n",
            "10\n"
          ]
        }
      ],
      "source": [
        "counter=1\n",
        "while counter<=10:\n",
        "  print(counter)\n",
        "  counter=counter-(-1)"
      ]
    },
    {
      "cell_type": "code",
      "execution_count": null,
      "metadata": {
        "colab": {
          "base_uri": "https://localhost:8080/"
        },
        "id": "ol1043pwg1Ln",
        "outputId": "ce5144b3-0b25-42b6-ec6b-34fc913a4b58"
      },
      "outputs": [
        {
          "name": "stdout",
          "output_type": "stream",
          "text": [
            "1\n",
            "2\n",
            "3\n",
            "4\n",
            "5\n",
            "6\n",
            "7\n",
            "8\n",
            "9\n",
            "10\n"
          ]
        }
      ],
      "source": [
        "counter=1\n",
        "while counter<=10:\n",
        "  print(counter)\n",
        "  counter-=-1"
      ]
    },
    {
      "cell_type": "code",
      "execution_count": null,
      "metadata": {
        "colab": {
          "base_uri": "https://localhost:8080/"
        },
        "id": "VdIrbq1chdwh",
        "outputId": "337f6617-0d9c-4992-d589-e2d6fb541dcb"
      },
      "outputs": [
        {
          "name": "stdout",
          "output_type": "stream",
          "text": [
            "7\n",
            "14\n",
            "21\n",
            "28\n",
            "35\n",
            "42\n",
            "49\n",
            "56\n",
            "63\n",
            "70\n",
            "77\n",
            "84\n",
            "91\n",
            "98\n"
          ]
        }
      ],
      "source": [
        "counter=556\n",
        "while counter<=656:\n",
        "  a=counter-555\n",
        "  if a%7==0:\n",
        "    print(a)\n",
        "  counter+=1"
      ]
    },
    {
      "cell_type": "code",
      "execution_count": null,
      "metadata": {
        "colab": {
          "base_uri": "https://localhost:8080/"
        },
        "id": "w8bu-6fHs86s",
        "outputId": "e870efd2-63f9-4aa0-9019-c9b67f230d45"
      },
      "outputs": [
        {
          "name": "stdout",
          "output_type": "stream",
          "text": [
            "7\n",
            "14\n",
            "21\n",
            "28\n",
            "35\n",
            "42\n",
            "49\n",
            "56\n",
            "63\n",
            "70\n",
            "77\n",
            "84\n",
            "91\n",
            "98\n"
          ]
        }
      ],
      "source": [
        "counter=1\n",
        "while counter<=100:\n",
        "  if counter%7==0:\n",
        "    print(counter)\n",
        "  counter+=1"
      ]
    },
    {
      "cell_type": "code",
      "execution_count": null,
      "metadata": {
        "colab": {
          "base_uri": "https://localhost:8080/"
        },
        "id": "NT0DKITjvxHg",
        "outputId": "cebfafa5-a56a-45aa-ccde-b2fe2e93ec99"
      },
      "outputs": [
        {
          "name": "stdout",
          "output_type": "stream",
          "text": [
            "#\n",
            "##\n",
            "###\n",
            "####\n",
            "#####\n",
            "######\n",
            "#######\n"
          ]
        }
      ],
      "source": [
        "counter=1\n",
        "while counter<=7:\n",
        "  print(\"#\"*counter)\n",
        "  counter+=1"
      ]
    },
    {
      "cell_type": "code",
      "execution_count": null,
      "metadata": {
        "colab": {
          "base_uri": "https://localhost:8080/"
        },
        "id": "3GwTOp1HzYtk",
        "outputId": "8428c11f-06a6-4608-d5b9-4f38ea85cbe8"
      },
      "outputs": [
        {
          "name": "stdout",
          "output_type": "stream",
          "text": [
            "1\n",
            "2\n",
            "Nav\n",
            "4\n",
            "5\n",
            "Nav\n",
            "gurukul\n",
            "8\n",
            "Nav\n",
            "10\n",
            "11\n",
            "Nav\n",
            "13\n",
            "gurukul\n",
            "Nav\n",
            "16\n",
            "17\n",
            "Nav\n",
            "19\n",
            "20\n",
            "Navgurukul\n",
            "22\n",
            "23\n",
            "Nav\n",
            "25\n",
            "26\n",
            "Nav\n",
            "gurukul\n",
            "29\n",
            "Nav\n",
            "31\n",
            "32\n",
            "Nav\n",
            "34\n",
            "gurukul\n",
            "Nav\n",
            "37\n",
            "38\n",
            "Nav\n",
            "40\n",
            "41\n",
            "Navgurukul\n",
            "43\n",
            "44\n",
            "Nav\n",
            "46\n",
            "47\n",
            "Nav\n",
            "gurukul\n",
            "50\n",
            "Nav\n",
            "52\n",
            "53\n",
            "Nav\n",
            "55\n",
            "gurukul\n",
            "Nav\n",
            "58\n",
            "59\n",
            "Nav\n",
            "61\n",
            "62\n",
            "Navgurukul\n",
            "64\n",
            "65\n",
            "Nav\n",
            "67\n",
            "68\n",
            "Nav\n",
            "gurukul\n",
            "71\n",
            "Nav\n",
            "73\n",
            "74\n",
            "Nav\n",
            "76\n",
            "gurukul\n",
            "Nav\n",
            "79\n",
            "80\n",
            "Nav\n",
            "82\n",
            "83\n",
            "Navgurukul\n",
            "85\n",
            "86\n",
            "Nav\n",
            "88\n",
            "89\n",
            "Nav\n",
            "gurukul\n",
            "92\n",
            "Nav\n",
            "94\n",
            "95\n",
            "Nav\n",
            "97\n",
            "gurukul\n",
            "Nav\n",
            "100\n"
          ]
        }
      ],
      "source": [
        "counter=1\n",
        "while counter<=100:\n",
        "  if counter%3==0 and counter%7==0:\n",
        "    print(\"Navgurukul\")\n",
        "  elif counter%3==0:\n",
        "    print(\"Nav\")\n",
        "  elif counter%7==0:\n",
        "    print(\"gurukul\")\n",
        "  else:\n",
        "    print(counter)\n",
        "  counter+=1\n"
      ]
    },
    {
      "cell_type": "code",
      "execution_count": null,
      "metadata": {
        "colab": {
          "base_uri": "https://localhost:8080/"
        },
        "id": "Bcj5R6ZH14r7",
        "outputId": "0b7d34aa-6401-4d8f-d110-4c4c6095fc9c"
      },
      "outputs": [
        {
          "name": "stdout",
          "output_type": "stream",
          "text": [
            "7\n",
            "14\n",
            "21\n",
            "28\n",
            "35\n",
            "42\n",
            "49\n",
            "56\n",
            "63\n",
            "70\n",
            "77\n",
            "84\n",
            "91\n",
            "98\n"
          ]
        }
      ],
      "source": [
        "i = 1\n",
        "while i<100:\n",
        "  if i%7==0:\n",
        "   print(i)\n",
        "  i+=1"
      ]
    },
    {
      "cell_type": "code",
      "execution_count": null,
      "metadata": {
        "colab": {
          "base_uri": "https://localhost:8080/"
        },
        "id": "x_8LARYh6hcY",
        "outputId": "5f80f5a6-c498-4a84-a27c-801a6c4abc04"
      },
      "outputs": [
        {
          "name": "stdout",
          "output_type": "stream",
          "text": [
            "num: 1\n",
            "num: 1\n",
            "num: 1\n",
            "num: 1\n",
            "num: 1\n",
            "num: 1\n",
            "num: 1\n",
            "num: 1\n",
            "num: 1\n",
            "num: 1\n",
            "sum= 10\n"
          ]
        }
      ],
      "source": [
        "counter=1\n",
        "sum=0\n",
        "while counter<=10:\n",
        "  a=int(input(\"num: \"))\n",
        "  sum+=a\n",
        "  counter+=1\n",
        "print(\"sum=\",sum)\n"
      ]
    },
    {
      "cell_type": "code",
      "execution_count": null,
      "metadata": {
        "colab": {
          "base_uri": "https://localhost:8080/"
        },
        "id": "Kh4INdfD6PZ5",
        "outputId": "7e358e5a-00c1-4e98-e517-14b0c9464c12"
      },
      "outputs": [
        {
          "name": "stdout",
          "output_type": "stream",
          "text": [
            "1\n",
            "2\n",
            "3\n",
            "4\n",
            "5\n",
            "6\n",
            "7\n",
            "8\n",
            "9\n",
            "10\n"
          ]
        }
      ],
      "source": [
        "counter=156\n",
        "while counter<166:\n",
        "  print(counter-155)\n",
        "  counter+=1"
      ]
    },
    {
      "cell_type": "code",
      "execution_count": null,
      "metadata": {
        "colab": {
          "base_uri": "https://localhost:8080/"
        },
        "id": "i86UDUNFDbjh",
        "outputId": "6b93b534-b27f-49b5-bbce-7cce23688ac7"
      },
      "outputs": [
        {
          "name": "stdout",
          "output_type": "stream",
          "text": [
            "Number of input to be take? 4\n",
            "num: 1\n",
            "num: 1\n",
            "num: 1\n",
            "num: 1\n",
            "sum= 4\n"
          ]
        }
      ],
      "source": [
        "i=1\n",
        "counter=int(input(\"Number of input to be take? \"))\n",
        "sum=0\n",
        "while i<=counter:\n",
        "  a=int(input(\"num: \"))\n",
        "  sum=sum+a\n",
        "  i+=1\n",
        "print(\"sum=\",sum)\n"
      ]
    },
    {
      "cell_type": "code",
      "execution_count": null,
      "metadata": {
        "colab": {
          "base_uri": "https://localhost:8080/"
        },
        "id": "8hjyv24hGSic",
        "outputId": "025c4661-deee-4456-b322-d2ebd99ce1a0"
      },
      "outputs": [
        {
          "name": "stdout",
          "output_type": "stream",
          "text": [
            "enter any num: 8\n",
            "1\n",
            "2\n",
            "2\n",
            "3\n",
            "3\n",
            "3\n",
            "3\n",
            "4\n",
            "This is Not prime number\n"
          ]
        }
      ],
      "source": [
        "num=int(input(\"enter any num: \"))\n",
        "i=1\n",
        "factor=0\n",
        "while i<=num:\n",
        "  if num%i==0:\n",
        "   factor+=1\n",
        "  i+=1\n",
        "  print(factor)\n",
        "if factor==2:\n",
        "  print(\"This is a prime number\")\n",
        "else:\n",
        "  print(\"This is Not prime number\")   "
      ]
    },
    {
      "cell_type": "code",
      "execution_count": null,
      "metadata": {
        "colab": {
          "base_uri": "https://localhost:8080/"
        },
        "id": "i28rXnM98Q5g",
        "outputId": "b5a4ef92-ac5a-4f46-8dc0-94ca8c70f1a8"
      },
      "outputs": [
        {
          "name": "stdout",
          "output_type": "stream",
          "text": [
            "25\n",
            "20\n",
            "15\n",
            "10\n",
            "5\n"
          ]
        }
      ],
      "source": [
        "counter=5\n",
        "while counter>=1:\n",
        "  print(counter*5)\n",
        "  counter-=1"
      ]
    },
    {
      "cell_type": "code",
      "execution_count": null,
      "metadata": {
        "id": "Ke1Ky_po6cxa"
      },
      "outputs": [],
      "source": [
        "num=int(input(\"enter any number: \"))\n",
        "s=0\n",
        "while num>0:\n",
        "    a=num%10\n",
        "    num=num//10\n",
        "    s+=a\n",
        "print(s,\"sum\")"
      ]
    },
    {
      "cell_type": "code",
      "execution_count": null,
      "metadata": {
        "colab": {
          "base_uri": "https://localhost:8080/"
        },
        "id": "iAtYzDOfGulM",
        "outputId": "e753c1f7-f997-4d28-e03b-6d98f39a30f8"
      },
      "outputs": [
        {
          "name": "stdout",
          "output_type": "stream",
          "text": [
            "enter any number:09876\n",
            "30\n"
          ]
        }
      ],
      "source": [
        "#Q.11 sum the digit of input number\n",
        "a=int(input(\"enter any number:\"))\n",
        "sum=0\n",
        "while a>0:\n",
        "  b=a%10\n",
        "  a=a//10\n",
        "  sum+=b\n",
        "print(sum)"
      ]
    },
    {
      "cell_type": "code",
      "execution_count": null,
      "metadata": {
        "colab": {
          "base_uri": "https://localhost:8080/"
        },
        "id": "-fdrg0XJrJ3J",
        "outputId": "969b058b-8248-4534-bf08-af40a71eb197"
      },
      "outputs": [
        {
          "name": "stdout",
          "output_type": "stream",
          "text": [
            "enter any number: 234\n",
            "9\n"
          ]
        }
      ],
      "source": [
        "num=int(input(\"enter any number: \"))\n",
        "sum=0\n",
        "while num>0:\n",
        "  a=num%10\n",
        "  num=num//10\n",
        "  sum+=a\n",
        "print(sum)"
      ]
    },
    {
      "cell_type": "code",
      "execution_count": null,
      "metadata": {
        "colab": {
          "base_uri": "https://localhost:8080/"
        },
        "id": "YDaN2jHAZFDZ",
        "outputId": "140d52cf-c551-44e3-ab32-bd188fec581d"
      },
      "outputs": [
        {
          "name": "stdout",
          "output_type": "stream",
          "text": [
            "take a no.2345\n",
            "120\n"
          ]
        }
      ],
      "source": [
        "#Q.12: product(mantiplay)the digit of number\n",
        "i = int(input(\"take a no.\"))\n",
        "sum=1\n",
        "while i>0:\n",
        "  a=i%10\n",
        "  i=i//10\n",
        "  sum=(sum*a)\n",
        "print(sum)\n"
      ]
    },
    {
      "cell_type": "code",
      "execution_count": null,
      "metadata": {
        "colab": {
          "base_uri": "https://localhost:8080/"
        },
        "id": "seAvWRnlhqfb",
        "outputId": "81c2fa05-f6f5-42a0-cca0-68932532f016"
      },
      "outputs": [
        {
          "name": "stdout",
          "output_type": "stream",
          "text": [
            "Enter first number: 7\n",
            "Enter second number: 9\n",
            "Enter third number: 8\n",
            "8 is a second largest number\n"
          ]
        }
      ],
      "source": [
        "a=int(input(\"Enter first number: \"))\n",
        "b=int(input(\"Enter second number: \"))\n",
        "c=int(input(\"Enter third number: \"))\n",
        "if a>b:\n",
        "  if a<c:\n",
        "    print(a,\"is a second largest number\")\n",
        "  elif b>c:\n",
        "    print(b,\"is a second largest number\")\n",
        "  else:\n",
        "    print(c,\"is a second largest number\")\n",
        "elif b>a:\n",
        "  if b<c:\n",
        "    print(b,\"is a second largest number\")\n",
        "  elif b<a:\n",
        "    print(a,\"is a second largest number\")\n",
        "  else:\n",
        "    print(c,\"is a second largest number\")\n",
        "else:\n",
        "  print(c,\"is a second largest number\")"
      ]
    },
    {
      "cell_type": "code",
      "execution_count": null,
      "metadata": {
        "colab": {
          "base_uri": "https://localhost:8080/"
        },
        "id": "BYLgg1r9msyD",
        "outputId": "53e45ebf-a7a3-4be9-f06d-2661896bd3aa"
      },
      "outputs": [
        {
          "name": "stdout",
          "output_type": "stream",
          "text": [
            "Enter any number: 768\n",
            "768 no\n"
          ]
        }
      ],
      "source": [
        "num=input(\"Enter any number: \")\n",
        "reversed_number=num[::-1]\n",
        "if num==reversed_number:\n",
        "  print(num,\"yes\")\n",
        "else:\n",
        "  print(num,\"no\")\n",
        "\n",
        "# while num>0:\n",
        "#   a=num%10\n",
        "#   b=num//10\n",
        "# print(reversed_number)"
      ]
    },
    {
      "cell_type": "code",
      "execution_count": null,
      "metadata": {
        "colab": {
          "base_uri": "https://localhost:8080/"
        },
        "id": "dDpxZC8T17Fe",
        "outputId": "219e8dc7-001f-44dc-a3e4-6b55fccfe833"
      },
      "outputs": [
        {
          "name": "stdout",
          "output_type": "stream",
          "text": [
            "Enter Any Number: 56\n",
            "65"
          ]
        }
      ],
      "source": [
        "number=int(input(\"Enter Any Number: \"))\n",
        "counter=1\n",
        "while counter<=number:\n",
        "  a=number%10\n",
        "  print(a,end=\"\")\n",
        "  number=number//10"
      ]
    },
    {
      "cell_type": "code",
      "execution_count": null,
      "metadata": {
        "colab": {
          "base_uri": "https://localhost:8080/"
        },
        "id": "mQFpOlJY1ZjY",
        "outputId": "a2a7b818-7970-4ea2-b791-0d5ed1819c65"
      },
      "outputs": [
        {
          "name": "stdout",
          "output_type": "stream",
          "text": [
            "enter: 4325948\n",
            "8495234"
          ]
        }
      ],
      "source": [
        "#Q>13 Reverce number\n",
        "n=int(input(\"enter: \"))\n",
        "i=1\n",
        "while i<=n:\n",
        "  b=n%10\n",
        "  print(b,end=\"\")\n",
        "  n=n//10\n",
        "  "
      ]
    },
    {
      "cell_type": "code",
      "execution_count": null,
      "metadata": {
        "colab": {
          "base_uri": "https://localhost:8080/"
        },
        "id": "RR43Kv7DxU2y",
        "outputId": "ef346617-539d-4f07-b204-07c3952c57f9"
      },
      "outputs": [
        {
          "name": "stdout",
          "output_type": "stream",
          "text": [
            "num: 32\n"
          ]
        }
      ],
      "source": [
        "num=int(input(\"Enter any number: \"))\n",
        "counter=1\n",
        "while counter>=2:\n",
        "  a=num%10\n",
        "  if a==1\n"
      ]
    },
    {
      "cell_type": "code",
      "execution_count": null,
      "metadata": {
        "colab": {
          "base_uri": "https://localhost:8080/"
        },
        "id": "21ZYVIkqCWbf",
        "outputId": "37d8c8f9-70cd-4548-944c-698867d68c4a"
      },
      "outputs": [
        {
          "name": "stdout",
          "output_type": "stream",
          "text": [
            "Enter any num: 9\n",
            "*\n",
            "**\n",
            "***\n",
            "****\n",
            "*****\n",
            "******\n",
            "*******\n",
            "********\n",
            "*********\n",
            "********\n",
            "*******\n",
            "******\n",
            "*****\n",
            "****\n",
            "***\n",
            "**\n",
            "*\n"
          ]
        }
      ],
      "source": [
        "num=int(input(\"Enter any num: \"))\n",
        "counter=1\n",
        "while counter<=num:\n",
        "  print(\"*\"*counter)\n",
        "  counter+=1\n",
        "i=num-1\n",
        "while i>=1:\n",
        "  print(\"*\"*i)\n",
        "  i-=1\n"
      ]
    },
    {
      "cell_type": "code",
      "execution_count": null,
      "metadata": {
        "colab": {
          "base_uri": "https://localhost:8080/"
        },
        "id": "Hmp73wnSFDSu",
        "outputId": "35e1fde9-74e1-40b8-c48b-d1cd057c93ef"
      },
      "outputs": [
        {
          "name": "stdout",
          "output_type": "stream",
          "text": [
            "enter any number: 5\n",
            "*****\n",
            "****\n",
            "***\n",
            "**\n",
            "*\n"
          ]
        }
      ],
      "source": [
        "num=int(input(\"enter any number: \"))\n",
        "i=num\n",
        "while i>=1:\n",
        "  print(\"*\"*i)\n",
        "  i-=1"
      ]
    },
    {
      "cell_type": "code",
      "execution_count": null,
      "metadata": {
        "colab": {
          "base_uri": "https://localhost:8080/"
        },
        "id": "199m2l5_z-Fq",
        "outputId": "00a43f25-36d2-4ffe-af6d-194f53a39a04"
      },
      "outputs": [
        {
          "name": "stdout",
          "output_type": "stream",
          "text": [
            "Enter any num: 9\n",
            "0,1,1,2,3,5,8,13,21,"
          ]
        }
      ],
      "source": [
        "#Q.15\n",
        "n=int(input(\"Enter any num: \"))\n",
        "n1=0\n",
        "n2=1\n",
        "i=0\n",
        "if n<=0:\n",
        "  print(\"n1\")\n",
        "elif n==1:\n",
        "  print(n1,n2)\n",
        "else:\n",
        " while i<n:\n",
        "  print(n1,end=\",\")\n",
        "  n3=n1+n2\n",
        "  n1=n2\n",
        "  n2=n3\n",
        "  i+=1"
      ]
    },
    {
      "cell_type": "code",
      "execution_count": null,
      "metadata": {
        "colab": {
          "base_uri": "https://localhost:8080/"
        },
        "id": "zl0gWpFI17rk",
        "outputId": "99cda623-0281-4c9d-b4ca-361ee1a5ecae"
      },
      "outputs": [
        {
          "name": "stdout",
          "output_type": "stream",
          "text": [
            "take number of factorial.7\n",
            "factorial of num= 5040\n"
          ]
        }
      ],
      "source": [
        "#Q.16\n",
        "num= int(input(\"take number of factorial.\"))\n",
        "i=1\n",
        "sum=1\n",
        "while i<=num:\n",
        "  sum=sum*i\n",
        "  i+=1\n",
        "print(\"factorial of num=\",sum)\n"
      ]
    },
    {
      "cell_type": "code",
      "execution_count": null,
      "metadata": {
        "colab": {
          "base_uri": "https://localhost:8080/"
        },
        "id": "WOruV4CuA3F0",
        "outputId": "7ce90342-1430-4179-95ba-67d245cb5a31"
      },
      "outputs": [
        {
          "name": "stdout",
          "output_type": "stream",
          "text": [
            "enter any num: 1\n",
            "1\n",
            "2\n",
            "3\n",
            "4\n",
            "5\n",
            "6\n"
          ]
        }
      ],
      "source": [
        "a=int(input(\"enter any num: \"))\n",
        "while a<=6:\n",
        "  print(a)\n",
        "  a+=1"
      ]
    },
    {
      "cell_type": "code",
      "execution_count": null,
      "metadata": {
        "colab": {
          "base_uri": "https://localhost:8080/"
        },
        "id": "FmFOqNrYEYpy",
        "outputId": "35945558-9442-40d3-97a2-5c786eac7a12"
      },
      "outputs": [
        {
          "name": "stdout",
          "output_type": "stream",
          "text": [
            "rupa\n"
          ]
        }
      ],
      "source": [
        "if 1<7:\n",
        "  print (\"rupa\")"
      ]
    },
    {
      "cell_type": "code",
      "execution_count": null,
      "metadata": {
        "colab": {
          "base_uri": "https://localhost:8080/"
        },
        "id": "ezYJTFwrLMBx",
        "outputId": "08d0d944-6d70-409e-d9fe-11cfa504398e"
      },
      "outputs": [
        {
          "name": "stdout",
          "output_type": "stream",
          "text": [
            "enter any number: 123\n",
            "123 (a number is not Armstrong)\n"
          ]
        }
      ],
      "source": [
        "#Q.17\n",
        "num=int(input(\"enter any number: \"))\n",
        "sum=0\n",
        "num1=num\n",
        "while num1>0:\n",
        "  a=(num1%10)**3\n",
        "  sum+=a\n",
        "  num1=num1//10\n",
        "if num==sum:\n",
        "  print(num,\"(a number is Armstrong)\")\n",
        "else:\n",
        "  print(num,\"(a number is not Armstrong)\")\n",
        "\n"
      ]
    },
    {
      "cell_type": "code",
      "execution_count": null,
      "metadata": {
        "colab": {
          "base_uri": "https://localhost:8080/"
        },
        "id": "IY_aMj2WLLyn",
        "outputId": "27e54187-78ac-4df1-e902-b6b36c12a038"
      },
      "outputs": [
        {
          "name": "stdout",
          "output_type": "stream",
          "text": [
            "8\n"
          ]
        }
      ],
      "source": [
        "a=12\n",
        "c=(a%10)**3\n",
        "b=a**3\n",
        "print(c)"
      ]
    },
    {
      "cell_type": "code",
      "execution_count": null,
      "metadata": {
        "colab": {
          "base_uri": "https://localhost:8080/"
        },
        "id": "iOid0Kjs3ecf",
        "outputId": "3f318ab9-9e12-4df5-9a6b-bc3edf2f7b06"
      },
      "outputs": [
        {
          "name": "stdout",
          "output_type": "stream",
          "text": [
            "0 1 2 3 4 5 Found at 6 location\n"
          ]
        }
      ],
      "source": [
        "index = 0 \n",
        "while index<6:  \n",
        "  print(index,end=\" \") \n",
        "  index=index+1  \n",
        "  if index == 10:  \n",
        "    break  \n",
        "print(\"(Found at\",index,\"location)\")"
      ]
    },
    {
      "cell_type": "code",
      "execution_count": null,
      "metadata": {
        "colab": {
          "base_uri": "https://localhost:8080/",
          "height": 132
        },
        "id": "-hI0_BoRBGys",
        "outputId": "559c59fc-9baa-46b8-eccc-4785c289605c"
      },
      "outputs": [
        {
          "ename": "IndentationError",
          "evalue": "ignored",
          "output_type": "error",
          "traceback": [
            "\u001b[0;36m  File \u001b[0;32m\"<ipython-input-4-33d2a3821e13>\"\u001b[0;36m, line \u001b[0;32m6\u001b[0m\n\u001b[0;31m    continue\u001b[0m\n\u001b[0m    ^\u001b[0m\n\u001b[0;31mIndentationError\u001b[0m\u001b[0;31m:\u001b[0m unexpected indent\n"
          ]
        }
      ],
      "source": [
        "i= 0\n",
        "while i <= 10:\n",
        "i+=1\n",
        "  if i==5:\n",
        "   print(\"pinki\") \n",
        "    continue\n",
        "   print(i)\n",
        " \n",
        " "
      ]
    },
    {
      "cell_type": "code",
      "execution_count": null,
      "metadata": {
        "colab": {
          "base_uri": "https://localhost:8080/"
        },
        "id": "-g0l2QbFT6z7",
        "outputId": "8d881584-4c68-46e3-c832-167cb6dac3d3"
      },
      "outputs": [
        {
          "name": "stdout",
          "output_type": "stream",
          "text": [
            "enter any number: 6\n",
            "6\n",
            "0\n",
            "6\n",
            "0\n",
            "6\n",
            "0\n",
            "6\n",
            "0\n",
            "6\n",
            "0\n",
            "6\n",
            "0\n",
            "6 sum\n"
          ]
        }
      ],
      "source": [
        "num=int(input(\"enter any number: \"))\n",
        "counter=1\n",
        "while counter<=num:\n",
        "    b=num%10\n",
        "    print(b)\n",
        "    a=num//10\n",
        "    print(a)\n",
        "    s=a+b\n",
        "    counter+=1\n",
        "print(s,\"sum\")\n",
        "\n"
      ]
    },
    {
      "cell_type": "code",
      "execution_count": null,
      "metadata": {
        "id": "USddCOGTUBrA"
      },
      "outputs": [],
      "source": [
        " num=int(input(\"enter any number: \"))\n",
        "s=06578\n",
        " "
      ]
    },
    {
      "cell_type": "code",
      "execution_count": null,
      "metadata": {
        "colab": {
          "base_uri": "https://localhost:8080/"
        },
        "id": "ImlvcyY_VILI",
        "outputId": "153eb74d-13d1-4e57-b922-079c5e8c9a74"
      },
      "outputs": [
        {
          "name": "stdout",
          "output_type": "stream",
          "text": [
            "Enter any num: 34456\n",
            "Five\n",
            "Six\n"
          ]
        }
      ],
      "source": [
        "# Q.14 (while loop)\n",
        "num=int(input(\"Enter any num: \"))\n",
        "b=str(num)[-2:]\n",
        "a = b\n",
        "j=0\n",
        "while j<len(a):\n",
        "    if  a[j]==\"0\":\n",
        "      print(\"Zero\")\n",
        "    elif a[j]==\"1\":\n",
        "      print(\"one\")\n",
        "    elif a[j]==\"2\":\n",
        "      print(\"Two\") \n",
        "    elif a[j]==\"3\":\n",
        "      print(\"Three\")\n",
        "    elif a[j]==\"4\":\n",
        "      print(\"Four\")\n",
        "    elif a[j]==\"5\":\n",
        "      print(\"Five\")\n",
        "    elif a[j]==\"6\":\n",
        "      print(\"Six\")\n",
        "    elif a[j]==\"7\":\n",
        "      print(\"Seven\")\n",
        "    elif a[j]==\"8\":\n",
        "      print(\"Eight\")\n",
        "    else:\n",
        "      print(\"Nine\")\n",
        "    j+=1\n"
      ]
    },
    {
      "cell_type": "code",
      "execution_count": null,
      "metadata": {
        "id": "vely1oFlVD2C"
      },
      "outputs": [],
      "source": [
        "#Q.15\n",
        "num=int(input(\"Enter any num: \"))\n",
        "a=0\n",
        "b=1\n",
        "sum=0\n",
        "while b<num:\n",
        "  if num<2:\n",
        "    print(a,b)\n",
        "  else:\n",
        "      print(a,)\n",
        "    b+=1\n",
        "c=(a+b)\n",
        "while b<=num:\n",
        "    print(sum)\n",
        "sum=sum+a\n"
      ]
    },
    {
      "cell_type": "code",
      "execution_count": 7,
      "metadata": {
        "id": "dBu0xzMKUb02",
        "colab": {
          "base_uri": "https://localhost:8080/"
        },
        "outputId": "a00e0fc9-6788-4dbc-8bf9-874648a9093c"
      },
      "outputs": [
        {
          "output_type": "stream",
          "name": "stdout",
          "text": [
            "1\n",
            "2\n",
            "3\n",
            "4\n",
            "5\n"
          ]
        }
      ],
      "source": [
        "i=1\n",
        "while i<=10:\n",
        "    if i==6:\n",
        "        break\n",
        "    print(i)\n",
        "    i+=1\n",
        "\n",
        " "
      ]
    },
    {
      "cell_type": "code",
      "execution_count": 8,
      "metadata": {
        "id": "zYP6Co5iVSgl",
        "colab": {
          "base_uri": "https://localhost:8080/"
        },
        "outputId": "b36a9128-c293-464b-fdc4-b4e31a732c71"
      },
      "outputs": [
        {
          "output_type": "stream",
          "name": "stdout",
          "text": [
            "1\n",
            "2\n",
            "3\n",
            "5\n",
            "6\n",
            "7\n",
            "8\n",
            "9\n",
            "10\n"
          ]
        }
      ],
      "source": [
        "i=0\n",
        "while i<10:\n",
        "    i+=1\n",
        "    if i==4:\n",
        "        continue\n",
        "    print(i)    \n"
      ]
    },
    {
      "cell_type": "code",
      "execution_count": 9,
      "metadata": {
        "id": "q9egraPzUpem",
        "colab": {
          "base_uri": "https://localhost:8080/"
        },
        "outputId": "264591a7-abec-4aa7-e8ce-0021e3d5c2d7"
      },
      "outputs": [
        {
          "output_type": "stream",
          "name": "stdout",
          "text": [
            "Enter any number: 678\n",
            "Enter any number: 654\n",
            "Enter any number: 89\n",
            "Enter any number: 9\n",
            "Enter any number: 8\n",
            "Enter any number: 56\n",
            "Enter any number: 8\n",
            "Enter any number: 3\n",
            "Enter any number: 1\n",
            "Enter any number: 2\n",
            "Avrage= 150.8\n"
          ]
        }
      ],
      "source": [
        "# Q.22\n",
        "i=1\n",
        "sum=0\n",
        "while i<=10:\n",
        "   num=int(input(\"Enter any number: \"))\n",
        "   sum=sum+num\n",
        "   i+=1\n",
        "print(\"Avrage=\",sum/10)\n"
      ]
    },
    {
      "cell_type": "code",
      "execution_count": null,
      "metadata": {
        "colab": {
          "base_uri": "https://localhost:8080/"
        },
        "id": "_GWBjCr5UvWU",
        "outputId": "669bd92c-9e34-4793-c182-f3233b619a68"
      },
      "outputs": [
        {
          "name": "stdout",
          "output_type": "stream",
          "text": [
            "enter any number: 5\n",
            "1/1! +  1/2! +  1/3! +  1/4! +  1/5!"
          ]
        }
      ],
      "source": [
        "#Q.19 \n",
        "num=int(input(\"enter any number: \"))\n",
        "i=1\n",
        "while i<=num:\n",
        "    if i==num:\n",
        "        print(\"1/\"+str(i)+\"!\",end=\"\")\n",
        "    else:\n",
        "        print(\"1/\"+str(i)+\"! + \",end=\" \")\n",
        "    i+=1\n"
      ]
    },
    {
      "cell_type": "code",
      "execution_count": null,
      "metadata": {
        "id": "iEG8_y-AUzkO"
      },
      "outputs": [],
      "source": [
        "#Q.18 \n",
        "n=int(input(\"Enter any number: \"))\n",
        "while n>0:\n",
        "    a=n%2\n",
        "    print(a)\n",
        "    n=n//2\n"
      ]
    },
    {
      "cell_type": "code",
      "execution_count": null,
      "metadata": {
        "id": "prCHGyhGU_KL"
      },
      "outputs": [],
      "source": [
        "#Q15.\n",
        "num=int(input(\"enter any num: \"))\n",
        "n1=0\n",
        "n2=1\n",
        "i=0\n",
        "if num<=0:\n",
        "    print(n1)\n",
        "elif num==1:\n",
        "    print(n1,n2)\n",
        "else:\n",
        "    while i<num:\n",
        "        print(n1)\n",
        "        n3=n1+n2\n",
        "        n1=n2\n",
        "        n2=n3\n",
        "        i+=1\n"
      ]
    },
    {
      "cell_type": "code",
      "execution_count": null,
      "metadata": {
        "colab": {
          "base_uri": "https://localhost:8080/"
        },
        "id": "yFkbqySIY5Wj",
        "outputId": "18e48a9e-9db8-4683-e10d-4c8c557b3e1f"
      },
      "outputs": [
        {
          "name": "stdout",
          "output_type": "stream",
          "text": [
            "1\n",
            "2\n",
            "3\n",
            "4\n",
            "5\n",
            "pinki\n",
            "7\n",
            "8\n",
            "9\n",
            "10\n"
          ]
        }
      ],
      "source": [
        "i=0\n",
        "while i<10:\n",
        "  i+=1\n",
        "  if i==6:\n",
        "    print(\"pinki\")\n",
        "    continue\n",
        "  print(i)"
      ]
    },
    {
      "cell_type": "code",
      "execution_count": null,
      "metadata": {
        "colab": {
          "base_uri": "https://localhost:8080/"
        },
        "id": "pEtPgd0pb2vw",
        "outputId": "f32059ce-932e-47b3-e71b-1391f4e7285b"
      },
      "outputs": [
        {
          "name": "stdout",
          "output_type": "stream",
          "text": [
            "v\n",
            "g\n",
            "r\n",
            "k\n",
            "l\n",
            "the end l\n"
          ]
        }
      ],
      "source": [
        "counter = 0\n",
        "string = \"navgurukul\"\n",
        "while (counter < len(string)-1):\n",
        "\tcounter+=1\n",
        "\tif string[counter] == \"a\":\n",
        "\t  continue\n",
        "\tif string[counter] == \"u\":\n",
        "\t  continue\n",
        "\tprint(string[counter])\n",
        "\t\n",
        "print(\"the end\",string[counter])\n"
      ]
    },
    {
      "cell_type": "code",
      "execution_count": null,
      "metadata": {
        "colab": {
          "base_uri": "https://localhost:8080/"
        },
        "id": "V7dWJ8AGnskl",
        "outputId": "07c9db07-cb38-431e-c644-85ab18ee03f4"
      },
      "outputs": [
        {
          "name": "stdout",
          "output_type": "stream",
          "text": [
            "20 22 24 26 28 30 32 34 36 38 40 42 44 46 48 50 52 54 56 58 60 62 64 66 68 70 72 74 76 78 80 82 84 86 88 90 92 94 96 98 100 "
          ]
        }
      ],
      "source": [
        "#Q meraki Question\n",
        "i=20\n",
        "while i<=100:\n",
        "  if i%2==0:\n",
        "    print(i,end=\" \")\n",
        "  i+=1"
      ]
    },
    {
      "cell_type": "code",
      "execution_count": null,
      "metadata": {
        "colab": {
          "base_uri": "https://localhost:8080/"
        },
        "id": "b0lnczH7oRxM",
        "outputId": "75600366-db4b-49df-ef8f-b1ea90d6e4c1"
      },
      "outputs": [
        {
          "name": "stdout",
          "output_type": "stream",
          "text": [
            "20,22,24,26,28,30,32,34,36,38,40,42,44,46,48,50,52,54,56,58,60,62,64,66,68,70,72,74,76,78,80,82,84,86,88,90,92,94,96,98,100,"
          ]
        }
      ],
      "source": [
        "i=19\n",
        "while i<100:\n",
        "  i+=1\n",
        "  if i%2!=0:\n",
        "    continue\n",
        "  print(i,end=\",\")"
      ]
    },
    {
      "cell_type": "code",
      "execution_count": null,
      "metadata": {
        "colab": {
          "base_uri": "https://localhost:8080/"
        },
        "id": "D5l8CwQyoxfM",
        "outputId": "07006902-d7fc-426d-afb9-b4efbe0eb9ff"
      },
      "outputs": [
        {
          "name": "stdout",
          "output_type": "stream",
          "text": [
            "7 ,14 ,21 ,28 ,35 ,42 ,49 ,56 ,63 ,70 ,77 ,84 ,91 ,98 ,"
          ]
        }
      ],
      "source": [
        "i=0\n",
        "while i<100:\n",
        "  i+=1\n",
        "  if i%7!=0:\n",
        "    continue\n",
        "  print(i,end=\" ,\")\n"
      ]
    },
    {
      "cell_type": "code",
      "execution_count": null,
      "metadata": {
        "colab": {
          "base_uri": "https://localhost:8080/"
        },
        "id": "E6gTC7bgpYD7",
        "outputId": "4dc49727-ffec-49bf-d054-36709e990052"
      },
      "outputs": [
        {
          "name": "stdout",
          "output_type": "stream",
          "text": [
            "sum of (12 to 421)= 88765\n"
          ]
        }
      ],
      "source": [
        "i=12\n",
        "sum=0\n",
        "while i<=421:\n",
        "  sum=sum+i\n",
        "  i+=1\n",
        "print(\"sum of (12 to 421)=\",sum)\n"
      ]
    },
    {
      "cell_type": "code",
      "execution_count": null,
      "metadata": {
        "colab": {
          "base_uri": "https://localhost:8080/"
        },
        "id": "_dDHdFFwtrd1",
        "outputId": "6867beb2-5608-4414-8c3d-bbff8107e9c5"
      },
      "outputs": [
        {
          "name": "stdout",
          "output_type": "stream",
          "text": [
            "32\n",
            "40\n",
            "48\n",
            "56\n",
            "64\n",
            "72\n",
            "80\n",
            "88\n",
            "96\n",
            "104\n",
            "112\n",
            "120\n",
            "128\n",
            "136\n",
            "144\n",
            "152\n",
            "160\n",
            "168\n",
            "176\n",
            "184\n",
            "192\n",
            "200\n",
            "208\n",
            "216\n",
            "224\n",
            "232\n",
            "240\n",
            "248\n",
            "256\n",
            "264\n",
            "272\n",
            "280\n",
            "288\n",
            "296\n",
            "304\n",
            "312\n",
            "320\n",
            "328\n",
            "336\n",
            "344\n",
            "352\n",
            "360\n",
            "368\n",
            "376\n",
            "384\n",
            "392\n",
            "400\n",
            "408\n",
            "416\n",
            "sum= 10976\n"
          ]
        }
      ],
      "source": [
        "i=30\n",
        "sum=0\n",
        "while i<=420:\n",
        "  i+=1\n",
        "  if i%8!=0:\n",
        "    continue\n",
        "  print(i)\n",
        "  sum=sum+i\n",
        "print(\"sum=\",sum)\n"
      ]
    },
    {
      "cell_type": "code",
      "execution_count": null,
      "metadata": {
        "colab": {
          "base_uri": "https://localhost:8080/"
        },
        "id": "kr6Hykh-vk7B",
        "outputId": "135cecdd-2062-477f-95f0-bf4b6293c706"
      },
      "outputs": [
        {
          "name": "stdout",
          "output_type": "stream",
          "text": [
            "Enter your weight: 8\n",
            "Enter your weight: 6\n",
            "Enter your weight: 5\n",
            "Enter your weight: 7\n",
            "Enter your weight: 9\n",
            "Enter your weight: 5\n",
            "Enter your weight: 4\n",
            "Enter your weight: 6\n",
            "Enter your weight: 8\n",
            "Enter your weight: 3\n",
            "Enter your weight: 4\n",
            "avrage= 5.909090909090909\n",
            "5 is a multiple of 5 \n"
          ]
        }
      ],
      "source": [
        "i=1\n",
        "sum=0\n",
        "while i<=11:\n",
        "  a=int(input(\"Enter your weight: \"))\n",
        "  sum=sum+a\n",
        "  i+=1\n",
        "print(\"avrage=\",sum/11)\n",
        "b=int(sum/11)\n",
        "if b%5==0:\n",
        "  print(b,\"is a multiple of 5 \")\n",
        "else:\n",
        "  print(b,\"is a NOT multiple of 5 \")"
      ]
    },
    {
      "cell_type": "code",
      "execution_count": null,
      "metadata": {
        "colab": {
          "base_uri": "https://localhost:8080/"
        },
        "id": "FCbPCvDL1ajv",
        "outputId": "20013ed3-0f4c-4805-e632-96051a92e666"
      },
      "outputs": [
        {
          "name": "stdout",
          "output_type": "stream",
          "text": [
            "Enter any num: 8\n",
            "Enter any num: 6\n",
            "multi= 48\n"
          ]
        }
      ],
      "source": [
        "i=1\n",
        "num=int(input(\"Enter any num: \"))\n",
        "num1=int(input(\"Enter any num: \"))\n",
        "multi=0\n",
        "while i<=num1:\n",
        "  multi=multi+num\n",
        "  i+=1\n",
        "print(\"multi=\",multi)\n"
      ]
    },
    {
      "cell_type": "code",
      "execution_count": null,
      "metadata": {
        "colab": {
          "base_uri": "https://localhost:8080/"
        },
        "id": "2SG29GxQhOMO",
        "outputId": "79bb30b6-6f03-4add-c48d-2f48f5f1639f"
      },
      "outputs": [
        {
          "name": "stdout",
          "output_type": "stream",
          "text": [
            "15\n"
          ]
        }
      ],
      "source": [
        "a=5\n",
        "b=3\n",
        "i=1\n",
        "multi=0\n",
        "while i<=b:\n",
        "  multi+=a\n",
        "  i+=1\n",
        "print(multi)\n"
      ]
    },
    {
      "cell_type": "code",
      "execution_count": null,
      "metadata": {
        "colab": {
          "base_uri": "https://localhost:8080/"
        },
        "id": "cjvZpJeHjU1D",
        "outputId": "5e31f02b-8054-47ef-f053-b5ffca9e68f9"
      },
      "outputs": [
        {
          "name": "stdout",
          "output_type": "stream",
          "text": [
            "Enter any number: 8\n",
            "0 1 1 2 3 5 8 13 "
          ]
        }
      ],
      "source": [
        "a=int(input(\"Enter any number: \"))\n",
        "n1=0\n",
        "n2=1\n",
        "i=1\n",
        "if a<=0:\n",
        "  print(n1)\n",
        "elif a==1:\n",
        "  print(n1,n2)\n",
        "else:\n",
        "  while i<=a:\n",
        "    print(n1,end=\" \")\n",
        "    n3=n1+n2\n",
        "    n1=n2\n",
        "    n2=n3\n",
        "    i+=1\n"
      ]
    },
    {
      "cell_type": "code",
      "execution_count": null,
      "metadata": {
        "colab": {
          "base_uri": "https://localhost:8080/"
        },
        "id": "4FwmR_rdk8md",
        "outputId": "aaf240b8-985b-4866-82cf-8420a559bbca"
      },
      "outputs": [
        {
          "name": "stdout",
          "output_type": "stream",
          "text": [
            "Loop Ke Andar 1 1\n",
            "Loop Ke Andar 2 2\n",
            "Loop Ke Andar 3 6\n",
            "Loop Ke Bahar 3 6\n"
          ]
        }
      ],
      "source": [
        "c = 0\n",
        "d = 1\n",
        "while c<3:\n",
        "  c=c+1\n",
        "  d=d*c\n",
        "  print(\"Loop Ke Andar\", c, d)\n",
        "else:\n",
        "  print(\"Loop Ke Bahar\", c, d)"
      ]
    },
    {
      "cell_type": "code",
      "execution_count": null,
      "metadata": {
        "colab": {
          "base_uri": "https://localhost:8080/"
        },
        "id": "q1wAL0hlx7HP",
        "outputId": "c939a652-42d5-4c89-dc7a-ddb9c7727c18"
      },
      "outputs": [
        {
          "name": "stdout",
          "output_type": "stream",
          "text": [
            "enter 79\n",
            "79 is a prime number\n"
          ]
        }
      ],
      "source": [
        "i= 2\n",
        "num=int(input(\"enter \"))\n",
        "while (i<=num):\n",
        "  if (num%i == 0):\n",
        "      print(num, 'is not a prime number')\n",
        "      break\n",
        "      i+=1\n",
        "      \n",
        "  else:\n",
        "      print(num, 'is a prime number')\n",
        "      break"
      ]
    },
    {
      "cell_type": "code",
      "execution_count": null,
      "metadata": {
        "id": "MlehombJt5PD"
      },
      "outputs": [],
      "source": [
        "################################   Patterns::  ##############################"
      ]
    },
    {
      "cell_type": "code",
      "execution_count": null,
      "metadata": {
        "colab": {
          "base_uri": "https://localhost:8080/"
        },
        "id": "6hD3yJ3Z0O4d",
        "outputId": "fd30865f-8d16-453d-ff8e-d345d148185d"
      },
      "outputs": [
        {
          "name": "stdout",
          "output_type": "stream",
          "text": [
            "Enter number: 5\n",
            "1\n",
            "11\n",
            "111\n",
            "1111\n",
            "11111\n"
          ]
        }
      ],
      "source": [
        "#Q.\n",
        "a=int(input(\"Enter number: \"))\n",
        "i=1\n",
        "while i<=a:\n",
        "  print(i*\"1\")\n",
        "  i+=1"
      ]
    },
    {
      "cell_type": "code",
      "execution_count": null,
      "metadata": {
        "colab": {
          "base_uri": "https://localhost:8080/"
        },
        "id": "reLYk9TggdQE",
        "outputId": "7eeb0432-ddb9-4dc0-91bb-99340fa56b21"
      },
      "outputs": [
        {
          "name": "stdout",
          "output_type": "stream",
          "text": [
            "enter any num:4\n",
            "enter any num: 7\n",
            "****************************\n",
            "****************************\n",
            "****************************\n",
            "****************************\n"
          ]
        }
      ],
      "source": [
        "a=int(input(\"enter any num:\"))\n",
        "b=int(input(\"enter any num: \"))\n",
        "i=1\n",
        "while i<=a:\n",
        "  j=1\n",
        "  while j<=b:\n",
        "    print(j*\"*\",end=\"\")\n",
        "    j+=1\n",
        "  i+=1\n",
        "  print()"
      ]
    },
    {
      "cell_type": "code",
      "execution_count": null,
      "metadata": {
        "colab": {
          "base_uri": "https://localhost:8080/"
        },
        "id": "MLVQNC30qGho",
        "outputId": "01281429-ebea-4c33-a37f-dd159bb309be"
      },
      "outputs": [
        {
          "name": "stdout",
          "output_type": "stream",
          "text": [
            "1 2 3 4 5 \n",
            "1 2 3 4 5 \n",
            "1 2 3 4 5 \n",
            "1 2 3 4 5 \n",
            "1 2 3 4 5 \n"
          ]
        }
      ],
      "source": [
        "a=1\n",
        "while a<=5:\n",
        "  b=1\n",
        "  while b<=5:\n",
        "    print(b,end=\" \")\n",
        "    b+=1\n",
        "  a+=1\n",
        "  print()\n",
        "\n",
        "\n"
      ]
    },
    {
      "cell_type": "code",
      "execution_count": null,
      "metadata": {
        "colab": {
          "base_uri": "https://localhost:8080/"
        },
        "id": "jnT2MsGbq-UM",
        "outputId": "e96c42e3-d3e9-45fd-fa8b-d9287ccabeb2"
      },
      "outputs": [
        {
          "name": "stdout",
          "output_type": "stream",
          "text": [
            "1\n",
            "22\n",
            "333\n",
            "4444\n",
            "55555\n"
          ]
        }
      ],
      "source": [
        "a=1\n",
        "while a<=5:\n",
        "  b=1\n",
        "  while b<=a:\n",
        "    print(a,end=\"\")\n",
        "    b+=1\n",
        "  a+=1\n",
        "  print()"
      ]
    },
    {
      "cell_type": "code",
      "execution_count": null,
      "metadata": {
        "colab": {
          "base_uri": "https://localhost:8080/"
        },
        "id": "aP0VocuYrsb_",
        "outputId": "f9af6d20-2601-479e-e3f9-b833ef409677"
      },
      "outputs": [
        {
          "name": "stdout",
          "output_type": "stream",
          "text": [
            "p\n",
            "pp\n",
            "ppp\n",
            "pppp\n",
            "ppppp\n",
            "\n"
          ]
        }
      ],
      "source": [
        "p=1\n",
        "while p==1:\n",
        "  q=1\n",
        "  while q<6:\n",
        "    print(q*\"p\")\n",
        "    q+=1\n",
        "  p+=1\n",
        "  print()\n"
      ]
    },
    {
      "cell_type": "code",
      "execution_count": null,
      "metadata": {
        "colab": {
          "base_uri": "https://localhost:8080/"
        },
        "id": "fudqE7Vwwo_t",
        "outputId": "ea87e818-3e37-49bf-8f87-a1abea3aed40"
      },
      "outputs": [
        {
          "name": "stdout",
          "output_type": "stream",
          "text": [
            "        1 \n",
            "      1 2 \n",
            "    1 2 3 \n",
            "  1 2 3 4 \n",
            "1 2 3 4 5 \n"
          ]
        }
      ],
      "source": [
        "#(h)\n",
        "i=1\n",
        "while i<=5:\n",
        "    s=1\n",
        "    while s<=5-i:\n",
        "        print(\" \",end=\" \")\n",
        "        s+=1\n",
        "    j=1\n",
        "    while j<=i:\n",
        "        print(j,end=\" \")\n",
        "        j+=1\n",
        "    i+=1\n",
        "    print()\n"
      ]
    },
    {
      "cell_type": "code",
      "execution_count": null,
      "metadata": {
        "colab": {
          "base_uri": "https://localhost:8080/"
        },
        "id": "yuBisyWKwXMx",
        "outputId": "f8280eea-de4d-4903-fb3b-c304f927bcf3"
      },
      "outputs": [
        {
          "name": "stdout",
          "output_type": "stream",
          "text": [
            "        1 \n",
            "      2 2 \n",
            "    3 3 3 \n",
            "  4 4 4 4 \n",
            "5 5 5 5 5 \n"
          ]
        }
      ],
      "source": [
        "i=1\n",
        "while i<=5:\n",
        "    s=1\n",
        "    while s<=5-i:\n",
        "        print(\" \",end=\" \")\n",
        "        s+=1\n",
        "    j=1\n",
        "    while j<=i:\n",
        "        print(i,end=\" \")\n",
        "        j+=1\n",
        "    i+=1\n",
        "    print()\n"
      ]
    },
    {
      "cell_type": "code",
      "execution_count": null,
      "metadata": {
        "colab": {
          "base_uri": "https://localhost:8080/"
        },
        "id": "eKtQM5EYwR3p",
        "outputId": "4c275e7e-87af-495a-ece5-50510f27f75c"
      },
      "outputs": [
        {
          "name": "stdout",
          "output_type": "stream",
          "text": [
            "        1 \n",
            "      2 1 \n",
            "    3 2 1 \n",
            "  4 3 2 1 \n",
            "5 4 3 2 1 \n"
          ]
        }
      ],
      "source": [
        "i=1\n",
        "while i<=5:\n",
        "    s=1\n",
        "    while s<=5-i:\n",
        "        print(\" \",end=\" \")\n",
        "        s+=1\n",
        "    j=i\n",
        "    while j>0:\n",
        "        print(j,end=\" \")\n",
        "        j-=1\n",
        "    i+=1\n",
        "    print()\n"
      ]
    },
    {
      "cell_type": "code",
      "execution_count": null,
      "metadata": {
        "colab": {
          "base_uri": "https://localhost:8080/"
        },
        "id": "81OiYgO3wIsY",
        "outputId": "80909881-a913-4724-eccf-a01edbd052a1"
      },
      "outputs": [
        {
          "name": "stdout",
          "output_type": "stream",
          "text": [
            "1 \n",
            "2 1 \n",
            "3 2 1 \n",
            "4 3 2 1 \n",
            "5 4 3 2 1 \n"
          ]
        }
      ],
      "source": [
        "i=1\n",
        "while i<=5:\n",
        "    j=i\n",
        "    while j>0:\n",
        "        print(j,end=\" \")\n",
        "        j-=1\n",
        "    i+=1\n",
        "    print()\n"
      ]
    },
    {
      "cell_type": "code",
      "execution_count": null,
      "metadata": {
        "colab": {
          "base_uri": "https://localhost:8080/"
        },
        "id": "2KtXT6_1vndh",
        "outputId": "50d885bf-7269-498f-fee4-be19a845b9bc"
      },
      "outputs": [
        {
          "name": "stdout",
          "output_type": "stream",
          "text": [
            "1 \n",
            "2 3 \n",
            "4 5 6 \n",
            "7 8 9 10 \n",
            "11 12 13 14 15 \n"
          ]
        }
      ],
      "source": [
        "i=1\n",
        "a=1\n",
        "while i<=5:\n",
        "    j=1\n",
        "    while j<=i:\n",
        "        print(a,end=\" \")\n",
        "        a+=1\n",
        "        j+=1\n",
        "    i+=1\n",
        "    print()\n"
      ]
    },
    {
      "cell_type": "code",
      "execution_count": null,
      "metadata": {
        "colab": {
          "base_uri": "https://localhost:8080/"
        },
        "id": "cJCo6e8svkCQ",
        "outputId": "19a39ada-db18-4061-a365-05efa8b4f2fb"
      },
      "outputs": [
        {
          "name": "stdout",
          "output_type": "stream",
          "text": [
            "1 \n",
            "2 3 4 \n",
            "5 6 7 8 9 \n"
          ]
        }
      ],
      "source": [
        "i=1\n",
        "a=1\n",
        "while i<=5:\n",
        "    j=1\n",
        "    while j<=i:\n",
        "        print(a,end=\" \")\n",
        "        j+=1\n",
        "        a+=1\n",
        "    i+=2\n",
        "    print()\n"
      ]
    },
    {
      "cell_type": "code",
      "execution_count": null,
      "metadata": {
        "colab": {
          "base_uri": "https://localhost:8080/"
        },
        "id": "7nyo-O_Su30v",
        "outputId": "b4fc3606-29e3-4432-f576-578f16004efe"
      },
      "outputs": [
        {
          "name": "stdout",
          "output_type": "stream",
          "text": [
            "0 \n",
            "0 1 \n",
            "0 2 4 \n",
            "0 3 6 9 \n",
            "0 4 8 12 16 \n",
            "0 5 10 15 20 25 \n"
          ]
        }
      ],
      "source": [
        "i=0\n",
        "while i<=5:\n",
        "    j=0\n",
        "    while j<=i:\n",
        "        print(j*i,end=\" \")\n",
        "        j+=1\n",
        "    i+=1\n",
        "    print()\n"
      ]
    },
    {
      "cell_type": "code",
      "execution_count": null,
      "metadata": {
        "colab": {
          "base_uri": "https://localhost:8080/"
        },
        "id": "A_7WqEvhu0UY",
        "outputId": "06271263-4f82-4a04-bb13-9d1faacecafb"
      },
      "outputs": [
        {
          "name": "stdout",
          "output_type": "stream",
          "text": [
            "0 \n",
            "0 1 \n",
            "0 1 4 \n",
            "0 1 4 9 \n",
            "0 1 4 9 16 \n",
            "0 1 4 9 16 25 \n"
          ]
        }
      ],
      "source": [
        "i=0\n",
        "while i<=5:\n",
        "    j=0\n",
        "    while j<=i:\n",
        "        print(j*j,end=\" \")\n",
        "        j+=1\n",
        "    i+=1\n",
        "    print()\n"
      ]
    },
    {
      "cell_type": "code",
      "execution_count": null,
      "metadata": {
        "colab": {
          "base_uri": "https://localhost:8080/"
        },
        "id": "c1qgcrGFuw-o",
        "outputId": "a25240e3-1a52-452c-e380-6a83747c0113"
      },
      "outputs": [
        {
          "name": "stdout",
          "output_type": "stream",
          "text": [
            "1 \n",
            "4 4 \n",
            "9 9 9 \n",
            "16 16 16 16 \n",
            "25 25 25 25 25 \n"
          ]
        }
      ],
      "source": [
        "i=1\n",
        "while i<=5:\n",
        "    j=1\n",
        "    while j<=i:\n",
        "        print(i**2,end=\" \")\n",
        "        j+=1\n",
        "    i+=1\n",
        "    print()\n"
      ]
    },
    {
      "cell_type": "code",
      "execution_count": null,
      "metadata": {
        "colab": {
          "base_uri": "https://localhost:8080/"
        },
        "id": "LAVlGLn3utSY",
        "outputId": "103d6f93-1c31-430a-d9d4-8f942dd0955d"
      },
      "outputs": [
        {
          "name": "stdout",
          "output_type": "stream",
          "text": [
            "1 \n",
            "3 3 \n",
            "5 5 5 \n",
            "7 7 7 7 \n",
            "9 9 9 9 9 \n"
          ]
        }
      ],
      "source": [
        "i=1\n",
        "while i<=9:\n",
        "    j=1\n",
        "    while j<=i:\n",
        "        print(i,end=\" \")\n",
        "        j+=2\n",
        "    i+=2\n",
        "    print()     \n"
      ]
    },
    {
      "cell_type": "code",
      "execution_count": null,
      "metadata": {
        "colab": {
          "base_uri": "https://localhost:8080/"
        },
        "id": "5HmGgXlBuoSv",
        "outputId": "b11ce40f-35ea-403d-d880-ce51ec6d5c74"
      },
      "outputs": [
        {
          "name": "stdout",
          "output_type": "stream",
          "text": [
            "1 2 3 4 5 \n",
            "1 2 3 4 5 \n",
            "1 2 3 4 5 \n",
            "1 2 3 4 5 \n",
            "1 2 3 4 5 \n"
          ]
        }
      ],
      "source": [
        "i=1\n",
        "while i<=5:\n",
        "    j=1\n",
        "    while j<=5:\n",
        "        print(j,end=\" \")\n",
        "        j+=1\n",
        "    i+=1\n",
        "    print()     \n",
        "    "
      ]
    },
    {
      "cell_type": "code",
      "source": [
        "\n",
        "i=1\n",
        "while i<=5:\n",
        "    s=1\n",
        "    while s<=5-i:\n",
        "        print(\" \",end=\" \")\n",
        "        s+=1\n",
        "    j=i\n",
        "    while j>0:\n",
        "        print(j,end=\" \")\n",
        "        j-=1\n",
        "    p=2\n",
        "    while p<=i:\n",
        "        print(p,end=\" \")\n",
        "        p+=1\n",
        "    i+=1\n",
        "    print()  "
      ],
      "metadata": {
        "colab": {
          "base_uri": "https://localhost:8080/"
        },
        "id": "o2W5Rfq3W4EC",
        "outputId": "df9316a1-de4f-4942-ead1-d9379d8ba3b4"
      },
      "execution_count": null,
      "outputs": [
        {
          "output_type": "stream",
          "name": "stdout",
          "text": [
            "        1 \n",
            "      2 1 2 \n",
            "    3 2 1 2 3 \n",
            "  4 3 2 1 2 3 4 \n",
            "5 4 3 2 1 2 3 4 5 \n"
          ]
        }
      ]
    },
    {
      "cell_type": "code",
      "source": [
        "\n",
        "i=0\n",
        "while i<=5:\n",
        "    b=1\n",
        "    while b<=5-i:\n",
        "        print(\" \" ,end=\" \")\n",
        "        b+=1\n",
        "    j=i\n",
        "    while j>=0:\n",
        "        print(j,end=\" \")\n",
        "        j-=1\n",
        "    n=1\n",
        "    while n<=i:\n",
        "        print(n,end=\" \")\n",
        "        n+=1\n",
        "    i+=1\n",
        "    print()"
      ],
      "metadata": {
        "colab": {
          "base_uri": "https://localhost:8080/"
        },
        "id": "6ZabR1YPXCBR",
        "outputId": "cc8c0ecf-7d5c-4067-a76e-28c3e902b181"
      },
      "execution_count": null,
      "outputs": [
        {
          "output_type": "stream",
          "name": "stdout",
          "text": [
            "          0 \n",
            "        1 0 1 \n",
            "      2 1 0 1 2 \n",
            "    3 2 1 0 1 2 3 \n",
            "  4 3 2 1 0 1 2 3 4 \n",
            "5 4 3 2 1 0 1 2 3 4 5 \n"
          ]
        }
      ]
    },
    {
      "cell_type": "code",
      "source": [
        "\n",
        "i=1\n",
        "while i<=5:\n",
        "    j=5-i\n",
        "    while j<=i:\n",
        "        print(j,end=\" \")\n",
        "        j+=1\n",
        "    i+=1\n",
        "    print()"
      ],
      "metadata": {
        "id": "JrRezbrqXJ0f",
        "outputId": "697c15e8-93dc-46c3-a439-5d1e109af83c",
        "colab": {
          "base_uri": "https://localhost:8080/"
        }
      },
      "execution_count": null,
      "outputs": [
        {
          "output_type": "stream",
          "name": "stdout",
          "text": [
            "\n",
            "\n",
            "2 3 \n",
            "1 2 3 4 \n",
            "0 1 2 3 4 5 \n"
          ]
        }
      ]
    },
    {
      "cell_type": "code",
      "execution_count": null,
      "metadata": {
        "colab": {
          "base_uri": "https://localhost:8080/"
        },
        "id": "9VlsYkasujNO",
        "outputId": "17c19ad2-17b1-4804-ffd5-7e2699f32596"
      },
      "outputs": [
        {
          "name": "stdout",
          "output_type": "stream",
          "text": [
            "enter the rows:6\n",
            "enter the colons:6\n",
            "      * \n",
            "     * * \n",
            "    * * * \n",
            "   * * * * \n",
            "  * * * * * \n",
            " * * * * * * \n"
          ]
        }
      ],
      "source": [
        "row=int(input(\"enter the rows:\"))\n",
        "col=int(input(\"enter the colons:\"))\n",
        "i=1\n",
        "while i<=col:\n",
        "    print(\" \"* row +\"* \"* i)\n",
        "    i+=1\n",
        "    row=row-1\n"
      ]
    },
    {
      "cell_type": "code",
      "execution_count": null,
      "metadata": {
        "colab": {
          "base_uri": "https://localhost:8080/"
        },
        "id": "IE91zJVTLRCb",
        "outputId": "98d4f825-1de4-4304-cd24-f804a4672394"
      },
      "outputs": [
        {
          "name": "stdout",
          "output_type": "stream",
          "text": [
            "enter any num: 6\n",
            "enter any num: 6\n",
            "      \n",
            "     P \n",
            "    P P \n",
            "   P P P \n",
            "  P P P P \n",
            " P P P P P \n",
            "P P P P P P \n"
          ]
        }
      ],
      "source": [
        "row=int(input(\"enter any num: \"))\n",
        "col=int(input(\"enter any num: \"))\n",
        "i=0\n",
        "while i<=col:\n",
        "  print(\" \"*row+\"P \"*i)\n",
        "  i+=1\n",
        "  row-=1"
      ]
    },
    {
      "cell_type": "code",
      "execution_count": null,
      "metadata": {
        "colab": {
          "background_save": true
        },
        "id": "FUx319NJM9Ya",
        "outputId": "f246dce4-08d0-4107-ef9a-eb9dff7e5d5f"
      },
      "outputs": [
        {
          "ename": "TypeError",
          "evalue": "ignored",
          "output_type": "error",
          "traceback": [
            "\u001b[0;31m---------------------------------------------------------------------------\u001b[0m",
            "\u001b[0;31mTypeError\u001b[0m                                 Traceback (most recent call last)",
            "\u001b[0;32m<ipython-input-27-396c63501f4f>\u001b[0m in \u001b[0;36m<module>\u001b[0;34m()\u001b[0m\n\u001b[1;32m      3\u001b[0m \u001b[0mi\u001b[0m\u001b[0;34m=\u001b[0m\u001b[0mcol\u001b[0m\u001b[0;34m\u001b[0m\u001b[0;34m\u001b[0m\u001b[0m\n\u001b[1;32m      4\u001b[0m \u001b[0;32mwhile\u001b[0m \u001b[0mi\u001b[0m\u001b[0;34m>\u001b[0m\u001b[0;36m0\u001b[0m\u001b[0;34m:\u001b[0m\u001b[0;34m\u001b[0m\u001b[0;34m\u001b[0m\u001b[0m\n\u001b[0;32m----> 5\u001b[0;31m   \u001b[0mprint\u001b[0m\u001b[0;34m(\u001b[0m\u001b[0;34m\" \"\u001b[0m\u001b[0;34m*\u001b[0m\u001b[0ms\u001b[0m\u001b[0;34m+\u001b[0m\u001b[0;34m\"* \"\u001b[0m\u001b[0;34m*\u001b[0m\u001b[0mi\u001b[0m\u001b[0;34m)\u001b[0m\u001b[0;34m\u001b[0m\u001b[0;34m\u001b[0m\u001b[0m\n\u001b[0m\u001b[1;32m      6\u001b[0m   \u001b[0mi\u001b[0m\u001b[0;34m-=\u001b[0m\u001b[0;36m1\u001b[0m\u001b[0;34m\u001b[0m\u001b[0;34m\u001b[0m\u001b[0m\n\u001b[1;32m      7\u001b[0m   \u001b[0ms\u001b[0m\u001b[0;34m+=\u001b[0m\u001b[0;36m1\u001b[0m\u001b[0;34m\u001b[0m\u001b[0;34m\u001b[0m\u001b[0m\n",
            "\u001b[0;31mTypeError\u001b[0m: can't multiply sequence by non-int of type 'str'"
          ]
        }
      ],
      "source": []
    },
    {
      "cell_type": "code",
      "execution_count": null,
      "metadata": {
        "colab": {
          "base_uri": "https://localhost:8080/"
        },
        "id": "YUg8we12rWr5",
        "outputId": "29a0f77a-e67a-487d-cd54-56591d5837f3"
      },
      "outputs": [
        {
          "name": "stdout",
          "output_type": "stream",
          "text": [
            "enter any number:12345654321\n",
            "12345654321\n",
            "12345654321 is a palindrome number\n"
          ]
        }
      ],
      "source": [
        "#Q. 20\n",
        "num= int(input(\"enter any number:\"))\n",
        "r=0\n",
        "p=num\n",
        "while p>0:\n",
        "  a=p%10\n",
        "  r=r*10+a\n",
        "  p=p//10\n",
        "print(r)\n",
        "if r==num:\n",
        "  print(num,\"is a palindrome number\")\n",
        "else:\n",
        "  print(num,\"is Not palindrome number\")"
      ]
    },
    {
      "cell_type": "code",
      "execution_count": null,
      "metadata": {
        "colab": {
          "base_uri": "https://localhost:8080/"
        },
        "id": "A3HhAJrL9fu6",
        "outputId": "bcf49302-a40e-41d6-ff78-5c12a70f5ccf"
      },
      "outputs": [
        {
          "name": "stdout",
          "output_type": "stream",
          "text": [
            "Enter any num: 1\n",
            "Enter any num: 10\n",
            "1    |    2\n",
            "3    |    4\n",
            "5    |    6\n",
            "7    |    8\n",
            "9    |    10\n",
            "\n",
            "sum of the even number 1 - 10 = 30\n",
            "\n",
            "sum of the odd number 1 - 10 = 25\n"
          ]
        }
      ],
      "source": [
        "#Q.23\n",
        "num=int(input(\"Enter any num: \"))\n",
        "num1=int(input(\"Enter any num: \"))\n",
        "c=num\n",
        "sum_even=0\n",
        "sum_odd=0\n",
        "while c<=num1:\n",
        "  if c%2==0:\n",
        "    sum_even+=c\n",
        "    print(c)\n",
        "  else:\n",
        "    print(c,end=\"    |    \")\n",
        "    sum_odd+=c\n",
        "  c+=1\n",
        "print()\n",
        "print(\"sum of the even number\",num,\"-\",num1,\"=\",sum_even)\n",
        "print()\n",
        "print(\"sum of the odd number\",num,\"-\",num1,\"=\",sum_odd)"
      ]
    },
    {
      "cell_type": "code",
      "execution_count": null,
      "metadata": {
        "colab": {
          "base_uri": "https://localhost:8080/"
        },
        "id": "WpHeIyoP9GZT",
        "outputId": "7ce8b001-dca4-4012-f74e-0f1688e222e2"
      },
      "outputs": [
        {
          "name": "stdout",
          "output_type": "stream",
          "text": [
            "Enter n terms: 5\n",
            "2 ,22 ,222 ,2222 ,22222 ,"
          ]
        }
      ],
      "source": [
        "#Q.26\n",
        "num=int(input(\"Enter n terms: \"))\n",
        "i=1\n",
        "a=0\n",
        "b=2\n",
        "while i<=num:\n",
        "  a=a*10+b\n",
        "  print(a,end=\" ,\")\n",
        "  i+=1"
      ]
    },
    {
      "cell_type": "code",
      "execution_count": null,
      "metadata": {
        "colab": {
          "base_uri": "https://localhost:8080/"
        },
        "id": "VUuX0R_VkGbD",
        "outputId": "6556e40f-bf56-4e8c-a7c5-df28063ddc22"
      },
      "outputs": [
        {
          "name": "stdout",
          "output_type": "stream",
          "text": [
            "Enter any number:5\n",
            "1 4 9 16 25 "
          ]
        }
      ],
      "source": [
        "#Q.27\n",
        "num=int(input(\"Enter any number:\"))\n",
        "i=1\n",
        "while i<=num:\n",
        "  print(i**2,end=\" \")\n",
        "  i+=1\n"
      ]
    },
    {
      "cell_type": "code",
      "execution_count": null,
      "metadata": {
        "colab": {
          "base_uri": "https://localhost:8080/"
        },
        "id": "XGS510tzlUa7",
        "outputId": "cb945bbe-bfd2-4429-f3d1-6c40879af3a0"
      },
      "outputs": [
        {
          "name": "stdout",
          "output_type": "stream",
          "text": [
            "Enter any number:5\n",
            "1+ 1/1! +  1/2! +  1/3! +  1/4! +  1/5!\n",
            "\n",
            "sum= 3.0833333333333335\n"
          ]
        }
      ],
      "source": [
        "#Q.21\n",
        "num=int(input(\"Enter any number:\"))\n",
        "i=1\n",
        "sum=1\n",
        "while i<=num:\n",
        "  if i==1:\n",
        "    print(\"1+ \",end=\"\")\n",
        "  if i==n:\n",
        "    print(\"1/\"+str(i)+\"!\")\n",
        "  else:\n",
        "    a=1/i\n",
        "    sum+=a\n",
        "    print(\"1/\"+str(i)+\"! + \",end=\" \")\n",
        "  i+=1\n",
        "print()\n",
        "print(\"sum=\",sum)\n"
      ]
    },
    {
      "cell_type": "code",
      "execution_count": null,
      "metadata": {
        "colab": {
          "base_uri": "https://localhost:8080/"
        },
        "id": "w8rz7JwAsjVd",
        "outputId": "256ef7e6-d906-49a7-e48c-267dfc5a6647"
      },
      "outputs": [
        {
          "name": "stdout",
          "output_type": "stream",
          "text": [
            "Enter any number(n):5\n",
            "Enter any number(x):1\n",
            "1 + 11/1! +  12/2! +  13/3! +  14/4! +  15/5!\n",
            "\n",
            "sum= 5.0\n"
          ]
        }
      ],
      "source": [
        "#Q.28\n",
        "n=int(input(\"Enter any number(n):\"))\n",
        "x=int(input(\"Enter any number(x):\"))\n",
        "i=1\n",
        "sum=1\n",
        "while i<=n:\n",
        "  if i==1:\n",
        "    print(\"1 + \",end=\"\")\n",
        "  if i==n:\n",
        "    print(str(x)+str(i)+\"/\"+str(i)+\"!\")\n",
        "  else:\n",
        "   a=x*i/i\n",
        "   sum+=a\n",
        "   print(str(x)+str(i)+\"/\"+str(i)+\"! + \",end=\" \")\n",
        "  i+=1\n",
        "print()\n",
        "print(\"sum=\",sum)\n"
      ]
    },
    {
      "cell_type": "code",
      "execution_count": null,
      "metadata": {
        "colab": {
          "base_uri": "https://localhost:8080/"
        },
        "id": "CGjVl-zkuAKD",
        "outputId": "758724b4-c6d2-4453-ebbd-5a8a9ee795ac"
      },
      "outputs": [
        {
          "name": "stdout",
          "output_type": "stream",
          "text": [
            "Enter any number(n):8\n",
            "Enter any number(x):2\n",
            "2 +22/2! +  23/3! +  24/4! +  25/5! +  26/6! +  27/7! +  28/8!\n",
            "\n",
            "sum= 12.0\n"
          ]
        }
      ],
      "source": [
        "#Q.29\n",
        "n=int(input(\"Enter any number(n):\"))\n",
        "x=int(input(\"Enter any number(x):\"))\n",
        "i=1\n",
        "sum=0\n",
        "while i<=n:\n",
        "  if i==n:\n",
        "    print(str(x)+str(i)+\"/\"+str(i)+\"!\")\n",
        "  elif i==1:\n",
        "    print(x*i,\"+\",end=\"\")\n",
        "  else:\n",
        "   a=x*i/i\n",
        "   sum+=a\n",
        "   print(str(x)+str(i)+\"/\"+str(i)+\"! + \",end=\" \")\n",
        "  i+=1\n",
        "print()\n",
        "print(\"sum=\",sum)\n",
        "\n"
      ]
    },
    {
      "cell_type": "code",
      "execution_count": null,
      "metadata": {
        "colab": {
          "base_uri": "https://localhost:8080/"
        },
        "id": "rbz88gRq8uYh",
        "outputId": "4cf9d042-3e75-436e-cff5-f83a25fcf17f"
      },
      "outputs": [
        {
          "name": "stdout",
          "output_type": "stream",
          "text": [
            "enter the n term:6\n",
            "1 + 8 + 27 + 64 + 125 + 216\n",
            "sum= 225\n"
          ]
        }
      ],
      "source": [
        "#Q.30\n",
        "num=int(input(\"enter the n term:\"))\n",
        "i=1\n",
        "sum=0\n",
        "while i<=num:\n",
        "  if i==num:\n",
        "    print(i**3)\n",
        "  else:\n",
        "    print(i**3,\"+\",end=\" \")\n",
        "    a=i**3\n",
        "    sum+=a\n",
        "  i+=1\n",
        "print(\"sum=\",sum)\n"
      ]
    },
    {
      "cell_type": "code",
      "execution_count": null,
      "metadata": {
        "colab": {
          "base_uri": "https://localhost:8080/"
        },
        "id": "wwG4L7RoAVbl",
        "outputId": "3ed08713-264c-428d-d9dd-8491b1cc7a09"
      },
      "outputs": [
        {
          "name": "stdout",
          "output_type": "stream",
          "text": [
            "Enter n term: 6\n",
            "1 + 2 + 6 + 24 + 120 + 720\n",
            "\n",
            "sum= 873\n"
          ]
        }
      ],
      "source": [
        "#Q.31\n",
        "num=int(input(\"Enter n term: \"))\n",
        "i=1\n",
        "c=1\n",
        "sum=0\n",
        "while i<=num:\n",
        "  p=c*i\n",
        "  if i==num:\n",
        "    print(p)\n",
        "  else:\n",
        "    print(p,\"+\",end=\" \")\n",
        "    c=p\n",
        "    p,c = c,p\n",
        "  sum+=p    \n",
        "  i+=1\n",
        "print()\n",
        "print(\"sum=\",sum)\n",
        "  \n",
        "\n"
      ]
    },
    {
      "cell_type": "code",
      "execution_count": null,
      "metadata": {
        "colab": {
          "base_uri": "https://localhost:8080/"
        },
        "id": "LBQuSXi0Galp",
        "outputId": "8f52ce56-d148-4c48-ae94-5ba6a37ef989"
      },
      "outputs": [
        {
          "name": "stdout",
          "output_type": "stream",
          "text": [
            "enter n terms:6\n",
            "s= 1 + 4 -9 + 16 -25 + 36 \n",
            "sum= 21\n"
          ]
        }
      ],
      "source": [
        "#Q.32\n",
        "num=int(input(\"enter n terms:\"))\n",
        "i=1\n",
        "sum=0\n",
        "while i<=num:\n",
        "  if i==1:\n",
        "    a=i**2\n",
        "    print(\"s=\",a,end=\" \")\n",
        "  elif i%2==0:\n",
        "    a=i**2\n",
        "    print(\"+\",a,end=\" \")\n",
        "  else:\n",
        "    a=(i**2)*-1\n",
        "    print(a,end=\" \")\n",
        "  sum+=a\n",
        "  i+=1\n",
        "print()\n",
        "print(\"sum=\",sum)"
      ]
    },
    {
      "cell_type": "code",
      "execution_count": null,
      "metadata": {
        "colab": {
          "base_uri": "https://localhost:8080/"
        },
        "id": "9hjONwGZQuY5",
        "outputId": "7dc3abd4-867b-4ae1-b30a-0d55f1b67ba4"
      },
      "outputs": [
        {
          "name": "stdout",
          "output_type": "stream",
          "text": [
            "enter n terms:5\n",
            "S= 1+4-9+16-25\n",
            "sum= -13\n"
          ]
        }
      ],
      "source": [
        "#Q.32\n",
        "num=int(input(\"enter n terms:\"))\n",
        "i=1\n",
        "a=0\n",
        "sum=0\n",
        "while i<=num:\n",
        "  if i==1:\n",
        "    a=i\n",
        "    print(\"S=\",a,end=\"\")\n",
        "  elif i%2==0:\n",
        "    a=i**2\n",
        "    print(\"+\"+str(a),end=\"\")\n",
        "  else:\n",
        "    a=(i**2)*-1\n",
        "    print(a,end=\"\")\n",
        "  sum+=a\n",
        "  i+=1\n",
        "print()\n",
        "print(\"sum=\",sum)\n"
      ]
    },
    {
      "cell_type": "code",
      "execution_count": null,
      "metadata": {
        "colab": {
          "base_uri": "https://localhost:8080/"
        },
        "id": "sfNsK5jOYVKr",
        "outputId": "2e3b89cf-be99-4099-d84b-2af0aed30a87"
      },
      "outputs": [
        {
          "name": "stdout",
          "output_type": "stream",
          "text": [
            "C O M P U T E R "
          ]
        }
      ],
      "source": [
        "#Q.33\n",
        "a='COMPUTER'\n",
        "b=len(a)\n",
        "i=0\n",
        "while i<=b-1:\n",
        "  print(a[i],end=\" \")\n",
        "  i+=1\n"
      ]
    },
    {
      "cell_type": "code",
      "execution_count": null,
      "metadata": {
        "colab": {
          "base_uri": "https://localhost:8080/"
        },
        "id": "iUUTo4u_Z2i-",
        "outputId": "a6c9880a-af58-416d-887d-c2e725069078"
      },
      "outputs": [
        {
          "name": "stdout",
          "output_type": "stream",
          "text": [
            "23 ,45 ,25 ,33 ,71 ,"
          ]
        }
      ],
      "source": [
        "#Q.34\n",
        "l=[23,45,32,25,46,33,71,90]\n",
        "a=len(l)\n",
        "i=0\n",
        "while i<=a-1:\n",
        "  if l[i]%2!=0:\n",
        "    print(\"odd number of the listl[i],end=\" ,\")\n",
        "  i+=1\n",
        "\n"
      ]
    },
    {
      "cell_type": "code",
      "execution_count": null,
      "metadata": {
        "colab": {
          "base_uri": "https://localhost:8080/"
        },
        "id": "C1ehQWV9clxq",
        "outputId": "1e929249-e239-49bc-ded9-ac3a638c2455"
      },
      "outputs": [
        {
          "name": "stdout",
          "output_type": "stream",
          "text": [
            "enter any num:9\n",
            "1 3 9 "
          ]
        }
      ],
      "source": [
        "#Q.35\n",
        "a=int(input(\"enter any num:\"))\n",
        "i=1\n",
        "factor=0\n",
        "while i<=a:\n",
        "  if a%i==0:\n",
        "    print(i,end=\" \")\n",
        "  i+=1"
      ]
    },
    {
      "cell_type": "code",
      "execution_count": null,
      "metadata": {
        "colab": {
          "base_uri": "https://localhost:8080/"
        },
        "id": "KCyATF0kfO0v",
        "outputId": "ce1919ae-6a44-4bec-9c02-c8898d485646"
      },
      "outputs": [
        {
          "name": "stdout",
          "output_type": "stream",
          "text": [
            "enter any number:5\n",
            "enter any number:20\n",
            "6\n",
            "8\n",
            "10\n",
            "12\n",
            "14\n",
            "16\n",
            "18\n",
            "20\n",
            "sum: 104\n"
          ]
        }
      ],
      "source": [
        "#Q.36\n",
        "num1=int(input(\"enter any number:\"))\n",
        "num2=int(input(\"enter any number:\"))\n",
        "sum=0\n",
        "while num1<=num2:\n",
        "  if num1%2==0:\n",
        "    print(num1)\n",
        "    sum+=num1\n",
        "  num1+=1\n",
        "print(\"sum:\",sum)\n",
        "\n"
      ]
    },
    {
      "cell_type": "code",
      "execution_count": null,
      "metadata": {
        "colab": {
          "base_uri": "https://localhost:8080/"
        },
        "id": "7kaCFrGGhBoP",
        "outputId": "ebefc204-39d2-4da3-d036-a270d8886fc1"
      },
      "outputs": [
        {
          "name": "stdout",
          "output_type": "stream",
          "text": [
            "1500 1505 1510 1512 1515 1519 1520 1525 1526 1530 1533 1535 1540 1545 1547 1550 1554 1555 1560 1561 1565 1568 1570 1575 1580 1582 1585 1589 1590 1595 1596 1600 1603 1605 1610 1615 1617 1620 1624 1625 1630 1631 1635 1638 1640 1645 1650 1652 1655 1659 1660 1665 1666 1670 1673 1675 1680 1685 1687 1690 1694 1695 1700 1701 1705 1708 1710 1715 1720 1722 1725 1729 1730 1735 1736 1740 1743 1745 1750 1755 1757 1760 1764 1765 1770 1771 1775 1778 1780 1785 1790 1792 1795 1799 1800 1805 1806 1810 1813 1815 1820 1825 1827 1830 1834 1835 1840 1841 1845 1848 1850 1855 1860 1862 1865 1869 1870 1875 1876 1880 1883 1885 1890 1895 1897 1900 1904 1905 1910 1911 1915 1918 1920 1925 1930 1932 1935 1939 1940 1945 1946 1950 1953 1955 1960 1965 1967 1970 1974 1975 1980 1981 1985 1988 1990 1995 2000 2002 2005 2009 2010 2015 2016 2020 2023 2025 2030 2035 2037 2040 2044 2045 2050 2051 2055 2058 2060 2065 2070 2072 2075 2079 2080 2085 2086 2090 2093 2095 2100 2105 2107 2110 2114 2115 2120 2121 2125 2128 2130 2135 2140 2142 2145 2149 2150 2155 2156 2160 2163 2165 2170 2175 2177 2180 2184 2185 2190 2191 2195 2198 2200 2205 2210 2212 2215 2219 2220 2225 2226 2230 2233 2235 2240 2245 2247 2250 2254 2255 2260 2261 2265 2268 2270 2275 2280 2282 2285 2289 2290 2295 2296 2300 2303 2305 2310 2315 2317 2320 2324 2325 2330 2331 2335 2338 2340 2345 2350 2352 2355 2359 2360 2365 2366 2370 2373 2375 2380 2385 2387 2390 2394 2395 2400 2401 2405 2408 2410 2415 2420 2422 2425 2429 2430 2435 2436 2440 2443 2445 2450 2455 2457 2460 2464 2465 2470 2471 2475 2478 2480 2485 2490 2492 2495 2499 2500 2505 2506 2510 2513 2515 2520 2525 2527 2530 2534 2535 2540 2541 2545 2548 2550 2555 2560 2562 2565 2569 2570 2575 2576 2580 2583 2585 2590 2595 2597 2600 2604 2605 2610 2611 2615 2618 2620 2625 2630 2632 2635 2639 2640 2645 2646 2650 2653 2655 2660 2665 2667 2670 2674 2675 2680 2681 2685 2688 2690 2695 2700 "
          ]
        }
      ],
      "source": [
        "#Q.38\n",
        "i=1500\n",
        "while i<=2700:\n",
        "  if i%7==0 and i%5==0:\n",
        "    print(i,end=\" \")\n",
        "  elif i%7==0 or i%5==0:\n",
        "    print(i,end=\" \")\n",
        "  i+=1"
      ]
    },
    {
      "cell_type": "code",
      "execution_count": null,
      "metadata": {
        "colab": {
          "base_uri": "https://localhost:8080/"
        },
        "id": "EYfaWREQjCv0",
        "outputId": "98817414-8ae0-4a80-e96d-536735f7f2f6"
      },
      "outputs": [
        {
          "name": "stdout",
          "output_type": "stream",
          "text": [
            "enter num 1: 13\n",
            "enter num 2: 15\n"
          ]
        }
      ],
      "source": [
        "#Q.40\n",
        "i=1\n",
        "a=int(input(\"enter num 1: \"))\n",
        "b=int(input(\"enter num 2: \"))\n",
        "while i<=1:\n",
        "  if (a+b)>=15 and (a+b)<=20:\n",
        "    print(20)\n",
        "  i+=1"
      ]
    },
    {
      "cell_type": "code",
      "execution_count": null,
      "metadata": {
        "colab": {
          "base_uri": "https://localhost:8080/"
        },
        "id": "QUGPbJk3WPMK",
        "outputId": "fe83a61c-92ef-413e-d551-16137e7c0a88"
      },
      "outputs": [
        {
          "name": "stdout",
          "output_type": "stream",
          "text": [
            "* \n",
            "* * \n",
            "* * * \n",
            "* * * * \n",
            "* * * * * \n"
          ]
        }
      ],
      "source": [
        "#num=int(input(\"enter any num: \"))\n",
        "i=1\n",
        "while i<=5:\n",
        "  j=1\n",
        "  while j<=i:\n",
        "    print(\"*\",end=\" \")\n",
        "    j+=1\n",
        "  i+=1\n",
        "  print()"
      ]
    },
    {
      "cell_type": "code",
      "execution_count": null,
      "metadata": {
        "colab": {
          "base_uri": "https://localhost:8080/"
        },
        "id": "t_6fMFD5D-kF",
        "outputId": "6619a648-3263-4283-8b76-9cad5291b4d6"
      },
      "outputs": [
        {
          "name": "stdout",
          "output_type": "stream",
          "text": [
            "enter any number: 6\n",
            "*\n",
            "**\n",
            "***\n",
            "****\n",
            "*****\n",
            "******\n",
            "*****\n",
            "****\n",
            "***\n",
            "**\n",
            "*\n"
          ]
        }
      ],
      "source": [
        "num=int(input(\"enter any number: \"))\n",
        "i=1\n",
        "while i<=num:\n",
        "    print(\"*\"*i)\n",
        "    i+=1 \n",
        "j=num-1\n",
        "while j>0:\n",
        "  print(\"*\"*j)\n",
        "  j-=1\n",
        "  \n",
        "   \n",
        "\n"
      ]
    },
    {
      "cell_type": "code",
      "execution_count": null,
      "metadata": {
        "colab": {
          "base_uri": "https://localhost:8080/"
        },
        "id": "jp-ApWWI_kk1",
        "outputId": "a4b38e1c-3d8e-467c-d0c4-22adcf195cd0"
      },
      "outputs": [
        {
          "name": "stdout",
          "output_type": "stream",
          "text": [
            "* * * * * \n",
            "* * * * \n",
            "* * * \n",
            "* * \n",
            "* \n"
          ]
        }
      ],
      "source": [
        "i=5\n",
        "while i>0:\n",
        "  j=1\n",
        "  while j<=i:\n",
        "    print(\"*\",end=\" \")\n",
        "    j+=1\n",
        "  i-=1\n",
        "  print()"
      ]
    },
    {
      "cell_type": "code",
      "execution_count": null,
      "metadata": {
        "id": "TE3x81bcD69V"
      },
      "outputs": [],
      "source": []
    },
    {
      "cell_type": "code",
      "execution_count": null,
      "metadata": {
        "colab": {
          "base_uri": "https://localhost:8080/"
        },
        "id": "GhMuTSR-_Tvn",
        "outputId": "d04c0673-0ece-4de9-f3cd-ca8fdaa358da"
      },
      "outputs": [
        {
          "name": "stdout",
          "output_type": "stream",
          "text": [
            "1 \n",
            "1 2 \n",
            "1 2 3 \n",
            "1 2 3 4 \n",
            "1 2 3 4 5 \n"
          ]
        }
      ],
      "source": [
        "#(A)\n",
        "i=1\n",
        "while i<=5:\n",
        "  j=1\n",
        "  while j<=i:\n",
        "    print(j,end=\" \")\n",
        "    j+=1\n",
        "  i+=1\n",
        "  print()"
      ]
    },
    {
      "cell_type": "code",
      "execution_count": null,
      "metadata": {
        "colab": {
          "base_uri": "https://localhost:8080/"
        },
        "id": "63to8nEQCnRI",
        "outputId": "5898dd6a-95f1-4bba-a1ca-73c9abface1e"
      },
      "outputs": [
        {
          "name": "stdout",
          "output_type": "stream",
          "text": [
            "1 2 3 4 5 \n",
            "1 2 3 4 \n",
            "1 2 3 \n",
            "1 2 \n",
            "1 \n"
          ]
        }
      ],
      "source": [
        "#(D)\n",
        "i=5\n",
        "while i>0:\n",
        "  j=1\n",
        "  while j<=i:\n",
        "    print(j,end=\" \")\n",
        "    j+=1\n",
        "  i-=1\n",
        "  print()\n"
      ]
    },
    {
      "cell_type": "code",
      "execution_count": null,
      "metadata": {
        "colab": {
          "base_uri": "https://localhost:8080/"
        },
        "id": "IAaeIlnf_cHl",
        "outputId": "005a17b7-951f-414b-913f-6ab07aa7df08"
      },
      "outputs": [
        {
          "name": "stdout",
          "output_type": "stream",
          "text": [
            "1 \n",
            "2 2 \n",
            "3 3 3 \n",
            "4 4 4 4 \n",
            "5 5 5 5 5 \n"
          ]
        }
      ],
      "source": [
        "#(E)\n",
        "i=1\n",
        "while i<=5:\n",
        "  j=1\n",
        "  while j<=i:\n",
        "    print(i,end=\" \")\n",
        "    j+=1\n",
        "  i+=1\n",
        "  print()"
      ]
    },
    {
      "cell_type": "code",
      "execution_count": null,
      "metadata": {
        "colab": {
          "base_uri": "https://localhost:8080/"
        },
        "id": "02VIAqlECiAT",
        "outputId": "5587d147-ef30-47b4-81e4-0761ac695b3d"
      },
      "outputs": [
        {
          "name": "stdout",
          "output_type": "stream",
          "text": [
            "5 5 5 5 5 \n",
            "4 4 4 4 \n",
            "3 3 3 \n",
            "2 2 \n",
            "1 \n"
          ]
        }
      ],
      "source": [
        "#(C)\n",
        "i=5\n",
        "while i>0:\n",
        "  j=1\n",
        "  while j<=i:\n",
        "    print(i,end=\" \")\n",
        "    j+=1\n",
        "  i-=1\n",
        "  print() "
      ]
    },
    {
      "cell_type": "code",
      "execution_count": null,
      "metadata": {
        "colab": {
          "base_uri": "https://localhost:8080/"
        },
        "id": "0bISmGbSMjlS",
        "outputId": "93728538-567a-4fdd-c391-ffca236039a6"
      },
      "outputs": [
        {
          "name": "stdout",
          "output_type": "stream",
          "text": [
            "5 4 3 2 1 \n",
            "5 4 3 2 \n",
            "5 4 3 \n",
            "5 4 \n",
            "5 \n"
          ]
        }
      ],
      "source": [
        "#(B)\n",
        "i=1\n",
        "while i<=5:\n",
        "  j=5\n",
        "  while j>=i:\n",
        "    print(j,end=\" \")\n",
        "    j-=1\n",
        "  i+=1\n",
        "  print()\n"
      ]
    },
    {
      "cell_type": "code",
      "source": [],
      "metadata": {
        "id": "UTQXnt11WBTq"
      },
      "execution_count": null,
      "outputs": []
    },
    {
      "cell_type": "code",
      "execution_count": null,
      "metadata": {
        "colab": {
          "base_uri": "https://localhost:8080/"
        },
        "id": "9MYw6md5NDZ_",
        "outputId": "73ad7b54-f6d6-4a29-a52b-d661a490ab54"
      },
      "outputs": [
        {
          "name": "stdout",
          "output_type": "stream",
          "text": [
            "p \n",
            "\n",
            "p i \n",
            "\n",
            "p i n \n",
            "\n",
            "p i n k \n",
            "\n",
            "p i n k i \n",
            "\n"
          ]
        }
      ],
      "source": [
        "\n",
        "p=\"pinki\"\n",
        "i=0\n",
        "while i<len(p):\n",
        "    j=0  \n",
        "    while j<=i:\n",
        "        print(p[j],end=\" \")\n",
        "        j+=1\n",
        "    i+=1\n",
        "    print(\"\\n\")"
      ]
    },
    {
      "cell_type": "code",
      "execution_count": null,
      "metadata": {
        "colab": {
          "base_uri": "https://localhost:8080/"
        },
        "id": "HZuS-dp8M_ut",
        "outputId": "5335e9a0-7303-4675-ea9c-a0519bdd6142"
      },
      "outputs": [
        {
          "name": "stdout",
          "output_type": "stream",
          "text": [
            "     p  \n",
            "\n",
            "    p  i  \n",
            "\n",
            "   p  i  n  \n",
            "\n",
            "  p  i  n  k  \n",
            "\n",
            " p  i  n  k  i  \n",
            "\n"
          ]
        }
      ],
      "source": [
        "\n",
        "p=\"pinki\"\n",
        "i=0\n",
        "while i<len(p):\n",
        "    s=len(p)-i\n",
        "    while s>0:\n",
        "        print(\" \",end='')\n",
        "        s-=1\n",
        "    j=0  \n",
        "    while j<=i:\n",
        "        print(p[j],end=\"  \")\n",
        "        j+=1\n",
        "    i+=1\n",
        "    print(\"\\n\")"
      ]
    },
    {
      "cell_type": "code",
      "execution_count": null,
      "metadata": {
        "colab": {
          "base_uri": "https://localhost:8080/"
        },
        "id": "U5xls4ZBMzG5",
        "outputId": "38fce0b4-3e5a-4fdd-f05e-36ae9b167861"
      },
      "outputs": [
        {
          "name": "stdout",
          "output_type": "stream",
          "text": [
            "          *  \n",
            "          * * *  \n",
            "          * * * * *  \n"
          ]
        }
      ],
      "source": [
        "\n",
        "i=1\n",
        "while i<=5:\n",
        "    s=1\n",
        "    while s<=5:\n",
        "        print(\" \",end=\" \")\n",
        "        s+=1\n",
        "    j=i \n",
        "    while j<=i:\n",
        "        print(\"* \"*j,end=\" \")\n",
        "        j+=1\n",
        "    i+=2\n",
        "    print()"
      ]
    },
    {
      "cell_type": "code",
      "execution_count": null,
      "metadata": {
        "colab": {
          "base_uri": "https://localhost:8080/"
        },
        "id": "xfr7O-AGSLHM",
        "outputId": "e8c9a657-443a-4db4-a708-e0ac8abf3085"
      },
      "outputs": [
        {
          "name": "stdout",
          "output_type": "stream",
          "text": [
            "5 \n",
            "5 4 \n",
            "5 4 3 \n",
            "5 4 3 2 \n",
            "5 4 3 2 1 \n"
          ]
        }
      ],
      "source": [
        "#(G)\n",
        "i=5\n",
        "while i>0:\n",
        "  j=5\n",
        "  while j>=i:\n",
        "    print(j,end=\" \")\n",
        "    j-=1\n",
        "  i-=1\n",
        "  print()"
      ]
    },
    {
      "cell_type": "code",
      "execution_count": null,
      "metadata": {
        "colab": {
          "base_uri": "https://localhost:8080/"
        },
        "id": "CU3CY8vkZ-Rn",
        "outputId": "95775513-419e-4069-b414-db614880dc67"
      },
      "outputs": [
        {
          "name": "stdout",
          "output_type": "stream",
          "text": [
            "5 \n",
            "4 4 \n",
            "3 3 3 \n",
            "2 2 2 2 \n",
            "1 1 1 1 1 \n"
          ]
        }
      ],
      "source": [
        "#(F)\n",
        "i=5\n",
        "while i>0:\n",
        "  j=5\n",
        "  while j>=i:\n",
        "    print(i,end=\" \")\n",
        "    j-=1\n",
        "  i-=1\n",
        "  print()\n",
        " "
      ]
    },
    {
      "cell_type": "code",
      "execution_count": null,
      "metadata": {
        "colab": {
          "base_uri": "https://localhost:8080/"
        },
        "id": "dyxvgPK8bu2P",
        "outputId": "2b801943-c556-4615-a9d3-d1b93d816cb7"
      },
      "outputs": [
        {
          "name": "stdout",
          "output_type": "stream",
          "text": [
            "1 (   rinki   )\n",
            "1 pinki\n",
            "2 pinki\n",
            "3 pinki\n",
            "2 (   rinki   )\n",
            "1 pinki\n",
            "2 pinki\n",
            "3 pinki\n",
            "3 (   rinki   )\n",
            "1 pinki\n",
            "2 pinki\n",
            "3 pinki\n"
          ]
        }
      ],
      "source": [
        "i=1\n",
        "while i<=3:\n",
        "  print(i,\"(   rinki   )\")\n",
        "  j=1\n",
        "  while j<=3:\n",
        "    print(j,\"pinki\")\n",
        "    j+=1\n",
        "  i+=1\n",
        "\n"
      ]
    },
    {
      "cell_type": "code",
      "source": [
        "\n",
        "        \n",
        "c=0        \n",
        "a=int(input(\"num :\"))\n",
        "for i in range(a-1):\n",
        "    for j in range(i,a):\n",
        "        print(\" \",end=\" \")\n",
        "    for j in range(i):\n",
        "        c+=1\n",
        "        print(\"🇮🇳\",end=' ')\n",
        "    for j in range(i+1):\n",
        "        c+=1\n",
        "        print(\"🇮🇳\",end=\" \")\n",
        "    print()\n",
        "for i in range(a):\n",
        "    for j in range(i+1):\n",
        "        print(\" \",end=\" \")\n",
        "    for j in range(i,a):\n",
        "        c+=1\n",
        "        print(\"🇮🇳\",end=\" \")\n",
        "    for j in range(i,a-1):\n",
        "        c+=1\n",
        "        print(\"🇮🇳\",end=\" \")\n",
        "    print()\n",
        "print(\"count of space :\",c)"
      ],
      "metadata": {
        "colab": {
          "base_uri": "https://localhost:8080/"
        },
        "id": "ggVUSYaiS5eD",
        "outputId": "2d85e70d-ba16-4904-cfec-a8fb982245c2"
      },
      "execution_count": null,
      "outputs": [
        {
          "output_type": "stream",
          "name": "stdout",
          "text": [
            "num :4\n",
            "        🇮🇳 \n",
            "      🇮🇳 🇮🇳 🇮🇳 \n",
            "    🇮🇳 🇮🇳 🇮🇳 🇮🇳 🇮🇳 \n",
            "  🇮🇳 🇮🇳 🇮🇳 🇮🇳 🇮🇳 🇮🇳 🇮🇳 \n",
            "    🇮🇳 🇮🇳 🇮🇳 🇮🇳 🇮🇳 \n",
            "      🇮🇳 🇮🇳 🇮🇳 \n",
            "        🇮🇳 \n",
            "count of space : 25\n"
          ]
        }
      ]
    },
    {
      "cell_type": "code",
      "source": [
        "c=0        \n",
        "a=int(input(\"num :\"))\n",
        "for i in range(a-1):\n",
        "    for j in range(i,a):\n",
        "        print(\" \",end=\" \")\n",
        "    for j in range(i):\n",
        "        c+=1 \n",
        "        print(\"💗\",end=' ')\n",
        "    for j in range(i+1):\n",
        "        c+=1\n",
        "        print(\"💗\",end=\" \")\n",
        "    print()\n",
        "for i in range(a):\n",
        "    for j in range(i+1):\n",
        "        print(\" \",end=\" \")\n",
        "    for j in range(i,a):\n",
        "        c+=1\n",
        "        print(\"💗\",end=\" \")\n",
        "    for j in range(i,a-1):\n",
        "        c+=1\n",
        "        print(\"💗\",end=\" \")\n",
        "    print()\n",
        "print(\"count of space :\",c)"
      ],
      "metadata": {
        "colab": {
          "base_uri": "https://localhost:8080/"
        },
        "id": "ECaZ7QL67tG_",
        "outputId": "290fbe2a-46eb-42a5-bde0-7b6ea97cf16e"
      },
      "execution_count": null,
      "outputs": [
        {
          "output_type": "stream",
          "name": "stdout",
          "text": [
            "num :6\n",
            "            💗 \n",
            "          💗 💗 💗 \n",
            "        💗 💗 💗 💗 💗 \n",
            "      💗 💗 💗 💗 💗 💗 💗 \n",
            "    💗 💗 💗 💗 💗 💗 💗 💗 💗 \n",
            "  💗 💗 💗 💗 💗 💗 💗 💗 💗 💗 💗 \n",
            "    💗 💗 💗 💗 💗 💗 💗 💗 💗 \n",
            "      💗 💗 💗 💗 💗 💗 💗 \n",
            "        💗 💗 💗 💗 💗 \n",
            "          💗 💗 💗 \n",
            "            💗 \n",
            "count of space : 61\n"
          ]
        }
      ]
    },
    {
      "cell_type": "code",
      "source": [
        "c=0        \n",
        "a=int(input(\"num :\"))\n",
        "for i in range(a-1):\n",
        "    for j in range(i,a):\n",
        "        print(\"⬜\",end=\" \")\n",
        "    for j in range(i):\n",
        "        c+=1\n",
        "        print(\"🟦\",end=' ')\n",
        "    for j in range(i+1):\n",
        "        c+=1\n",
        "        print(\"🟦\",end=\" \")\n",
        "    print()\n",
        "for i in range(a):\n",
        "    for j in range(i+1):\n",
        "        print(\"⬜\",end=\" \")\n",
        "    for j in range(i,a):\n",
        "        c+=1\n",
        "        print(\"🟦\",end=\" \")\n",
        "    for j in range(i,a-1):\n",
        "        c+=1\n",
        "        print(\"🟦\",end=\" \")\n",
        "    print()\n",
        "print(\"count of space :\",c)"
      ],
      "metadata": {
        "id": "aQaveKTXLwk-",
        "colab": {
          "base_uri": "https://localhost:8080/"
        },
        "outputId": "2e58f2c8-97dc-4a6f-a110-dba4a1b7038a"
      },
      "execution_count": null,
      "outputs": [
        {
          "output_type": "stream",
          "name": "stdout",
          "text": [
            "num :3\n",
            "⬜ ⬜ ⬜ 🟦 \n",
            "⬜ ⬜ 🟦 🟦 🟦 \n",
            "⬜ 🟦 🟦 🟦 🟦 🟦 \n",
            "⬜ ⬜ 🟦 🟦 🟦 \n",
            "⬜ ⬜ ⬜ 🟦 \n",
            "count of space : 13\n"
          ]
        }
      ]
    },
    {
      "cell_type": "code",
      "source": [
        "from math import factorial \n",
        "# 13. Write a Python function that prints out the first n rows of Pascal's triangle.\n",
        "n=int(input(\"Enter the num\"))\n",
        "\n",
        "for i in range(n):\n",
        "  for j in range(n-i+1):\n",
        "    print(\" \",end=\"\")\n",
        "    \n",
        "  for j in range(i+1):\n",
        "    # nCr=n!/((n-r)!*r!)\n",
        "    print(factorial(i)//(factorial(j)*factorial(i-j)),end=\" \")\n",
        "\n",
        "  print()\n",
        "\n",
        "\n"
      ],
      "metadata": {
        "colab": {
          "base_uri": "https://localhost:8080/"
        },
        "id": "iGJZQB7VYNti",
        "outputId": "580e6c63-7d28-425d-db5c-95a758237179"
      },
      "execution_count": 11,
      "outputs": [
        {
          "output_type": "stream",
          "name": "stdout",
          "text": [
            "Enter the num5\n",
            "      1 \n",
            "     1 1 \n",
            "    1 2 1 \n",
            "   1 3 3 1 \n",
            "  1 4 6 4 1 \n"
          ]
        }
      ]
    },
    {
      "cell_type": "code",
      "source": [
        "ist=['abc', 'xyz', 'aba', '1221']\n",
        "# result= 2.\n",
        "i=0\n",
        "c=0\n",
        "while i<len(ist):\n",
        "  if ist[i][0]==ist[i][-1]:\n",
        "    c+=1\n",
        "  i+=1\n",
        "print(c)\n",
        "\n",
        "\n"
      ],
      "metadata": {
        "colab": {
          "base_uri": "https://localhost:8080/"
        },
        "id": "5zSinr864vS4",
        "outputId": "c41a8dc6-90d9-45ef-b149-01d421e0fef4"
      },
      "execution_count": null,
      "outputs": [
        {
          "output_type": "stream",
          "name": "stdout",
          "text": [
            "2\n"
          ]
        }
      ]
    },
    {
      "cell_type": "code",
      "source": [
        "l=[1,2,3]\n",
        "for i in range(3):\n",
        "  for j in range(3):\n",
        "    for k in range(3):\n",
        "      if (i!=j and j!=k and i!=k):\n",
        "        print(l[i], l[j], l[k]) "
      ],
      "metadata": {
        "colab": {
          "base_uri": "https://localhost:8080/"
        },
        "id": "JQAZ3Wm6PoSJ",
        "outputId": "3e094681-9607-4ca7-97fd-7178607c30dd"
      },
      "execution_count": null,
      "outputs": [
        {
          "output_type": "stream",
          "name": "stdout",
          "text": [
            "1 2 3\n",
            "1 3 2\n",
            "2 1 3\n",
            "2 3 1\n",
            "3 1 2\n",
            "3 2 1\n"
          ]
        }
      ]
    },
    {
      "cell_type": "code",
      "execution_count": null,
      "metadata": {
        "colab": {
          "base_uri": "https://localhost:8080/"
        },
        "id": "aPy_nqet9Tvj",
        "outputId": "3c1ea071-359b-4a63-c880-296dad5ce77b"
      },
      "outputs": [
        {
          "name": "stdout",
          "output_type": "stream",
          "text": [
            "1  2  3  4  5  6  7  8  9  10  11  12  \n",
            "\n",
            "2  4  6  8  10  12  14  16  18  20  22  24  \n",
            "\n",
            "3  6  9  12  15  18  21  24  27  30  33  36  \n",
            "\n",
            "4  8  12  16  20  24  28  32  36  40  44  48  \n",
            "\n",
            "5  10  15  20  25  30  35  40  45  50  55  60  \n",
            "\n",
            "6  12  18  24  30  36  42  48  54  60  66  72  \n",
            "\n",
            "7  14  21  28  35  42  49  56  63  70  77  84  \n",
            "\n",
            "8  16  24  32  40  48  56  64  72  80  88  96  \n",
            "\n",
            "9  18  27  36  45  54  63  72  81  90  99  108  \n",
            "\n",
            "10  20  30  40  50  60  70  80  90  100  110  120  \n",
            "\n"
          ]
        }
      ],
      "source": [
        "i=1\n",
        "while i<=10:\n",
        "  j=1\n",
        "  while j<=12:\n",
        "    print(i*j,end=\"  \")\n",
        "    j+=1\n",
        "  i+=1\n",
        "  print(\"\\n\")"
      ]
    },
    {
      "cell_type": "code",
      "execution_count": null,
      "metadata": {
        "colab": {
          "base_uri": "https://localhost:8080/"
        },
        "id": "bVsIKq_5B2eZ",
        "outputId": "3228bb0d-7819-4507-c019-b1d90748a130"
      },
      "outputs": [
        {
          "name": "stdout",
          "output_type": "stream",
          "text": [
            "1 2 3 4 5 \n",
            "\n",
            "2 4 6 8 10 \n",
            "\n",
            "3 6 9 12 15 \n",
            "\n",
            "4 8 12 16 20 \n",
            "\n",
            "5 10 15 20 25 \n",
            "\n",
            "6 12 18 24 30 \n",
            "\n",
            "7 14 21 28 35 \n",
            "\n",
            "8 16 24 32 40 \n",
            "\n",
            "9 18 27 36 45 \n",
            "\n",
            "10 20 30 40 50 \n",
            "\n"
          ]
        }
      ],
      "source": [
        "i=1\n",
        "while i<=10:\n",
        "  j=1\n",
        "  while j<=5:\n",
        "    print(j*i,end=\" \")\n",
        "    j+=1\n",
        "  i+=1\n",
        "  print(\"\\n\")"
      ]
    },
    {
      "cell_type": "code",
      "execution_count": null,
      "metadata": {
        "colab": {
          "base_uri": "https://localhost:8080/"
        },
        "id": "_tR5fWlQD-1N",
        "outputId": "1a6fa9d5-83d4-4c05-d336-b475fcb2632c"
      },
      "outputs": [
        {
          "name": "stdout",
          "output_type": "stream",
          "text": [
            "1 * 1 = 1     2 * 1 = 2     3 * 1 = 3     4 * 1 = 4     5 * 1 = 5     6 * 1 = 6     \n",
            "\n",
            "1 * 2 = 2     2 * 2 = 4     3 * 2 = 6     4 * 2 = 8     5 * 2 = 10     6 * 2 = 12     \n",
            "\n",
            "1 * 3 = 3     2 * 3 = 6     3 * 3 = 9     4 * 3 = 12     5 * 3 = 15     6 * 3 = 18     \n",
            "\n",
            "1 * 4 = 4     2 * 4 = 8     3 * 4 = 12     4 * 4 = 16     5 * 4 = 20     6 * 4 = 24     \n",
            "\n",
            "1 * 5 = 5     2 * 5 = 10     3 * 5 = 15     4 * 5 = 20     5 * 5 = 25     6 * 5 = 30     \n",
            "\n",
            "1 * 6 = 6     2 * 6 = 12     3 * 6 = 18     4 * 6 = 24     5 * 6 = 30     6 * 6 = 36     \n",
            "\n",
            "1 * 7 = 7     2 * 7 = 14     3 * 7 = 21     4 * 7 = 28     5 * 7 = 35     6 * 7 = 42     \n",
            "\n",
            "1 * 8 = 8     2 * 8 = 16     3 * 8 = 24     4 * 8 = 32     5 * 8 = 40     6 * 8 = 48     \n",
            "\n",
            "1 * 9 = 9     2 * 9 = 18     3 * 9 = 27     4 * 9 = 36     5 * 9 = 45     6 * 9 = 54     \n",
            "\n",
            "1 * 10 = 10     2 * 10 = 20     3 * 10 = 30     4 * 10 = 40     5 * 10 = 50     6 * 10 = 60     \n",
            "\n"
          ]
        }
      ],
      "source": [
        "i=1\n",
        "while i<=10:\n",
        "  j=1\n",
        "  while j<=6:\n",
        "    print(j,\"*\",i,\"=\",i*j,end=\"     \")\n",
        "    j+=1\n",
        "  i+=1\n",
        "  print(\"\\n\")"
      ]
    },
    {
      "cell_type": "code",
      "execution_count": null,
      "metadata": {
        "colab": {
          "base_uri": "https://localhost:8080/"
        },
        "id": "tiEeCS2rGQwk",
        "outputId": "e7f0f2c5-1275-4119-bc09-ee93efd7c479"
      },
      "outputs": [
        {
          "name": "stdout",
          "output_type": "stream",
          "text": [
            "p i n k i : : k u m a r i "
          ]
        }
      ],
      "source": [
        "name='pi n ki:: kum ar i'\n",
        "size=len(name)\n",
        "i=-1\n",
        "while i<size-1:\n",
        "  i+=1\n",
        "  if name[i].isspace():\n",
        "    continue\n",
        "  print(name[i],end=\" \")"
      ]
    },
    {
      "cell_type": "code",
      "execution_count": null,
      "metadata": {
        "colab": {
          "base_uri": "https://localhost:8080/"
        },
        "id": "UHeLr4_ONlgW",
        "outputId": "7cd71463-7f25-4fdb-b223-f181a3f9a777"
      },
      "outputs": [
        {
          "name": "stdout",
          "output_type": "stream",
          "text": [
            "0\n",
            "1\n",
            "2\n",
            "3\n",
            "4\n",
            "5\n",
            "6\n",
            "7\n",
            "8\n",
            "9\n"
          ]
        }
      ],
      "source": [
        "# for loop\n",
        "for num in range(10):\n",
        "  print(num)"
      ]
    },
    {
      "cell_type": "code",
      "execution_count": null,
      "metadata": {
        "id": "NSqVs3D1zXhO"
      },
      "outputs": [],
      "source": [
        "i='a'\n",
        "while i<='z':\n",
        "  if i=='a' or i=='e' or i=='i' or i=='o' or i=='u':\n",
        "    print(i,end=\" \")\n",
        "  else:\n",
        "    print()\n",
        "    print(i)\n",
        "  i+=1"
      ]
    },
    {
      "cell_type": "code",
      "execution_count": null,
      "metadata": {
        "id": "VkAtTtA82DYk"
      },
      "outputs": [],
      "source": [
        "i=a\n",
        "while (i)is.alphabate()<='e':\n",
        "  print(i)\n",
        "  i+=1"
      ]
    },
    {
      "cell_type": "code",
      "execution_count": null,
      "metadata": {
        "id": "Ib8iU89j3ywt"
      },
      "outputs": [],
      "source": [
        "# 2 test\n",
        "i=1\n",
        "while i<=50:\n",
        "  print(i)\n",
        "  print(i+1)\n",
        "  i+=1"
      ]
    },
    {
      "cell_type": "code",
      "execution_count": null,
      "metadata": {
        "colab": {
          "base_uri": "https://localhost:8080/"
        },
        "id": "iIs_nv6QEotl",
        "outputId": "37817c48-630f-447c-8628-048b67cda1a1"
      },
      "outputs": [
        {
          "name": "stdout",
          "output_type": "stream",
          "text": [
            "1\n",
            "2\n",
            "2\n",
            "3\n",
            "4\n",
            "4\n",
            "5\n",
            "6\n",
            "6\n",
            "7\n",
            "8\n",
            "8\n",
            "9\n",
            "10\n",
            "10\n",
            "11\n",
            "12\n",
            "12\n",
            "13\n",
            "14\n",
            "14\n",
            "15\n",
            "16\n",
            "16\n",
            "17\n",
            "18\n",
            "18\n",
            "19\n",
            "20\n",
            "20\n",
            "21\n",
            "22\n",
            "22\n",
            "23\n",
            "24\n",
            "24\n",
            "25\n",
            "26\n",
            "26\n",
            "27\n",
            "28\n",
            "28\n",
            "29\n",
            "30\n",
            "30\n",
            "31\n",
            "32\n",
            "32\n",
            "33\n",
            "34\n",
            "34\n",
            "35\n",
            "36\n",
            "36\n",
            "37\n",
            "38\n",
            "38\n",
            "39\n",
            "40\n",
            "40\n",
            "41\n",
            "42\n",
            "42\n",
            "43\n",
            "44\n",
            "44\n",
            "45\n",
            "46\n",
            "46\n",
            "47\n",
            "48\n",
            "48\n",
            "49\n",
            "50\n",
            "50\n"
          ]
        }
      ],
      "source": [
        "i=1\n",
        "while i<=50:\n",
        "  print(i)\n",
        "  j=1\n",
        "  while j<=100:\n",
        "      print(i+1)\n",
        "      j+=2\n",
        "  i+=1"
      ]
    },
    {
      "cell_type": "code",
      "execution_count": null,
      "metadata": {
        "colab": {
          "base_uri": "https://localhost:8080/",
          "height": 539
        },
        "id": "mFNPMzv049vl",
        "outputId": "0c1407c7-11cb-472a-b71b-8f60642c9312"
      },
      "outputs": [
        {
          "ename": "KeyboardInterrupt",
          "evalue": "ignored",
          "output_type": "error",
          "traceback": [
            "\u001b[0;31m---------------------------------------------------------------------------\u001b[0m",
            "\u001b[0;31mKeyboardInterrupt\u001b[0m                         Traceback (most recent call last)",
            "\u001b[0;32m/usr/local/lib/python3.7/dist-packages/ipykernel/kernelbase.py\u001b[0m in \u001b[0;36m_input_request\u001b[0;34m(self, prompt, ident, parent, password)\u001b[0m\n\u001b[1;32m    728\u001b[0m             \u001b[0;32mtry\u001b[0m\u001b[0;34m:\u001b[0m\u001b[0;34m\u001b[0m\u001b[0;34m\u001b[0m\u001b[0m\n\u001b[0;32m--> 729\u001b[0;31m                 \u001b[0mident\u001b[0m\u001b[0;34m,\u001b[0m \u001b[0mreply\u001b[0m \u001b[0;34m=\u001b[0m \u001b[0mself\u001b[0m\u001b[0;34m.\u001b[0m\u001b[0msession\u001b[0m\u001b[0;34m.\u001b[0m\u001b[0mrecv\u001b[0m\u001b[0;34m(\u001b[0m\u001b[0mself\u001b[0m\u001b[0;34m.\u001b[0m\u001b[0mstdin_socket\u001b[0m\u001b[0;34m,\u001b[0m \u001b[0;36m0\u001b[0m\u001b[0;34m)\u001b[0m\u001b[0;34m\u001b[0m\u001b[0;34m\u001b[0m\u001b[0m\n\u001b[0m\u001b[1;32m    730\u001b[0m             \u001b[0;32mexcept\u001b[0m \u001b[0mException\u001b[0m\u001b[0;34m:\u001b[0m\u001b[0;34m\u001b[0m\u001b[0;34m\u001b[0m\u001b[0m\n",
            "\u001b[0;32m/usr/local/lib/python3.7/dist-packages/jupyter_client/session.py\u001b[0m in \u001b[0;36mrecv\u001b[0;34m(self, socket, mode, content, copy)\u001b[0m\n\u001b[1;32m    802\u001b[0m         \u001b[0;32mtry\u001b[0m\u001b[0;34m:\u001b[0m\u001b[0;34m\u001b[0m\u001b[0;34m\u001b[0m\u001b[0m\n\u001b[0;32m--> 803\u001b[0;31m             \u001b[0mmsg_list\u001b[0m \u001b[0;34m=\u001b[0m \u001b[0msocket\u001b[0m\u001b[0;34m.\u001b[0m\u001b[0mrecv_multipart\u001b[0m\u001b[0;34m(\u001b[0m\u001b[0mmode\u001b[0m\u001b[0;34m,\u001b[0m \u001b[0mcopy\u001b[0m\u001b[0;34m=\u001b[0m\u001b[0mcopy\u001b[0m\u001b[0;34m)\u001b[0m\u001b[0;34m\u001b[0m\u001b[0;34m\u001b[0m\u001b[0m\n\u001b[0m\u001b[1;32m    804\u001b[0m         \u001b[0;32mexcept\u001b[0m \u001b[0mzmq\u001b[0m\u001b[0;34m.\u001b[0m\u001b[0mZMQError\u001b[0m \u001b[0;32mas\u001b[0m \u001b[0me\u001b[0m\u001b[0;34m:\u001b[0m\u001b[0;34m\u001b[0m\u001b[0;34m\u001b[0m\u001b[0m\n",
            "\u001b[0;32m/usr/local/lib/python3.7/dist-packages/zmq/sugar/socket.py\u001b[0m in \u001b[0;36mrecv_multipart\u001b[0;34m(self, flags, copy, track)\u001b[0m\n\u001b[1;32m    723\u001b[0m         \"\"\"\n\u001b[0;32m--> 724\u001b[0;31m         \u001b[0mparts\u001b[0m \u001b[0;34m=\u001b[0m \u001b[0;34m[\u001b[0m\u001b[0mself\u001b[0m\u001b[0;34m.\u001b[0m\u001b[0mrecv\u001b[0m\u001b[0;34m(\u001b[0m\u001b[0mflags\u001b[0m\u001b[0;34m,\u001b[0m \u001b[0mcopy\u001b[0m\u001b[0;34m=\u001b[0m\u001b[0mcopy\u001b[0m\u001b[0;34m,\u001b[0m \u001b[0mtrack\u001b[0m\u001b[0;34m=\u001b[0m\u001b[0mtrack\u001b[0m\u001b[0;34m)\u001b[0m\u001b[0;34m]\u001b[0m\u001b[0;34m\u001b[0m\u001b[0;34m\u001b[0m\u001b[0m\n\u001b[0m\u001b[1;32m    725\u001b[0m         \u001b[0;31m# have first part already, only loop while more to receive\u001b[0m\u001b[0;34m\u001b[0m\u001b[0;34m\u001b[0m\u001b[0;34m\u001b[0m\u001b[0m\n",
            "\u001b[0;32mzmq/backend/cython/socket.pyx\u001b[0m in \u001b[0;36mzmq.backend.cython.socket.Socket.recv\u001b[0;34m()\u001b[0m\n",
            "\u001b[0;32mzmq/backend/cython/socket.pyx\u001b[0m in \u001b[0;36mzmq.backend.cython.socket.Socket.recv\u001b[0;34m()\u001b[0m\n",
            "\u001b[0;32mzmq/backend/cython/socket.pyx\u001b[0m in \u001b[0;36mzmq.backend.cython.socket._recv_copy\u001b[0;34m()\u001b[0m\n",
            "\u001b[0;32m/usr/local/lib/python3.7/dist-packages/zmq/backend/cython/checkrc.pxd\u001b[0m in \u001b[0;36mzmq.backend.cython.checkrc._check_rc\u001b[0;34m()\u001b[0m\n",
            "\u001b[0;31mKeyboardInterrupt\u001b[0m: ",
            "\nDuring handling of the above exception, another exception occurred:\n",
            "\u001b[0;31mKeyboardInterrupt\u001b[0m                         Traceback (most recent call last)",
            "\u001b[0;32m<ipython-input-17-2b6f639a7217>\u001b[0m in \u001b[0;36m<module>\u001b[0;34m()\u001b[0m\n\u001b[1;32m      1\u001b[0m \u001b[0;31m# 1 test\u001b[0m\u001b[0;34m\u001b[0m\u001b[0;34m\u001b[0m\u001b[0;34m\u001b[0m\u001b[0m\n\u001b[0;32m----> 2\u001b[0;31m \u001b[0mn\u001b[0m\u001b[0;34m=\u001b[0m\u001b[0mint\u001b[0m\u001b[0;34m(\u001b[0m\u001b[0minput\u001b[0m\u001b[0;34m(\u001b[0m\u001b[0;34m\"enter Nth num: \"\u001b[0m\u001b[0;34m)\u001b[0m\u001b[0;34m)\u001b[0m\u001b[0;34m\u001b[0m\u001b[0;34m\u001b[0m\u001b[0m\n\u001b[0m\u001b[1;32m      3\u001b[0m \u001b[0ml\u001b[0m\u001b[0;34m=\u001b[0m\u001b[0;36m2\u001b[0m\u001b[0;34m,\u001b[0m\u001b[0;36m3\u001b[0m\u001b[0;34m,\u001b[0m\u001b[0;36m5\u001b[0m\u001b[0;34m,\u001b[0m\u001b[0;36m7\u001b[0m\u001b[0;34m,\u001b[0m\u001b[0;36m11\u001b[0m\u001b[0;34m,\u001b[0m\u001b[0;36m13\u001b[0m\u001b[0;34m,\u001b[0m\u001b[0;36m17\u001b[0m\u001b[0;34m,\u001b[0m\u001b[0;36m19\u001b[0m\u001b[0;34m,\u001b[0m\u001b[0;36m23\u001b[0m\u001b[0;34m,\u001b[0m\u001b[0;36m29\u001b[0m\u001b[0;34m,\u001b[0m\u001b[0;36m31\u001b[0m\u001b[0;34m\u001b[0m\u001b[0;34m\u001b[0m\u001b[0m\n\u001b[1;32m      4\u001b[0m \u001b[0mi\u001b[0m\u001b[0;34m=\u001b[0m\u001b[0;36m1\u001b[0m\u001b[0;34m\u001b[0m\u001b[0;34m\u001b[0m\u001b[0m\n\u001b[1;32m      5\u001b[0m \u001b[0;32mwhile\u001b[0m \u001b[0mi\u001b[0m\u001b[0;34m<=\u001b[0m\u001b[0mn\u001b[0m\u001b[0;34m:\u001b[0m\u001b[0;34m\u001b[0m\u001b[0;34m\u001b[0m\u001b[0m\n",
            "\u001b[0;32m/usr/local/lib/python3.7/dist-packages/ipykernel/kernelbase.py\u001b[0m in \u001b[0;36mraw_input\u001b[0;34m(self, prompt)\u001b[0m\n\u001b[1;32m    702\u001b[0m             \u001b[0mself\u001b[0m\u001b[0;34m.\u001b[0m\u001b[0m_parent_ident\u001b[0m\u001b[0;34m,\u001b[0m\u001b[0;34m\u001b[0m\u001b[0;34m\u001b[0m\u001b[0m\n\u001b[1;32m    703\u001b[0m             \u001b[0mself\u001b[0m\u001b[0;34m.\u001b[0m\u001b[0m_parent_header\u001b[0m\u001b[0;34m,\u001b[0m\u001b[0;34m\u001b[0m\u001b[0;34m\u001b[0m\u001b[0m\n\u001b[0;32m--> 704\u001b[0;31m             \u001b[0mpassword\u001b[0m\u001b[0;34m=\u001b[0m\u001b[0;32mFalse\u001b[0m\u001b[0;34m,\u001b[0m\u001b[0;34m\u001b[0m\u001b[0;34m\u001b[0m\u001b[0m\n\u001b[0m\u001b[1;32m    705\u001b[0m         )\n\u001b[1;32m    706\u001b[0m \u001b[0;34m\u001b[0m\u001b[0m\n",
            "\u001b[0;32m/usr/local/lib/python3.7/dist-packages/ipykernel/kernelbase.py\u001b[0m in \u001b[0;36m_input_request\u001b[0;34m(self, prompt, ident, parent, password)\u001b[0m\n\u001b[1;32m    732\u001b[0m             \u001b[0;32mexcept\u001b[0m \u001b[0mKeyboardInterrupt\u001b[0m\u001b[0;34m:\u001b[0m\u001b[0;34m\u001b[0m\u001b[0;34m\u001b[0m\u001b[0m\n\u001b[1;32m    733\u001b[0m                 \u001b[0;31m# re-raise KeyboardInterrupt, to truncate traceback\u001b[0m\u001b[0;34m\u001b[0m\u001b[0;34m\u001b[0m\u001b[0;34m\u001b[0m\u001b[0m\n\u001b[0;32m--> 734\u001b[0;31m                 \u001b[0;32mraise\u001b[0m \u001b[0mKeyboardInterrupt\u001b[0m\u001b[0;34m\u001b[0m\u001b[0;34m\u001b[0m\u001b[0m\n\u001b[0m\u001b[1;32m    735\u001b[0m             \u001b[0;32melse\u001b[0m\u001b[0;34m:\u001b[0m\u001b[0;34m\u001b[0m\u001b[0;34m\u001b[0m\u001b[0m\n\u001b[1;32m    736\u001b[0m                 \u001b[0;32mbreak\u001b[0m\u001b[0;34m\u001b[0m\u001b[0;34m\u001b[0m\u001b[0m\n",
            "\u001b[0;31mKeyboardInterrupt\u001b[0m: "
          ]
        }
      ],
      "source": [
        "# 1 test\n",
        "n=int(input(\"enter Nth num: \"))\n",
        "l=2,3,5,7,11,13,17,19,23,29,31\n",
        "i=1\n",
        "while i<=n:\n",
        "  if i==n:\n",
        "    print(l[i-1])\n",
        "  i+=1\n",
        "\n"
      ]
    },
    {
      "cell_type": "code",
      "execution_count": null,
      "metadata": {
        "colab": {
          "base_uri": "https://localhost:8080/"
        },
        "id": "i8wn6iv56U_D",
        "outputId": "ef4220d4-cc98-4ab1-c864-c723d08e0a0e"
      },
      "outputs": [
        {
          "name": "stdout",
          "output_type": "stream",
          "text": [
            "1 (this is a stong number)\n"
          ]
        }
      ],
      "source": [
        "factor=0\n",
        "i=1\n",
        "while i<=100:\n",
        "  j=1\n",
        "  while j<=i:\n",
        "    if i%j==0:\n",
        "      factor+=j\n",
        "    j+=1\n",
        "  if factor==i:\n",
        "    print(i,\"(this is a stong number)\")\n",
        "  i+=1"
      ]
    },
    {
      "cell_type": "markdown",
      "metadata": {
        "id": "UnwDccZG22F_"
      },
      "source": [
        "#test questionsm"
      ]
    },
    {
      "cell_type": "code",
      "execution_count": null,
      "metadata": {
        "colab": {
          "base_uri": "https://localhost:8080/"
        },
        "id": "GpPYMcI53CcI",
        "outputId": "eb679d9f-8333-4c9c-da6c-0952bc6796a5"
      },
      "outputs": [
        {
          "name": "stdout",
          "output_type": "stream",
          "text": [
            "enter any number:2\n",
            "enter any number:3\n",
            "enter any number:2\n",
            "enter any number:3\n",
            "enter any number:2\n",
            "enter any number:3\n",
            "enter any number:2\n",
            "enter any number:3\n",
            "enter any number:2\n",
            "enter any number:3\n",
            "Average: 2.5\n"
          ]
        }
      ],
      "source": [
        "#Q. 1\n",
        "i=1\n",
        "a=0\n",
        "while i<=10:\n",
        "  n=int(input(\"enter any number:\"))\n",
        "  a+=n\n",
        "  i+=1\n",
        "print(\"Average:\",a/10)"
      ]
    },
    {
      "cell_type": "code",
      "execution_count": null,
      "metadata": {
        "colab": {
          "base_uri": "https://localhost:8080/"
        },
        "id": "q13f-arG3_39",
        "outputId": "a8ef169b-1930-42cb-8e9c-f7bbac4d12ef"
      },
      "outputs": [
        {
          "name": "stdout",
          "output_type": "stream",
          "text": [
            "*\n",
            "**\n",
            "***\n",
            "****\n",
            "*****\n"
          ]
        }
      ],
      "source": [
        "#Q.2\n",
        "i=1\n",
        "while i<=5:\n",
        "  print(i*\"*\")\n",
        "  i+=1"
      ]
    },
    {
      "cell_type": "code",
      "execution_count": null,
      "metadata": {
        "colab": {
          "base_uri": "https://localhost:8080/"
        },
        "id": "SrD7XI-B4Wie",
        "outputId": "2d8bfc04-698c-4920-eba2-cec9a23ca53b"
      },
      "outputs": [
        {
          "name": "stdout",
          "output_type": "stream",
          "text": [
            "enter any number:24\n",
            "24 * 1 = 24\n",
            "24 * 2 = 48\n",
            "24 * 3 = 72\n",
            "24 * 4 = 96\n",
            "24 * 5 = 120\n",
            "24 * 6 = 144\n",
            "24 * 7 = 168\n",
            "24 * 8 = 192\n",
            "24 * 9 = 216\n",
            "24 * 10 = 240\n"
          ]
        }
      ],
      "source": [
        "#Q.3\n",
        "n=int(input(\"enter any number:\"))\n",
        "i=1\n",
        "while i<=10:\n",
        "  print(n,\"*\",i,\"=\",i*n)\n",
        "  i+=1"
      ]
    },
    {
      "cell_type": "code",
      "execution_count": null,
      "metadata": {
        "colab": {
          "background_save": true,
          "base_uri": "https://localhost:8080/"
        },
        "id": "nGZ6vRqhoLDm",
        "outputId": "eab44599-4452-4a7c-f8da-db574e11302f"
      },
      "outputs": [
        {
          "name": "stdout",
          "output_type": "stream",
          "text": [
            "24 * 1 = 24     29 * 1 = 29     50 * 1 = 50     /n\n",
            "24 * 2 = 48     29 * 2 = 58     50 * 2 = 100     /n\n",
            "24 * 3 = 72     29 * 3 = 87     50 * 3 = 150     /n\n",
            "24 * 4 = 96     29 * 4 = 116     50 * 4 = 200     /n\n",
            "24 * 5 = 120     29 * 5 = 145     50 * 5 = 250     /n\n",
            "24 * 6 = 144     29 * 6 = 174     50 * 6 = 300     /n\n",
            "24 * 7 = 168     29 * 7 = 203     50 * 7 = 350     /n\n",
            "24 * 8 = 192     29 * 8 = 232     50 * 8 = 400     /n\n",
            "24 * 9 = 216     29 * 9 = 261     50 * 9 = 450     /n\n",
            "24 * 10 = 240     29 * 10 = 290     50 * 10 = 500     /n\n"
          ]
        }
      ],
      "source": [
        "#Q.3\n",
        "i=1\n",
        "while i<=10:\n",
        "  j=24\n",
        "  while j<=50:\n",
        "    if j==24 or j==29 or j==50:\n",
        "       print(j,\"*\",i,\"=\",i*j,end=\"     \")\n",
        "    j+=1\n",
        "  i+=1\n",
        "  print()"
      ]
    },
    {
      "cell_type": "code",
      "execution_count": null,
      "metadata": {
        "id": "kHvmDWbP44AQ"
      },
      "outputs": [],
      "source": [
        "#Q.4\n",
        "i=1\n",
        "while i<=5:\n",
        "  print(i,end=\"\")"
      ]
    },
    {
      "cell_type": "code",
      "execution_count": null,
      "metadata": {
        "colab": {
          "base_uri": "https://localhost:8080/"
        },
        "id": "NUdL6QdS5GEq",
        "outputId": "7e3c7a12-12c2-4f98-b37f-9bfe753d0820"
      },
      "outputs": [
        {
          "name": "stdout",
          "output_type": "stream",
          "text": [
            "enter any number:5\n",
            "factorial of a no. : 120\n"
          ]
        }
      ],
      "source": [
        "#Q.5\n",
        "n=int(input(\"enter any number:\"))\n",
        "i=1\n",
        "factorial=1\n",
        "while i<=n:\n",
        "  factorial*=i\n",
        "  i+=1\n",
        "print(\"factorial of a no. :\",factorial)"
      ]
    },
    {
      "cell_type": "code",
      "execution_count": null,
      "metadata": {
        "colab": {
          "base_uri": "https://localhost:8080/"
        },
        "id": "tVS3W9y-u4TG",
        "outputId": "eeb36f73-abb0-45d4-9258-113daad7868e"
      },
      "outputs": [
        {
          "name": "stdout",
          "output_type": "stream",
          "text": [
            "enter first num: 2\n",
            "enter second num: 8\n",
            "The H,C.F of 2 or 8 :: 2\n"
          ]
        }
      ],
      "source": [
        "#Q.6\n",
        "i=1\n",
        "hcf=1\n",
        "n1=int(input(\"enter first num: \"))\n",
        "n2=int(input(\"enter second num: \"))\n",
        "while i<=n2 and i<=n1:\n",
        "  if n1%i==0 and n2%i==0:\n",
        "    hcf=i\n",
        "  i+=1\n",
        "print(\"The H,C.F of\",n1,\"or\",n2,\"::\",hcf)"
      ]
    },
    {
      "cell_type": "code",
      "execution_count": null,
      "metadata": {
        "colab": {
          "base_uri": "https://localhost:8080/"
        },
        "id": "kFpIpqsYFwBD",
        "outputId": "4a57f48e-be19-41e3-c5eb-1304678e2ed3"
      },
      "outputs": [
        {
          "name": "stdout",
          "output_type": "stream",
          "text": [
            "enter any num: 6\n",
            "you want to press the q: \n",
            "enter any num: 4\n",
            "you want to press the q: q\n",
            "avrage:  5.0\n",
            "product:  24\n"
          ]
        }
      ],
      "source": [
        "#Q.7\n",
        "i=1\n",
        "c=0\n",
        "sum=0\n",
        "pro=1\n",
        "while i>0:\n",
        "  n=int(input(\"enter any num: \"))\n",
        "  c+=1\n",
        "  sum+=n\n",
        "  pro*=n\n",
        "  m=input(\"you want to press the q: \" )\n",
        "  if m=='q':\n",
        "    break\n",
        "  i+=1\n",
        "print(\"avrage: \",sum/c)\n",
        "print(\"product: \",pro)\n",
        "\n",
        "  \n"
      ]
    },
    {
      "cell_type": "code",
      "execution_count": null,
      "metadata": {
        "colab": {
          "base_uri": "https://localhost:8080/"
        },
        "id": "t8u2VuLzXWvk",
        "outputId": "e23465d7-0adb-4f6a-8c4a-96b833e3d8d3"
      },
      "outputs": [
        {
          "name": "stdout",
          "output_type": "stream",
          "text": [
            "enter any number:675\n",
            "sum: 18\n"
          ]
        }
      ],
      "source": [
        "#Q.8\n",
        "n=int(input(\"enter any number:\"))\n",
        "sum=0\n",
        "while n>0:\n",
        "  a=n%10\n",
        "  sum+=a\n",
        "  n//=10\n",
        "print(\"sum:\",sum)"
      ]
    },
    {
      "cell_type": "code",
      "execution_count": null,
      "metadata": {
        "colab": {
          "base_uri": "https://localhost:8080/"
        },
        "id": "gY-6b7s7YvlV",
        "outputId": "5b997b0c-ecc3-4114-e08a-72a47c65206c"
      },
      "outputs": [
        {
          "name": "stdout",
          "output_type": "stream",
          "text": [
            "153 Armstong Number\n",
            "370 Armstong Number\n",
            "371 Armstong Number\n",
            "407 Armstong Number\n"
          ]
        }
      ],
      "source": [
        "#Q.9\n",
        "i=100\n",
        "sum=0\n",
        "while i<=500:\n",
        "  j=i\n",
        "  while j>0:\n",
        "    a=j%10\n",
        "    b=a**3\n",
        "    sum+=b\n",
        "    j=j//10\n",
        "  if i==sum:\n",
        "    print(i,\"Armstong Number\")\n",
        "  i+=1\n",
        "  sum=0"
      ]
    },
    {
      "cell_type": "code",
      "execution_count": null,
      "metadata": {
        "colab": {
          "base_uri": "https://localhost:8080/"
        },
        "id": "Twmaflo1yLAV",
        "outputId": "0ff30ab4-c8b9-4442-f49a-3d6b204cbbc6"
      },
      "outputs": [
        {
          "name": "stdout",
          "output_type": "stream",
          "text": [
            "enter any number:6\n",
            "1,2,3,6,"
          ]
        }
      ],
      "source": [
        "#Q. 10\n",
        "n=int(input(\"enter any number:\"))\n",
        "i=1\n",
        "while i<=n:\n",
        "  if n%i==0:\n",
        "    print(i,end=\",\")\n",
        "  i+=1"
      ]
    },
    {
      "cell_type": "code",
      "execution_count": null,
      "metadata": {
        "colab": {
          "base_uri": "https://localhost:8080/"
        },
        "id": "4K0mO5XuC16c",
        "outputId": "06d7947b-1451-4fff-955a-3300bb65b590"
      },
      "outputs": [
        {
          "name": "stdout",
          "output_type": "stream",
          "text": [
            "2 3 5 7 11 13 17 19 23 29 31 37 41 43 47 53 59 61 67 71 73 79 83 89 97 "
          ]
        }
      ],
      "source": [
        "#Q.11\n",
        "i=1\n",
        "factor=0\n",
        "while i<=100:\n",
        "  j=1\n",
        "  while j<=i:\n",
        "    if i%j==0:\n",
        "      factor+=1\n",
        "    j+=1\n",
        "  if factor==2:\n",
        "    print(i,end=\" \")\n",
        "  i+=1\n",
        "  factor=0"
      ]
    },
    {
      "cell_type": "code",
      "source": [
        "#########   first to N'th term'th prime number\n",
        "n=int(input(\"enter :\"))\n",
        "c=0\n",
        "i=1\n",
        "while True:\n",
        "    fac=0\n",
        "    j=1\n",
        "    while j<=i:\n",
        "        if i%j==0:\n",
        "            fac+=1\n",
        "        j+=1\n",
        "    if fac==2:\n",
        "        c+=1\n",
        "        if c<=n:\n",
        "            print(i,end=\",\")\n",
        "        else:\n",
        "            break\n",
        "    i+=1\n"
      ],
      "metadata": {
        "id": "_pFTeRM-KHwH",
        "colab": {
          "base_uri": "https://localhost:8080/"
        },
        "outputId": "d4df61c3-60d0-4d30-8a1a-1a141d5d2d6e"
      },
      "execution_count": null,
      "outputs": [
        {
          "output_type": "stream",
          "name": "stdout",
          "text": [
            "enter :5\n",
            "2,3,5,7,11,"
          ]
        }
      ]
    },
    {
      "cell_type": "code",
      "source": [
        "N_num=int(input(\"Enter the number :\"))\n",
        "count=0\n",
        "if N_num>0:\n",
        "  print(2,end=\",\")\n",
        "  count+=1\n",
        "  i=3\n",
        "  while True:\n",
        "    factor=0\n",
        "    j=2\n",
        "    while j**2<=i:\n",
        "      if i%j==0:\n",
        "        factor+=1\n",
        "      j+=1\n",
        "    if factor==0:\n",
        "      count+=1\n",
        "      if count <= N_num:\n",
        "        print(i,end=\",\")\n",
        "      else:\n",
        "        break\n",
        "    i+=1"
      ],
      "metadata": {
        "colab": {
          "base_uri": "https://localhost:8080/"
        },
        "id": "H_uqJ-BYH9tc",
        "outputId": "9069467c-799b-41ea-b88e-fd4913e1795f"
      },
      "execution_count": null,
      "outputs": [
        {
          "output_type": "stream",
          "name": "stdout",
          "text": [
            "Enter the number :10\n",
            "2,3,5,7,11,13,17,19,23,29,"
          ]
        }
      ]
    },
    {
      "cell_type": "code",
      "source": [
        "a=int(input())\n",
        "b=int(input())\n",
        "c=int(input())\n",
        "d=int(input())\n",
        "e=int(input())\n",
        "if a==b:\n",
        "  \n"
      ],
      "metadata": {
        "id": "zhlyufTtPrn4"
      },
      "execution_count": null,
      "outputs": []
    },
    {
      "cell_type": "code",
      "execution_count": null,
      "metadata": {
        "colab": {
          "base_uri": "https://localhost:8080/"
        },
        "id": "OQV0_9r_b0tQ",
        "outputId": "738d94ed-3053-4d3c-e0b4-72ec1a7b32c4"
      },
      "outputs": [
        {
          "name": "stdout",
          "output_type": "stream",
          "text": [
            "enter any num:6543\n",
            "reversed number: 3456\n"
          ]
        }
      ],
      "source": [
        "#Q.12\n",
        "n=int(input(\"enter any num:\"))\n",
        "r=0\n",
        "while n>0:\n",
        "  a=n%10\n",
        "  r=r*10+a\n",
        "  n=n//10\n",
        "print(\"reversed number:\",r)"
      ]
    },
    {
      "cell_type": "code",
      "execution_count": null,
      "metadata": {
        "colab": {
          "base_uri": "https://localhost:8080/"
        },
        "id": "V8670b0ac2jq",
        "outputId": "b02b6f2c-2dbe-499a-c7e4-728431ea023b"
      },
      "outputs": [
        {
          "name": "stdout",
          "output_type": "stream",
          "text": [
            "enter any number:3\n",
            "enter any number:6\n",
            "1\n",
            "2\n",
            "3\n",
            "6\n",
            "all are the factor of 3 6\n"
          ]
        }
      ],
      "source": [
        "#Q.13\n",
        "n=int(input(\"enter any number:\"))\n",
        "n1=int(input(\"enter any number:\"))\n",
        "i=1\n",
        "while i<=n or i<=n1:\n",
        "  if n%i==0 or n1%i==0:\n",
        "    print(i)\n",
        "  i+=1\n",
        "else:\n",
        "  if \n",
        "print(\"all are the factor of\",n,n1)"
      ]
    },
    {
      "cell_type": "code",
      "execution_count": null,
      "metadata": {
        "colab": {
          "base_uri": "https://localhost:8080/"
        },
        "id": "rZ1-MIkrtzns",
        "outputId": "e401af29-4cc6-4c0b-dc00-6c48d77353ba"
      },
      "outputs": [
        {
          "name": "stdout",
          "output_type": "stream",
          "text": [
            "\n",
            "\n",
            "1 3 \n",
            "\n",
            "\n",
            "\n",
            "\n",
            "1 2 4 8 \n",
            "\n",
            "\n",
            "\n",
            "\n",
            "\n",
            "\n",
            "\n",
            "\n",
            "\n",
            "\n",
            "\n",
            "\n",
            "\n",
            "\n",
            "\n",
            "1 2 3 4 6 8 12 24 \n"
          ]
        }
      ],
      "source": [
        "#Q.13\n",
        "i=1\n",
        "while i<=24:\n",
        "  j=1\n",
        "  while j<=i:\n",
        "    if i==3 or i==8 or i==24:\n",
        "      if i%j==0:\n",
        "        print(j,end=\"\")\n",
        "      \n",
        "    j+=1\n",
        "  print()\n",
        "  i+=1\n"
      ]
    },
    {
      "cell_type": "code",
      "execution_count": null,
      "metadata": {
        "colab": {
          "base_uri": "https://localhost:8080/"
        },
        "id": "Me3fYmiCdzsm",
        "outputId": "a7846b0e-df0f-45aa-f6a2-cfa40e16cb3a"
      },
      "outputs": [
        {
          "name": "stdout",
          "output_type": "stream",
          "text": [
            "5 \n",
            "4 5 \n",
            "3 4 5 \n",
            "2 3 4 5 \n",
            "1 2 3 4 5 \n"
          ]
        }
      ],
      "source": [
        "#Q.14\n",
        "i=5\n",
        "while i>0:\n",
        "  j=i\n",
        "  while j<=5:\n",
        "    print(j,end=\" \")\n",
        "    j+=1\n",
        "  i-=1\n",
        "  print()\n",
        "         "
      ]
    },
    {
      "cell_type": "code",
      "execution_count": null,
      "metadata": {
        "colab": {
          "base_uri": "https://localhost:8080/"
        },
        "id": "40oL2PrCuR3t",
        "outputId": "a2dcc3f9-c164-4430-a48c-dc07b6bd9f7e"
      },
      "outputs": [
        {
          "name": "stdout",
          "output_type": "stream",
          "text": [
            "A A A A A A \n",
            "B B B B B B \n",
            "C C C C C C \n",
            "D D D D D D \n",
            "E E E E E E \n",
            "F F F F F F \n"
          ]
        }
      ],
      "source": [
        "i=65\n",
        "while i<=70:\n",
        "  j=65\n",
        "  while j<=70:\n",
        "    print(chr(i),end=\" \")\n",
        "    j+=1\n",
        "  i+=1\n",
        "  print()"
      ]
    },
    {
      "cell_type": "code",
      "execution_count": null,
      "metadata": {
        "colab": {
          "base_uri": "https://localhost:8080/"
        },
        "id": "DdUiamtYu7n_",
        "outputId": "7d69a216-f3cf-4df9-f4a4-49fd0744d7ad"
      },
      "outputs": [
        {
          "name": "stdout",
          "output_type": "stream",
          "text": [
            "A \n",
            "A B \n",
            "A B C \n",
            "A B C D \n",
            "A B C D E \n",
            "A B C D E F \n"
          ]
        }
      ],
      "source": [
        "i=65\n",
        "while i<=70:\n",
        "  j=65\n",
        "  while j<=i:\n",
        "    print(chr(j),end=\" \")\n",
        "    j+=1\n",
        "  i+=1\n",
        "  print()"
      ]
    },
    {
      "cell_type": "code",
      "execution_count": null,
      "metadata": {
        "colab": {
          "base_uri": "https://localhost:8080/"
        },
        "id": "7jmhFpvTv8Pf",
        "outputId": "538e323d-bd7f-47c0-ada5-1185bd89950b"
      },
      "outputs": [
        {
          "name": "stdout",
          "output_type": "stream",
          "text": [
            "A \n",
            "B B \n",
            "C C C \n",
            "D D D D \n",
            "E E E E E \n",
            "F F F F F F \n"
          ]
        }
      ],
      "source": [
        "i=65\n",
        "while i<=70:\n",
        "  j=65\n",
        "  while j<=i:\n",
        "    print(chr(i),end=\" \")\n",
        "    j+=1\n",
        "  i+=1\n",
        "  print()"
      ]
    },
    {
      "cell_type": "code",
      "execution_count": null,
      "metadata": {
        "colab": {
          "base_uri": "https://localhost:8080/"
        },
        "id": "erJ1bHK0zRiE",
        "outputId": "9344761d-65de-48d9-b19d-d9e1c6df1ee8"
      },
      "outputs": [
        {
          "name": "stdout",
          "output_type": "stream",
          "text": [
            "        A \n",
            "      B B \n",
            "    C C C \n",
            "  D D D D \n",
            "E E E E E \n"
          ]
        }
      ],
      "source": [
        "i=65\n",
        "while i<70:\n",
        "  s=1\n",
        "  while s<=69-i:\n",
        "    print(\" \",end=\" \")\n",
        "    s+=1\n",
        "  j=65\n",
        "  while j<=i:\n",
        "    print(chr(i),end=\" \")\n",
        "    j+=1\n",
        "  i+=1\n",
        "  print()"
      ]
    },
    {
      "cell_type": "code",
      "execution_count": null,
      "metadata": {
        "colab": {
          "base_uri": "https://localhost:8080/"
        },
        "id": "hoMPWQ8x3d1p",
        "outputId": "f572e393-53b8-4f2b-8f05-2e42b2e02cf3"
      },
      "outputs": [
        {
          "name": "stdout",
          "output_type": "stream",
          "text": [
            "        A \n",
            "      B A \n",
            "    C B A \n",
            "  D C B A \n",
            "E D C B A \n"
          ]
        }
      ],
      "source": [
        "i=65\n",
        "while i<70:\n",
        "  s=1\n",
        "  while s<=69-i:\n",
        "    print(\" \",end=\" \")\n",
        "    s+=1\n",
        "  j=i\n",
        "  while j>=65:\n",
        "    print(chr(j),end=\" \")\n",
        "    j-=1\n",
        "  i+=1\n",
        "  print()\n",
        "\n"
      ]
    },
    {
      "cell_type": "code",
      "execution_count": null,
      "metadata": {
        "colab": {
          "base_uri": "https://localhost:8080/"
        },
        "id": "R4Jp6kz0x693",
        "outputId": "39470179-5c71-4ea5-b9e2-792f2565b01b"
      },
      "outputs": [
        {
          "name": "stdout",
          "output_type": "stream",
          "text": [
            "        A \n",
            "      A B \n",
            "    A B C \n",
            "  A B C D \n",
            "A B C D E \n"
          ]
        }
      ],
      "source": [
        "i=65\n",
        "while i<70:\n",
        "  s=1\n",
        "  while s<=69-i:\n",
        "    print(\" \",end=\" \")\n",
        "    s+=1\n",
        "  j=65\n",
        "  while j<=i:\n",
        "    print(chr(j),end=\" \")\n",
        "    j+=1\n",
        "  i+=1\n",
        "  print()\n"
      ]
    },
    {
      "cell_type": "code",
      "execution_count": null,
      "metadata": {
        "id": "_elbClwY1CNx"
      },
      "outputs": [],
      "source": []
    },
    {
      "cell_type": "code",
      "execution_count": null,
      "metadata": {
        "colab": {
          "base_uri": "https://localhost:8080/"
        },
        "id": "Q4rEL67-g6lU",
        "outputId": "247affc8-d925-4edc-ac07-b67ef96fc411"
      },
      "outputs": [
        {
          "name": "stdout",
          "output_type": "stream",
          "text": [
            "enter any number:2\n",
            "enter any number:4\n",
            "16\n"
          ]
        }
      ],
      "source": [
        "#Q.15\n",
        "a=int(input(\"enter any number:\"))\n",
        "b=int(input(\"enter any number:\"))\n",
        "i=1\n",
        "while i<=b:\n",
        "  if i==b:\n",
        "    print(a**b)\n",
        "  i+=1"
      ]
    },
    {
      "cell_type": "code",
      "execution_count": null,
      "metadata": {
        "id": "PauC_kWvhtzv"
      },
      "outputs": [],
      "source": [
        "#Q.16\n",
        "a=int(input(\"how many time run input:\"))\n",
        "i=1\n",
        "positive num=0\n",
        "nagetive num=0\n",
        "zero=0\n",
        "while i<=a:\n",
        "  n=int(input(\"enter any number:\"))\n",
        "  if n<0:\n",
        "   nagetive+=1\n",
        "  elif n==0:\n",
        "    zero+=1\n",
        "  else:\n",
        "    positive+=1\n",
        "  i+=1\n",
        "print(\"How many positive number\",positive)\n",
        "print(\"How many nagetive number\",nagetive) \n",
        "print(\"How many zero number\",zero)   "
      ]
    },
    {
      "cell_type": "code",
      "execution_count": null,
      "metadata": {
        "id": "mGCUjU6ukn9z"
      },
      "outputs": [],
      "source": [
        "#Q.17\n",
        "a=int(input(\"how many take input:\"))\n",
        "i=1\n",
        "while i<=a:\n",
        "  n=int(input(\"enter any number: \"))\n"
      ]
    },
    {
      "cell_type": "code",
      "execution_count": null,
      "metadata": {
        "colab": {
          "base_uri": "https://localhost:8080/"
        },
        "id": "CeViAlfLlJHG",
        "outputId": "34310901-ce8c-4b59-b601-ce83094c8fc1"
      },
      "outputs": [
        {
          "name": "stdout",
          "output_type": "stream",
          "text": [
            "how many term you want:7\n",
            "0 1 1 2 3 5 8 "
          ]
        }
      ],
      "source": [
        "#Q.18\n",
        "a=int(input(\"how many term you want:\"))\n",
        "n1=0\n",
        "n2=1\n",
        "n3=0\n",
        "i=1\n",
        "while i<=a:\n",
        "  print(n1,end=\" \")\n",
        "  n3=n1+n2\n",
        "  n1=n2\n",
        "  n2=n3\n",
        "  i+=1\n"
      ]
    },
    {
      "cell_type": "code",
      "execution_count": null,
      "metadata": {
        "colab": {
          "base_uri": "https://localhost:8080/"
        },
        "id": "2NHTQVMz9dov",
        "outputId": "98599f5d-b50b-49ad-8e28-8505ac76b236"
      },
      "outputs": [
        {
          "name": "stdout",
          "output_type": "stream",
          "text": [
            "******\n",
            "******\n",
            "******\n",
            "******\n"
          ]
        }
      ],
      "source": [
        "#Q.19\n",
        "i=1\n",
        "while i<=4:\n",
        "  j=1\n",
        "  while j<=3:\n",
        "    print(j*\"*\",end=\"\")\n",
        "    j+=1\n",
        "  i+=1\n",
        "  print()"
      ]
    },
    {
      "cell_type": "code",
      "execution_count": null,
      "metadata": {
        "id": "_OCwh-1t9Jrx"
      },
      "outputs": [],
      "source": [
        "######     FOR   LOOP  ##################"
      ]
    },
    {
      "cell_type": "code",
      "execution_count": null,
      "metadata": {
        "colab": {
          "base_uri": "https://localhost:8080/",
          "height": 132
        },
        "id": "-DzVcp9G9RiC",
        "outputId": "be63571c-02e9-45be-f8ce-5c5b4cfdef23"
      },
      "outputs": [
        {
          "ename": "SyntaxError",
          "evalue": "ignored",
          "output_type": "error",
          "traceback": [
            "\u001b[0;36m  File \u001b[0;32m\"<ipython-input-39-ab8d6ffef794>\"\u001b[0;36m, line \u001b[0;32m2\u001b[0m\n\u001b[0;31m    \u001b[0m\n\u001b[0m    ^\u001b[0m\n\u001b[0;31mSyntaxError\u001b[0m\u001b[0;31m:\u001b[0m unexpected EOF while parsing\n"
          ]
        }
      ],
      "source": [
        "for letter in \"hello\":\n",
        "  "
      ]
    },
    {
      "cell_type": "code",
      "execution_count": null,
      "metadata": {
        "colab": {
          "base_uri": "https://localhost:8080/"
        },
        "id": "OCg1xaeycsHl",
        "outputId": "833cf352-a1bd-4bb1-86ef-ee2ee63bb002"
      },
      "outputs": [
        {
          "name": "stdout",
          "output_type": "stream",
          "text": [
            "enter the num:5\n",
            "factorial= 120\n"
          ]
        }
      ],
      "source": [
        "### while questions\n",
        "i = int(input(\"enter the num:\"))\n",
        "fac = 1\n",
        "while i>0:\n",
        "   fac=fac*i\n",
        "   i=i-1\n",
        "print(\"factorial=\",fac)"
      ]
    },
    {
      "cell_type": "code",
      "execution_count": null,
      "metadata": {
        "colab": {
          "base_uri": "https://localhost:8080/"
        },
        "id": "qmqhvv1wpmyx",
        "outputId": "8938e300-08b3-41eb-f1a4-79cb6275c8b4"
      },
      "outputs": [
        {
          "name": "stdout",
          "output_type": "stream",
          "text": [
            "0\n",
            "1\n",
            "2\n",
            "3\n"
          ]
        }
      ],
      "source": [
        "for count in range(4):\n",
        "  print(count)"
      ]
    },
    {
      "cell_type": "code",
      "execution_count": null,
      "metadata": {
        "colab": {
          "base_uri": "https://localhost:8080/"
        },
        "id": "LnevExykqF-H",
        "outputId": "3b259307-7d61-49ef-a937-cbb939216e00"
      },
      "outputs": [
        {
          "name": "stdout",
          "output_type": "stream",
          "text": [
            "0,1,2,3,4,"
          ]
        }
      ],
      "source": [
        "for count in range(5):\n",
        "  print(count,end=\",\")"
      ]
    },
    {
      "cell_type": "code",
      "execution_count": null,
      "metadata": {
        "colab": {
          "base_uri": "https://localhost:8080/"
        },
        "id": "odbtmk6Lqai9",
        "outputId": "d3af4aa9-9426-4392-ed38-cbaf47042007"
      },
      "outputs": [
        {
          "name": "stdout",
          "output_type": "stream",
          "text": [
            "1\n",
            "2\n",
            "3\n",
            "4\n",
            "5\n"
          ]
        }
      ],
      "source": [
        "for count in range(1,6):\n",
        "  print(count)"
      ]
    },
    {
      "cell_type": "code",
      "execution_count": null,
      "metadata": {
        "colab": {
          "base_uri": "https://localhost:8080/"
        },
        "id": "4ZrYfkXJqt7L",
        "outputId": "ea401e40-136e-44a3-bd9d-83636231ef25"
      },
      "outputs": [
        {
          "name": "stdout",
          "output_type": "stream",
          "text": [
            "1\n",
            "3\n",
            "5\n",
            "7\n"
          ]
        }
      ],
      "source": [
        "for count in range(1,9,2):\n",
        "  print(count)"
      ]
    },
    {
      "cell_type": "code",
      "execution_count": null,
      "metadata": {
        "colab": {
          "base_uri": "https://localhost:8080/"
        },
        "id": "X7M0iozHrHI0",
        "outputId": "b5638bf9-d1df-4453-fc4a-e0ea2d045faa"
      },
      "outputs": [
        {
          "name": "stdout",
          "output_type": "stream",
          "text": [
            "9\n",
            "8\n",
            "7\n",
            "6\n",
            "5\n",
            "4\n",
            "3\n",
            "2\n"
          ]
        }
      ],
      "source": [
        "for pinki in range(9,1,-1):\n",
        "  print(pinki)\n",
        "  "
      ]
    },
    {
      "cell_type": "code",
      "execution_count": null,
      "metadata": {
        "colab": {
          "base_uri": "https://localhost:8080/"
        },
        "id": "ZFYFzyXbt1w6",
        "outputId": "aa7bcbd5-eb4c-4ab0-9564-7bef992018b6"
      },
      "outputs": [
        {
          "name": "stdout",
          "output_type": "stream",
          "text": [
            "10\n",
            "8\n",
            "6\n",
            "4\n",
            "2\n",
            "even number\n"
          ]
        }
      ],
      "source": [
        "for pinki in range(10,0,-2):\n",
        "   print(pinki)\n",
        "print(\"even number\")"
      ]
    },
    {
      "cell_type": "code",
      "execution_count": null,
      "metadata": {
        "colab": {
          "base_uri": "https://localhost:8080/"
        },
        "id": "nSIwaFalxkJx",
        "outputId": "2146f14c-9048-4cff-c884-196543dd86bb"
      },
      "outputs": [
        {
          "name": "stdout",
          "output_type": "stream",
          "text": [
            "1\n",
            "3\n",
            "5\n",
            "7\n",
            "9\n",
            "11\n",
            "13\n",
            "15\n",
            "17\n",
            "19\n",
            "odd number\n"
          ]
        }
      ],
      "source": [
        "for pic in range(1,20,2):\n",
        "  print(pic)\n",
        "print(\"odd number\")"
      ]
    },
    {
      "cell_type": "code",
      "execution_count": null,
      "metadata": {
        "colab": {
          "base_uri": "https://localhost:8080/"
        },
        "id": "Gmsgq1x1x9kQ",
        "outputId": "a30271e2-7fb4-4d04-cd44-2ad30db506e3"
      },
      "outputs": [
        {
          "name": "stdout",
          "output_type": "stream",
          "text": [
            "1 odd number\n",
            "2 even\n",
            "3 odd number\n",
            "4 even\n",
            "5 odd number\n",
            "6 even\n",
            "7 odd number\n",
            "8 even\n",
            "9 odd number\n"
          ]
        }
      ],
      "source": [
        "for pin in range(1,10):\n",
        "   if pin%2==0:\n",
        "     print(pin,\"even\")\n",
        "   else:\n",
        "     print(pin,\"odd number\")"
      ]
    },
    {
      "cell_type": "code",
      "execution_count": null,
      "metadata": {
        "colab": {
          "base_uri": "https://localhost:8080/"
        },
        "id": "ppj0-zXm2g42",
        "outputId": "920729f5-df75-4259-c0a8-de6e9e73e3ce"
      },
      "outputs": [
        {
          "name": "stdout",
          "output_type": "stream",
          "text": [
            "1\n",
            "2\n",
            "3\n"
          ]
        }
      ],
      "source": [
        "for i in (1,2,3):\n",
        "  print(i)"
      ]
    },
    {
      "cell_type": "code",
      "execution_count": null,
      "metadata": {
        "colab": {
          "base_uri": "https://localhost:8080/"
        },
        "id": "Cs7AuptV3n1B",
        "outputId": "f21dcc62-4b21-4400-ed2c-4b7e570bf03b"
      },
      "outputs": [
        {
          "name": "stdout",
          "output_type": "stream",
          "text": [
            "i\n",
            "i\n",
            "i\n"
          ]
        }
      ],
      "source": [
        "for i in(6,9,1):\n",
        "  print(\"i\")"
      ]
    },
    {
      "cell_type": "code",
      "execution_count": null,
      "metadata": {
        "colab": {
          "base_uri": "https://localhost:8080/"
        },
        "id": "dOYNaQZA5Efi",
        "outputId": "551960f2-558d-4076-9c6d-c01c8dd6f21a"
      },
      "outputs": [
        {
          "name": "stdout",
          "output_type": "stream",
          "text": [
            "4,3,2,1,0,"
          ]
        }
      ],
      "source": [
        "for i in(4,3,2,1,0):\n",
        "  print(i,end=\",\")"
      ]
    },
    {
      "cell_type": "code",
      "execution_count": null,
      "metadata": {
        "colab": {
          "base_uri": "https://localhost:8080/"
        },
        "id": "6JdRQIEd53U9",
        "outputId": "24f8f3cf-57c9-442e-e6b9-3ed0883c63e1"
      },
      "outputs": [
        {
          "name": "stdout",
          "output_type": "stream",
          "text": [
            "hello 1\n",
            "hello 3\n",
            "hello 5\n",
            "hello 7\n",
            "hello 9\n"
          ]
        }
      ],
      "source": [
        "# [5]\n",
        "for i in range(10):\n",
        "  if i%2!=0:\n",
        "    print(\"hello\",i)"
      ]
    },
    {
      "cell_type": "code",
      "execution_count": null,
      "metadata": {
        "colab": {
          "base_uri": "https://localhost:8080/"
        },
        "id": "S6iEEy8-6T_R",
        "outputId": "df537107-5e6f-433c-ba5d-7b1fcd70dfbc"
      },
      "outputs": [
        {
          "name": "stdout",
          "output_type": "stream",
          "text": [
            "10 hello\n",
            "8 hello\n",
            "6 hello\n",
            "4 hello\n"
          ]
        }
      ],
      "source": [
        "#[6]\n",
        "for i in range(10,2,-2):\n",
        "  print(i,\"hello\")"
      ]
    },
    {
      "cell_type": "code",
      "execution_count": null,
      "metadata": {
        "colab": {
          "background_save": true,
          "base_uri": "https://localhost:8080/"
        },
        "id": "atcMpJgk6PAZ",
        "outputId": "76396b6f-9a5c-4dd2-f175-20a40c7b0412"
      },
      "outputs": [
        {
          "name": "stdout",
          "output_type": "stream",
          "text": [
            "python\n",
            "output\n",
            "based\n",
            "questions\n"
          ]
        }
      ],
      "source": [
        "#[7]\n",
        "str=\"python output based questions\"\n",
        "word=str.split()\n",
        "for i in word:\n",
        "  print(word)\n"
      ]
    },
    {
      "cell_type": "code",
      "execution_count": null,
      "metadata": {
        "colab": {
          "base_uri": "https://localhost:8080/"
        },
        "id": "jVZYvm8synwF",
        "outputId": "651240b3-a742-4b59-8eae-e1e00247be4f"
      },
      "outputs": [
        {
          "name": "stdout",
          "output_type": "stream",
          "text": [
            "2\n",
            "2\n"
          ]
        }
      ],
      "source": [
        "#[25]\n",
        "x=2\n",
        "for i in range(x**2,x,-1):\n",
        "  print(x)"
      ]
    },
    {
      "cell_type": "code",
      "execution_count": null,
      "metadata": {
        "colab": {
          "base_uri": "https://localhost:8080/"
        },
        "id": "C_Ls8Yua4GHM",
        "outputId": "39580158-a27a-44ca-894c-d0eaef11023b"
      },
      "outputs": [
        {
          "name": "stdout",
          "output_type": "stream",
          "text": [
            "10\n",
            "10\n",
            "10\n",
            "10\n",
            "10\n",
            "10\n",
            "10\n",
            "10\n",
            "10\n",
            "10\n"
          ]
        }
      ],
      "source": [
        "#[26]\n",
        "x=10\n",
        "for i in range(x):\n",
        "  if x==5:\n",
        "    break\n",
        "    print(\"H\")\n",
        "  print(x)"
      ]
    },
    {
      "cell_type": "code",
      "execution_count": null,
      "metadata": {
        "colab": {
          "base_uri": "https://localhost:8080/"
        },
        "id": "AkmNQT025i1A",
        "outputId": "9bbb168a-9603-4da1-8546-fbd575dddf2b"
      },
      "outputs": [
        {
          "name": "stdout",
          "output_type": "stream",
          "text": [
            "0\n",
            "1\n",
            "2\n",
            "3\n",
            "4\n",
            "5\n",
            "x\n"
          ]
        }
      ],
      "source": [
        "#[27]\n",
        "x=6\n",
        "for i in range(x):\n",
        "  if x==5:\n",
        "    break\n",
        "  print(i)\n",
        "print(\"x\")"
      ]
    },
    {
      "cell_type": "code",
      "execution_count": null,
      "metadata": {
        "colab": {
          "base_uri": "https://localhost:8080/"
        },
        "id": "_KXcq5-16a45",
        "outputId": "6c344977-5371-408c-c568-30102ee4b680"
      },
      "outputs": [
        {
          "name": "stdout",
          "output_type": "stream",
          "text": [
            "0\n",
            "1\n",
            "2\n",
            "3\n",
            "pinki\n"
          ]
        }
      ],
      "source": [
        "for i in range(6):\n",
        "  if i==4:\n",
        "    break\n",
        "  print(i)\n",
        "print(\"pinki\")"
      ]
    },
    {
      "cell_type": "code",
      "execution_count": null,
      "metadata": {
        "colab": {
          "base_uri": "https://localhost:8080/"
        },
        "id": "rRiMYJfe8znQ",
        "outputId": "03f2c3b6-8eef-4c97-9506-e48a5b87033b"
      },
      "outputs": [
        {
          "name": "stdout",
          "output_type": "stream",
          "text": [
            "0\n",
            "1\n",
            "3\n",
            "6\n",
            "10\n"
          ]
        }
      ],
      "source": [
        "#[28]\n",
        "s=0\n",
        "for i in range(5):\n",
        "  s+=i\n",
        "  print(s)"
      ]
    },
    {
      "cell_type": "code",
      "execution_count": null,
      "metadata": {
        "colab": {
          "base_uri": "https://localhost:8080/"
        },
        "id": "wu41BU0b-cr5",
        "outputId": "a537ccee-81e7-4293-a1a9-9507bea98bf2"
      },
      "outputs": [
        {
          "name": "stdout",
          "output_type": "stream",
          "text": [
            "1\n",
            "2\n",
            "3\n",
            "4\n",
            "5\n",
            "6\n",
            "7\n",
            "8\n",
            "9\n",
            "10\n"
          ]
        }
      ],
      "source": [
        "#[29]\n",
        "for i in range(1,11):\n",
        "  print(\"%d\"%i)"
      ]
    },
    {
      "cell_type": "code",
      "execution_count": null,
      "metadata": {
        "colab": {
          "base_uri": "https://localhost:8080/"
        },
        "id": "xokY93uO_xLK",
        "outputId": "a3145d97-971e-482c-9f96-c22d74b96216"
      },
      "outputs": [
        {
          "name": "stdout",
          "output_type": "stream",
          "text": [
            "False\n"
          ]
        }
      ],
      "source": [
        "#[30]\n",
        "print((3>1)and (9<1))"
      ]
    },
    {
      "cell_type": "code",
      "execution_count": null,
      "metadata": {
        "colab": {
          "base_uri": "https://localhost:8080/"
        },
        "id": "WLcaGerc_-FP",
        "outputId": "f4fd4dbd-a3de-4249-d962-81373d71fb54"
      },
      "outputs": [
        {
          "name": "stdout",
          "output_type": "stream",
          "text": [
            "True\n"
          ]
        }
      ],
      "source": [
        "#[31]\n",
        "print((9>1)or(9<1))"
      ]
    },
    {
      "cell_type": "code",
      "execution_count": null,
      "metadata": {
        "id": "RVtJ9zDPAVs3"
      },
      "outputs": [],
      "source": [
        "#[32]\n",
        "\n",
        "while f<10:\n",
        "  print(f)\n",
        "  f*=3\n",
        "f=0\n",
        "####  infinite ##########"
      ]
    },
    {
      "cell_type": "code",
      "execution_count": null,
      "metadata": {
        "colab": {
          "base_uri": "https://localhost:8080/"
        },
        "id": "fGZWoXEwBSAa",
        "outputId": "11bbd76d-fdad-4725-cb9b-07eb70533eef"
      },
      "outputs": [
        {
          "name": "stdout",
          "output_type": "stream",
          "text": [
            "1@ 2@ 3@ 3@ 4@ 6@ 4@ 5@ 7@ 10@ \n",
            "3\n"
          ]
        }
      ],
      "source": [
        "#[33]\n",
        "for i in range(5):\n",
        "  for j in range(i):\n",
        "    i=i+j\n",
        "    print(i,end=\"@ \")\n",
        "print()   \n",
        "print(j)\n"
      ]
    },
    {
      "cell_type": "code",
      "execution_count": null,
      "metadata": {
        "colab": {
          "base_uri": "https://localhost:8080/"
        },
        "id": "Tk5JwdP4H_DH",
        "outputId": "11742b77-dbd2-4723-d1cd-d6d09febd3fb"
      },
      "outputs": [
        {
          "name": "stdout",
          "output_type": "stream",
          "text": [
            "0S ,0S ,1S ,0S ,1S ,2S ,0S ,1S ,2S ,3S ,"
          ]
        }
      ],
      "source": [
        "#[34]\n",
        "i=0\n",
        "while i<5:\n",
        "  for j in range(i):\n",
        "    print(j,end=\"S ,\")\n",
        "  i+=1"
      ]
    },
    {
      "cell_type": "code",
      "execution_count": null,
      "metadata": {
        "colab": {
          "base_uri": "https://localhost:8080/"
        },
        "id": "3xiytgUPLv7N",
        "outputId": "5e6ad18e-c920-45d4-ca17-2b3573affa90"
      },
      "outputs": [
        {
          "name": "stdout",
          "output_type": "stream",
          "text": [
            "20\n",
            "7\n",
            "30\n",
            "7\n",
            "40\n",
            "7\n",
            "50\n",
            "7\n",
            "60\n",
            "7\n"
          ]
        }
      ],
      "source": [
        "#[35]\n",
        "num1=7\n",
        "num2=10\n",
        "for i in range(5):\n",
        "  num2+=10\n",
        "  print(num2)\n",
        "  print(num1)"
      ]
    },
    {
      "cell_type": "code",
      "execution_count": null,
      "metadata": {
        "colab": {
          "base_uri": "https://localhost:8080/"
        },
        "id": "4soMWjP_NMes",
        "outputId": "54b78c77-5180-4070-c183-ba433b507e1f"
      },
      "outputs": [
        {
          "name": "stdout",
          "output_type": "stream",
          "text": [
            "-5\n",
            "-9\n",
            "-12\n",
            "-14\n",
            "-15\n",
            "-15\n",
            "-14\n",
            "-12\n",
            "-9\n",
            "-5\n"
          ]
        }
      ],
      "source": [
        "#[36]\n",
        "s=0\n",
        "for i in range(-5,5):\n",
        "  s=s+i\n",
        "  print(s)"
      ]
    },
    {
      "cell_type": "code",
      "execution_count": null,
      "metadata": {
        "colab": {
          "base_uri": "https://localhost:8080/"
        },
        "id": "gtk0hKik4tk4",
        "outputId": "bef31e66-380d-4401-a2c3-5db1bd69e2f7"
      },
      "outputs": [
        {
          "name": "stdout",
          "output_type": "stream",
          "text": [
            "1\n",
            "3\n"
          ]
        }
      ],
      "source": [
        "#[37]\n",
        "for i in range(5):\n",
        "  if i%2==0:\n",
        "    pass\n",
        "  else:\n",
        "    print(i)"
      ]
    },
    {
      "cell_type": "code",
      "execution_count": null,
      "metadata": {
        "colab": {
          "base_uri": "https://localhost:8080/"
        },
        "id": "Kzgx3fTj_HTe",
        "outputId": "b8889baf-eb5f-49fb-cd24-5b0d89f3551e"
      },
      "outputs": [
        {
          "name": "stdout",
          "output_type": "stream",
          "text": [
            "1\n",
            "3\n"
          ]
        }
      ],
      "source": [
        "#[38]\n",
        "for i in range(5):\n",
        "  if i%2==0:\n",
        "    continue\n",
        "  else:\n",
        "    print(i)"
      ]
    },
    {
      "cell_type": "code",
      "execution_count": null,
      "metadata": {
        "colab": {
          "base_uri": "https://localhost:8080/"
        },
        "id": "qHpxCb5QAhxT",
        "outputId": "5882427d-d420-42c8-a92a-befe0be17321"
      },
      "outputs": [
        {
          "name": "stdout",
          "output_type": "stream",
          "text": [
            "1\n"
          ]
        }
      ],
      "source": [
        "#[39]\n",
        "for i in range(1,5):\n",
        "  if i%2==0:\n",
        "    break\n",
        "  else:\n",
        "    print(i)"
      ]
    },
    {
      "cell_type": "code",
      "execution_count": null,
      "metadata": {
        "colab": {
          "base_uri": "https://localhost:8080/"
        },
        "id": "vITgKrGyBPwB",
        "outputId": "67e4f67e-a49e-412c-9d5a-2b28c444d8fb"
      },
      "outputs": [
        {
          "name": "stdout",
          "output_type": "stream",
          "text": [
            "\n",
            "1 \n",
            "2 1 \n",
            "3 2 1 \n",
            "4 3 2 1 \n"
          ]
        }
      ],
      "source": [
        "#[40]\n",
        "for i in range(5):\n",
        "  while(i):\n",
        "    print(i,end=\" \")\n",
        "    i=i-1\n",
        "  print()\n"
      ]
    },
    {
      "cell_type": "code",
      "execution_count": null,
      "metadata": {
        "colab": {
          "base_uri": "https://localhost:8080/"
        },
        "id": "Nx-wms86FzQx",
        "outputId": "c84030b3-1850-4904-b34c-ab51731e9613"
      },
      "outputs": [
        {
          "name": "stdout",
          "output_type": "stream",
          "text": [
            "25\n",
            "64\n",
            "121\n",
            "196\n"
          ]
        }
      ],
      "source": [
        "#[41]\n",
        "x=5\n",
        "while x<15:\n",
        "  print(x**2)\n",
        "  x+=3"
      ]
    },
    {
      "cell_type": "code",
      "execution_count": null,
      "metadata": {
        "colab": {
          "base_uri": "https://localhost:8080/"
        },
        "id": "14pif-lEH41C",
        "outputId": "94ea9073-261f-46a0-af2c-8b8c46ee122e"
      },
      "outputs": [
        {
          "name": "stdout",
          "output_type": "stream",
          "text": [
            "12\n",
            "13\n"
          ]
        }
      ],
      "source": [
        "#[42]\n",
        "a=7\n",
        "b=5\n",
        "while a<9:\n",
        "  print(a+b)\n",
        "  a+=1 "
      ]
    },
    {
      "cell_type": "code",
      "execution_count": null,
      "metadata": {
        "colab": {
          "base_uri": "https://localhost:8080/"
        },
        "id": "MCT7iiacJztG",
        "outputId": "68968a17-1a04-415b-eeb0-984dc2ca0ff9"
      },
      "outputs": [
        {
          "name": "stdout",
          "output_type": "stream",
          "text": [
            "H\n",
            "H\n",
            "H\n",
            "H\n"
          ]
        }
      ],
      "source": [
        "#[43]\n",
        "b=5\n",
        "while b<9:\n",
        "  print(\"H\")\n",
        "  b+=1"
      ]
    },
    {
      "cell_type": "code",
      "execution_count": null,
      "metadata": {
        "colab": {
          "base_uri": "https://localhost:8080/"
        },
        "id": "uiXpJYffKJDd",
        "outputId": "0dc14345-6901-47f8-b6df-4a6fee8064db"
      },
      "outputs": [
        {
          "name": "stdout",
          "output_type": "stream",
          "text": [
            "Hello\n",
            "Hello\n",
            "Hello\n"
          ]
        }
      ],
      "source": [
        "#[44]\n",
        "b=15\n",
        "while b>9:\n",
        "  print(\"Hello\")\n",
        "  b=b-2"
      ]
    },
    {
      "cell_type": "code",
      "execution_count": null,
      "metadata": {
        "colab": {
          "base_uri": "https://localhost:8080/"
        },
        "id": "BfJLtqahKhSw",
        "outputId": "14e4fff7-52c0-46b6-99cb-31d51bc6fc4e"
      },
      "outputs": [
        {
          "name": "stdout",
          "output_type": "stream",
          "text": [
            "Hello\n"
          ]
        }
      ],
      "source": [
        "#[45]\n",
        "x=15\n",
        "while x==15:\n",
        "  print(\"Hello\")\n",
        "  x-=3"
      ]
    },
    {
      "cell_type": "code",
      "execution_count": null,
      "metadata": {
        "colab": {
          "base_uri": "https://localhost:8080/"
        },
        "id": "d3VR7axxK1Q9",
        "outputId": "2563b932-9702-4da4-8994-1dd007e24750"
      },
      "outputs": [
        {
          "name": "stdout",
          "output_type": "stream",
          "text": [
            "1\n",
            "4\n",
            "8\n",
            "7\n",
            "3\n"
          ]
        }
      ],
      "source": [
        "#[46]\n",
        "x=\"14873\"\n",
        "for i in x:\n",
        "  print(i)"
      ]
    },
    {
      "cell_type": "code",
      "execution_count": null,
      "metadata": {
        "id": "h9c0tGLdTNUQ"
      },
      "outputs": [],
      "source": [
        "#[47]\n",
        "i=9\n",
        "while True:\n",
        "  if i%3==0:\n",
        "    break\n",
        "  print(\"A\")"
      ]
    },
    {
      "cell_type": "code",
      "execution_count": null,
      "metadata": {
        "colab": {
          "base_uri": "https://localhost:8080/"
        },
        "id": "aSHkfIpqTrHU",
        "outputId": "99dd09a2-6972-47be-e5f4-1ca4c1b35443"
      },
      "outputs": [
        {
          "name": "stdout",
          "output_type": "stream",
          "text": [
            "5 a\n",
            "6 a\n",
            "7 a\n",
            "8 a\n",
            "9 a\n",
            "10 a\n"
          ]
        }
      ],
      "source": [
        "#[48]\n",
        "a=5\n",
        "while (a<=10):\n",
        "  print(a,\"a\")\n",
        "  a+=1"
      ]
    },
    {
      "cell_type": "code",
      "execution_count": null,
      "metadata": {
        "colab": {
          "base_uri": "https://localhost:8080/"
        },
        "id": "GLqRlcfUUAzw",
        "outputId": "b0a4e060-4253-4b1a-d359-bd6a95b0b5af"
      },
      "outputs": [
        {
          "name": "stdout",
          "output_type": "stream",
          "text": [
            "0\n",
            "1\n",
            "2\n",
            "7\n"
          ]
        }
      ],
      "source": [
        "#[49]\n",
        "i=0\n",
        "while i<3:\n",
        "  print(i)\n",
        "  i+=1\n",
        "else:\n",
        "  print(7)"
      ]
    },
    {
      "cell_type": "code",
      "execution_count": null,
      "metadata": {
        "colab": {
          "base_uri": "https://localhost:8080/"
        },
        "id": "eHJHTxJKUdC3",
        "outputId": "24cbf651-9a68-464d-81d6-47df486074cf"
      },
      "outputs": [
        {
          "name": "stdout",
          "output_type": "stream",
          "text": [
            "0\n",
            "0\n",
            "1\n",
            "0\n",
            "2\n",
            "0\n"
          ]
        }
      ],
      "source": [
        "#[50]\n",
        "i=0\n",
        "while i<3:\n",
        "  print(i)\n",
        "  i+=1\n",
        "  print(0)"
      ]
    },
    {
      "cell_type": "code",
      "execution_count": null,
      "metadata": {
        "colab": {
          "base_uri": "https://localhost:8080/"
        },
        "id": "cKvXB-f3Uy8Z",
        "outputId": "10cf3182-ae67-4b0b-95a9-42e62ccb3270"
      },
      "outputs": [
        {
          "name": "stdout",
          "output_type": "stream",
          "text": [
            "3\n",
            "4\n"
          ]
        }
      ],
      "source": [
        "#[51]\n",
        "i=2\n",
        "for x in range(i):\n",
        "  i+=1\n",
        "  print(i)"
      ]
    },
    {
      "cell_type": "code",
      "execution_count": null,
      "metadata": {
        "colab": {
          "base_uri": "https://localhost:8080/"
        },
        "id": "RdYPchy9XqS3",
        "outputId": "c0006849-5630-46bd-eedf-970c021540fc"
      },
      "outputs": [
        {
          "name": "stdout",
          "output_type": "stream",
          "text": [
            "1\n",
            "2\n"
          ]
        }
      ],
      "source": [
        "#[52]\n",
        "i=2\n",
        "for x in range(i):\n",
        "  x+=1\n",
        "  print(x)"
      ]
    },
    {
      "cell_type": "code",
      "execution_count": null,
      "metadata": {
        "colab": {
          "base_uri": "https://localhost:8080/"
        },
        "id": "IKIpDYg-YZ3U",
        "outputId": "9998f748-74da-4f84-a224-4eb3f126ab1f"
      },
      "outputs": [
        {
          "name": "stdout",
          "output_type": "stream",
          "text": [
            "1\n",
            "x\n",
            "2\n",
            "x\n"
          ]
        }
      ],
      "source": [
        "#[53]\n",
        "i=2\n",
        "for x in range(i):\n",
        "  x+=1\n",
        "  print(x)\n",
        "  print(\"x\")"
      ]
    },
    {
      "cell_type": "code",
      "execution_count": null,
      "metadata": {
        "id": "_qaXu9IWYyB7"
      },
      "outputs": [],
      "source": [
        "#[54]\n",
        "i=100\n",
        "while i<57:\n",
        "  print(i)\n",
        "  i+=5\n",
        "  # i>57 hona chahiye tha to iska ans wrong hai."
      ]
    },
    {
      "cell_type": "code",
      "execution_count": null,
      "metadata": {
        "colab": {
          "base_uri": "https://localhost:8080/"
        },
        "id": "_WUcpNC1Zl94",
        "outputId": "b31c1840-7856-4b78-8317-5e16bb0eabfe"
      },
      "outputs": [
        {
          "name": "stdout",
          "output_type": "stream",
          "text": [
            "\n",
            "A \n",
            "A A \n",
            "A A A \n",
            "A A A A \n"
          ]
        }
      ],
      "source": [
        "#[55]\n",
        "for i in range(5):\n",
        "  for j in range(i):\n",
        "    print(\"A\",end=\" \")\n",
        "  print()"
      ]
    },
    {
      "cell_type": "code",
      "execution_count": null,
      "metadata": {
        "colab": {
          "base_uri": "https://localhost:8080/"
        },
        "id": "9rVWt6mYaRZt",
        "outputId": "264f7c8f-7d9e-4ded-b04f-ee3ee26d55bb"
      },
      "outputs": [
        {
          "name": "stdout",
          "output_type": "stream",
          "text": [
            "\n",
            "Aa\n",
            "AaAa\n",
            "AaAaAa\n",
            "AaAaAaAa\n"
          ]
        }
      ],
      "source": [
        "#[56]\n",
        "for i in range(5):\n",
        "   for j in range(i):\n",
        "     print(\"A\",end=\"a\")\n",
        "   print()  "
      ]
    },
    {
      "cell_type": "code",
      "execution_count": null,
      "metadata": {
        "colab": {
          "base_uri": "https://localhost:8080/"
        },
        "id": "e9vU_-v9eEMW",
        "outputId": "e93d6379-9727-4bcb-da7f-68b32594f4d1"
      },
      "outputs": [
        {
          "name": "stdout",
          "output_type": "stream",
          "text": [
            " \n",
            "\n",
            "AS \n",
            "\n",
            "ASAS \n",
            "\n",
            "ASASAS \n",
            "\n",
            "ASASASAS \n",
            "\n"
          ]
        }
      ],
      "source": [
        "#[57]\n",
        "for i in range(5):\n",
        "  print(\"AS\"*i,\"\\n\")"
      ]
    },
    {
      "cell_type": "code",
      "execution_count": null,
      "metadata": {
        "colab": {
          "base_uri": "https://localhost:8080/",
          "height": 257
        },
        "id": "U0cCp8JGgyPp",
        "outputId": "4a8374f7-0e30-43c4-afdd-b3e369c3b963"
      },
      "outputs": [
        {
          "ename": "TypeError",
          "evalue": "ignored",
          "output_type": "error",
          "traceback": [
            "\u001b[0;31m---------------------------------------------------------------------------\u001b[0m",
            "\u001b[0;31mTypeError\u001b[0m                                 Traceback (most recent call last)",
            "\u001b[0;32m<ipython-input-38-e9ae0f45d354>\u001b[0m in \u001b[0;36m<module>\u001b[0;34m()\u001b[0m\n\u001b[1;32m      1\u001b[0m \u001b[0;31m#[58]\u001b[0m\u001b[0;34m\u001b[0m\u001b[0;34m\u001b[0m\u001b[0;34m\u001b[0m\u001b[0m\n\u001b[1;32m      2\u001b[0m \u001b[0;32mfor\u001b[0m \u001b[0mi\u001b[0m \u001b[0;32min\u001b[0m \u001b[0mrange\u001b[0m\u001b[0;34m(\u001b[0m\u001b[0;36m5\u001b[0m\u001b[0;34m)\u001b[0m\u001b[0;34m:\u001b[0m\u001b[0;34m\u001b[0m\u001b[0;34m\u001b[0m\u001b[0m\n\u001b[0;32m----> 3\u001b[0;31m   \u001b[0;32mfor\u001b[0m \u001b[0mj\u001b[0m \u001b[0;32min\u001b[0m \u001b[0;34m(\u001b[0m\u001b[0mi\u001b[0m\u001b[0;34m)\u001b[0m\u001b[0;34m:\u001b[0m\u001b[0;34m\u001b[0m\u001b[0;34m\u001b[0m\u001b[0m\n\u001b[0m\u001b[1;32m      4\u001b[0m     \u001b[0mprint\u001b[0m\u001b[0;34m(\u001b[0m\u001b[0;34m\"AS\"\u001b[0m\u001b[0;34m*\u001b[0m\u001b[0mi\u001b[0m\u001b[0;34m,\u001b[0m\u001b[0;34m\"\\n\"\u001b[0m\u001b[0;34m)\u001b[0m\u001b[0;34m\u001b[0m\u001b[0;34m\u001b[0m\u001b[0m\n",
            "\u001b[0;31mTypeError\u001b[0m: 'int' object is not iterable"
          ]
        }
      ],
      "source": [
        "#[58]\n",
        "for i in range(5):\n",
        "  for j in (i):\n",
        "    print(\"AS\"*i,\"\\n\")"
      ]
    },
    {
      "cell_type": "code",
      "execution_count": null,
      "metadata": {
        "colab": {
          "base_uri": "https://localhost:8080/"
        },
        "id": "fOygex_bjTXM",
        "outputId": "6e95eaea-e404-4f9f-c9c6-c5f8e4bb4db2"
      },
      "outputs": [
        {
          "name": "stdout",
          "output_type": "stream",
          "text": [
            "2\n"
          ]
        }
      ],
      "source": [
        "#[59]\n",
        "print(10*2//3**2)"
      ]
    },
    {
      "cell_type": "code",
      "execution_count": null,
      "metadata": {
        "id": "J0qEfDbejfCG"
      },
      "outputs": [],
      "source": [
        "#[60]\n",
        "print(12+34-320)"
      ]
    },
    {
      "cell_type": "code",
      "execution_count": null,
      "metadata": {
        "colab": {
          "base_uri": "https://localhost:8080/"
        },
        "id": "62NKJzcS0c-u",
        "outputId": "c7d5655a-58a4-4b65-bef8-fee0a3591d74"
      },
      "outputs": [
        {
          "name": "stdout",
          "output_type": "stream",
          "text": [
            "True\n",
            "False\n"
          ]
        }
      ],
      "source": [
        "a = \"kdji\"\n",
        "b = \"123\"\n",
        "print(b.isdigit())\n",
        "print(a.isdigit())\n"
      ]
    },
    {
      "cell_type": "code",
      "execution_count": null,
      "metadata": {
        "colab": {
          "base_uri": "https://localhost:8080/"
        },
        "id": "0U41aDSkuKNL",
        "outputId": "e2c39936-7563-4ec2-970c-93c79e3045f8"
      },
      "outputs": [
        {
          "name": "stdout",
          "output_type": "stream",
          "text": [
            "1 \n",
            "1 2 \n",
            "1 2 3 \n",
            "1 2 3 4 \n",
            "1 2 3 4 5 \n"
          ]
        }
      ],
      "source": [
        "i=1\n",
        "while i<=5:\n",
        "  j=1\n",
        "  while j<=i:\n",
        "    print(j,end=\" \")\n",
        "    j+=1\n",
        "  i+=1\n",
        "  print()"
      ]
    },
    {
      "cell_type": "code",
      "execution_count": null,
      "metadata": {
        "colab": {
          "base_uri": "https://localhost:8080/"
        },
        "id": "hiheoxm-uu4t",
        "outputId": "c8f7e5c9-4f5d-4161-9220-e0d73cbbe095"
      },
      "outputs": [
        {
          "name": "stdout",
          "output_type": "stream",
          "text": [
            "z\n"
          ]
        }
      ],
      "source": [
        "p=122\n",
        "print(chr(p))\n"
      ]
    },
    {
      "cell_type": "code",
      "execution_count": null,
      "metadata": {
        "colab": {
          "base_uri": "https://localhost:8080/"
        },
        "id": "Cg6nXgI-wLqi",
        "outputId": "b5b5b725-4df8-4c4a-b4e9-0096de5403c8"
      },
      "outputs": [
        {
          "name": "stdout",
          "output_type": "stream",
          "text": [
            "A B C D E F \n",
            "A B C D E \n",
            "A B C D \n",
            "A B C \n",
            "A B \n",
            "A \n"
          ]
        }
      ],
      "source": [
        "i=70\n",
        "while i>=65:\n",
        "  j=65\n",
        "  while j<=i:\n",
        "    print(chr(j),end=\" \")\n",
        "    j+=1\n",
        "  i-=1\n",
        "  print()"
      ]
    },
    {
      "cell_type": "code",
      "execution_count": null,
      "metadata": {
        "colab": {
          "base_uri": "https://localhost:8080/"
        },
        "id": "eB_40EUCoayU",
        "outputId": "57f82ce2-22ce-47a2-cc7a-ebd30711fba3"
      },
      "outputs": [
        {
          "name": "stdout",
          "output_type": "stream",
          "text": [
            "(7+2j)\n",
            "<class 'complex'>\n"
          ]
        }
      ],
      "source": [
        "a=4+2j\n",
        "b=3\n",
        "c=a+b\n",
        "print(c)\n",
        "print(type(c))"
      ]
    },
    {
      "cell_type": "code",
      "execution_count": null,
      "metadata": {
        "colab": {
          "background_save": true,
          "base_uri": "https://localhost:8080/",
          "height": 237
        },
        "id": "IvrDHGSjpkP5",
        "outputId": "3cffc9bc-b1b5-43fc-e268-f1841cb86472"
      },
      "outputs": [
        {
          "name": "stdout",
          "output_type": "stream",
          "text": [
            "False\n",
            "False\n",
            "True\n"
          ]
        }
      ],
      "source": [
        "# a=1\n",
        "# b=2\n",
        "# c=\"3\"\n",
        "# print(a+b+c)\n",
        "print(bool(a))\n",
        "print(bool(b))\n",
        "print(bool(c))"
      ]
    },
    {
      "cell_type": "code",
      "source": [
        "num=int(input(\"Enter number :\"))\n",
        "p=num%100\n",
        "a=str(p)\n",
        "if a[0]=='7':\n",
        "    print(\"True\")\n",
        "else:\n",
        "    print(\"False\")\n"
      ],
      "metadata": {
        "colab": {
          "base_uri": "https://localhost:8080/"
        },
        "id": "EeGvEZcmrqr6",
        "outputId": "7c947a80-f2aa-4a7f-bb46-bf4eddaf47a3"
      },
      "execution_count": null,
      "outputs": [
        {
          "output_type": "stream",
          "name": "stdout",
          "text": [
            "Enter number :56575\n",
            "True\n"
          ]
        }
      ]
    },
    {
      "cell_type": "code",
      "source": [
        "num=int(input(\"Enter number :\"))\n",
        "p=num%100\n",
        "a=p//10\n",
        "if a==7:\n",
        "    print(\"True\")\n",
        "else:\n",
        "    print(\"False\")\n"
      ],
      "metadata": {
        "colab": {
          "base_uri": "https://localhost:8080/"
        },
        "id": "9yb6Z6-yr7-K",
        "outputId": "81dab8c2-76a0-4969-f2ab-a0a8d3636e48"
      },
      "execution_count": null,
      "outputs": [
        {
          "output_type": "stream",
          "name": "stdout",
          "text": [
            "Enter number :342375\n",
            "True\n"
          ]
        }
      ]
    },
    {
      "cell_type": "code",
      "source": [
        "  # max number\n",
        "n=int(input(\"num :\"))\n",
        "n1=int(input(\"Enter num :\"))\n",
        "max=n12\n",
        "sum=0\n",
        "i=1\n",
        "while i<n:\n",
        "    n1=int(input(\"Enter num :\"))\n",
        "    if n1>max:\n",
        "        max=n1\n",
        "    i+=1\n",
        "print(max)\n"
      ],
      "metadata": {
        "colab": {
          "base_uri": "https://localhost:8080/"
        },
        "id": "wb4T7scesZzd",
        "outputId": "dfddff90-1da2-4a32-8f22-9341155683f9"
      },
      "execution_count": null,
      "outputs": [
        {
          "output_type": "stream",
          "name": "stdout",
          "text": [
            "num :4\n",
            "Enter num :5\n",
            "Enter num :2\n",
            "Enter num :8\n",
            "Enter num :6\n",
            "8\n"
          ]
        }
      ]
    },
    {
      "cell_type": "code",
      "source": [
        "###################   RPIME NUMBER   #######################\n",
        "num=int(input(\"enter num :\"))\n",
        "if num%2==0:\n",
        "    if num==2:\n",
        "        print(\"prime\")\n",
        "    else:\n",
        "        print(\"not prime\")\n",
        "else:\n",
        "  c=0\n",
        "  i=3\n",
        "  while (i**i)<=num:\n",
        "    if num%i==0:\n",
        "      c+=1\n",
        "      if c>0:\n",
        "        prime(\"not prime\")\n",
        "        break\n",
        "    i+=1\n",
        "  print(\"prime\")"
      ],
      "metadata": {
        "colab": {
          "base_uri": "https://localhost:8080/"
        },
        "id": "NBexP3QEssmy",
        "outputId": "6c670617-a212-490d-f7cb-058d9063fe80"
      },
      "execution_count": null,
      "outputs": [
        {
          "output_type": "stream",
          "name": "stdout",
          "text": [
            "enter num :86\n",
            "prime\n"
          ]
        }
      ]
    }
  ],
  "metadata": {
    "colab": {
      "provenance": [],
      "authorship_tag": "ABX9TyNxivCkQ1pfK4CnJjxq24zh",
      "include_colab_link": true
    },
    "kernelspec": {
      "display_name": "Python 3",
      "name": "python3"
    },
    "language_info": {
      "name": "python"
    }
  },
  "nbformat": 4,
  "nbformat_minor": 0
}