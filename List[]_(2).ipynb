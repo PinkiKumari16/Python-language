{
  "cells": [
    {
      "cell_type": "code",
      "execution_count": null,
      "metadata": {
        "colab": {
          "base_uri": "https://localhost:8080/"
        },
        "id": "eH6Hmt86f5vo",
        "outputId": "ddcf815d-d952-4f66-d7f4-eac1b9e23565"
      },
      "outputs": [
        {
          "name": "stdout",
          "output_type": "stream",
          "text": [
            "[1, 2, 3, 4, 5, 6, 7, 8, 9, 10]\n"
          ]
        }
      ],
      "source": [
        "a=[1,2,3,4,5,6,7,8,9,10]\n",
        "print(a)"
      ]
    },
    {
      "cell_type": "code",
      "execution_count": null,
      "metadata": {
        "colab": {
          "base_uri": "https://localhost:8080/"
        },
        "id": "mmlm8jPVTEOA",
        "outputId": "672ce010-2388-407f-b1dc-f218c174cf07"
      },
      "outputs": [
        {
          "output_type": "stream",
          "name": "stdout",
          "text": [
            "['One', 2, 3, 4]\n"
          ]
        }
      ],
      "source": [
        "new_list = [1, 2, 3, 4]\n",
        "new_list[0] =\"One\" \n",
        "# Now list is [“One”, 2, 3, 4]\n",
        "print(new_list)"
      ]
    },
    {
      "cell_type": "code",
      "execution_count": null,
      "metadata": {
        "colab": {
          "base_uri": "https://localhost:8080/"
        },
        "id": "Ll2NLq6tkjUa",
        "outputId": "a4b0f9c1-4863-4244-e9fc-f7f7d0f96d58"
      },
      "outputs": [
        {
          "name": "stdout",
          "output_type": "stream",
          "text": [
            "[6, 7, 8, 9, 10]\n"
          ]
        }
      ],
      "source": [
        "a=[1,2,3,4,5,6,7,8,9,10]\n",
        "print(a[-5:])"
      ]
    },
    {
      "cell_type": "code",
      "execution_count": null,
      "metadata": {
        "colab": {
          "base_uri": "https://localhost:8080/"
        },
        "id": "a6i3Pr-4kum_",
        "outputId": "2ab637c3-883f-4db1-8473-f744ce116938"
      },
      "outputs": [
        {
          "name": "stdout",
          "output_type": "stream",
          "text": [
            "[6, 7, 8, 9]\n",
            "[1, 3, 5, 7, 9]\n",
            "[1, 3, 5, 7, 9]\n",
            "[1, 2, 3, 4, 5, 6, 7, 8, 9, 10]\n",
            "[10, 8, 6, 4, 2]\n",
            "[10, 9, 8, 7, 6, 5, 4, 3, 2, 1]\n",
            "[3, 4, 5, 6, 7]\n"
          ]
        }
      ],
      "source": [
        "a=[1,2,3,4,5,6,7,8,9,10]\n",
        "print(a[5:9])\n",
        "print(a[0:9:2])\n",
        "print(a[::2])\n",
        "print(a[:])\n",
        "print(a[::-2])\n",
        "print(a[::-1])\n",
        "print(a[-8:-3])\n"
      ]
    },
    {
      "cell_type": "code",
      "execution_count": null,
      "metadata": {
        "colab": {
          "base_uri": "https://localhost:8080/"
        },
        "id": "zu4Yppt6tOJf",
        "outputId": "0a3864e7-147e-4bc1-d703-e15999865070"
      },
      "outputs": [
        {
          "name": "stdout",
          "output_type": "stream",
          "text": [
            "1\n",
            "2\n"
          ]
        }
      ],
      "source": [
        "a=[1,2,3,4,5,6,7]\n",
        "#print(\" num:\")\n",
        "print(a[0])\n",
        "print(a[1])"
      ]
    },
    {
      "cell_type": "code",
      "execution_count": null,
      "metadata": {
        "colab": {
          "base_uri": "https://localhost:8080/"
        },
        "id": "6lQoqi9Huk5v",
        "outputId": "7f97478c-80ce-44f1-c202-3af10384e48b"
      },
      "outputs": [
        {
          "name": "stdout",
          "output_type": "stream",
          "text": [
            "[2, 4, 5, 7, 5, ['pinki', 'kumari'], 8, 9, 4, ['rinki', 'kiran'], 5, 4, 3, 'rakesh', 'aansh']\n",
            "\n",
            "2\n",
            "\n",
            "[4, 5, 7, 5, ['pinki', 'kumari'], 8, 9, 4, ['rinki', 'kiran'], 5, 4, 3, 'rakesh', 'aansh']\n",
            "\n",
            "[2]\n",
            "\n",
            "[['rinki', 'kiran'], 5, 4, 3, 'rakesh', 'aansh']\n",
            "\n",
            "[7, 5, ['pinki', 'kumari'], 8, 9, 4, ['rinki', 'kiran']]\n",
            "\n",
            "[]\n"
          ]
        }
      ],
      "source": [
        "a=[2,4,5,7,5,['pinki','kumari'],8,9,4,['rinki','kiran'],5,4,3,'rakesh','aansh']\n",
        "print(a)\n",
        "print()\n",
        "print(a[0])\n",
        "print()\n",
        "print(a[1:])\n",
        "print()\n",
        "print(a[:1])\n",
        "print()\n",
        "print(a[-6:])\n",
        "print()\n",
        "print(a[3:10])\n",
        "print()\n",
        "print(a[-3:-12])\n"
      ]
    },
    {
      "cell_type": "code",
      "execution_count": null,
      "metadata": {
        "colab": {
          "base_uri": "https://localhost:8080/"
        },
        "id": "rgSv_m-tTZ2k",
        "outputId": "6f6ebac6-37a6-4c0c-d0cd-04e8e18d833d"
      },
      "outputs": [
        {
          "name": "stdout",
          "output_type": "stream",
          "text": [
            "[6, 7, 8, 9, 10]\n",
            "[1, 2, 3, 4, 5, 6, 7]\n",
            "7\n",
            "[10, 9, 8, 7, 6, 5, 4, 3, 2, 1]\n"
          ]
        }
      ],
      "source": [
        "p=[1,2,3,4,5,6,7,8,9,10]\n",
        "print(a[5:])\n",
        "print(a[:7])\n",
        "print(a[-4])\n",
        "print(a[::-1])"
      ]
    },
    {
      "cell_type": "code",
      "execution_count": null,
      "metadata": {
        "colab": {
          "base_uri": "https://localhost:8080/"
        },
        "id": "EMqMHyZ1YnF_",
        "outputId": "e7f4713a-a243-4774-8fde-ee9d02ee942b"
      },
      "outputs": [
        {
          "name": "stdout",
          "output_type": "stream",
          "text": [
            "5\n",
            "0\n"
          ]
        }
      ],
      "source": [
        "a=[1,3,4,5,6]\n",
        "print(len(a))\n",
        "b=[]\n",
        "print(len(b))\n"
      ]
    },
    {
      "cell_type": "code",
      "execution_count": null,
      "metadata": {
        "colab": {
          "base_uri": "https://localhost:8080/"
        },
        "id": "bPRy4nKrZVM5",
        "outputId": "3f5483a7-0554-4f20-d651-3b5eb34ad40b"
      },
      "outputs": [
        {
          "name": "stdout",
          "output_type": "stream",
          "text": [
            "True\n",
            "True\n",
            "False\n",
            "True\n",
            "False\n"
          ]
        }
      ],
      "source": [
        "a=[55,66,77,44,88,44]\n",
        "print(66 in a)\n",
        "print(44 in a)\n",
        "print(22 in a)\n",
        "print(22 not in a)\n",
        "print(55 not in a)"
      ]
    },
    {
      "cell_type": "code",
      "execution_count": null,
      "metadata": {
        "colab": {
          "base_uri": "https://localhost:8080/"
        },
        "id": "XeIHDKT3aFfd",
        "outputId": "897d014a-23fb-456f-9a05-0eed9e37f004"
      },
      "outputs": [
        {
          "name": "stdout",
          "output_type": "stream",
          "text": [
            "2\n",
            "-5\n"
          ]
        }
      ],
      "source": [
        "print(-12%7)\n",
        "print(7%-12)\n"
      ]
    },
    {
      "cell_type": "code",
      "execution_count": null,
      "metadata": {
        "colab": {
          "base_uri": "https://localhost:8080/"
        },
        "id": "hWZwXolcaFaX",
        "outputId": "d406d7c6-2d85-48fa-c449-99db3fe0c924"
      },
      "outputs": [
        {
          "name": "stdout",
          "output_type": "stream",
          "text": [
            "22\n",
            "54\n",
            "32\n",
            "76\n",
            "\n",
            "22\n",
            "54\n",
            "32\n",
            "76\n",
            "\n",
            "22\n",
            "54\n",
            "32\n",
            "76\n"
          ]
        }
      ],
      "source": [
        "p=[22,54,32,76]\n",
        "for i in p:\n",
        "  print(i) \n",
        "print()\n",
        "i=0\n",
        "while i<len(p):\n",
        "  print(p[i])\n",
        "  i+=1\n",
        "print()\n",
        "for i in range(len(p)):\n",
        "  print(p[i])"
      ]
    },
    {
      "cell_type": "code",
      "execution_count": null,
      "metadata": {
        "colab": {
          "base_uri": "https://localhost:8080/"
        },
        "id": "waEIkAdrhXMh",
        "outputId": "d1a2d18a-1b74-4d56-c98f-12cf82cd7592"
      },
      "outputs": [
        {
          "name": "stdout",
          "output_type": "stream",
          "text": [
            "[1, 3, 5, 7, 9]\n",
            "[2, 4, 6, 8, 10]\n",
            "[1, 3, 5, 7, 9, 2, 4, 6, 8, 10]\n",
            "\n",
            "[2, 4, 6, 8, 10]\n"
          ]
        }
      ],
      "source": [
        "odd=[1,3,5,7,9]\n",
        "even=[2,4,6,8,10]\n",
        "print(odd)\n",
        "print(even)\n",
        "all_num = odd + even\n",
        "print(all_num)\n",
        "print()\n",
        "odd.extend(even)\n",
        "print(even)\n",
        "#print(even)"
      ]
    },
    {
      "cell_type": "code",
      "execution_count": null,
      "metadata": {
        "colab": {
          "base_uri": "https://localhost:8080/"
        },
        "id": "rbQCstI3j6m_",
        "outputId": "815769eb-8f75-4b48-ab7e-df59a60ec6aa"
      },
      "outputs": [
        {
          "name": "stdout",
          "output_type": "stream",
          "text": [
            "2\n",
            "-5\n"
          ]
        }
      ],
      "source": [
        "print(-12%7)\n",
        "print(7%-12)\n",
        "\n",
        "\n"
      ]
    },
    {
      "cell_type": "code",
      "execution_count": null,
      "metadata": {
        "colab": {
          "base_uri": "https://localhost:8080/"
        },
        "id": "xi17zfQckFeF",
        "outputId": "85de2928-e06f-40ef-f742-4d2f2b9bd564"
      },
      "outputs": [
        {
          "name": "stdout",
          "output_type": "stream",
          "text": [
            "[1, 2, 3, 2]\n",
            "[1, 3, 2]\n"
          ]
        }
      ],
      "source": [
        "a=[]\n",
        "a.append(1)\n",
        "a.append(2)\n",
        "a.append(3)\n",
        "a.append(2)\n",
        "print(a)\n",
        "a.remove(2)\n",
        "print(a)"
      ]
    },
    {
      "cell_type": "code",
      "execution_count": null,
      "metadata": {
        "colab": {
          "base_uri": "https://localhost:8080/"
        },
        "id": "ayDB19ehkJPg",
        "outputId": "cbbabeb7-f002-47a5-d8e8-c9626bd12fb1"
      },
      "outputs": [
        {
          "name": "stdout",
          "output_type": "stream",
          "text": [
            "[1, 2, 3, 4, 5, 65, 6, 7]\n",
            "[1, 2, 22, 4, 5, 65, 6, 7]\n",
            "[1, 9, 4, 5, 65, 6, 7]\n"
          ]
        }
      ],
      "source": [
        " a=[1,2,3,4,5,65,6,7]\n",
        " print(a)\n",
        " a[2]=22\n",
        " print(a)\n",
        " a[1:3]=[9]\n",
        " print(a)\n"
      ]
    },
    {
      "cell_type": "code",
      "execution_count": null,
      "metadata": {
        "colab": {
          "base_uri": "https://localhost:8080/"
        },
        "id": "f0HyDxq7lEmN",
        "outputId": "9ed23a16-eba3-47d0-9f52-89d096a59ca6"
      },
      "outputs": [
        {
          "name": "stdout",
          "output_type": "stream",
          "text": [
            "8.5\n",
            "[1, 2, ['a', 'b', [8.0, 8.5]], 10, 11, ['sunday', 'monday', ['july', 'june']]]\n",
            "monday\n",
            "june\n"
          ]
        }
      ],
      "source": [
        "a=[1,2,['a','b',[8.0,8.5]],4,5,['sunday','monday',['july','june']]]\n",
        "# print(a[0])\n",
        "# print(a[1])\n",
        "# print(a[2])\n",
        "# print(a[3])\n",
        "# print(a[4])\n",
        "# print(a[5])\n",
        "#Q.1\n",
        "print(a[2][2][1])\n",
        "#Q.2\n",
        "a[3]=10\n",
        "a[4]=11\n",
        "print(a)\n",
        "#Q.3\n",
        "print(a[5][1])\n",
        "#Q.4\n",
        "print(a[5][2][1])\n",
        "\n"
      ]
    },
    {
      "cell_type": "code",
      "execution_count": null,
      "metadata": {
        "colab": {
          "base_uri": "https://localhost:8080/"
        },
        "id": "oE_IhywMtYUX",
        "outputId": "87459427-74e1-4948-e00b-1d1e6fbc4337"
      },
      "outputs": [
        {
          "name": "stdout",
          "output_type": "stream",
          "text": [
            "60\n",
            "1\n"
          ]
        }
      ],
      "source": [
        "a=[1,2,3,11,60,4,9,10,5,6,6]\n",
        "print(max(a))\n",
        "print(min(a))"
      ]
    },
    {
      "cell_type": "code",
      "execution_count": null,
      "metadata": {
        "colab": {
          "base_uri": "https://localhost:8080/"
        },
        "id": "NHn2fQDBwKFb",
        "outputId": "b0ee6395-97ca-4527-ab7e-3d001d404aa8"
      },
      "outputs": [
        {
          "name": "stdout",
          "output_type": "stream",
          "text": [
            "enter any name: pinki\n",
            "enter any name: rinki\n",
            "enter any name: kiran\n",
            "enter any name: rakesh\n",
            "enter any name: aansh\n",
            "enter any name: abhi\n",
            "enter any name: prince\n",
            "enter any name: arushi\n",
            "enter any name: anita\n",
            "enter any name: stop\n",
            "there are 9 name in the list\n",
            "\n",
            "['pinki', 'rinki', 'kiran', 'rakesh', 'aansh', 'abhi', 'prince', 'arushi', 'anita']\n",
            "\n",
            "pinki\n",
            "rinki\n",
            "kiran\n",
            "rakesh\n",
            "aansh\n",
            "abhi\n",
            "prince\n",
            "arushi\n",
            "anita\n"
          ]
        }
      ],
      "source": [
        "name=[]\n",
        "while 1:\n",
        "  a=input(\"enter any name: \")\n",
        "  if a==\"stop\":\n",
        "    break\n",
        "  name.append(a)\n",
        "print('there are',len(name),'name in the list')\n",
        "print()\n",
        "print(name)\n",
        "print()\n",
        "for name in name:\n",
        "  print(name)\n",
        "\n",
        "\n"
      ]
    },
    {
      "cell_type": "code",
      "execution_count": null,
      "metadata": {
        "colab": {
          "base_uri": "https://localhost:8080/"
        },
        "id": "rEhdJ5Az3h0N",
        "outputId": "6dedd117-cdf2-4f6f-ae5e-86fe5e3a5c33"
      },
      "outputs": [
        {
          "name": "stdout",
          "output_type": "stream",
          "text": [
            "53\n",
            "56 75 86 54 76 87 78 9 65 43 22 53 "
          ]
        }
      ],
      "source": [
        "a=[23,56,75,86,54,76,87,78,9,65,43,22,53]\n",
        "print(a[-1])\n",
        "i=1\n",
        "while i<len(a):\n",
        "  print(a[i],end=\" \")\n",
        "  i+=1\n",
        "\n"
      ]
    },
    {
      "cell_type": "code",
      "execution_count": null,
      "metadata": {
        "colab": {
          "base_uri": "https://localhost:8080/"
        },
        "id": "TBrcWTkv72Ml",
        "outputId": "2da9c6ef-b599-4ce9-e75d-f02baa8d8b9c"
      },
      "outputs": [
        {
          "name": "stdout",
          "output_type": "stream",
          "text": [
            "23\n",
            "56\n",
            "75\n",
            "86\n",
            "54\n",
            "76\n",
            "87\n",
            "78\n",
            "9\n",
            "65\n",
            "43\n",
            "22\n",
            "53\n",
            "total marks:  727\n"
          ]
        }
      ],
      "source": [
        "a=[23,56,75,86,54,76,87,78,9,65,43,22,53]\n",
        "i=0\n",
        "t_m=0\n",
        "while i<len(a):\n",
        "  print(a[i])\n",
        "  t_m+=a[i]\n",
        "  i+=1\n",
        "print(\"total marks: \",t_m)"
      ]
    },
    {
      "cell_type": "code",
      "execution_count": null,
      "metadata": {
        "colab": {
          "base_uri": "https://localhost:8080/"
        },
        "id": "qUC53-yTD1ls",
        "outputId": "7ac487a7-dffc-4c25-c314-ff1627b75666"
      },
      "outputs": [
        {
          "name": "stdout",
          "output_type": "stream",
          "text": [
            "less than 50:  4\n",
            "more than 50:  9\n"
          ]
        }
      ],
      "source": [
        "a=[23,56,75,86,54,76,87,78,9,65,43,22,53]\n",
        "i=0\n",
        "l_t_50=0\n",
        "m_t_50=0\n",
        "while i<len(a):\n",
        "  if a[i]<50:\n",
        "    l_t_50+=1\n",
        "  else:\n",
        "    m_t_50+=1\n",
        "  i+=1\n",
        "print(\"less than 50: \",l_t_50)\n",
        "print(\"more than 50: \",m_t_50)"
      ]
    },
    {
      "cell_type": "code",
      "execution_count": null,
      "metadata": {
        "colab": {
          "base_uri": "https://localhost:8080/"
        },
        "id": "Lns8_J-1I_pz",
        "outputId": "e901ee0c-d4df-4f9c-ffbb-55a8ca22301a"
      },
      "outputs": [
        {
          "name": "stdout",
          "output_type": "stream",
          "text": [
            "total no. of:: 20\n"
          ]
        }
      ],
      "source": [
        "a=[50,40,23,70,56,12,5,10,56,34,23,57,43,4,2,1,3,4,5,7]\n",
        "i=0\n",
        "c=0\n",
        "while i>=0:\n",
        "  if a[i]==7:\n",
        "    c+=1\n",
        "    break\n",
        "  c+=1\n",
        "  i+=1\n",
        "print(\"total no. of::\",c)\n",
        "  "
      ]
    },
    {
      "cell_type": "code",
      "execution_count": null,
      "metadata": {
        "colab": {
          "base_uri": "https://localhost:8080/"
        },
        "id": "0XrWrURULLlp",
        "outputId": "d581a2c0-6437-44be-90e2-a16bc65a713b"
      },
      "outputs": [
        {
          "name": "stdout",
          "output_type": "stream",
          "text": [
            "total no.between 20to 40:  5\n"
          ]
        }
      ],
      "source": [
        "a=[50,40,23,70,56,30,32,6,22,42,12,5,10,7]\n",
        "i=0\n",
        "c=0\n",
        "while i<len(a):\n",
        "  if a[i]>20 and a[i]<=40:\n",
        "    c+=1\n",
        "  i+=1\n",
        "print(\"total no.between 20to 40: \",c)"
      ]
    },
    {
      "cell_type": "code",
      "execution_count": null,
      "metadata": {
        "colab": {
          "base_uri": "https://localhost:8080/"
        },
        "id": "h2K3G0c-MdlU",
        "outputId": "f3e96c2d-b675-4d8c-c6f1-286cd469b8ae"
      },
      "outputs": [
        {
          "name": "stdout",
          "output_type": "stream",
          "text": [
            "90\n",
            "5\n"
          ]
        }
      ],
      "source": [
        "a=[50,40,23,70,56,12,5,10,7,90]\n",
        "print(max(a))\n",
        "print(min(a))\n"
      ]
    },
    {
      "cell_type": "code",
      "execution_count": null,
      "metadata": {
        "colab": {
          "base_uri": "https://localhost:8080/"
        },
        "id": "5QXLuFIxNZ7T",
        "outputId": "f6111871-c4de-4f7a-b8fd-18d75ec0a601"
      },
      "outputs": [
        {
          "name": "stdout",
          "output_type": "stream",
          "text": [
            "70\n",
            "56\n"
          ]
        }
      ],
      "source": [
        "a=[50,40,23,70,56,12,5,10,7]\n",
        "print(max(a))\n",
        "a.remove(70)\n",
        "print(max(a))\n"
      ]
    },
    {
      "cell_type": "code",
      "execution_count": null,
      "metadata": {
        "colab": {
          "base_uri": "https://localhost:8080/"
        },
        "id": "GwNHHtpKPBhO",
        "outputId": "5702e079-7d0a-44a4-acd2-77a8b2b6aef8"
      },
      "outputs": [
        {
          "name": "stdout",
          "output_type": "stream",
          "text": [
            "['kerala', 'punjab', 'rajsthan', 'gujrat', 'delhi']\n"
          ]
        }
      ],
      "source": [
        "p=['delhi','gujrat','rajsthan','punjab','kerala']\n",
        "\n",
        "print(p[::-1])"
      ]
    },
    {
      "cell_type": "code",
      "execution_count": null,
      "metadata": {
        "colab": {
          "base_uri": "https://localhost:8080/"
        },
        "id": "slgrkrw-RYLu",
        "outputId": "5726bbd2-9d5f-4633-e0d7-40c909971c36"
      },
      "outputs": [
        {
          "name": "stdout",
          "output_type": "stream",
          "text": [
            "Haan!,palindrome hai ['n', 'i', 't', 'i', 'n']\n"
          ]
        }
      ],
      "source": [
        "n=['n','i','t','i','n']\n",
        "p=[]\n",
        "i=0\n",
        "while i<len(n):\n",
        "  p.append(n[i])\n",
        "  i+=1\n",
        "if n==p:\n",
        "  print(\"Haan!,palindrome hai\",p)\n",
        "else:\n",
        "  print(\"Nahi!,palindrome nahi hai\",p)\n"
      ]
    },
    {
      "cell_type": "code",
      "execution_count": null,
      "metadata": {
        "colab": {
          "base_uri": "https://localhost:8080/"
        },
        "id": "8MHflL86TAUz",
        "outputId": "911971b7-4067-4904-80df-4cdecfbbf7a1"
      },
      "outputs": [
        {
          "name": "stdout",
          "output_type": "stream",
          "text": [
            "['i', 'n', 'i', 't', 'i', 'n']\n",
            "[]\n"
          ]
        }
      ],
      "source": [
        "n=['n','i','t','i','n','i']\n",
        "p=[]\n",
        "n.reverse()\n",
        "print(n)\n",
        "print(p)"
      ]
    },
    {
      "cell_type": "code",
      "execution_count": null,
      "metadata": {
        "colab": {
          "base_uri": "https://localhost:8080/"
        },
        "id": "AVox_ypfTyoe",
        "outputId": "150c91a5-53d9-4307-a398-1eeda7090123"
      },
      "outputs": [
        {
          "name": "stdout",
          "output_type": "stream",
          "text": [
            "1\n",
            "2\n",
            "0\n",
            "8\n",
            "16\n",
            "0\n",
            "0\n",
            "128\n",
            "decimal number 155\n"
          ]
        }
      ],
      "source": [
        "# Q>#####################         binary to decimal number\n",
        "b_num=[1,0,0,1,1,0,1,1]\n",
        "i=0\n",
        "sum=0\n",
        "while i<len(b_num):\n",
        "  a=b_num[::-1]\n",
        "  b=a[i]*(2**i)\n",
        "  print(b)\n",
        "  sum+=b\n",
        "  i+=1\n",
        "print(\"decimal number\",sum)\n",
        "\n"
      ]
    },
    {
      "cell_type": "code",
      "execution_count": null,
      "metadata": {
        "colab": {
          "base_uri": "https://localhost:8080/"
        },
        "id": "KCAsquSHu7-U",
        "outputId": "766dd30d-d2c0-4ccf-a3b1-ba79c3c153d6"
      },
      "outputs": [
        {
          "name": "stdout",
          "output_type": "stream",
          "text": [
            "1\n",
            "4\n",
            "0\n",
            "0\n",
            "16\n",
            "decimal number: 21\n"
          ]
        }
      ],
      "source": [
        "binary_number = [1, 0, 0, 2, 1]\n",
        "i=0\n",
        "sum=0\n",
        "while i<len(binary_number):\n",
        "    a=binary_number[::-1]\n",
        "    b=a[i]*(2**i)\n",
        "    print(b)\n",
        "    sum+=b\n",
        "    i+=1\n",
        "print(\"decimal number:\",sum)"
      ]
    },
    {
      "cell_type": "code",
      "execution_count": null,
      "metadata": {
        "colab": {
          "base_uri": "https://localhost:8080/"
        },
        "id": "g3qBHjcf5G_o",
        "outputId": "f56541c3-fa8f-4b6f-e498-fb8fd245940a"
      },
      "outputs": [
        {
          "name": "stdout",
          "output_type": "stream",
          "text": [
            "1\n",
            "2\n",
            "0\n",
            "0\n",
            "16\n",
            "decimal number: 19\n"
          ]
        }
      ],
      "source": [
        "binary_number = [1, 0, 0, \"1\", 1]\n",
        "i=0\n",
        "sum=0\n",
        "while i<len(binary_number):\n",
        "    a=binary_number[::-1]\n",
        "    if type(a[i])==str:\n",
        "        a[i]=int(a[i])\n",
        "    b=a[i]*(2**i)\n",
        "    print(b)\n",
        "    sum+=b\n",
        "    i+=1\n",
        "print(\"decimal number:\",sum)"
      ]
    },
    {
      "cell_type": "code",
      "execution_count": null,
      "metadata": {
        "colab": {
          "base_uri": "https://localhost:8080/",
          "height": 326
        },
        "id": "VZiM0aPV5owI",
        "outputId": "f5b4d43a-693f-4459-ae0d-3c3cf176ef9d"
      },
      "outputs": [
        {
          "name": "stdout",
          "output_type": "stream",
          "text": [
            "<class 'list'>\n",
            "<class 'list'>\n",
            "<class 'list'>\n"
          ]
        },
        {
          "ename": "TypeError",
          "evalue": "ignored",
          "output_type": "error",
          "traceback": [
            "\u001b[0;31m---------------------------------------------------------------------------\u001b[0m",
            "\u001b[0;31mTypeError\u001b[0m                                 Traceback (most recent call last)",
            "\u001b[0;32m<ipython-input-11-44c34c2d6b3c>\u001b[0m in \u001b[0;36m<module>\u001b[0;34m()\u001b[0m\n\u001b[1;32m      4\u001b[0m \u001b[0mprint\u001b[0m\u001b[0;34m(\u001b[0m\u001b[0mtype\u001b[0m\u001b[0;34m(\u001b[0m\u001b[0mmagic_square\u001b[0m\u001b[0;34m[\u001b[0m\u001b[0;36m1\u001b[0m\u001b[0;34m]\u001b[0m\u001b[0;34m)\u001b[0m\u001b[0;34m)\u001b[0m\u001b[0;34m\u001b[0m\u001b[0;34m\u001b[0m\u001b[0m\n\u001b[1;32m      5\u001b[0m \u001b[0;34m\u001b[0m\u001b[0m\n\u001b[0;32m----> 6\u001b[0;31m \u001b[0mprint\u001b[0m\u001b[0;34m(\u001b[0m\u001b[0msum\u001b[0m\u001b[0;34m(\u001b[0m\u001b[0mmagic_square\u001b[0m\u001b[0;34m[\u001b[0m\u001b[0;36m0\u001b[0m\u001b[0;34m]\u001b[0m\u001b[0;34m)\u001b[0m\u001b[0;34m)\u001b[0m\u001b[0;34m\u001b[0m\u001b[0;34m\u001b[0m\u001b[0m\n\u001b[0m\u001b[1;32m      7\u001b[0m \u001b[0mprint\u001b[0m\u001b[0;34m(\u001b[0m\u001b[0msum\u001b[0m\u001b[0;34m(\u001b[0m\u001b[0mmagic_square\u001b[0m\u001b[0;34m[\u001b[0m\u001b[0;36m1\u001b[0m\u001b[0;34m]\u001b[0m\u001b[0;34m)\u001b[0m\u001b[0;34m)\u001b[0m\u001b[0;34m\u001b[0m\u001b[0;34m\u001b[0m\u001b[0m\n\u001b[1;32m      8\u001b[0m \u001b[0mprint\u001b[0m\u001b[0;34m(\u001b[0m\u001b[0msum\u001b[0m\u001b[0;34m(\u001b[0m\u001b[0mmagic_square\u001b[0m\u001b[0;34m[\u001b[0m\u001b[0;36m2\u001b[0m\u001b[0;34m]\u001b[0m\u001b[0;34m)\u001b[0m\u001b[0;34m)\u001b[0m\u001b[0;34m\u001b[0m\u001b[0;34m\u001b[0m\u001b[0m\n",
            "\u001b[0;31mTypeError\u001b[0m: 'int' object is not callable"
          ]
        }
      ],
      "source": [
        "magic_square=[[8,3,4],[1,5,9],[6,7,2]]\n",
        "print(type(magic_square))\n",
        "print(type(magic_square[0]))\n",
        "print(type(magic_square[1]))\n",
        "\n",
        "print(sum(magic_square[0]))\n",
        "print(sum(magic_square[1]))\n",
        "print(sum(magic_square[2]))\n"
      ]
    },
    {
      "cell_type": "code",
      "execution_count": null,
      "metadata": {
        "colab": {
          "base_uri": "https://localhost:8080/"
        },
        "id": "lmmJDt6FBN-m",
        "outputId": "456d75f1-ad32-45c9-c492-488fe6014314"
      },
      "outputs": [
        {
          "name": "stdout",
          "output_type": "stream",
          "text": [
            "[0, 1, 2, 3, 4, 5, 6, 7, 8, 9]\n"
          ]
        }
      ],
      "source": [
        "listofnum=[i for i in range(0,10)]\n",
        "print(listofnum)"
      ]
    },
    {
      "cell_type": "code",
      "execution_count": null,
      "metadata": {
        "id": "GG-5J7RUCP7E"
      },
      "outputs": [],
      "source": [
        "list=[list(range(10))]"
      ]
    },
    {
      "cell_type": "code",
      "execution_count": null,
      "metadata": {
        "colab": {
          "base_uri": "https://localhost:8080/"
        },
        "id": "LjASvTZjGHUg",
        "outputId": "099d5afd-244e-49f0-bcd1-a857156e392e"
      },
      "outputs": [
        {
          "name": "stdout",
          "output_type": "stream",
          "text": [
            "15\n",
            "15\n",
            "15\n",
            "15\n",
            "15\n",
            "this is a magic list [[8, 3, 4], [1, 5, 9], [6, 7, 2]]\n"
          ]
        }
      ],
      "source": [
        "magic_square=[\n",
        "    [8,3,4],\n",
        "    [1,5,9],\n",
        "    [6,7,2]\n",
        "]\n",
        "row_sum=sum(magic_square[0])\n",
        "row_sum1=sum(magic_square[1])\n",
        "row_sum2=sum(magic_square[2])\n",
        "colom_sum=(magic_square[0][0]+magic_square[1][0]+magic_square[2][0])\n",
        "dia_sum=(magic_square[0][2]+magic_square[1][1]+magic_square[2][0])\n",
        "print(row_sum)\n",
        "print(row_sum1)\n",
        "print(row_sum2)\n",
        "print(colom_sum)\n",
        "print(dia_sum)\n",
        "if row_sum==row_sum1==row_sum2==colom_sum==dia_sum:\n",
        "    print(\"this is a magic list\",magic_square)\n",
        "else:\n",
        "    print(\"this is a not magic list\",magic_square)"
      ]
    },
    {
      "cell_type": "code",
      "execution_count": null,
      "metadata": {
        "colab": {
          "base_uri": "https://localhost:8080/"
        },
        "id": "u20okiQUHH2m",
        "outputId": "b5368aac-e6c6-4fd4-c6cf-20e4dff5a57d"
      },
      "outputs": [
        {
          "name": "stdout",
          "output_type": "stream",
          "text": [
            "15\n",
            "18\n",
            "12\n",
            "12\n",
            "21\n",
            "this is a not magic list [[5, 3, 7], [1, 8, 9], [6, 4, 2]]\n"
          ]
        }
      ],
      "source": [
        "magic_square = [\n",
        " [5, 3, 7],\n",
        " [1, 8, 9],\n",
        " [6, 4, 2]\n",
        "]\n",
        "row_sum=sum(magic_square[0])\n",
        "row_sum1=sum(magic_square[1])\n",
        "row_sum2=sum(magic_square[2])\n",
        "colom_sum=(magic_square[0][0]+magic_square[1][0]+magic_square[2][0])\n",
        "dia_sum=(magic_square[0][2]+magic_square[1][1]+magic_square[2][0])\n",
        "print(row_sum)\n",
        "print(row_sum1)\n",
        "print(row_sum2)\n",
        "print(colom_sum)\n",
        "print(dia_sum)\n",
        "if row_sum==row_sum1==row_sum2==colom_sum==dia_sum:\n",
        "    print(\"this is a magic list\",magic_square)\n",
        "else:\n",
        "    print(\"this is a not magic list\",magic_square)"
      ]
    },
    {
      "cell_type": "code",
      "execution_count": null,
      "metadata": {
        "colab": {
          "background_save": true
        },
        "id": "bLJjMIz0Jfbg",
        "outputId": "df8e6ffb-2187-43b2-e6a0-7b4f29930178"
      },
      "outputs": [
        {
          "name": "stdout",
          "output_type": "stream",
          "text": [
            "\n",
            "1 \n",
            "2 1 \n",
            "3 2 1 \n",
            "4 3 2 1 \n"
          ]
        }
      ],
      "source": [
        "for i in range(5):\n",
        " while (i):\n",
        "   print(i,end=\" \")\n",
        "   i-=1\n",
        " print()"
      ]
    },
    {
      "cell_type": "code",
      "execution_count": null,
      "metadata": {
        "colab": {
          "base_uri": "https://localhost:8080/"
        },
        "id": "b51oaV7xKgM1",
        "outputId": "b98cb27a-0462-4794-a4fb-664d64e642b3"
      },
      "outputs": [
        {
          "name": "stdout",
          "output_type": "stream",
          "text": [
            "the quick brown fox jumped  the lazy dog.the dog slept  the verandah.\n"
          ]
        }
      ],
      "source": [
        "\n",
        "mainStr=\"the quick brown fox jumped over the lazy dog.the dog slept over the verandah.\"\n",
        "subStr=\"over\"\n",
        "if subStr in mainStr:\n",
        "   a = mainStr.replace(subStr,\"\")\n",
        "   print(a)"
      ]
    },
    {
      "cell_type": "code",
      "execution_count": null,
      "metadata": {
        "colab": {
          "base_uri": "https://localhost:8080/"
        },
        "id": "b61MANIeLA37",
        "outputId": "bf25f98e-3390-4069-e602-4103c610eb71"
      },
      "outputs": [
        {
          "name": "stdout",
          "output_type": "stream",
          "text": [
            "[['a', 7], ['n', 4], ['t', 3], ['x', 3], ['u', 2], ['g', 2]]\n"
          ]
        }
      ],
      "source": [
        "\n",
        "char_list=['a','n','t','a','a','t','n','n','a','x','u','g','a','x','a']\n",
        "a=[]\n",
        "i=0\n",
        "while i<len(char_list):\n",
        "    j=0\n",
        "    b=[]\n",
        "    c=1\n",
        "    while j<len(char_list):\n",
        "        if char_list[i]==char_list[j]:\n",
        "            c+=1\n",
        "        j+=1\n",
        "    b.append(char_list[i])\n",
        "    b.append(c)\n",
        "    if b not in a:\n",
        "        a.append(b)\n",
        "    i+=1\n",
        "print(a)"
      ]
    },
    {
      "cell_type": "code",
      "execution_count": null,
      "metadata": {
        "colab": {
          "base_uri": "https://localhost:8080/"
        },
        "id": "UIHb6RQfLRwb",
        "outputId": "73448279-20fd-4e73-c786-fc37403ae399"
      },
      "outputs": [
        {
          "name": "stdout",
          "output_type": "stream",
          "text": [
            "30\n",
            "30\n",
            "30\n",
            "[[11, 19], [12, 18], [13, 17]]\n"
          ]
        }
      ],
      "source": [
        "\n",
        "n=[10,11,12,13,14,17,18,19]\n",
        "b=[]\n",
        "i=0\n",
        "while i<len(n):\n",
        "    j=i\n",
        "    a=[]\n",
        "    while j<len(n):\n",
        "        c=n[i]+n[j]\n",
        "        if c==30:\n",
        "            print(c)\n",
        "            a.append(n[i])\n",
        "            a.append(n[j])\n",
        "            b.append(a)\n",
        "        j+=1\n",
        "    i+=1\n",
        "print(b)"
      ]
    },
    {
      "cell_type": "code",
      "execution_count": null,
      "metadata": {
        "colab": {
          "base_uri": "https://localhost:8080/"
        },
        "id": "2BVM2l61MJZh",
        "outputId": "f9481fa2-185f-4f2f-9b9f-dee8c484ab33"
      },
      "outputs": [
        {
          "name": "stdout",
          "output_type": "stream",
          "text": [
            "2\n",
            "-5\n"
          ]
        }
      ],
      "source": [
        "print(-12%7)\n",
        "print(7%-12)"
      ]
    },
    {
      "cell_type": "code",
      "execution_count": null,
      "metadata": {
        "colab": {
          "base_uri": "https://localhost:8080/"
        },
        "id": "QoLG3e-oRLgn",
        "outputId": "3dfe336e-3419-4977-f3f5-2dbdd5588327"
      },
      "outputs": [
        {
          "name": "stdout",
          "output_type": "stream",
          "text": [
            "[1, 2, 3, 4, 5, 65, 6, 7]\n",
            "[1, 2, 22, 4, 5, 65, 6, 7]\n",
            "[1, 9, 4, 5, 65, 6, 7]\n"
          ]
        }
      ],
      "source": [
        "\n",
        "a=[1,2,3,4,5,65,6,7]\n",
        "print(a)\n",
        "a[2]=22\n",
        "print(a)\n",
        "a[1:3]=[9]\n",
        "print(a)"
      ]
    },
    {
      "cell_type": "code",
      "execution_count": null,
      "metadata": {
        "colab": {
          "base_uri": "https://localhost:8080/"
        },
        "id": "bfgi2u8ERI4I",
        "outputId": "3c3f196d-10c9-4b4a-cee5-9e246341e7e5"
      },
      "outputs": [
        {
          "name": "stdout",
          "output_type": "stream",
          "text": [
            "[1, 2, 3, 2]\n",
            "[1, 3, 2]\n"
          ]
        }
      ],
      "source": [
        "\n",
        "a=[]\n",
        "a.append(1)\n",
        "a.append(2)\n",
        "a.append(3)\n",
        "a.append(2)\n",
        "print(a)\n",
        "a.remove(2)\n",
        "print(a)"
      ]
    },
    {
      "cell_type": "code",
      "execution_count": null,
      "metadata": {
        "colab": {
          "base_uri": "https://localhost:8080/"
        },
        "id": "pNQWi-yRRDeo",
        "outputId": "97570af4-07a0-40b9-f451-908187b4c22b"
      },
      "outputs": [
        {
          "name": "stdout",
          "output_type": "stream",
          "text": [
            "[0, 1, 2, 3, 4, 5, 6, 7, 8, 9]\n"
          ]
        }
      ],
      "source": [
        "\n",
        "list_of_num=[i for i in range(0,10)]\n",
        "print(list_of_num)"
      ]
    },
    {
      "cell_type": "code",
      "execution_count": null,
      "metadata": {
        "colab": {
          "base_uri": "https://localhost:8080/"
        },
        "id": "ZlN9l1fkRA6b",
        "outputId": "aec8b4f4-1fcd-4193-eaa3-c5a024b1c6c6"
      },
      "outputs": [
        {
          "name": "stdout",
          "output_type": "stream",
          "text": [
            "[0, 1, 2, 3, 4, 5, 6, 7, 8, 9]\n"
          ]
        }
      ],
      "source": [
        "\n",
        "num=list(range(10))\n",
        "print(num)"
      ]
    },
    {
      "cell_type": "code",
      "execution_count": null,
      "metadata": {
        "colab": {
          "base_uri": "https://localhost:8080/"
        },
        "id": "8P6-gZNqQ9oL",
        "outputId": "8602a161-395e-4905-c173-6488e9397067"
      },
      "outputs": [
        {
          "name": "stdout",
          "output_type": "stream",
          "text": [
            "[0, 2, 4, 6, 8]\n"
          ]
        }
      ],
      "source": [
        "\n",
        "even_num=[i for i in range(0,10,2)]\n",
        "print(even_num)"
      ]
    },
    {
      "cell_type": "code",
      "execution_count": null,
      "metadata": {
        "colab": {
          "base_uri": "https://localhost:8080/"
        },
        "id": "ITLudRXhQ7Ve",
        "outputId": "2fbd9deb-74b3-425b-ec9e-7fba9f71616c"
      },
      "outputs": [
        {
          "name": "stdout",
          "output_type": "stream",
          "text": [
            "[0, 2, 4, 6, 8]\n"
          ]
        }
      ],
      "source": [
        "\n",
        "even_num=list(range(0,10,2))\n",
        "print(even_num)"
      ]
    },
    {
      "cell_type": "code",
      "execution_count": null,
      "metadata": {
        "colab": {
          "base_uri": "https://localhost:8080/"
        },
        "id": "BnfIR7rHQ2H0",
        "outputId": "5ddbdd54-9c26-4ab3-e5e3-7e3bef7f43aa"
      },
      "outputs": [
        {
          "name": "stdout",
          "output_type": "stream",
          "text": [
            "['hi', 'pinki', 'how', 'are', 'you']\n"
          ]
        }
      ],
      "source": [
        "\n",
        "str_with_comma=\"hi,pinki,how,are,you\"\n",
        "str_with_comma=str_with_comma.split(',')\n",
        "print(str_with_comma)"
      ]
    },
    {
      "cell_type": "code",
      "execution_count": null,
      "metadata": {
        "colab": {
          "base_uri": "https://localhost:8080/"
        },
        "id": "7s7BQOIgQzFC",
        "outputId": "9801834f-5001-41d0-f898-6f763a5d6db9"
      },
      "outputs": [
        {
          "name": "stdout",
          "output_type": "stream",
          "text": [
            "['p', 'i', 'n', 'k', 'i']\n"
          ]
        }
      ],
      "source": [
        "\n",
        "str=\"pinki\"\n",
        "str_list=list(str)\n",
        "print(str_list)"
      ]
    },
    {
      "cell_type": "code",
      "execution_count": null,
      "metadata": {
        "colab": {
          "base_uri": "https://localhost:8080/",
          "height": 132
        },
        "id": "YvwT0fgEQwTx",
        "outputId": "169daa30-0e76-4b02-bfee-aed90a46f9f5"
      },
      "outputs": [
        {
          "ename": "SyntaxError",
          "evalue": "ignored",
          "output_type": "error",
          "traceback": [
            "\u001b[0;36m  File \u001b[0;32m\"<ipython-input-15-d2bb35200231>\"\u001b[0;36m, line \u001b[0;32m3\u001b[0m\n\u001b[0;31m    in_to_list=str[int(i)for i in str(num)]\u001b[0m\n\u001b[0m                           ^\u001b[0m\n\u001b[0;31mSyntaxError\u001b[0m\u001b[0;31m:\u001b[0m invalid syntax\n"
          ]
        }
      ],
      "source": [
        "num=123445\n",
        "in_to_list=[int(i)for i in str(num)]\n",
        "print(in_to_list)"
      ]
    },
    {
      "cell_type": "code",
      "execution_count": null,
      "metadata": {
        "colab": {
          "base_uri": "https://localhost:8080/"
        },
        "id": "llG8R_6RQegi",
        "outputId": "758dc38d-af0a-40b1-dd08-96cd249cc01e"
      },
      "outputs": [
        {
          "name": "stdout",
          "output_type": "stream",
          "text": [
            "{'a': 1, 'b': 2, 'c': 3, 'd': 4}\n",
            "['a', 'b', 'c', 'd']\n",
            "[1, 2, 3, 4]\n"
          ]
        }
      ],
      "source": [
        "\n",
        "# convert dictionary keys /value to list\n",
        "m_dict={'a':1,'b':2,'c':3,'d':4}\n",
        "print(m_dict)\n",
        "key_list=list(m_dict.keys())\n",
        "print(key_list)\n",
        "value_list=list(m_dict.values())\n",
        "print(value_list)"
      ]
    },
    {
      "cell_type": "code",
      "execution_count": null,
      "metadata": {
        "colab": {
          "base_uri": "https://localhost:8080/"
        },
        "id": "LWM7Xum8QbMl",
        "outputId": "a86678fd-fb7c-4041-bef9-b74800cf8c55"
      },
      "outputs": [
        {
          "name": "stdout",
          "output_type": "stream",
          "text": [
            "['pinki', 'rinki', 'kiran', 'rakesh', 'ansh', 'abhi']\n"
          ]
        }
      ],
      "source": [
        "\n",
        "  # list.extend()\n",
        "list=['pinki','rinki','kiran']\n",
        "list1=['rakesh','ansh','abhi']\n",
        "list.extend(list1)\n",
        "print(list)"
      ]
    },
    {
      "cell_type": "code",
      "execution_count": null,
      "metadata": {
        "colab": {
          "base_uri": "https://localhost:8080/"
        },
        "id": "FnV9Nhu4QPy9",
        "outputId": "530d243c-a73c-48d5-e382-a55b378e574d"
      },
      "outputs": [
        {
          "name": "stdout",
          "output_type": "stream",
          "text": [
            "1\n",
            "['pinki', 'rinki', 'six', 'kiran']\n"
          ]
        }
      ],
      "source": [
        "\n",
        "# iteam index janne ke liye \n",
        "l=['pinki','rinki','kiran']\n",
        "rinki_ki_index=l.index('rinki')\n",
        "print(rinki_ki_index)\n",
        "l.insert(rinki_ki_index+1,'six')\n",
        "print(l)"
      ]
    },
    {
      "cell_type": "code",
      "execution_count": null,
      "metadata": {
        "colab": {
          "base_uri": "https://localhost:8080/"
        },
        "id": "v_gE22EQPbfG",
        "outputId": "029756cd-38e6-4232-bb42-9e74c662cb1a"
      },
      "outputs": [
        {
          "name": "stdout",
          "output_type": "stream",
          "text": [
            "['one', 'three']\n"
          ]
        }
      ],
      "source": [
        "\n",
        "# list,remove('iteam')\n",
        "l=['one','two','three']\n",
        "l.remove('two')\n",
        "print(l)"
      ]
    },
    {
      "cell_type": "code",
      "execution_count": null,
      "metadata": {
        "colab": {
          "base_uri": "https://localhost:8080/"
        },
        "id": "cBaWuiTJPJAP",
        "outputId": "024b522f-9ee5-4143-e320-1c66a8fe9507"
      },
      "outputs": [
        {
          "name": "stdout",
          "output_type": "stream",
          "text": [
            "['one', 'two']\n",
            "three\n"
          ]
        }
      ],
      "source": [
        "\n",
        "# list.pop()  [list.pop method removes and returns us the element from the list]\n",
        "l=['one','two','three']\n",
        "poped=l.pop()\n",
        "print(l)\n",
        "print(poped)"
      ]
    },
    {
      "cell_type": "code",
      "execution_count": null,
      "metadata": {
        "colab": {
          "base_uri": "https://localhost:8080/"
        },
        "id": "exygAj6SO--j",
        "outputId": "f6cffb0f-8608-448d-ad1f-bac3ac8914d4"
      },
      "outputs": [
        {
          "name": "stdout",
          "output_type": "stream",
          "text": [
            "['one', 'three']\n",
            "two\n"
          ]
        }
      ],
      "source": [
        "\n",
        "l=['one','two','three']\n",
        "poped1=l.pop(1)\n",
        "print(l)\n",
        "print(poped1)"
      ]
    },
    {
      "cell_type": "code",
      "execution_count": null,
      "metadata": {
        "colab": {
          "base_uri": "https://localhost:8080/"
        },
        "id": "zHL85McFO8Tz",
        "outputId": "dc4f90e6-6b0d-4663-a296-a721bdce462d"
      },
      "outputs": [
        {
          "name": "stdout",
          "output_type": "stream",
          "text": [
            "[1, 3, 5, 5, 6, 8]\n",
            "[8, 6, 5, 5, 3, 1]\n"
          ]
        }
      ],
      "source": [
        "\n",
        "# l.short [list.short method can be used to short the list either in ascending or descending order]\n",
        "l=[6,3,1,8,5,5] \n",
        "l.sort()\n",
        "print(l)\n",
        "l.sort(reverse=True)\n",
        "print(l)"
      ]
    },
    {
      "cell_type": "code",
      "execution_count": null,
      "metadata": {
        "colab": {
          "base_uri": "https://localhost:8080/"
        },
        "id": "M_j_-qNZO6Dt",
        "outputId": "13c145b9-6e13-48c1-e3cb-65b6044f5eb5"
      },
      "outputs": [
        {
          "name": "stdout",
          "output_type": "stream",
          "text": [
            "[6, 5, 3, 4, 5, 5, 24]\n"
          ]
        }
      ],
      "source": [
        "\n",
        "# l.reverse()\n",
        "l=[24,5,5,4,3,5,6]\n",
        "l.reverse()\n",
        "print(l)"
      ]
    },
    {
      "cell_type": "code",
      "execution_count": null,
      "metadata": {
        "colab": {
          "base_uri": "https://localhost:8080/"
        },
        "id": "vdrI7i8TO31y",
        "outputId": "448c68d0-1676-421c-e963-6a6e1d8828c9"
      },
      "outputs": [
        {
          "name": "stdout",
          "output_type": "stream",
          "text": [
            "8\n",
            "3\n",
            "38\n"
          ]
        }
      ],
      "source": [
        "\n",
        "l=[4,3,5,6,7,8,5]\n",
        "print(max(l))\n",
        "print(min(l))\n",
        "print(sum(l))"
      ]
    },
    {
      "cell_type": "code",
      "execution_count": null,
      "metadata": {
        "colab": {
          "base_uri": "https://localhost:8080/"
        },
        "id": "TOvP6H38ObnG",
        "outputId": "7f0179e4-033d-4adc-d537-8af51fa447df"
      },
      "outputs": [
        {
          "name": "stdout",
          "output_type": "stream",
          "text": [
            "3\n"
          ]
        }
      ],
      "source": [
        "\n",
        "# [list.count] method to find how many time an iteam appears in the list.\n",
        "l=['a','b','a','d','a']\n",
        "count_a=l.count('a')\n",
        "print(count_a)"
      ]
    },
    {
      "cell_type": "code",
      "execution_count": null,
      "metadata": {
        "colab": {
          "base_uri": "https://localhost:8080/"
        },
        "id": "45KZ_hKnOQCt",
        "outputId": "a40f0910-39b0-4da9-ec2a-501834c04de3"
      },
      "outputs": [
        {
          "name": "stdout",
          "output_type": "stream",
          "text": [
            "[]\n"
          ]
        }
      ],
      "source": [
        "\n",
        "# list.clear [method to all the elements in the list.]\n",
        "l=['A','B','B','C']\n",
        "l.clear()\n",
        "print(l)"
      ]
    },
    {
      "cell_type": "code",
      "execution_count": null,
      "metadata": {
        "colab": {
          "base_uri": "https://localhost:8080/"
        },
        "id": "AZFQrMVBNmil",
        "outputId": "fb6530fb-91a6-45de-ce4e-810594529cec"
      },
      "outputs": [
        {
          "name": "stdout",
          "output_type": "stream",
          "text": [
            "422\n",
            "325\n",
            "218\n",
            "965\n",
            "965\n"
          ]
        }
      ],
      "source": [
        "\n",
        "l=[[78,76,94,86,88],[91,71,98,65,76],[95,45,78,52,49]]\n",
        "l=[[78,76,94,86,88],[91,71,98,65],[95,45,78]]\n",
        "sum0=sum(l[0])\n",
        "print(sum0)\n",
        "sum1=sum(l[1])\n",
        "print(sum1)\n",
        "sum2=sum(l[2])\n",
        "print(sum2)\n",
        "print(sum0+sum1+sum2)\n",
        "print(sum(l[0]+l[1]+l[2]))"
      ]
    },
    {
      "cell_type": "code",
      "execution_count": null,
      "metadata": {
        "colab": {
          "base_uri": "https://localhost:8080/"
        },
        "id": "724SkraPNKQJ",
        "outputId": "7465bc53-f8e2-420c-c66a-82f406a147d4"
      },
      "outputs": [
        {
          "name": "stdout",
          "output_type": "stream",
          "text": [
            "A\n"
          ]
        }
      ],
      "source": [
        "\n",
        "a=65\n",
        "print(chr(a)) "
      ]
    },
    {
      "cell_type": "code",
      "execution_count": null,
      "metadata": {
        "colab": {
          "base_uri": "https://localhost:8080/"
        },
        "id": "9MYw6md5NDZ_",
        "outputId": "73ad7b54-f6d6-4a29-a52b-d661a490ab54"
      },
      "outputs": [
        {
          "name": "stdout",
          "output_type": "stream",
          "text": [
            "p \n",
            "\n",
            "p i \n",
            "\n",
            "p i n \n",
            "\n",
            "p i n k \n",
            "\n",
            "p i n k i \n",
            "\n"
          ]
        }
      ],
      "source": [
        "\n",
        "p=\"pinki\"\n",
        "i=0\n",
        "while i<len(p):\n",
        "    j=0  \n",
        "    while j<=i:\n",
        "        print(p[j],end=\" \")\n",
        "        j+=1\n",
        "    i+=1\n",
        "    print(\"\\n\")"
      ]
    },
    {
      "cell_type": "code",
      "execution_count": null,
      "metadata": {
        "colab": {
          "base_uri": "https://localhost:8080/"
        },
        "id": "HZuS-dp8M_ut",
        "outputId": "5335e9a0-7303-4675-ea9c-a0519bdd6142"
      },
      "outputs": [
        {
          "name": "stdout",
          "output_type": "stream",
          "text": [
            "     p  \n",
            "\n",
            "    p  i  \n",
            "\n",
            "   p  i  n  \n",
            "\n",
            "  p  i  n  k  \n",
            "\n",
            " p  i  n  k  i  \n",
            "\n"
          ]
        }
      ],
      "source": [
        "\n",
        "p=\"pinki\"\n",
        "i=0\n",
        "while i<len(p):\n",
        "    s=len(p)-i\n",
        "    while s>0:\n",
        "        print(\" \",end='')\n",
        "        s-=1\n",
        "    j=0  \n",
        "    while j<=i:\n",
        "        print(p[j],end=\"  \")\n",
        "        j+=1\n",
        "    i+=1\n",
        "    print(\"\\n\")"
      ]
    },
    {
      "cell_type": "code",
      "execution_count": null,
      "metadata": {
        "colab": {
          "base_uri": "https://localhost:8080/"
        },
        "id": "U5xls4ZBMzG5",
        "outputId": "38fce0b4-3e5a-4fdd-f05e-36ae9b167861"
      },
      "outputs": [
        {
          "name": "stdout",
          "output_type": "stream",
          "text": [
            "          *  \n",
            "          * * *  \n",
            "          * * * * *  \n"
          ]
        }
      ],
      "source": [
        "\n",
        "i=1\n",
        "while i<=5:\n",
        "    s=1\n",
        "    while s<=5:\n",
        "        print(\" \",end=\" \")\n",
        "        s+=1\n",
        "    j=i \n",
        "    while j<=i:\n",
        "        print(\"* \"*j,end=\" \")\n",
        "        j+=1\n",
        "    i+=2\n",
        "    print()"
      ]
    },
    {
      "cell_type": "code",
      "execution_count": null,
      "metadata": {
        "colab": {
          "base_uri": "https://localhost:8080/"
        },
        "id": "2cVmw4qnMvTd",
        "outputId": "81cf91b2-3e8b-441f-9aba-da71622e0765"
      },
      "outputs": [
        {
          "name": "stdout",
          "output_type": "stream",
          "text": [
            "pinki 2\n",
            "rinki 4\n",
            "kiran 6\n",
            "rakesh 7\n",
            "aansh 5\n",
            "abhi 4\n"
          ]
        }
      ],
      "source": [
        "\n",
        "a=['pinki','rinki','kiran','rakesh','aansh','abhi']\n",
        "b=[2,4,6,7,5,4]\n",
        "i=0\n",
        "while i<len(a):\n",
        "    print(a[i],b[i])    \n",
        "    i+=1"
      ]
    },
    {
      "cell_type": "code",
      "execution_count": null,
      "metadata": {
        "colab": {
          "base_uri": "https://localhost:8080/"
        },
        "id": "QEiapMDCMr1m",
        "outputId": "553bbd05-ae26-4dc0-9794-5a335e0bdb8f"
      },
      "outputs": [
        {
          "name": "stdout",
          "output_type": "stream",
          "text": [
            "23\n",
            "19\n",
            "9\n",
            "15\n",
            "25\n",
            "31\n",
            "43\n",
            "total no. of odd: 7\n"
          ]
        }
      ],
      "source": [
        "\n",
        "e=[23,14,56,12,19,9,15,25,31,42,43]\n",
        "i=0\n",
        "c=0\n",
        "while i<len(e):\n",
        "    if e[i]%2!=0:\n",
        "         c+=1\n",
        "         print(e[i])\n",
        "    i+=1\n",
        "print(\"total no. of odd:\",c)"
      ]
    },
    {
      "cell_type": "code",
      "execution_count": null,
      "metadata": {
        "colab": {
          "base_uri": "https://localhost:8080/"
        },
        "id": "KbhgpctDMokL",
        "outputId": "3e6c08d8-aed1-4c79-cc41-3e0e132acc90"
      },
      "outputs": [
        {
          "name": "stdout",
          "output_type": "stream",
          "text": [
            "total sum of odd: 165\n",
            "total sum of even: 124\n"
          ]
        }
      ],
      "source": [
        "\n",
        "e=[23,14,56,12,19,9,15,25,31,42,43]\n",
        "i=0\n",
        "e_s=0\n",
        "o_s=0\n",
        "while i<len(e):\n",
        "    if e[i]%2!=0:\n",
        "        o_s+=e[i]\n",
        "    else:\n",
        "        e_s+=e[i]\n",
        "    i+=1\n",
        "print(\"total sum of odd:\",o_s)\n",
        "print(\"total sum of even:\",e_s)"
      ]
    },
    {
      "cell_type": "code",
      "execution_count": null,
      "metadata": {
        "colab": {
          "base_uri": "https://localhost:8080/"
        },
        "id": "h6-WdvUzMkW6",
        "outputId": "dfcf36d2-35f1-42ae-90b6-90e4633aea2c"
      },
      "outputs": [
        {
          "name": "stdout",
          "output_type": "stream",
          "text": [
            "total avrage of odd: 23.571428571428573\n",
            "total avrgea of even: 31.0\n"
          ]
        }
      ],
      "source": [
        "\n",
        "e=[23,14,56,12,19,9,15,25,31,42,43]\n",
        "i=0\n",
        "e_c=0\n",
        "o_c=0\n",
        "e_s=0\n",
        "o_s=0\n",
        "while i<len(e):\n",
        "    if e[i]%2!=0:\n",
        "        o_s+=e[i]\n",
        "        o_c+=1\n",
        "    else:\n",
        "        e_s+=e[i]\n",
        "        e_c+=1\n",
        "    i+=1\n",
        "print(\"total avrage of odd:\",o_s/o_c)\n",
        "print(\"total avrgea of even:\",e_s/e_c)"
      ]
    },
    {
      "cell_type": "code",
      "execution_count": null,
      "metadata": {
        "colab": {
          "base_uri": "https://localhost:8080/"
        },
        "id": "Laq1echrMeHt",
        "outputId": "e3c2b30d-7845-4496-b953-dd0aee67e8d8"
      },
      "outputs": [
        {
          "name": "stdout",
          "output_type": "stream",
          "text": [
            "total no. of odd: 7\n",
            "total no. of even: 4\n",
            "total no.: 11\n",
            "total sum of odd: 165\n",
            "total sum of even: 124\n",
            "total no. of sum: 289\n",
            "total avrage of odd: 23.571428571428573\n",
            "total avrgea of even: 31.0\n",
            "total avroagef : 26.272727272727273\n"
          ]
        }
      ],
      "source": [
        "\n",
        "e=[23,14,56,12,19,9,15,25,31,42,43]\n",
        "i=0\n",
        "e_c=0\n",
        "o_c=0\n",
        "e_s=0\n",
        "o_s=0\n",
        "while i<len(e):\n",
        "    if e[i]%2!=0:\n",
        "        o_s+=e[i]\n",
        "        o_c+=1\n",
        "    else:\n",
        "        e_s+=e[i]\n",
        "        e_c+=1\n",
        "    i+=1\n",
        "print(\"total no. of odd:\",o_c)\n",
        "print(\"total no. of even:\",e_c)\n",
        "print(\"total no.:\",len(e))\n",
        "\n",
        "print(\"total sum of odd:\",o_s)\n",
        "print(\"total sum of even:\",e_s)\n",
        "print(\"total no. of sum:\",o_s+e_s)\n",
        "\n",
        "print(\"total avrage of odd:\",o_s/o_c)\n",
        "print(\"total avrgea of even:\",e_s/e_c)\n",
        "print(\"total avroagef :\",(o_s+e_s)/len(e))"
      ]
    },
    {
      "cell_type": "code",
      "execution_count": null,
      "metadata": {
        "colab": {
          "base_uri": "https://localhost:8080/"
        },
        "id": "aG3cgJuiMRxv",
        "outputId": "d2a91c4e-aa62-425c-cd69-9e125c1b0813"
      },
      "outputs": [
        {
          "name": "stdout",
          "output_type": "stream",
          "text": [
            "no. of Crorepati log: 4\n",
            "no. of Lakhpati log: 3\n",
            "no. of Dilwale log: 4\n"
          ]
        }
      ],
      "source": [
        "\n",
        "kitna_paisa_hai=[3000,600000,324990909,90990900,30000,5600000,690909090,31010101,532010,510,4100]\n",
        "i=0\n",
        "c=0\n",
        "l=0\n",
        "d=0\n",
        "while i<len(kitna_paisa_hai):\n",
        "    if kitna_paisa_hai[i]>=10000000:\n",
        "        c+=1\n",
        "    elif kitna_paisa_hai[i]>=100000:\n",
        "        l+=1\n",
        "    else:\n",
        "        d+=1\n",
        "    i+=1\n",
        "print(\"no. of Crorepati log:\",c)\n",
        "print(\"no. of Lakhpati log:\",l)\n",
        "print(\"no. of Dilwale log:\",d)"
      ]
    },
    {
      "cell_type": "code",
      "execution_count": null,
      "metadata": {
        "colab": {
          "base_uri": "https://localhost:8080/"
        },
        "id": "CLeIU2xBMOGq",
        "outputId": "9d97c407-1c41-4fa8-eaf4-67a513aa8b7f"
      },
      "outputs": [
        {
          "name": "stdout",
          "output_type": "stream",
          "text": [
            "[19, 17, 12, 18, 10, 14, 13, 11]\n",
            "[2, 4, 6, 7, 5, 4, 17, 17, 17, 12, 19, 17, 12]\n"
          ]
        }
      ],
      "source": [
        "\n",
        "n=[19,17,12,17,17,18,10,17,14,12,19,17,12,13,11]\n",
        "a=[]\n",
        "i=0\n",
        "while i<len(n):\n",
        "    if n[i] not in a:\n",
        "        a.append(n[i])\n",
        "    else:\n",
        "        b.append(n[i])\n",
        "    i+=1\n",
        "print(a)\n",
        "print(b)"
      ]
    },
    {
      "cell_type": "code",
      "execution_count": null,
      "metadata": {
        "colab": {
          "base_uri": "https://localhost:8080/"
        },
        "id": "PK9bUU8XZ3Mu",
        "outputId": "6ff67188-5bb0-41a6-e851-709d59b05b14"
      },
      "outputs": [
        {
          "name": "stdout",
          "output_type": "stream",
          "text": [
            "WELCOME TO THE KBC CONTEST\n",
            "Aapka Sawal Hai :\n",
            "tomato is a vegatable or fruit?\n",
            "Aapke Options Hai :\n",
            "1 . red color\n",
            "2 . fruit\n",
            "3 . vegatable\n",
            "4 . flower\n",
            "Enter your anwer (if you choose option one so enter [1])::2\n",
            "Congrates! Aapka Answer Sahi Hai\n",
            "Aapka Sawal Hai :\n",
            "what is a capital of india?\n",
            "Aapke Options Hai :\n",
            "1 . patna\n",
            "2 . bhopal\n",
            "3 . delhi\n",
            "4 . itanagar\n",
            "Enter your anwer (if you choose option one so enter [1])::3\n",
            "Congrates! Aapka Answer Sahi Hai\n",
            "Aapka Sawal Hai :\n",
            "NG me kon sa course karaya jata hai?\n",
            "Aapke Options Hai :\n",
            "1 . software engineering\n",
            "2 . counseling\n",
            "3 . tourism\n",
            "4 . agriculture\n",
            "Enter your anwer (if you choose option one so enter [1])::1\n",
            "Congrates! Aapka Answer Sahi Hai\n",
            "Aapka Sawal Hai :\n",
            "when came covid in india?\n",
            "Aapke Options Hai :\n",
            "1 . 2021\n",
            "2 . 2018\n",
            "3 . 2020\n",
            "4 . 2019\n",
            "Enter your anwer (if you choose option one so enter [1])::2019\n",
            "Aapka Answer Galat Hai\n"
          ]
        }
      ],
      "source": [
        "###################### KBC   ###########################\n",
        "######  without 50-50 life line    ############3\n",
        "q_l=[\"tomato is a vegatable or fruit?\",\n",
        "     \"what is a capital of india?\",\n",
        "     \"NG me kon sa course karaya jata hai?\",\n",
        "     \"when came covid in india?\"\n",
        "     ]\n",
        "o_l=[[\"red color\",\"fruit\",\"vegatable\",\"flower\"],\n",
        "     [\"patna\",\"bhopal\",\"delhi\",\"itanagar\"],\n",
        "      [\"software engineering\",\"counseling\",\"tourism\",\"agriculture\"],\n",
        "     [2021,2018,2020,2019]]\n",
        "s_l=[2,3,1,4]\n",
        "print(\"WELCOME TO THE KBC CONTEST\")\n",
        "i=0\n",
        "while i<len(q_l):\n",
        "  print(\"Aapka Sawal Hai :\")\n",
        "  print(q_l[i])\n",
        "  print(\"Aapke Options Hai :\")\n",
        "  j=0\n",
        "  while j<4:\n",
        "    print(j+1,\".\",o_l[i][j])\n",
        "    j+=1\n",
        "  answer=int(input(\"Enter your anwer (if you choose option one so enter [1])::\"))\n",
        "  if q_l[i] and answer==s_l[i]:\n",
        "    print(\"Congrates! Aapka Answer Sahi Hai\")\n",
        "    i+=1\n",
        "  else:\n",
        "    print(\"Aapka Answer Galat Hai\")\n",
        "    break\n"
      ]
    },
    {
      "cell_type": "code",
      "execution_count": null,
      "metadata": {
        "id": "i30f2t6KGlnu",
        "colab": {
          "base_uri": "https://localhost:8080/"
        },
        "outputId": "7c9eae99-ea42-4a6e-c6fd-5a2964cd8093"
      },
      "outputs": [
        {
          "output_type": "stream",
          "name": "stdout",
          "text": [
            "WELCOME TO THE KBC CONTEST\n",
            "Aapka Sawal Hai :\n",
            "tomato is a vegatable or fruit?\n",
            "Aapke Options Hai :\n",
            "1. red color\n",
            "2. fruit\n",
            "3. vegatable\n",
            "4. flower\n",
            "do you want to use 50-50 life line(yes or no):\n",
            "Enter your anwer like 1,2: 3\n",
            "Aapka Answer Galat Hai\n"
          ]
        }
      ],
      "source": [
        "\n",
        "   ###################### KBC   ###########################\n",
        "   ###########  with 50-50 life line  #############\n",
        "q_l=[\"tomato is a vegatable or fruit?\",\n",
        "     \"what is a capital of india?\",\n",
        "     \"NG me kon sa course karaya jata hai?\",\n",
        "     \"when came covid in india?\"\n",
        "     ]\n",
        "o_l=[[\"red color\",\"fruit\",\"vegatable\",\"flower\"],\n",
        "     [\"patna\",\"bhopal\",\"delhi\",\"itanagar\"],\n",
        "      [\"software engineering\",\"counseling\",\"tourism\",\"agriculture\"],\n",
        "     [2021,2018,2020,2019]]\n",
        "s_l=[2,3,1,4]\n",
        "o_50_50=[[\"fruit\",\"vegatable\"],\n",
        "         [\"patna\",\"delhi\"],\n",
        "         [\"software engineering\",\"agriculture\"],\n",
        "         [2020,2019]]\n",
        "s_50_50_l=[1,2,1,2]\n",
        "print(\"WELCOME TO THE KBC CONTEST\")\n",
        "c=0\n",
        "i=0\n",
        "while i<len(q_l):\n",
        "  print(\"Aapka Sawal Hai :\")\n",
        "  print(q_l[i])\n",
        "  print(\"Aapke Options Hai :\")\n",
        "  j=0\n",
        "  while j<=3:\n",
        "    print(str(j+1)+\".\",o_l[i][j])\n",
        "    j+=1\n",
        "  a=input(\"do you want to use 50-50 life line(yes or no):\")\n",
        "  if a==\"yes\":\n",
        "    c+=1\n",
        "    if c==1:\n",
        "      k=0\n",
        "      while k<2:\n",
        "        print(str(k+1)+\".\",o_50_50[i][k])\n",
        "        k+=1\n",
        "      answer=int(input(\"Enter your anwer: \"))\n",
        "      if q_l[i] and answer==s_50_50_l[i]:\n",
        "        print(\"Congrates! Aapka Answer Sahi Hai\")\n",
        "        i+=1\n",
        "      else:\n",
        "        print(\"Aapka Answer Galat Hai\")\n",
        "        break\n",
        "    elif c!=1:\n",
        "      print(\"Aap 50-50 life line ka use kr chuke ho\")\n",
        "      answer=int(input(\"Enter your anwer like 1,2: \"))\n",
        "      if q_l[i] and answer==s_l[i]:\n",
        "       print(\"Congrates! Aapka Answer Sahi Hai\")\n",
        "       i+=1\n",
        "      else:\n",
        "       print(\"Aapka Answer Galat Hai\")\n",
        "       break\n",
        "  else:\n",
        "   answer=int(input(\"Enter your anwer like 1,2: \"))\n",
        "   if q_l[i] and answer==s_l[i]:\n",
        "       print(\"Congrates! Aapka Answer Sahi Hai\")\n",
        "       i+=1\n",
        "   else:\n",
        "       print(\"Aapka Answer Galat Hai\")\n",
        "       break\n"
      ]
    },
    {
      "cell_type": "code",
      "execution_count": null,
      "metadata": {
        "colab": {
          "base_uri": "https://localhost:8080/"
        },
        "id": "zOAfUSbSHiU3",
        "outputId": "3149d223-a4bb-4d97-cd63-94dfe23d47f2"
      },
      "outputs": [
        {
          "name": "stdout",
          "output_type": "stream",
          "text": [
            "[4, 5]\n"
          ]
        }
      ],
      "source": [
        "l1=[1,2,3,4,5,6]\n",
        "l2=[2,3,1,6,0,7]\n",
        "l2.sort()\n",
        "p=[]\n",
        "i=0\n",
        "while i<len(l1):\n",
        "  if l1[i] not in l2:\n",
        "    p.append(l1[i])\n",
        "  i+=1\n",
        "print(p)"
      ]
    },
    {
      "cell_type": "code",
      "execution_count": null,
      "metadata": {
        "colab": {
          "background_save": true,
          "base_uri": "https://localhost:8080/"
        },
        "id": "WVr97BM85HQQ",
        "outputId": "a8bde990-5cfd-470c-910b-5f298b49ea6c"
      },
      "outputs": [
        {
          "name": "stdout",
          "output_type": "stream",
          "text": [
            "56\n"
          ]
        }
      ],
      "source": [
        "num=[50,40,23,70,56,12,5,10,7]\n",
        "num.sort(reverse=True)\n",
        "print(num[1])"
      ]
    },
    {
      "cell_type": "code",
      "execution_count": null,
      "metadata": {
        "colab": {
          "base_uri": "https://localhost:8080/"
        },
        "id": "PMUnCijFvdWv",
        "outputId": "4df66927-1a00-4b03-a5ee-bf91b6162d31"
      },
      "outputs": [
        {
          "name": "stdout",
          "output_type": "stream",
          "text": [
            "[5, 15, 25, 50]\n"
          ]
        }
      ],
      "source": [
        "li=[5,20,15,20,25,50,20]\n",
        "for i in li:\n",
        "  if i==20:\n",
        "    li.remove(20)\n",
        "print(li)"
      ]
    },
    {
      "cell_type": "code",
      "execution_count": null,
      "metadata": {
        "colab": {
          "base_uri": "https://localhost:8080/"
        },
        "id": "HzVqkLaz85HD",
        "outputId": "4af4697e-971d-4345-d659-296a3442653b"
      },
      "outputs": [
        {
          "name": "stdout",
          "output_type": "stream",
          "text": [
            "30\n",
            "30\n",
            "30\n",
            "[[11, 19], [12, 18], [13, 17]]\n"
          ]
        }
      ],
      "source": [
        "n=[10,11,12,13,14,17,18,19]\n",
        "b=[]\n",
        "i=0\n",
        "while i<len(n):\n",
        "    j=i\n",
        "    a=[]\n",
        "    while j<len(n):\n",
        "        c=n[i]+n[j]\n",
        "        if c==30:\n",
        "            print(c)\n",
        "            a.append(n[i])\n",
        "            a.append(n[j])\n",
        "            b.append(a)\n",
        "        j+=1\n",
        "    i+=1\n",
        "print(b)\n"
      ]
    },
    {
      "cell_type": "code",
      "execution_count": null,
      "metadata": {
        "colab": {
          "base_uri": "https://localhost:8080/"
        },
        "id": "W8nYeH609uNs",
        "outputId": "655a344a-4061-4266-f76c-97da2f6447f2"
      },
      "outputs": [
        {
          "name": "stdout",
          "output_type": "stream",
          "text": [
            "enter number to search68\n",
            "68 this is not in list\n"
          ]
        }
      ],
      "source": [
        "li=[99,45,28,67,2,35,11,2] \n",
        "num=int(input(\"enter number to search\"))\n",
        "if num in li:\n",
        "  print('yes')    \n",
        "else:\n",
        "  print(num,\"this is not in list\")  "
      ]
    },
    {
      "cell_type": "code",
      "execution_count": null,
      "metadata": {
        "colab": {
          "base_uri": "https://localhost:8080/"
        },
        "id": "2lojECYe_WcM",
        "outputId": "aa10fae8-56c5-4fae-9399-ebbd0e597e0e"
      },
      "outputs": [
        {
          "name": "stdout",
          "output_type": "stream",
          "text": [
            "enter any number: 4\n",
            "enter any number: 7\n",
            "enter any number: 65\n",
            "enter any number: 45\n",
            "enter any number: 65\n",
            "enter any number: 43\n",
            "enter any number: 90\n",
            "enter any number: 43\n",
            "enter any number: 23\n",
            "enter any number: 12\n",
            "[4, 7, 65, 45, 65, 43, 90, 43, 23, 12]\n",
            "[4, 7, 12, 23, 43, 43, 45, 65, 65, 90]\n"
          ]
        }
      ],
      "source": [
        "p=[]\n",
        "i=1\n",
        "while i<=10:\n",
        "  n=int(input(\"enter any number: \"))\n",
        "  p.append(n)\n",
        "  i+=1\n",
        "print(p)\n",
        "j=0\n",
        "while j<len(p):\n",
        "  k=0\n",
        "  while k<len(p):\n",
        "    if p[j]<p[k]:\n",
        "      p[j],p[k]=p[k],p[j]\n",
        "    k+=1\n",
        "  j+=1\n",
        "print(p)"
      ]
    },
    {
      "cell_type": "code",
      "execution_count": null,
      "metadata": {
        "colab": {
          "base_uri": "https://localhost:8080/"
        },
        "id": "Y1jWk2ov_SXr",
        "outputId": "20d7762e-21f2-475e-8138-2646abdac677"
      },
      "outputs": [
        {
          "name": "stdout",
          "output_type": "stream",
          "text": [
            "[5, 15, 25, 50]\n",
            "[5, 15, 25, 50]\n"
          ]
        }
      ],
      "source": [
        "\n",
        "li=[5,20,15,20,25,50,20]\n",
        "for i in li:\n",
        "  if i==20:\n",
        "    li.remove(20)\n",
        "print(li)      \n",
        "li=[5,20,15,20,25,50,20]\n",
        "for i in li:\n",
        "  if i==20:\n",
        "    li.remove(20)\n",
        "print(li)      \n",
        "   "
      ]
    },
    {
      "cell_type": "code",
      "execution_count": null,
      "metadata": {
        "colab": {
          "base_uri": "https://localhost:8080/"
        },
        "id": "xgr5UgU7_Pnu",
        "outputId": "8b72bbc3-0cdf-48a5-e7cc-5653b77b7031"
      },
      "outputs": [
        {
          "name": "stdout",
          "output_type": "stream",
          "text": [
            "[5, 10, 15, 200, 25, 50, 20]\n"
          ]
        }
      ],
      "source": [
        "\n",
        "l=[5,10,15,20,25,50,20]\n",
        "index=l.index(20)\n",
        "l[index]=200\n",
        "print(l)   "
      ]
    },
    {
      "cell_type": "code",
      "execution_count": null,
      "metadata": {
        "colab": {
          "base_uri": "https://localhost:8080/"
        },
        "id": "L-U_zlc2_ML0",
        "outputId": "acfa6b72-ec6c-4645-f046-bb4256e6a3cd"
      },
      "outputs": [
        {
          "name": "stdout",
          "output_type": "stream",
          "text": [
            "['a', 'b', ['c', ['d', 'e', ['f', 'g', 'h', 'i', 'j'], 'k'], 'l'], 'm', 'n']\n"
          ]
        }
      ],
      "source": [
        "l=['a','b',['c',['d','e',['f','g'],'k'],'l'],'m','n']\n",
        "s_l=['h','i','j']\n",
        "l[2][1][2].extend(s_l)\n",
        "print(l)   \n"
      ]
    },
    {
      "cell_type": "code",
      "execution_count": null,
      "metadata": {
        "colab": {
          "base_uri": "https://localhost:8080/"
        },
        "id": "W8_0y_iM_Ifz",
        "outputId": "721c9310-d1c2-42e8-ee6d-423f9bb6f539"
      },
      "outputs": [
        {
          "name": "stdout",
          "output_type": "stream",
          "text": [
            "[10, 20, [300, 400, [5000, 6000, 7000], 500], 30, 40]\n"
          ]
        }
      ],
      "source": [
        "l=[10,20,[300,400,[5000,6000],500],30,40]\n",
        "l[2][2].append(7000)\n",
        "print(l)\n"
      ]
    },
    {
      "cell_type": "code",
      "execution_count": null,
      "metadata": {
        "colab": {
          "base_uri": "https://localhost:8080/"
        },
        "id": "Fhq-3RzJ_FiP",
        "outputId": "7997ece6-8526-433c-971c-e156886443d2"
      },
      "outputs": [
        {
          "name": "stdout",
          "output_type": "stream",
          "text": [
            "['pinki', 'rinki', 'rakesh', 'aansh', 'abhi']\n"
          ]
        }
      ],
      "source": [
        "\n",
        "l=['pinki','','rinki','rakesh','','aansh','abhi','']\n",
        "for i in l:\n",
        "  if i==\"\":\n",
        "    l.remove(\"\")\n",
        "print(l)"
      ]
    },
    {
      "cell_type": "code",
      "execution_count": null,
      "metadata": {
        "colab": {
          "base_uri": "https://localhost:8080/"
        },
        "id": "E1DIbHxm-_6N",
        "outputId": "be771dc6-2e0f-46e6-ca15-87fd54f2edc2"
      },
      "outputs": [
        {
          "name": "stdout",
          "output_type": "stream",
          "text": [
            "10 100\n",
            "20 200\n",
            "30 300\n",
            "40 400\n"
          ]
        }
      ],
      "source": [
        "l=[10,20,30,40]\n",
        "l1=[100,200,300,400]\n",
        "for i in range(len(l)):\n",
        "    print(l[i],l1[i])"
      ]
    },
    {
      "cell_type": "code",
      "execution_count": null,
      "metadata": {
        "colab": {
          "base_uri": "https://localhost:8080/"
        },
        "id": "duff92a3-7sQ",
        "outputId": "b06c9ec2-c99b-461f-b0fa-97a9ab7ca80f"
      },
      "outputs": [
        {
          "name": "stdout",
          "output_type": "stream",
          "text": [
            "['hellodear', 'hellosir', 'takedear', 'takesir']\n"
          ]
        }
      ],
      "source": [
        "\n",
        "l=['hello','take']\n",
        "l1=['dear','sir']\n",
        "a=[]\n",
        "for i in range(len(l)):\n",
        "  for j in range(len(l1)):\n",
        "    a.append(l[i]+l1[j])\n",
        "print(a)"
      ]
    },
    {
      "cell_type": "code",
      "execution_count": null,
      "metadata": {
        "colab": {
          "base_uri": "https://localhost:8080/"
        },
        "id": "HNpRyiaU-4yQ",
        "outputId": "73abf0b0-92ef-4d82-8f29-1c94e44648da"
      },
      "outputs": [
        {
          "name": "stdout",
          "output_type": "stream",
          "text": [
            "MY name is Pinki "
          ]
        }
      ],
      "source": [
        "\n",
        "l=['M','na','i','Pin']\n",
        "l1=['Y','me','s','ki']\n",
        "for i in range(len(l)):\n",
        "  print(l[i]+l1[i],end=\" \")"
      ]
    },
    {
      "cell_type": "code",
      "execution_count": null,
      "metadata": {
        "colab": {
          "base_uri": "https://localhost:8080/"
        },
        "id": "8mC7tDfz-zF2",
        "outputId": "a2f933ca-03c5-43f5-993c-295d3418411e"
      },
      "outputs": [
        {
          "name": "stdout",
          "output_type": "stream",
          "text": [
            "7navgurukul = 8\n"
          ]
        }
      ],
      "source": [
        "a='7.8'\n",
        "b=8\n",
        "c='navgurukul'\n",
        "print(str(int(float(a)))+c,\"=\",b)"
      ]
    },
    {
      "cell_type": "code",
      "execution_count": null,
      "metadata": {
        "colab": {
          "base_uri": "https://localhost:8080/"
        },
        "id": "1TtLvpeK-whx",
        "outputId": "154b297d-5ac4-4073-c21c-8ed4ca2a6966"
      },
      "outputs": [
        {
          "name": "stdout",
          "output_type": "stream",
          "text": [
            "['MY', 'name', 'is', 'Pinki']\n"
          ]
        }
      ],
      "source": [
        "\n",
        "l=['M','na','i','Pin'] \n",
        "l1=['Y','me','s','ki']\n",
        "l2=[i+j for i, j in zip(l,l1)]\n",
        "print(l2)"
      ]
    },
    {
      "cell_type": "code",
      "execution_count": null,
      "metadata": {
        "colab": {
          "base_uri": "https://localhost:8080/"
        },
        "id": "dbF7F72o-sm0",
        "outputId": "739e1021-a754-4abc-a3ef-822d25dcff7c"
      },
      "outputs": [
        {
          "name": "stdout",
          "output_type": "stream",
          "text": [
            "[1, 4, 9, 16, 25, 36, 49, 64, 81, 100]\n"
          ]
        }
      ],
      "source": [
        "\n",
        "l=[1,2,3,4,5,6,7,8,9,10]\n",
        "p=[]\n",
        "for i in l:\n",
        "   p.append(i**2)\n",
        "print(p)"
      ]
    },
    {
      "cell_type": "code",
      "execution_count": null,
      "metadata": {
        "colab": {
          "base_uri": "https://localhost:8080/"
        },
        "id": "F5x12WrI-pQk",
        "outputId": "f96fd61e-ae79-42b4-ed49-da77b8782e44"
      },
      "outputs": [
        {
          "name": "stdout",
          "output_type": "stream",
          "text": [
            "[1, 4, 9, 16, 25, 36, 49, 64, 81, 100]\n"
          ]
        }
      ],
      "source": [
        "list=[1,2,3,4,5,6,7,8,9,10]\n",
        "b=[i**2 for i in list]\n",
        "print(b)\n",
        "\n"
      ]
    },
    {
      "cell_type": "code",
      "execution_count": null,
      "metadata": {
        "colab": {
          "base_uri": "https://localhost:8080/"
        },
        "id": "tcDwZaZn-niO",
        "outputId": "56e8a9ba-7d89-49d8-bef6-792f302688da"
      },
      "outputs": [
        {
          "name": "stdout",
          "output_type": "stream",
          "text": [
            "[1, 8, 27, 64, 125, 216, 343, 512, 729, 1000]\n"
          ]
        }
      ],
      "source": [
        "\n",
        "list=[1,2,3,4,5,6,7,8,9,10]\n",
        "b=[i**3 for i in list]\n",
        "print(b)"
      ]
    },
    {
      "cell_type": "code",
      "execution_count": null,
      "metadata": {
        "colab": {
          "base_uri": "https://localhost:8080/"
        },
        "id": "6VGk4x8Y-kdG",
        "outputId": "2d962614-851e-4609-8c2d-4e6c258b3443"
      },
      "outputs": [
        {
          "name": "stdout",
          "output_type": "stream",
          "text": [
            "[2, 4, 6, 8, 10, 12, 14, 16, 18, 20]\n"
          ]
        }
      ],
      "source": [
        "list=[1,2,3,4,5,6,7,8,9,10]\n",
        "b=[i*2 for i in list]\n",
        "print(b)\n"
      ]
    },
    {
      "cell_type": "code",
      "execution_count": null,
      "metadata": {
        "colab": {
          "base_uri": "https://localhost:8080/"
        },
        "id": "eO1hX1d1-hCy",
        "outputId": "9cee701a-eecf-4830-8e8e-9221ec7ac985"
      },
      "outputs": [
        {
          "name": "stdout",
          "output_type": "stream",
          "text": [
            "[5, 10, 15, 20, 25, 30, 35, 40, 45, 50]\n"
          ]
        }
      ],
      "source": [
        "\n",
        "list=[1,2,3,4,5,6,7,8,9,10]\n",
        "b=[i*5 for i in list]\n",
        "print(b)"
      ]
    },
    {
      "cell_type": "code",
      "execution_count": null,
      "metadata": {
        "colab": {
          "base_uri": "https://localhost:8080/"
        },
        "id": "Cl4ObHY4-bRq",
        "outputId": "1354ab19-d856-4c4e-accb-ff7f151f3dae"
      },
      "outputs": [
        {
          "name": "stdout",
          "output_type": "stream",
          "text": [
            "gfgisbest\n"
          ]
        }
      ],
      "source": [
        "\n",
        "list=[ ['g', 'f', 'g'], ['i', 's'], ['b', 'e', 's', 't'] ]\n",
        "#out put= gfgisbest\n",
        "p=\"\".join(list[0]+list[1]+list[2])\n",
        "print(p)"
      ]
    },
    {
      "cell_type": "code",
      "execution_count": null,
      "metadata": {
        "colab": {
          "base_uri": "https://localhost:8080/"
        },
        "id": "vU8k0I82-YDW",
        "outputId": "fa1f03df-bd28-4229-ffe5-ce0f27c4a004"
      },
      "outputs": [
        {
          "name": "stdout",
          "output_type": "stream",
          "text": [
            "WELCOME TO THE KBC CONTEST\n",
            "Aapka Sawal Hai :\n",
            "tomato is a vegatable or fruit?\n",
            "Aapke Options Hai :\n",
            "A. red color\n",
            "B. fruit\n",
            "C. vegatable\n",
            "D. flower\n",
            "Enter your anwer like('A','B'): A\n",
            "Aapka Answer Galat Hai\n"
          ]
        }
      ],
      "source": [
        "################  KBC   ###################\n",
        "q_l=[\"tomato is a vegatable or fruit?\",\n",
        "     \"what is a capital of india?\",\n",
        "     \"NG me kon sa course karaya jata hai?\",\n",
        "     \"when came covid in india?\"\n",
        "     ]\n",
        "o_l=[[\"red color\",\"fruit\",\"vegatable\",\"flower\"],\n",
        "     [\"patna\",\"bhopal\",\"delhi\",\"itanagar\"],\n",
        "      [\"software engineering\",\"counseling\",\"tourism\",\"agriculture\"],\n",
        "     [2021,2018,2020,2019]]\n",
        "s_l=['B','C','A','D']\n",
        "print(\"WELCOME TO THE KBC CONTEST\")\n",
        "i=0\n",
        "while i<len(q_l):\n",
        "  print(\"Aapka Sawal Hai :\")\n",
        "  print(q_l[i])\n",
        "  print(\"Aapke Options Hai :\")\n",
        "  j=0\n",
        "  while j<=3:\n",
        "    print(chr(j+65)+\".\",o_l[i][j])\n",
        "    j+=1\n",
        "  answer=input(\"Enter your anwer like('A','B'): \")\n",
        "  if q_l[i] and answer==s_l[i]:\n",
        "    print(\"Congrates! Aapka Answer Sahi Hai\")\n",
        "    i+=1\n",
        "  else:\n",
        "    print(\"Aapka Answer Galat Hai\")\n",
        "    break\n"
      ]
    },
    {
      "cell_type": "code",
      "source": [
        " ##################### KBC   ###########################\n",
        "q_l=[\"tomato is a vegatable or fruit?\",\n",
        "     \"what is a capital of india?\",\n",
        "     \"NG me kon sa course karaya jata hai?\",\n",
        "     \"when came covid in india?\"\n",
        "     ]\n",
        "o_l=[[\"red color\",\"fruit\",\"vegatable\",\"flower\"],\n",
        "     [\"patna\",\"bhopal\",\"delhi\",\"itanagar\"],\n",
        "      [\"software engineering\",\"counseling\",\"tourism\",\"agriculture\"],\n",
        "     [2021,2018,2020,2019]]\n",
        "s_l=[2,3,1,4]\n",
        "o_50_50=[[\"fruit\",\"vegatable\"],\n",
        "         [\"patna\",\"delhi\"],\n",
        "         [\"software engineering\",\"agriculture\"],\n",
        "         [2020,2019]]\n",
        "s_50_50_l=[1,2,1,2]\n",
        "print(\"WELCOME TO THE KBC CONTEST\")\n",
        "c=0\n",
        "i=0\n",
        "while i<len(q_l):\n",
        "  print(\"Aapka Sawal Hai :\")\n",
        "  print(q_l[i])\n",
        "  print(\"Aapke Options Hai :\")\n",
        "  j=0\n",
        "  while j<=3:\n",
        "    print(str(j+1)+\".\",o_l[i][j])\n",
        "    j+=1\n",
        "  a=input(\"do you want to use 50-50 life line(yes or no):\")\n",
        "  if a==\"yes\":\n",
        "    c+=1\n",
        "    if c==1:\n",
        "      k=0\n",
        "      while k<2:\n",
        "        print(str(k+1)+\".\",o_50_50[i][k])\n",
        "        k+=1\n",
        "      answer=int(input(\"Enter your anwer: \"))\n",
        "      if q_l[i] and answer==s_50_50_l[i]:\n",
        "        print(\"Congrates! Aapka Answer Sahi Hai\")\n",
        "        i+=1\n",
        "      else:\n",
        "        print(\"Aapka Answer Galat Hai\")\n",
        "        break\n",
        "    elif c!=1:\n",
        "      print(\"Aap 50-50 life line ka use kr chuke ho\")\n",
        "      answer=int(input(\"Enter your anwer like 1,2: \"))\n",
        "      if q_l[i] and answer==s_l[i]:\n",
        "       print(\"Congrates! Aapka Answer Sahi Hai\")\n",
        "       i+=1\n",
        "      else:\n",
        "       print(\"Aapka Answer Galat Hai\")\n",
        "       break\n",
        "  else:\n",
        "   answer=int(input(\"Enter your anwer like 1,2: \"))\n",
        "   if q_l[i] and answer==s_l[i]:\n",
        "       print(\"Congrates! Aapka Answer Sahi Hai\")\n",
        "       i+=1\n",
        "   else:\n",
        "       print(\"Aapka Answer Galat Hai\")\n",
        "       break\n"
      ],
      "metadata": {
        "id": "fsfSGzhRtl9V",
        "colab": {
          "base_uri": "https://localhost:8080/"
        },
        "outputId": "3124eadc-430e-41ea-f209-e66dd0659328"
      },
      "execution_count": null,
      "outputs": [
        {
          "output_type": "stream",
          "name": "stdout",
          "text": [
            "WELCOME TO THE KBC CONTEST\n",
            "Aapka Sawal Hai :\n",
            "tomato is a vegatable or fruit?\n",
            "Aapke Options Hai :\n",
            "1. red color\n",
            "2. fruit\n",
            "3. vegatable\n",
            "4. flower\n",
            "do you want to use 50-50 life line(yes or no):\n",
            "Enter your anwer like 1,2: 3\n",
            "Aapka Answer Galat Hai\n"
          ]
        }
      ]
    },
    {
      "cell_type": "code",
      "execution_count": null,
      "metadata": {
        "colab": {
          "base_uri": "https://localhost:8080/"
        },
        "id": "O2MRQ6Qw-SKB",
        "outputId": "e632fc77-3ab6-49dd-8f5a-13510fd0cbbd"
      },
      "outputs": [
        {
          "name": "stdout",
          "output_type": "stream",
          "text": [
            "enter any number: 35\n",
            "elements founded 5\n"
          ]
        }
      ],
      "source": [
        "\n",
        "l=[99,45,28,67,2,35,11,2]\n",
        "n=int(input(\"enter any number: \"))\n",
        "for i in range(len(l)):\n",
        "   if l[i]==n:\n",
        "      print(\"elements founded\",i)\n",
        "      break\n",
        "else:\n",
        "   print(\"not founded\")"
      ]
    },
    {
      "cell_type": "code",
      "execution_count": null,
      "metadata": {
        "colab": {
          "base_uri": "https://localhost:8080/"
        },
        "id": "8H4M6uNX-PoV",
        "outputId": "ab320183-e196-44bd-a668-3fd6f15b7d7c"
      },
      "outputs": [
        {
          "name": "stdout",
          "output_type": "stream",
          "text": [
            "[4, 25, 49, 64, 144]\n"
          ]
        }
      ],
      "source": [
        "l=[2,5,7,8,12]\n",
        "print([i**2 for i in l])\n"
      ]
    },
    {
      "cell_type": "code",
      "execution_count": null,
      "metadata": {
        "colab": {
          "base_uri": "https://localhost:8080/"
        },
        "id": "rqkdOYXL-MOv",
        "outputId": "476b1bb0-547a-480d-dad8-74a24257d930"
      },
      "outputs": [
        {
          "name": "stdout",
          "output_type": "stream",
          "text": [
            "Enter any nuber: 2\n",
            "Enter any nuber: -9\n",
            "Enter any nuber: 5\n",
            "Enter any nuber: 0\n",
            "Enter any nuber: -6\n",
            "Enter any nuber: -5\n",
            "Enter any nuber: 3\n",
            "Enter any nuber: 8\n",
            "Enter any nuber: 1\n",
            "Enter any nuber: 4\n",
            "list of positive number [2, 5, 0, 3, 8, 1, 4]\n",
            "list of negetive number [-9, -6, -5]\n",
            "list of even number [2, 0, -6, 8, 4]\n",
            "list of odd number [-9, 5, -5, 3, 1]\n"
          ]
        }
      ],
      "source": [
        "\n",
        "a=[]\n",
        "b=[]\n",
        "c=[]\n",
        "d=[]\n",
        "i=1\n",
        "while i<=10:\n",
        "   n=int(input(\"Enter any nuber: \"))\n",
        "   if n<0:\n",
        "      b.append(n)\n",
        "   if n>=0:\n",
        "      a.append(n)\n",
        "   if n%2==0:\n",
        "      c.append(n)\n",
        "   if n%2!=0:\n",
        "      d.append(n)\n",
        "   i+=1\n",
        "print(\"list of positive number\",a)\n",
        "print(\"list of negetive number\",b)\n",
        "print(\"list of even number\",c)\n",
        "print(\"list of odd number\",d)"
      ]
    },
    {
      "cell_type": "code",
      "execution_count": null,
      "metadata": {
        "colab": {
          "base_uri": "https://localhost:8080/"
        },
        "id": "wTdn-Ctz-FoH",
        "outputId": "7b7f0524-6e71-4c0e-fe44-6d973375351b"
      },
      "outputs": [
        {
          "name": "stdout",
          "output_type": "stream",
          "text": [
            "1620\n"
          ]
        }
      ],
      "source": [
        "\n",
        "#product of list\n",
        "p=1\n",
        "l=[6,1,3,5,6,3,1] \n",
        "for i in l:\n",
        "   p*=i\n",
        "print(p)"
      ]
    },
    {
      "cell_type": "code",
      "execution_count": null,
      "metadata": {
        "colab": {
          "base_uri": "https://localhost:8080/"
        },
        "id": "Yi3aP9CR-BB9",
        "outputId": "6c2d8152-cb0c-416b-cff2-b99163d97646"
      },
      "outputs": [
        {
          "name": "stdout",
          "output_type": "stream",
          "text": [
            "[1, 2, 5, 8, 4]\n",
            "count 5\n"
          ]
        }
      ],
      "source": [
        "\n",
        "a=[]\n",
        "l=[1,2,2,5,8,4,4,8]\n",
        "for i in l:\n",
        "   if i not in a :\n",
        "      a.append(i)\n",
        "print(a)\n",
        "print(\"count\",len(a))"
      ]
    },
    {
      "cell_type": "code",
      "execution_count": null,
      "metadata": {
        "colab": {
          "base_uri": "https://localhost:8080/"
        },
        "id": "lE3Ow4-I98Wi",
        "outputId": "2f0a0e36-ce77-475d-afc7-af5b0f72e9fb"
      },
      "outputs": [
        {
          "name": "stdout",
          "output_type": "stream",
          "text": [
            "first maximum number 99\n",
            "second maximum number 67\n",
            "third maximum number 45\n"
          ]
        }
      ],
      "source": [
        "\n",
        "l=[99,45,28,67,2,35,11,2]\n",
        "l.sort()\n",
        "print(\"first maximum number\",l[-1])\n",
        "print(\"second maximum number\",l[-2])\n",
        "print(\"third maximum number\",l[-3])"
      ]
    },
    {
      "cell_type": "code",
      "execution_count": null,
      "metadata": {
        "colab": {
          "base_uri": "https://localhost:8080/"
        },
        "id": "3wCjtFAD95Hf",
        "outputId": "c3d2f6f8-aa2a-4015-e1ad-dc0748c30bde"
      },
      "outputs": [
        {
          "name": "stdout",
          "output_type": "stream",
          "text": [
            "Enter any number7654\n",
            "49362516"
          ]
        }
      ],
      "source": [
        "\n",
        "n=int(input(\"Enter any number\"))\n",
        "i=str(n)\n",
        "for a in i:\n",
        " print(int(a)**2,end=\"\")"
      ]
    },
    {
      "cell_type": "code",
      "execution_count": null,
      "metadata": {
        "colab": {
          "base_uri": "https://localhost:8080/"
        },
        "id": "MynRkY8L92bR",
        "outputId": "52457080-6973-4626-97d7-20920ffcadaf"
      },
      "outputs": [
        {
          "name": "stdout",
          "output_type": "stream",
          "text": [
            "100 + 20 + 4\n"
          ]
        }
      ],
      "source": [
        "\n",
        " \n",
        "a='124'\n",
        "for i in range(len(a)):\n",
        "   if i==len(a)-1:\n",
        "      print(a[i])\n",
        "      break\n",
        "   else:\n",
        "    print(a[i]+\"0\"*(len(a)-i-1),\"+\",end=\" \")"
      ]
    },
    {
      "cell_type": "code",
      "execution_count": null,
      "metadata": {
        "colab": {
          "base_uri": "https://localhost:8080/"
        },
        "id": "QXVG5lfP9zt3",
        "outputId": "36e4efa6-ab52-4500-e60a-b3c2620a275c"
      },
      "outputs": [
        {
          "name": "stdout",
          "output_type": "stream",
          "text": [
            "num : 6542\n",
            "6000 + 500 + 40 + 2\n"
          ]
        }
      ],
      "source": [
        "\n",
        "\n",
        "a=int(input('num : '))\n",
        "b=str(a)\n",
        "for i in range(len(b)):\n",
        "   if i==len(b)-1:\n",
        "      print(b[i])\n",
        "   else:\n",
        "    print(b[i]+\"0\"*(len(b)-i-1),\"+\",end=\" \")"
      ]
    },
    {
      "cell_type": "code",
      "execution_count": null,
      "metadata": {
        "colab": {
          "base_uri": "https://localhost:8080/"
        },
        "id": "dhgnFwjV9w5-",
        "outputId": "7164fc6e-4e42-4f78-f72e-12d01ef6587f"
      },
      "outputs": [
        {
          "name": "stdout",
          "output_type": "stream",
          "text": [
            "[[3, 1], 2, 3, [2, 4], 5]\n"
          ]
        }
      ],
      "source": [
        "l=[1,1,2,3,4,4,5,1]\n",
        "p=[]\n",
        "for i in (l):\n",
        "   a=[]\n",
        "   b=l.count(i)\n",
        "   if b>1:\n",
        "      a.append(b)\n",
        "      a.append(i)\n",
        "      if a not in p:\n",
        "        p.append(a)\n",
        "   else: \n",
        "      p.append(i)\n",
        "print(p)\n"
      ]
    },
    {
      "cell_type": "code",
      "execution_count": null,
      "metadata": {
        "colab": {
          "base_uri": "https://localhost:8080/"
        },
        "id": "HVTp3gjO9BeR",
        "outputId": "91dcbb5e-2b60-4ce2-83b7-132acb2c1050"
      },
      "outputs": [
        {
          "name": "stdout",
          "output_type": "stream",
          "text": [
            "[['a', 7], ['n', 4], ['t', 3], ['x', 3], ['u', 2], ['g', 2]]\n"
          ]
        }
      ],
      "source": [
        "\n",
        "char_list=['a','n','t','a','a','t','n','n','a','x','u','g','a','x','a']\n",
        "a=[]\n",
        "i=0\n",
        "while i<len(char_list):\n",
        "    j=0\n",
        "    b=[]\n",
        "    c=1\n",
        "    while j<len(char_list):\n",
        "        if char_list[i]==char_list[j]:\n",
        "            c+=1\n",
        "        j+=1\n",
        "    b.append(char_list[i])\n",
        "    b.append(c)\n",
        "    if b not in a:\n",
        "        a.append(b)\n",
        "    i+=1\n",
        "print(a)"
      ]
    },
    {
      "cell_type": "code",
      "execution_count": null,
      "metadata": {
        "colab": {
          "base_uri": "https://localhost:8080/"
        },
        "id": "2gG6xrZB8-f2",
        "outputId": "92768d71-7d28-4a2e-abf8-8afe3d8bd607"
      },
      "outputs": [
        {
          "name": "stdout",
          "output_type": "stream",
          "text": [
            "the quick brown fox jumped  the lazy dog.the dog slept  the verandah.\n"
          ]
        }
      ],
      "source": [
        "mainStr=\"the quick brown fox jumped over the lazy dog.the dog slept over the verandah.\"\n",
        "subStr=\"over\"\n",
        "if subStr in mainStr:\n",
        "   a = mainStr.replace(subStr,\"\")\n",
        "   print(a)\n"
      ]
    },
    {
      "cell_type": "code",
      "execution_count": null,
      "metadata": {
        "id": "r3zfF6M2vdUE"
      },
      "outputs": [],
      "source": [
        "\n",
        "p=[]\n",
        "i=1\n",
        "while i<=10:\n",
        "  n=int(input(\"enter any number: \"))\n",
        "  p.append(n)\n",
        "  i+=1\n",
        "print(p)\n",
        "j=0\n",
        "while j<len(p):\n",
        "  k=0\n",
        "  while k<len(p):\n",
        "    if p[j]<p[k]:\n",
        "      p[j],p[k]=p[k],p[j]\n",
        "    k+=1\n",
        "  j+=1\n",
        "print(p)\n",
        "print(\"max\",p[-1])\n",
        "print(\"min\",p[0])"
      ]
    },
    {
      "cell_type": "code",
      "execution_count": null,
      "metadata": {
        "colab": {
          "base_uri": "https://localhost:8080/"
        },
        "id": "ZlyCa2sV0HKO",
        "outputId": "0171ac14-9bef-4f68-efb1-99a9da675273"
      },
      "outputs": [
        {
          "name": "stdout",
          "output_type": "stream",
          "text": [
            "['MY', 'name', 'is', 'Pinki']\n"
          ]
        }
      ],
      "source": [
        "# Use the zip() function. this function takes two or more iterables (like list, dict,string) aggregates them in a tuple, and returns it.\n",
        "l=['M','na','i','Pin'] \n",
        "l1=['Y','me','s','ki']\n",
        "l2=[i+j for i, j in zip(l,l1)]\n",
        "print(l2)"
      ]
    },
    {
      "cell_type": "code",
      "source": [
        "#########################    DOCS QUESTION     ############################"
      ],
      "metadata": {
        "id": "66RO2inluQpX"
      },
      "execution_count": null,
      "outputs": []
    },
    {
      "cell_type": "code",
      "execution_count": null,
      "metadata": {
        "colab": {
          "base_uri": "https://localhost:8080/"
        },
        "id": "6RTcEzPD2dZr",
        "outputId": "c88e1709-f2a2-43ac-cafb-7a98b6024862"
      },
      "outputs": [
        {
          "name": "stdout",
          "output_type": "stream",
          "text": [
            "0: flour\n",
            "1: cheese\n",
            "2: carrots\n"
          ]
        }
      ],
      "source": [
        "# QUESTION 1\n",
        "grocery_list = ['flour','cheese','carrots']\n",
        "i=0\n",
        "while i<len(grocery_list):\n",
        "  print(str(i)+\":\",grocery_list[i])\n",
        "  i+=1\n",
        "#=> 0: flour\n",
        "#=> 1: cheese\n",
        "#=> 2: carrots\n"
      ]
    },
    {
      "cell_type": "code",
      "execution_count": null,
      "metadata": {
        "colab": {
          "base_uri": "https://localhost:8080/"
        },
        "id": "g7QO-fdG-1_n",
        "outputId": "fa9018e4-e2cf-437f-9397-16b637699d7f"
      },
      "outputs": [
        {
          "name": "stdout",
          "output_type": "stream",
          "text": [
            "gfgisbest\n"
          ]
        }
      ],
      "source": [
        "# QUESTION 2\n",
        "list=[ ['g', 'f', 'g'], ['i', 's'], ['b', 'e', 's', 't'] ]\n",
        "#out put= gfgisbest\n",
        "p=\"\".join(list[0]+list[1]+list[2])\n",
        "print(p)"
      ]
    },
    {
      "cell_type": "code",
      "execution_count": null,
      "metadata": {
        "colab": {
          "background_save": true,
          "base_uri": "https://localhost:8080/"
        },
        "id": "zzKUKVzeFLOT",
        "outputId": "6dd08e35-5eac-4896-83b6-9e68e5740e3f"
      },
      "outputs": [
        {
          "name": "stdout",
          "output_type": "stream",
          "text": [
            "[1, 1, 2, 3, 4, 4, 5, 1]\n"
          ]
        }
      ],
      "source": [
        "# QUESTION 14\n",
        "l=[1,1,2,3,4,4,5,1]\n",
        "p=[]\n",
        "c=1\n",
        "for i in (l):\n",
        "   a=[]\n",
        "   a.append(i)\n",
        "   if i in a:\n",
        "     c+=1\n",
        "     a[0]=c\n",
        "     a.append(a)\n",
        "     p.append(a)\n",
        "   else:\n",
        "     p.append(i)\n",
        "print(p)\n",
        "   \n",
        "#    b=l.count(i)\n",
        "#    if b>1:\n",
        "#       a.append(b)\n",
        "#       a.append(i)\n",
        "#       if a not in p:\n",
        "#         p.append(a)\n",
        "#    else: \n",
        "#       p.append(i)\n",
        "# print(p)\n"
      ]
    },
    {
      "cell_type": "code",
      "source": [
        "# QUESTION 18\n",
        "s = [6, 2, 3, 8]  \n",
        "s.sort()\n",
        "for i in range(6):\n",
        "   if i==0:\n",
        "     if s[i]==s[i+1]-1:\n",
        "       pass\n",
        "     else:\n",
        "        s.insert(i,s[i]+1)\n",
        "   else:\n",
        "      if s[i]==s[i-1]+1:\n",
        "         pass\n",
        "      else:\n",
        "         s.insert(i,s[i-1]+1)\n",
        "print(s)\n",
        "\n",
        " "
      ],
      "metadata": {
        "colab": {
          "base_uri": "https://localhost:8080/"
        },
        "id": "1WIxDsgZuM4B",
        "outputId": "bb07ee51-26ce-4ad5-fe56-ec2d2dc238b8"
      },
      "execution_count": null,
      "outputs": [
        {
          "output_type": "stream",
          "name": "stdout",
          "text": [
            "[2, 3, 4, 5, 6, 7, 8]\n"
          ]
        }
      ]
    },
    {
      "cell_type": "code",
      "source": [
        "# QUESTION 19\n",
        "n=int(input(\"enter number\"))\n",
        "s=(n)**2 + (n-1)**2\n",
        "print(s)\n"
      ],
      "metadata": {
        "colab": {
          "base_uri": "https://localhost:8080/"
        },
        "id": "89_hrjqJu5Uw",
        "outputId": "7d9849c2-d7b0-412d-f29d-46aa1e1da238"
      },
      "execution_count": null,
      "outputs": [
        {
          "output_type": "stream",
          "name": "stdout",
          "text": [
            "enter number5\n",
            "41\n"
          ]
        }
      ]
    },
    {
      "cell_type": "code",
      "source": [
        "# QUESTION 20\n",
        "n= int(input(\"enter number :\"))\n",
        "a=[20,37,20,21]\n",
        "i=1\n",
        "while i<=n:\n",
        "    a.pop(-i-1)\n",
        "    i+=1\n",
        "print(a)\n",
        "\n",
        "\n"
      ],
      "metadata": {
        "colab": {
          "base_uri": "https://localhost:8080/"
        },
        "id": "wBwxJ4fAu6Nh",
        "outputId": "1aa59efa-7a09-463c-8b5b-cc105a112137"
      },
      "execution_count": null,
      "outputs": [
        {
          "output_type": "stream",
          "name": "stdout",
          "text": [
            "enter number :1\n",
            "[20, 37, 21]\n"
          ]
        }
      ]
    },
    {
      "cell_type": "code",
      "source": [
        "# QUESTION 20\n",
        "n= int(input(\"enter number :\"))\n",
        "a=[1,1,1,1,1,1,1]\n",
        "i=1\n",
        "while i<=n:\n",
        "    a.pop(-i-1)\n",
        "    i+=1\n",
        "print(a)\n"
      ],
      "metadata": {
        "colab": {
          "base_uri": "https://localhost:8080/"
        },
        "id": "wRQTP6qMwbGZ",
        "outputId": "5ad778bb-6f6f-4a73-dff4-b80f26b9f58f"
      },
      "execution_count": null,
      "outputs": [
        {
          "output_type": "stream",
          "name": "stdout",
          "text": [
            "enter number :2\n",
            "[1, 1, 1, 1, 1]\n"
          ]
        }
      ]
    },
    {
      "cell_type": "code",
      "source": [
        "# QUESTION 24\n",
        "l=[1,2,3,1,2,2]\n",
        "# r=[1,2,3]\n",
        "r=[]\n",
        "for i in range (len(l)):\n",
        "    if l[i] not in r:\n",
        "        r.append(l[i])\n",
        "print(r)"
      ],
      "metadata": {
        "colab": {
          "base_uri": "https://localhost:8080/"
        },
        "id": "uY7biTFJvEJ9",
        "outputId": "4c93c0e7-e54c-4c95-fbec-64b21ab18ff8"
      },
      "execution_count": null,
      "outputs": [
        {
          "output_type": "stream",
          "name": "stdout",
          "text": [
            "[1, 2, 3]\n"
          ]
        }
      ]
    },
    {
      "cell_type": "code",
      "source": [
        "# QUESTION 28\n",
        "l=[1,2,3,1,4,5,1,2]\n",
        "for i in l:\n",
        "    print(i)\n",
        "    if i==1:\n",
        "        print(i,\"pp\")\n",
        "        l.remove(1)\n",
        "print(l)\n",
        "\n",
        "li=[5,20,15,20,25,50,20]\n",
        "# li.remove(20)\n",
        "for i in li:\n",
        "   if i==20:\n",
        "     li.remove(20)\n",
        "print(li)      \n",
        "\n",
        "l=[1,1,2,3,4,5,1,2]\n",
        "for i in range(len(l)):\n",
        "    if l[i]==1:\n",
        "        continue\n",
        "print(l)\n"
      ],
      "metadata": {
        "colab": {
          "base_uri": "https://localhost:8080/"
        },
        "id": "MjA4I_1HvDh4",
        "outputId": "acb9c08e-0783-4849-f90b-c402c4f3d7a4"
      },
      "execution_count": null,
      "outputs": [
        {
          "output_type": "stream",
          "name": "stdout",
          "text": [
            "1\n",
            "1 pp\n",
            "3\n",
            "1\n",
            "1 pp\n",
            "5\n",
            "1\n",
            "1 pp\n",
            "[2, 3, 4, 5, 2]\n",
            "[5, 15, 25, 50]\n",
            "[1, 1, 2, 3, 4, 5, 1, 2]\n"
          ]
        }
      ]
    },
    {
      "cell_type": "code",
      "source": [
        "# QUESTION 29\n",
        "l=[5,6,[],3,[],9]\n",
        "for i in l:\n",
        "\n",
        "    if i==[]:\n",
        "       l.remove([])\n",
        "    print(l)"
      ],
      "metadata": {
        "colab": {
          "base_uri": "https://localhost:8080/"
        },
        "id": "3mAxC76EvDE6",
        "outputId": "8e305541-2b35-4d7e-b768-1a6173e2c16a"
      },
      "execution_count": null,
      "outputs": [
        {
          "output_type": "stream",
          "name": "stdout",
          "text": [
            "[5, 6, [], 3, [], 9]\n",
            "[5, 6, [], 3, [], 9]\n",
            "[5, 6, 3, [], 9]\n",
            "[5, 6, 3, 9]\n"
          ]
        }
      ]
    },
    {
      "cell_type": "code",
      "source": [
        "# QUESTION 30\n",
        "list=[2,-7,5,-64,-14]\n",
        "c_n=0\n",
        "c_p=0\n",
        "for i in range(len(list)):\n",
        "    if list[i]<0:\n",
        "        c_n+=1\n",
        "    else:\n",
        "        c_p+=1\n",
        "print(\"count of negetive:\",c_n)\n",
        "print(\"count of positive:\",c_p)\n",
        "            \n",
        "        "
      ],
      "metadata": {
        "colab": {
          "base_uri": "https://localhost:8080/"
        },
        "id": "ShIkh7cCvCm1",
        "outputId": "d76b0851-60ef-4c1f-cda4-36be10c1b8a0"
      },
      "execution_count": null,
      "outputs": [
        {
          "output_type": "stream",
          "name": "stdout",
          "text": [
            "count of negetive: 3\n",
            "count of positive: 2\n"
          ]
        }
      ]
    },
    {
      "cell_type": "code",
      "source": [
        "# QUESTION 31\n",
        "s=int(input(\"start number: \"))\n",
        "e=int(input(\"end number: \"))\n",
        "r=[]\n",
        "for i in range(s,e):\n",
        "    if i<0:\n",
        "        r.append(i)\n",
        "print(r)\n",
        "        \n",
        "   "
      ],
      "metadata": {
        "colab": {
          "base_uri": "https://localhost:8080/"
        },
        "id": "6pShhKzPvCFz",
        "outputId": "aa181302-e811-413b-9b3b-a43110f3f6c2"
      },
      "execution_count": null,
      "outputs": [
        {
          "output_type": "stream",
          "name": "stdout",
          "text": [
            "start number: -8\n",
            "end number: 8\n",
            "[-8, -7, -6, -5, -4, -3, -2, -1]\n"
          ]
        }
      ]
    },
    {
      "cell_type": "code",
      "source": [
        "# QUESTION 32\n",
        "s=int(input(\"start num: \"))\n",
        "e=int(input(\"end num: \"))\n",
        "r=[]\n",
        "for i in range(s,e):\n",
        "    if i>=0:\n",
        "        r.append(i)\n",
        "print(r)"
      ],
      "metadata": {
        "colab": {
          "base_uri": "https://localhost:8080/"
        },
        "id": "5EtJKGSnvBwI",
        "outputId": "e62b13ca-acd9-42b6-9c77-6dedf02fa234"
      },
      "execution_count": null,
      "outputs": [
        {
          "output_type": "stream",
          "name": "stdout",
          "text": [
            "start num: -3\n",
            "end num: 9\n",
            "[0, 1, 2, 3, 4, 5, 6, 7, 8]\n"
          ]
        }
      ]
    },
    {
      "cell_type": "code",
      "source": [
        "# QUESTION 33\n",
        "\n",
        "l=[12,67,98,34]\n",
        "r=[]\n",
        "for i in range(len(l)):\n",
        "    sum=0\n",
        "    j=l[i]\n",
        "    while j>0:\n",
        "        a=j%10\n",
        "        sum+=a\n",
        "        j//=10\n",
        "    r.append(sum)\n",
        "print(r)\n",
        "\n",
        "\n"
      ],
      "metadata": {
        "colab": {
          "base_uri": "https://localhost:8080/"
        },
        "id": "tSumBUPevBbx",
        "outputId": "ac86fd50-d2f7-4ee3-bd98-fb5bd2c72127"
      },
      "execution_count": null,
      "outputs": [
        {
          "output_type": "stream",
          "name": "stdout",
          "text": [
            "[3, 13, 17, 7]\n"
          ]
        }
      ]
    },
    {
      "cell_type": "code",
      "source": [
        "# QUESTION 34\n",
        "l=[34.67,12,-94.89,'pinki',0,'c#']\n",
        "r=[]\n",
        "for i in l:\n",
        "    if type(i)==int:\n",
        "        r.append(i)\n",
        "print(r)\n"
      ],
      "metadata": {
        "colab": {
          "base_uri": "https://localhost:8080/"
        },
        "id": "_sug2khyvBDH",
        "outputId": "523c81f7-d350-4812-c7c4-7a7676d5c0c9"
      },
      "execution_count": null,
      "outputs": [
        {
          "output_type": "stream",
          "name": "stdout",
          "text": [
            "[12, 0]\n"
          ]
        }
      ]
    },
    {
      "cell_type": "code",
      "source": [
        "# QUESTION 35\n",
        "l=['aabc','abc','ab','hc']\n",
        "c=1\n",
        "for i in range(len(l)-1):\n",
        "    # a=str(l[i])\n",
        "    # b=str(l[i+1])\n",
        "    if (l[i][0])==(l[i+1][0]):\n",
        "        c+=1\n",
        "if c==len(l):\n",
        "    print(True)\n",
        "else:\n",
        "    print(False)\n",
        "    \n",
        "\n",
        "\n",
        "        "
      ],
      "metadata": {
        "colab": {
          "base_uri": "https://localhost:8080/"
        },
        "id": "LV4hCCmDvAjB",
        "outputId": "cc2d3f37-dc0f-49c8-eec0-1d2103a73ffe"
      },
      "execution_count": null,
      "outputs": [
        {
          "output_type": "stream",
          "name": "stdout",
          "text": [
            "False\n"
          ]
        }
      ]
    },
    {
      "cell_type": "code",
      "source": [
        "l=[1234,922,1984,19372,100]\n",
        "c=1\n",
        "for i in range(len(l)-1):\n",
        "    a=str(l[i])\n",
        "    b=str(l[i+1])\n",
        "    if (a[0])==(b[0]):\n",
        "        c+=1\n",
        "if c==len(l):\n",
        "    print(True)\n",
        "else:\n",
        "    print(False)"
      ],
      "metadata": {
        "colab": {
          "base_uri": "https://localhost:8080/"
        },
        "id": "t9b4FCf83rtj",
        "outputId": "20a53fdb-9852-4ba1-e381-f9de77690951"
      },
      "execution_count": null,
      "outputs": [
        {
          "output_type": "stream",
          "name": "stdout",
          "text": [
            "False\n"
          ]
        }
      ]
    },
    {
      "cell_type": "code",
      "source": [
        "# QUESTION 35\n",
        "l=[1234,122,1984,19372,100]\n",
        "c=1\n",
        "for i in range(len(l)-1):\n",
        "    a=str(l[i])\n",
        "    b=str(l[i+1])\n",
        "    if (a[0])==(b[0]):\n",
        "        c+=1\n",
        "if c==len(l):\n",
        "    print(True)\n",
        "else:\n",
        "    print(False)"
      ],
      "metadata": {
        "colab": {
          "base_uri": "https://localhost:8080/"
        },
        "id": "203YL8al3vuU",
        "outputId": "8a78c1ba-0d83-4445-a7d4-4ac156d229ee"
      },
      "execution_count": null,
      "outputs": [
        {
          "output_type": "stream",
          "name": "stdout",
          "text": [
            "True\n"
          ]
        }
      ]
    },
    {
      "cell_type": "code",
      "source": [
        "# QUESTION 36\n",
        "l=['1','2','3','4','5','6','7','8']\n",
        "r=[]\n",
        "for i in range(0,len(l)-1,2):\n",
        "    a=l[i]+l[i+1]\n",
        "    r.append(a)\n",
        "print(r)\n",
        "\n",
        "l=['1','2','3']\n",
        "r=[]\n",
        "for i in range(0,len(l)-1,2):\n",
        "    a=l[i]+l[i+1]\n",
        "    r.append(a)\n",
        "print(r)"
      ],
      "metadata": {
        "colab": {
          "base_uri": "https://localhost:8080/"
        },
        "id": "MhYSQgGdu_8g",
        "outputId": "eef22560-838b-4014-bb4a-704bb9a07c6d"
      },
      "execution_count": null,
      "outputs": [
        {
          "output_type": "stream",
          "name": "stdout",
          "text": [
            "['12', '34', '56', '78']\n",
            "['12']\n"
          ]
        }
      ]
    },
    {
      "cell_type": "code",
      "source": [
        "# QUESTION 37\n",
        "l=[1,2,3,4,5,6]\n",
        "r=[]\n",
        "for i in range(len(l)-1):\n",
        "    s=[]\n",
        "    j=i\n",
        "    while j < (i+2):\n",
        "       s.append(l[j])\n",
        "       j+=1\n",
        "    r.append(s)\n",
        "print(r)\n",
        "\n",
        "l=[1,2,3,4,5]\n",
        "r=[]\n",
        "for i in range(len(l)-1):\n",
        "    s=[]\n",
        "    j=i\n",
        "    while j < (i+2):\n",
        "       s.append(l[j])\n",
        "       j+=1\n",
        "    r.append(s)\n",
        "print(r)"
      ],
      "metadata": {
        "colab": {
          "base_uri": "https://localhost:8080/"
        },
        "id": "gYPXvR6ou_dp",
        "outputId": "323b3f7f-ccd2-49e5-83e4-062af47f0eeb"
      },
      "execution_count": null,
      "outputs": [
        {
          "output_type": "stream",
          "name": "stdout",
          "text": [
            "[[1, 2], [2, 3], [3, 4], [4, 5], [5, 6]]\n",
            "[[1, 2], [2, 3], [3, 4], [4, 5]]\n"
          ]
        }
      ]
    },
    {
      "cell_type": "code",
      "source": [
        "# QUESTION 38\n",
        "str=\"https://www.w3resource.com/python-exercises/list/\"\n",
        "l=['.com','.edu','.tv']\n",
        "for i in range(len(l)):\n",
        "    if l[i] in str:\n",
        "        print(True)\n",
        "        break\n",
        "    else:\n",
        "        print(False)\n",
        "        \n",
        "        \n"
      ],
      "metadata": {
        "colab": {
          "base_uri": "https://localhost:8080/"
        },
        "id": "OCP08T9cu-_q",
        "outputId": "ff70a637-87a7-476d-f194-ed3aa3e188dc"
      },
      "execution_count": null,
      "outputs": [
        {
          "output_type": "stream",
          "name": "stdout",
          "text": [
            "True\n"
          ]
        }
      ]
    },
    {
      "cell_type": "code",
      "source": [
        "s='https://www.w3resource.net'\n",
        "m=['.com','.edu','.tv']\n",
        "for i in range(len(l)):\n",
        "    if m[i] in s:\n",
        "        print(True)\n",
        "        break\n",
        "    else:\n",
        "        print(False)\n",
        "\n",
        "        "
      ],
      "metadata": {
        "colab": {
          "base_uri": "https://localhost:8080/"
        },
        "id": "lqBkZN1I4WUy",
        "outputId": "ab8ac7ce-7744-45de-e478-83720ba93335"
      },
      "execution_count": null,
      "outputs": [
        {
          "output_type": "stream",
          "name": "stdout",
          "text": [
            "False\n",
            "False\n",
            "False\n"
          ]
        }
      ]
    },
    {
      "cell_type": "code",
      "source": [
        "# QUESTION 39\n",
        "l=[[0,1,2],[2,3,4],[3,4,5,6],[7,8,9,10,11],[12,13,14]]\n",
        "\n",
        "max_len=0\n",
        "i=0\n",
        "while i<len(l):\n",
        "    max_len=max(max_len,len(l[i]))\n",
        "    i+=1\n",
        "\n",
        "j=0\n",
        "while j<len(l):\n",
        "    if len(l[j])< max_len:\n",
        "        l[j].append('a')\n",
        "    else:\n",
        "        j+=1\n",
        "\n",
        "p=0\n",
        "r=[]\n",
        "while p<max_len:\n",
        "    q=0\n",
        "    c=0\n",
        "    sum=0\n",
        "    while q<len(l):\n",
        "        if l[q][p]=='a':\n",
        "            q+=1\n",
        "        else:\n",
        "            sum=sum+l[q][p]\n",
        "            c+=1\n",
        "            q+=1\n",
        "    a=sum/c\n",
        "    r.append(a)\n",
        "    p+=1\n",
        "print(r)"
      ],
      "metadata": {
        "colab": {
          "base_uri": "https://localhost:8080/"
        },
        "id": "stjXk40rdTpu",
        "outputId": "7e39bcf6-d515-40b1-b1cd-080aba015d49"
      },
      "execution_count": null,
      "outputs": [
        {
          "output_type": "stream",
          "name": "stdout",
          "text": [
            "[4.8, 5.8, 6.8, 8.0, 11.0]\n"
          ]
        }
      ]
    },
    {
      "cell_type": "code",
      "source": [
        "# QUESTION 40\n",
        "\n",
        "l=[[1, 2, 4],[ 4],[1, 2,9,5]]\n",
        "max_len=0\n",
        "i=0\n",
        "while i<len(l):\n",
        "    max_len=max(max_len,len(l[i]))\n",
        "    i+=1\n",
        "\n",
        "j=0\n",
        "while j<len(l):\n",
        "    if len(l[j])< max_len:\n",
        "        l[j].append(0)\n",
        "    else:\n",
        "        j+=1\n",
        "p=0\n",
        "r=[]\n",
        "while p<max_len:\n",
        "    q=0\n",
        "    sum=0\n",
        "    while q<len(l):\n",
        "        sum=sum+l[q][p]\n",
        "        q+=1\n",
        "    r.append(sum)\n",
        "    p+=1\n",
        "print(r)"
      ],
      "metadata": {
        "colab": {
          "base_uri": "https://localhost:8080/"
        },
        "id": "DAhYovADdY0K",
        "outputId": "cdf39ca6-6324-4c4f-83f5-66120ea9417d"
      },
      "execution_count": null,
      "outputs": [
        {
          "output_type": "stream",
          "name": "stdout",
          "text": [
            "[6, 4, 13, 5]\n"
          ]
        }
      ]
    },
    {
      "cell_type": "code",
      "source": [
        "# QUESTION 41\n",
        "l=[[1,2],[2,4]]\n",
        "r=0\n",
        "\n",
        "for i in range(len(l)):\n",
        "    r+=1\n",
        "    c=0\n",
        "    for j in range(len(l[i])):\n",
        "        c+=1\n",
        "print((r,c))"
      ],
      "metadata": {
        "id": "peglvXlw56qf"
      },
      "execution_count": null,
      "outputs": []
    },
    {
      "cell_type": "code",
      "source": [
        "# QUESTION 42\n",
        "l=['a','b','c','d','e','f','g','h']\n",
        "n=int(input(\"enter moved index: \"))\n",
        "i=n\n",
        "r=[]\n",
        "while i<len(l):\n",
        "    r.append(l[i])\n",
        "    i+=1\n",
        "j=0\n",
        "while j<n:\n",
        "    r.append(l[j])\n",
        "    j+=1\n",
        "print(r)\n",
        "    \n"
      ],
      "metadata": {
        "colab": {
          "base_uri": "https://localhost:8080/"
        },
        "id": "ue_kUlWRu-hi",
        "outputId": "8eba30f5-a0cd-400c-9e04-d7cfe3cedda9"
      },
      "execution_count": null,
      "outputs": [
        {
          "output_type": "stream",
          "name": "stdout",
          "text": [
            "enter moved index: 2\n",
            "['c', 'd', 'e', 'f', 'g', 'h', 'a', 'b']\n"
          ]
        }
      ]
    },
    {
      "cell_type": "code",
      "source": [
        "\n",
        "        \n",
        "c=0        \n",
        "a=int(input(\"num :\"))\n",
        "for i in range(a-1):\n",
        "    for j in range(i,a):\n",
        "        print(\" \",end=\" \")\n",
        "    for j in range(i):\n",
        "        c+=1\n",
        "        print(\"🇮🇳\",end=' ')\n",
        "    for j in range(i+1):\n",
        "        c+=1\n",
        "        print(\"🇮🇳\",end=\" \")\n",
        "    print()\n",
        "for i in range(a):\n",
        "    for j in range(i+1):\n",
        "        print(\" \",end=\" \")\n",
        "    for j in range(i,a):\n",
        "        c+=1\n",
        "        print(\"🇮🇳\",end=\" \")\n",
        "    for j in range(i,a-1):\n",
        "        c+=1\n",
        "        print(\"🇮🇳\",end=\" \")\n",
        "    print()\n",
        "print(\"count of space :\",c)"
      ],
      "metadata": {
        "colab": {
          "base_uri": "https://localhost:8080/"
        },
        "id": "ggVUSYaiS5eD",
        "outputId": "2d85e70d-ba16-4904-cfec-a8fb982245c2"
      },
      "execution_count": null,
      "outputs": [
        {
          "output_type": "stream",
          "name": "stdout",
          "text": [
            "num :4\n",
            "        🇮🇳 \n",
            "      🇮🇳 🇮🇳 🇮🇳 \n",
            "    🇮🇳 🇮🇳 🇮🇳 🇮🇳 🇮🇳 \n",
            "  🇮🇳 🇮🇳 🇮🇳 🇮🇳 🇮🇳 🇮🇳 🇮🇳 \n",
            "    🇮🇳 🇮🇳 🇮🇳 🇮🇳 🇮🇳 \n",
            "      🇮🇳 🇮🇳 🇮🇳 \n",
            "        🇮🇳 \n",
            "count of space : 25\n"
          ]
        }
      ]
    },
    {
      "cell_type": "code",
      "source": [
        "c=0        \n",
        "a=int(input(\"num :\"))\n",
        "for i in range(a-1):\n",
        "    for j in range(i,a):\n",
        "        print(\" \",end=\" \")\n",
        "    for j in range(i):\n",
        "        c+=1 \n",
        "        print(\"💗\",end=' ')\n",
        "    for j in range(i+1):\n",
        "        c+=1\n",
        "        print(\"💗\",end=\" \")\n",
        "    print()\n",
        "for i in range(a):\n",
        "    for j in range(i+1):\n",
        "        print(\" \",end=\" \")\n",
        "    for j in range(i,a):\n",
        "        c+=1\n",
        "        print(\"💗\",end=\" \")\n",
        "    for j in range(i,a-1):\n",
        "        c+=1\n",
        "        print(\"💗\",end=\" \")\n",
        "    print()\n",
        "print(\"count of space :\",c)"
      ],
      "metadata": {
        "colab": {
          "base_uri": "https://localhost:8080/"
        },
        "id": "ECaZ7QL67tG_",
        "outputId": "290fbe2a-46eb-42a5-bde0-7b6ea97cf16e"
      },
      "execution_count": null,
      "outputs": [
        {
          "output_type": "stream",
          "name": "stdout",
          "text": [
            "num :6\n",
            "            💗 \n",
            "          💗 💗 💗 \n",
            "        💗 💗 💗 💗 💗 \n",
            "      💗 💗 💗 💗 💗 💗 💗 \n",
            "    💗 💗 💗 💗 💗 💗 💗 💗 💗 \n",
            "  💗 💗 💗 💗 💗 💗 💗 💗 💗 💗 💗 \n",
            "    💗 💗 💗 💗 💗 💗 💗 💗 💗 \n",
            "      💗 💗 💗 💗 💗 💗 💗 \n",
            "        💗 💗 💗 💗 💗 \n",
            "          💗 💗 💗 \n",
            "            💗 \n",
            "count of space : 61\n"
          ]
        }
      ]
    },
    {
      "cell_type": "code",
      "source": [
        "c=0        \n",
        "a=int(input(\"num :\"))\n",
        "for i in range(a-1):\n",
        "    for j in range(i,a):\n",
        "        print(\"⬜\",end=\" \")\n",
        "    for j in range(i):\n",
        "        c+=1\n",
        "        print(\"🟦\",end=' ')\n",
        "    for j in range(i+1):\n",
        "        c+=1\n",
        "        print(\"🟦\",end=\" \")\n",
        "    print()\n",
        "for i in range(a):\n",
        "    for j in range(i+1):\n",
        "        print(\"⬜\",end=\" \")\n",
        "    for j in range(i,a):\n",
        "        c+=1\n",
        "        print(\"🟦\",end=\" \")\n",
        "    for j in range(i,a-1):\n",
        "        c+=1\n",
        "        print(\"🟦\",end=\" \")\n",
        "    print()\n",
        "print(\"count of space :\",c)"
      ],
      "metadata": {
        "id": "aQaveKTXLwk-",
        "colab": {
          "base_uri": "https://localhost:8080/"
        },
        "outputId": "2e58f2c8-97dc-4a6f-a110-dba4a1b7038a"
      },
      "execution_count": null,
      "outputs": [
        {
          "output_type": "stream",
          "name": "stdout",
          "text": [
            "num :3\n",
            "⬜ ⬜ ⬜ 🟦 \n",
            "⬜ ⬜ 🟦 🟦 🟦 \n",
            "⬜ 🟦 🟦 🟦 🟦 🟦 \n",
            "⬜ ⬜ 🟦 🟦 🟦 \n",
            "⬜ ⬜ ⬜ 🟦 \n",
            "count of space : 13\n"
          ]
        }
      ]
    },
    {
      "cell_type": "code",
      "source": [
        "ist=['abc', 'xyz', 'aba', '1221']\n",
        "# result= 2.\n",
        "i=0\n",
        "c=0\n",
        "while i<len(ist):\n",
        "  if ist[i][0]==ist[i][-1]:\n",
        "    c+=1\n",
        "  i+=1\n",
        "print(c)\n",
        "\n",
        "\n"
      ],
      "metadata": {
        "colab": {
          "base_uri": "https://localhost:8080/"
        },
        "id": "5zSinr864vS4",
        "outputId": "c41a8dc6-90d9-45ef-b149-01d421e0fef4"
      },
      "execution_count": null,
      "outputs": [
        {
          "output_type": "stream",
          "name": "stdout",
          "text": [
            "2\n"
          ]
        }
      ]
    },
    {
      "cell_type": "code",
      "source": [
        "l=[1,2,3]\n",
        "for i in range(3):\n",
        "  for j in range(3):\n",
        "    for k in range(3):\n",
        "      if (i!=j and j!=k and i!=k):\n",
        "        print(l[i], l[j], l[k]) "
      ],
      "metadata": {
        "colab": {
          "base_uri": "https://localhost:8080/"
        },
        "id": "JQAZ3Wm6PoSJ",
        "outputId": "3e094681-9607-4ca7-97fd-7178607c30dd"
      },
      "execution_count": null,
      "outputs": [
        {
          "output_type": "stream",
          "name": "stdout",
          "text": [
            "1 2 3\n",
            "1 3 2\n",
            "2 1 3\n",
            "2 3 1\n",
            "3 1 2\n",
            "3 2 1\n"
          ]
        }
      ]
    },
    {
      "cell_type": "code",
      "source": [
        "a=[1,2]\n",
        "print(a*3)"
      ],
      "metadata": {
        "colab": {
          "base_uri": "https://localhost:8080/"
        },
        "id": "hvdWTdgTMXnp",
        "outputId": "2a121623-328a-4a4c-e0b7-b57c798fb1c2"
      },
      "execution_count": null,
      "outputs": [
        {
          "output_type": "stream",
          "name": "stdout",
          "text": [
            "[1, 2, 1, 2, 1, 2]\n"
          ]
        }
      ]
    },
    {
      "cell_type": "code",
      "source": [
        "l=[5,3,8,4,6]\n",
        "i=0\n",
        "while i <len(l)-1:\n",
        "  if l[i]>l[i+1]:\n",
        "    l[i],l[i+1]=l[i+1],l[i]\n",
        "  i+=1\n",
        "print(l)\n",
        "print(l[-1])\n",
        "print(l[0])"
      ],
      "metadata": {
        "id": "W2KGc-maN1eJ",
        "colab": {
          "base_uri": "https://localhost:8080/"
        },
        "outputId": "f989be18-1c47-403e-a279-77849370d839"
      },
      "execution_count": null,
      "outputs": [
        {
          "output_type": "stream",
          "name": "stdout",
          "text": [
            "[3, 5, 4, 6, 8]\n",
            "8\n",
            "3\n"
          ]
        }
      ]
    },
    {
      "cell_type": "code",
      "source": [
        "l=[1,2,3,5,6,8,0]\n",
        "l.sort()\n",
        "for i in range(len(l)):\n",
        "  if l[i]==l[i+1]-1:\n",
        "    pass\n",
        "  else:\n",
        "    l.insert(i,l[i+1])\n",
        "  "
      ],
      "metadata": {
        "id": "QvwfwZWtvtC_"
      },
      "execution_count": null,
      "outputs": []
    },
    {
      "cell_type": "code",
      "source": [
        "word=\"Miss Pinki Kumari\"\n",
        "n=len(word)\n",
        "word1=word.upper()\n",
        "word2=word.lower()\n",
        "convert=\"\"\n",
        "for i in range(n):\n",
        "  if i%2 ==0:\n",
        "    convert+=word2[i]\n",
        "  else:\n",
        "    convert+=word1[i]\n",
        "print(convert)"
      ],
      "metadata": {
        "colab": {
          "base_uri": "https://localhost:8080/"
        },
        "id": "hjJyJuRiNQnS",
        "outputId": "d78e9cd1-7104-4b23-c71c-b0379085deb2"
      },
      "execution_count": null,
      "outputs": [
        {
          "output_type": "stream",
          "name": "stdout",
          "text": [
            "mIsS PiNkI KuMaRi\n"
          ]
        }
      ]
    },
    {
      "cell_type": "code",
      "source": [
        "a=[[],'abc',[0],1,0]\n",
        "print(list(filter(bool,a)))"
      ],
      "metadata": {
        "colab": {
          "base_uri": "https://localhost:8080/"
        },
        "id": "nSd5WcCqOiQE",
        "outputId": "0075116a-85f4-451e-91cb-664c3c7d2eb0"
      },
      "execution_count": null,
      "outputs": [
        {
          "output_type": "stream",
          "name": "stdout",
          "text": [
            "['abc', [0], 1]\n"
          ]
        }
      ]
    },
    {
      "cell_type": "code",
      "source": [
        "def fin():\n",
        "  global value\n",
        "  value='local'\n",
        "value='global'\n",
        "fin()\n",
        "print(value)"
      ],
      "metadata": {
        "colab": {
          "base_uri": "https://localhost:8080/"
        },
        "id": "ExYUI4FJO_LV",
        "outputId": "0286bfa8-1842-4f53-cf02-5093bf585494"
      },
      "execution_count": null,
      "outputs": [
        {
          "output_type": "stream",
          "name": "stdout",
          "text": [
            "local\n"
          ]
        }
      ]
    },
    {
      "cell_type": "code",
      "source": [
        "a=[2,4,6,6,7,7]\n",
        "b=a.pop(4)\n",
        "print(b)"
      ],
      "metadata": {
        "colab": {
          "base_uri": "https://localhost:8080/"
        },
        "id": "Ucus1AlJVeUB",
        "outputId": "493e96cb-f10a-489c-e6a1-ed7ce01d3a5f"
      },
      "execution_count": null,
      "outputs": [
        {
          "output_type": "stream",
          "name": "stdout",
          "text": [
            "7\n"
          ]
        }
      ]
    },
    {
      "cell_type": "code",
      "source": [
        "def solve(a,b):\n",
        "  return b if a ==0 else solve(b%a,a)\n",
        "print(solve(20,50))"
      ],
      "metadata": {
        "colab": {
          "base_uri": "https://localhost:8080/"
        },
        "id": "lNceC3b9PyCA",
        "outputId": "7efb9ff9-4bad-47d2-ce7d-e5c8ffb23ad8"
      },
      "execution_count": null,
      "outputs": [
        {
          "output_type": "stream",
          "name": "stdout",
          "text": [
            "10\n"
          ]
        }
      ]
    },
    {
      "cell_type": "code",
      "source": [
        "word='pinki kumari'\n",
        "new_word=''\n",
        "for old in word:\n",
        "  if old in \"qwertyuioplkjhgfdsazxcvbnm\":\n",
        "    new_word=chr(ord(old)-32)\n",
        "  else:\n",
        "    new_word=old\n",
        "  new_word+=new_word\n",
        "print(new_word)"
      ],
      "metadata": {
        "id": "pFenQzsPSVsK",
        "colab": {
          "base_uri": "https://localhost:8080/"
        },
        "outputId": "289aa3b7-2078-4958-e0b4-3c8f017e6967"
      },
      "execution_count": null,
      "outputs": [
        {
          "output_type": "stream",
          "name": "stdout",
          "text": [
            "II\n"
          ]
        }
      ]
    },
    {
      "cell_type": "code",
      "source": [
        "############################  ARRAY ASSIGNMENT    ##########################"
      ],
      "metadata": {
        "id": "FRRpA_TYSJNW"
      },
      "execution_count": null,
      "outputs": []
    },
    {
      "cell_type": "code",
      "source": [
        "################    REVERSE AN ARRAY    #######################\n",
        "\n",
        "n=int(input(\"enter size of list :\"))\n",
        "p=[0]*n\n",
        "i=0\n",
        "j=-1\n",
        "while i<n:\n",
        "    a=input('num :')  \n",
        "    p[j]=a\n",
        "    j-=1\n",
        "    i+=1\n",
        "print(p)\n",
        "\n",
        "\n"
      ],
      "metadata": {
        "colab": {
          "base_uri": "https://localhost:8080/"
        },
        "id": "n9w1opPmtHwc",
        "outputId": "c3a1828d-a45c-49da-9ae1-3e8694cfea99"
      },
      "execution_count": null,
      "outputs": [
        {
          "output_type": "stream",
          "name": "stdout",
          "text": [
            "enter size of list :5\n",
            "num :apple\n",
            "num :4k\n",
            "num :4.6\n",
            "num :3\n",
            "num :True\n",
            "['True', '3', '4.6', '4k', 'apple']\n"
          ]
        }
      ]
    },
    {
      "cell_type": "code",
      "source": [
        "######################### ( MEAN   , MEDIAN  ,  MODE ) FIND IN ARRAY  ##############  \n",
        "t=int(input(\"size :\"))\n",
        "p=1\n",
        "a=[]\n",
        "sum=0\n",
        "while p<= t:\n",
        "    n=int(input(\"num :\"))\n",
        "    sum+=n\n",
        "    a.append(n)\n",
        "    p+=1\n",
        "a.sort()\n",
        "print(a)\n",
        "print(\"MEAN :\",sum/t)\n",
        "if t%2==0:\n",
        "    b=t//2\n",
        "    print(\"MEDIAN :\",(a[b-1]+a[b])/2)\n",
        "else:\n",
        "    b=t//2\n",
        "    print(\"MEDIAN :\",a[b])\n",
        "\n",
        "num=0\n",
        "feq=0\n",
        "num1=''\n",
        "i=0\n",
        "while i<t:\n",
        "    j=i\n",
        "    c=0\n",
        "    while j<t:\n",
        "        if a[i]==a[j]:\n",
        "            c+=1\n",
        "        j+=1\n",
        "    if c>feq:\n",
        "        feq=c\n",
        "        num=a[i]\n",
        "    elif c==feq:\n",
        "        num1+=str(a[i])+\",\"\n",
        "    i+=1\n",
        "print(\"num :\",num1,num,\"feq :\",feq)\n"
      ],
      "metadata": {
        "colab": {
          "base_uri": "https://localhost:8080/"
        },
        "id": "v049WMe2tZou",
        "outputId": "c71e14a9-90cb-45f3-f382-da5b39eca600"
      },
      "execution_count": null,
      "outputs": [
        {
          "output_type": "stream",
          "name": "stdout",
          "text": [
            "size :6\n",
            "num :3\n",
            "num :7\n",
            "num :5\n",
            "num :3\n",
            "num :7\n",
            "num :9\n",
            "[3, 3, 5, 7, 7, 9]\n",
            "MEAN : 5.666666666666667\n",
            "MEDIAN : 6.0\n",
            "num : 7, 3 feq : 2\n"
          ]
        }
      ]
    },
    {
      "cell_type": "code",
      "source": [
        "\n",
        "###############  FEQUNCY    QUESTION           ######################$\n",
        "\n",
        "n=int(input(\"size :\"))\n",
        "a=[0]*n\n",
        "k=0\n",
        "while k<n:\n",
        "    b=int(input(\"num :\"))\n",
        "    a[k]=b\n",
        "    k+=1\n",
        "print(a)\n",
        "num=0\n",
        "feq=0\n",
        "num1=''\n",
        "i=0\n",
        "while i<len(a):\n",
        "    j=i\n",
        "    c=0\n",
        "    while j<len(a):\n",
        "        if a[i]==a[j]:\n",
        "            c+=1\n",
        "        j+=1\n",
        "    if c>feq:\n",
        "        feq=c\n",
        "        num=a[i]\n",
        "    elif c==feq:\n",
        "        num1+=str(a[i])+\",\"\n",
        "    i+=1\n",
        "print(\"num :\",num1,num,\"feq :\",feq)"
      ],
      "metadata": {
        "colab": {
          "base_uri": "https://localhost:8080/"
        },
        "id": "6ZJMFJJtKwRC",
        "outputId": "05baca9e-d768-4778-e8d8-ddc679410a3f"
      },
      "execution_count": null,
      "outputs": [
        {
          "output_type": "stream",
          "name": "stdout",
          "text": [
            "size :4\n",
            "num :1\n",
            "num :2\n",
            "num :3\n",
            "num :5\n",
            "[1, 2, 3, 5]\n",
            "num : 2,3,5, 1 feq : 1\n"
          ]
        }
      ]
    },
    {
      "cell_type": "code",
      "source": [
        "#########   WITHOUT USING APPEND HOW TO MAKE LIST     ############################################\n",
        "\n",
        "n=int(input(\"num :\"))\n",
        "p=[None]*n\n",
        "i=0\n",
        "while i <n:\n",
        "    a=int(input(\"Number :\"))\n",
        "    p[i]=a\n",
        "    i+=1\n",
        "print(p)\n"
      ],
      "metadata": {
        "colab": {
          "base_uri": "https://localhost:8080/"
        },
        "id": "31aISQVm7ifJ",
        "outputId": "a1ed2118-78d6-434d-f789-878193d95bc6"
      },
      "execution_count": null,
      "outputs": [
        {
          "output_type": "stream",
          "name": "stdout",
          "text": [
            "num :5\n",
            "Number :34\n",
            "Number :78\n",
            "Number :4\n",
            "Number :34\n",
            "Number :8\n",
            "[34, 78, 4, 34, 8]\n"
          ]
        }
      ]
    },
    {
      "cell_type": "code",
      "source": [
        "#######################  REVERCE AN ARRAY       ##############################\n",
        "n=int(input(\"num :\"))\n",
        "p=[None]*n\n",
        "i=0\n",
        "j=-1\n",
        "while i <n:\n",
        "    a=int(input(\"Number :\"))\n",
        "    p[j]=a\n",
        "    j-=1\n",
        "    i+=1\n",
        "print(p)"
      ],
      "metadata": {
        "colab": {
          "base_uri": "https://localhost:8080/"
        },
        "id": "ZUl0IIOA7Khb",
        "outputId": "ea497588-3859-48ac-c661-a559f13a7a54"
      },
      "execution_count": null,
      "outputs": [
        {
          "output_type": "stream",
          "name": "stdout",
          "text": [
            "num :6\n",
            "Number :3\n",
            "Number :8\n",
            "Number :5\n",
            "Number :3\n",
            "Number :1\n",
            "Number :9\n",
            "[9, 1, 3, 5, 8, 3]\n"
          ]
        }
      ]
    },
    {
      "cell_type": "code",
      "source": [
        "# 2. Find the mean, median and mode in an array \n",
        "t=int(input(\"size :\"))\n",
        "i=1\n",
        "p=[]\n",
        "sum=0\n",
        "while i <= t:\n",
        "    n=int(input(\"num :\"))\n",
        "    sum+=n\n",
        "    p.append(n)\n",
        "    i+=1\n",
        "p.sort()\n",
        "print(p)\n",
        "print(\"MEAN :\",sum/t)\n",
        "if t%2==0:\n",
        "    b=t//2\n",
        "    print(\"MEDIAN :\",(p[b-1]+p[b])/2)\n",
        "else:\n",
        "    b=t//2\n",
        "    print(\"MEDIAN :\",p[b])\n",
        "#######################\n",
        "n=int(input(\"size :\"))\n",
        "a=[0]*n\n",
        "k=0\n",
        "while k<n:\n",
        "    b=int(input(\"num :\"))\n",
        "    a[k]=b\n",
        "    k+=1\n",
        "print(a)\n",
        "num=0\n",
        "feq=0\n",
        "num1=''\n",
        "i=0\n",
        "while i<len(a):\n",
        "    j=i\n",
        "    c=0\n",
        "    while j<len(a):\n",
        "        if a[i]==a[j]:\n",
        "            c+=1\n",
        "        j+=1\n",
        "    if c>feq:\n",
        "        feq=c\n",
        "        num=a[i]\n",
        "    elif c==feq:\n",
        "        num1+=str(a[i])+\",\"\n",
        "    i+=1\n",
        "print(\"num :\",num1,num,\"feq :\",feq)\n"
      ],
      "metadata": {
        "id": "HYGi539p-YSc"
      },
      "execution_count": null,
      "outputs": []
    },
    {
      "cell_type": "code",
      "source": [
        "# 3. Print the elements of an array of size N, in a rotated manner with a gap of K. Eg, let us say \n",
        "# the array is - 3, 6, 7, 5, 10. And the value of k = 3. The output should \n",
        "# be - 7, 3, 10, 6, 5. If k = 2, the output should be - 6, 5, 3 10, 7\n",
        "\n",
        "n=int(input(\"enter size :\"))\n",
        "l=[0]*n\n",
        "i=0\n",
        "while i<n:\n",
        "    a=int(input(\"num :\"))\n",
        "    l[i]=a\n",
        "    i+=1\n",
        "print(l)\n",
        "\n",
        "k=int(input(\"Rotation Iteam :\"))\n",
        "count_k=0\n",
        "i=0\n",
        "size=0\n",
        "while True:\n",
        "    if type(l[i])==int:\n",
        "        if size==n-1:\n",
        "            print(l[i])\n",
        "            break\n",
        "        count_k+=1\n",
        "        if count_k==k:\n",
        "            print(l[i],end=\" \")\n",
        "            l[i]=None\n",
        "            size+=1\n",
        "            count_k=0\n",
        "        i+=1\n",
        "        if i==n:\n",
        "            i=i%n\n",
        "    else:\n",
        "        i+=1\n",
        "        if i==n:\n",
        "            i=i%n\n",
        "            \n",
        "\n",
        "# [2,6,5,9,21,4,8,0]\n",
        "# k=2\n",
        "# [6,9,4,0,5,8,21,2]\n",
        "\n"
      ],
      "metadata": {
        "colab": {
          "base_uri": "https://localhost:8080/"
        },
        "id": "1a4spkVJ84aQ",
        "outputId": "a160bcaf-97a0-49e9-fb2f-ad160f6b4b65"
      },
      "execution_count": null,
      "outputs": [
        {
          "output_type": "stream",
          "name": "stdout",
          "text": [
            "enter size :8\n",
            "num :2\n",
            "num :6\n",
            "num :5\n",
            "num :9\n",
            "num :21\n",
            "num :4\n",
            "num :8\n",
            "num :0\n",
            "[2, 6, 5, 9, 21, 4, 8, 0]\n",
            "Rotation Iteam :2\n",
            "6 9 4 0 5 8 21 2\n"
          ]
        }
      ]
    },
    {
      "cell_type": "code",
      "source": [
        "# 4. Find duplicate elements in an array\n",
        "size=int(input(\"enter the size :\"))\n",
        "l=[None]*size\n",
        "for i in range (size):\n",
        "    a=int(input(\"num :\"))\n",
        "    l[i]=a\n",
        "print(l)\n",
        "\n",
        "p=0\n",
        "num=''\n",
        "for j in range(size-1):\n",
        "    k=j+1\n",
        "    c=0\n",
        "    while k<(size):\n",
        "        if l[j]==l[k]:\n",
        "            c+=1\n",
        "        k+=1\n",
        "    if c==1:\n",
        "        print(l[j],end=\",\")\n",
        "print(\"DUPLICAKE ALIMENT:\")\n",
        "\n",
        "# [8,12,24,24,12,9,8]\n",
        "# [12,24,8]"
      ],
      "metadata": {
        "colab": {
          "base_uri": "https://localhost:8080/"
        },
        "id": "-PnEMaw1-te4",
        "outputId": "28ed5298-2816-463a-eb00-929d58445272"
      },
      "execution_count": null,
      "outputs": [
        {
          "output_type": "stream",
          "name": "stdout",
          "text": [
            "enter the size :7\n",
            "num :8\n",
            "num :12\n",
            "num :24\n",
            "num :24\n",
            "num :12\n",
            "num :9\n",
            "num :8\n",
            "[8, 12, 24, 24, 12, 9, 8]\n",
            "8,12,24,DUPLICAKE ALIMENT:\n"
          ]
        }
      ]
    },
    {
      "cell_type": "code",
      "source": [
        "# 5. Merge two sorted arrays into a single sorted array \n",
        "n=int(input(\"enter size :\"))\n",
        "x=[None]*n\n",
        "p=0\n",
        "while p<n:\n",
        "    a=int(input(\"num :\"))\n",
        "    x[p]=a\n",
        "    p+=1\n",
        "m=int(input(\"enter size :\"))\n",
        "y=[None]*m\n",
        "q=0\n",
        "while q<m:\n",
        "    b=int(input(\"num :\"))\n",
        "    y[q]=b\n",
        "    q+=1\n",
        "    \n",
        "list1=[0]*(n+m)\n",
        "i=0\n",
        "j=0\n",
        "k=0\n",
        "while k<(m+n):\n",
        "    if j>=m:\n",
        "        list1[k]=x[i]\n",
        "        i+=1\n",
        "    elif i>=n:\n",
        "        list1[k]=y[j]\n",
        "        j+=1\n",
        "    elif x[i]<=y[j]:\n",
        "        list1[k]=(x[i])\n",
        "        i+=1\n",
        "    else:\n",
        "        list1[k]=(y[j])\n",
        "        j+=1\n",
        "    k+=1\n",
        "print(\"Sort Marge Array:\",list1) \n",
        "# [23,32,45,67,89]\n",
        "# [22,24,45,67,89,90]\n",
        "# [22,23,24,32,45,45,67,67,89,89,90]\n",
        "\n"
      ],
      "metadata": {
        "colab": {
          "base_uri": "https://localhost:8080/"
        },
        "id": "BSz5Mj8U_Qmu",
        "outputId": "bec3eb1e-6db6-48a4-d9ca-09f3f432e627"
      },
      "execution_count": null,
      "outputs": [
        {
          "output_type": "stream",
          "name": "stdout",
          "text": [
            "enter size :5\n",
            "num :23\n",
            "num :32\n",
            "num :45\n",
            "num :67\n",
            "num :89\n",
            "enter size :6\n",
            "num :22\n",
            "num :24\n",
            "num :45\n",
            "num :67\n",
            "num :89\n",
            "num :90\n",
            "Sort Marge Array: [22, 23, 24, 32, 45, 45, 67, 67, 89, 89, 90]\n"
          ]
        }
      ]
    },
    {
      "cell_type": "code",
      "source": [
        "# 6. Given an unsorted array of size N that contains only non-negative integers, find a contiguous \n",
        "# subarray that adds to a given number S. In case of multiple subarrays, return the subarray \n",
        "# which comes first on moving from left to right. Eg, let us say the array is - 3, 6, 7, 5, 10. \n",
        "# And the value of S = 12. The output should be - 7, 5\n",
        "n=int(input(\"enter the size :\"))\n",
        "l1=[0]*n\n",
        "for i in range (n):\n",
        "    a=int(input(\"num :\"))\n",
        "    l1[i]=a\n",
        "for i in range(n):\n",
        "    for j in range(i+1,n):\n",
        "        if l1[i]>l1[j]:\n",
        "            l1[i],l1[j]=l1[j],l1[i]\n",
        "\n",
        "false=False   \n",
        "S=int(input(\"enter the sum : \"))\n",
        "for i in range(n-1):\n",
        "    if l1[i]+l1[i+1]==S:\n",
        "        print((l1[i],l1[i+1]))\n",
        "        false=True\n",
        "if false==False :\n",
        "    print(\"NOT FOUND\")\n",
        "    "
      ],
      "metadata": {
        "id": "Ey5VU9p9AQZv"
      },
      "execution_count": null,
      "outputs": []
    },
    {
      "cell_type": "code",
      "source": [
        "###################################   SELECTION SORT       #################################\n",
        "size=int(input(\"Enter num :\"))\n",
        "p=[0]*size\n",
        "for i in range(size):\n",
        "    a=int(input(\"num :\"))\n",
        "    p[i]=a\n",
        "print(p)\n",
        "\n",
        "j=0\n",
        "while j<(size-1):\n",
        "    k=j+1\n",
        "    min=j\n",
        "    while k<(size):\n",
        "        if p[k]<p[min]:\n",
        "            min=k\n",
        "        k+=1\n",
        "    if p[j]<=p[min]:\n",
        "        pass\n",
        "    else:\n",
        "        p[j]=p[j]*p[min]\n",
        "        p[min]=p[j]//p[min]\n",
        "        p[j]=p[j]//p[min]\n",
        "    j+=1\n",
        "print(p)\n",
        "  "
      ],
      "metadata": {
        "id": "bjoeuKnftmH9",
        "colab": {
          "base_uri": "https://localhost:8080/"
        },
        "outputId": "d04db75a-a96f-401d-a33d-4196e2eecba5"
      },
      "execution_count": null,
      "outputs": [
        {
          "output_type": "stream",
          "name": "stdout",
          "text": [
            "Enter num :5\n",
            "num :21\n",
            "num :6\n",
            "num :9\n",
            "num :33\n",
            "num :3\n",
            "[21, 6, 9, 33, 3]\n",
            "[3, 6, 9, 21, 33]\n"
          ]
        }
      ]
    },
    {
      "cell_type": "code",
      "source": [],
      "metadata": {
        "id": "i1_nn858wyKM"
      },
      "execution_count": null,
      "outputs": []
    },
    {
      "cell_type": "code",
      "source": [
        "def fun(a,b):\n",
        "  c=a+b\n",
        "  return\n",
        "print(fun(3,6))"
      ],
      "metadata": {
        "id": "mdOhxDjoWPht",
        "colab": {
          "base_uri": "https://localhost:8080/"
        },
        "outputId": "0f6a15df-e3bd-425c-87bf-df27aaf09f16"
      },
      "execution_count": null,
      "outputs": [
        {
          "output_type": "stream",
          "name": "stdout",
          "text": [
            "None\n"
          ]
        }
      ]
    },
    {
      "cell_type": "code",
      "source": [
        "##########################  list assignment   ###########################\n",
        "# Q.1\n",
        "a=[0]*4\n",
        "for i in range(4):\n",
        "    n=input(\"enter house name :\")\n",
        "    a[i]=n\n",
        "print(a)\n",
        "\n",
        "name=list(map(str,input(\"Enter house name :\").split()))\n",
        "print(name)\n"
      ],
      "metadata": {
        "id": "0Hj7-6pfwz2e"
      },
      "execution_count": null,
      "outputs": []
    },
    {
      "cell_type": "code",
      "source": [
        "# Q.2\n",
        "a=[\"mercury\",\"venus\",\"earth\",\"mars\",\"jupitar\",\"saturn\",\"neptune\",\"uranus\"]\n",
        "n=int(input(\"enter the planet name :\"))\n",
        "print(a[n-1])\n",
        "\n"
      ],
      "metadata": {
        "colab": {
          "base_uri": "https://localhost:8080/"
        },
        "id": "Qw3Wyz1mxEmL",
        "outputId": "e0a3b95f-357b-414e-dfec-ca426595cbab"
      },
      "execution_count": null,
      "outputs": [
        {
          "output_type": "stream",
          "name": "stdout",
          "text": [
            "enter the planet name :3\n",
            "earth\n"
          ]
        }
      ]
    },
    {
      "cell_type": "code",
      "source": [
        "# Q.3\n",
        "l=[i for i in range(30) if i%2!=0]\n",
        "print(l)\n",
        "for i in range(len(l)):\n",
        "    if i%2!=0:\n",
        "        print(l[i],end=\" \")\n",
        "\n",
        "l[1::2]\n"
      ],
      "metadata": {
        "id": "ALSZ51IVxLQk"
      },
      "execution_count": null,
      "outputs": []
    },
    {
      "cell_type": "code",
      "source": [
        "## Q .4\n",
        "Array=list(i*2 for i in range(10))   \n",
        "print(Array) \n"
      ],
      "metadata": {
        "id": "K0To6-ZsxT5s",
        "colab": {
          "base_uri": "https://localhost:8080/"
        },
        "outputId": "8b0510b3-fe56-4aff-ea56-a3f7463e381c"
      },
      "execution_count": null,
      "outputs": [
        {
          "output_type": "stream",
          "name": "stdout",
          "text": [
            "[0, 2, 4, 6, 8, 10, 12, 14, 16, 18]\n"
          ]
        }
      ]
    },
    {
      "cell_type": "code",
      "source": [
        "# #  Q.5\n",
        "l=list(map(int,input(\"enter number :\").split()))\n",
        "print(l)\n",
        "\n",
        "l=[0]*4\n",
        "for i in range(4):\n",
        "    a=int(input(\"enter num :\"))\n",
        "    l[i]=a\n",
        "print(l)\n"
      ],
      "metadata": {
        "id": "XwNkK-73xWOt"
      },
      "execution_count": null,
      "outputs": []
    },
    {
      "cell_type": "code",
      "source": [
        "# # Q .6\n",
        "l=[33,56,33,78,54,78,32,21,90]\n",
        "check_num=int(input(\"enter check num :\"))\n",
        "if check_num in l:\n",
        "    print(\"YES\")\n",
        "else:\n",
        "    print(\"NO\")\n"
      ],
      "metadata": {
        "colab": {
          "base_uri": "https://localhost:8080/"
        },
        "id": "o75Z9K6nxbsX",
        "outputId": "432fb6f4-1d9c-4c09-c95c-9015a96c4034"
      },
      "execution_count": null,
      "outputs": [
        {
          "output_type": "stream",
          "name": "stdout",
          "text": [
            "enter check num :67\n",
            "NO\n"
          ]
        }
      ]
    },
    {
      "cell_type": "code",
      "source": [
        "# Q.7\n",
        "list1=list(map(int,input(\"enter number :\").split()))\n",
        "print(list1) \n",
        "# print(min(list1)) \n",
        "min=list1[0]\n",
        "for i in list1:\n",
        "    if i<min:\n",
        "        min=i\n",
        "print(min)"
      ],
      "metadata": {
        "colab": {
          "base_uri": "https://localhost:8080/"
        },
        "id": "uozr4p-b2ujz",
        "outputId": "df7984cf-5bb4-40e2-ee1e-874bba089483"
      },
      "execution_count": null,
      "outputs": [
        {
          "output_type": "stream",
          "name": "stdout",
          "text": [
            "enter number :34 56 789 24 65 89 43 2\n",
            "[34, 56, 789, 24, 65, 89, 43, 2]\n",
            "2\n"
          ]
        }
      ]
    },
    {
      "cell_type": "code",
      "source": [
        "# Q.8\n",
        "list=[1,4,8,6,7,8,1,3,2,1]\n",
        "num=int(input(\"enter the num :\"))\n",
        "flag=0\n",
        "for i in list:\n",
        "    if i==num:\n",
        "        flag=1\n",
        "        print(list.count(i))\n",
        "        break\n",
        "if flag==0:\n",
        "    print(\"Don't Access in this Array\")"
      ],
      "metadata": {
        "id": "qeGMsHPC203o"
      },
      "execution_count": null,
      "outputs": []
    },
    {
      "cell_type": "code",
      "source": [
        "# Q.9\n",
        "list=['T', 'H', 'T', 'H', 'H', 'H', 'T', 'T', 'T', 'T', 'H', 'T', 'H', 'H', 'T', 'T', 'T', 'H', 'T', 'T', 'T', 'T', 'H', 'T',\n",
        "'H', 'H', 'H', 'H', 'H', 'H', 'H', 'T', 'H', 'T', 'H', 'T', 'T', 'H', 'H', 'T', 'T', 'H', 'T', 'H', 'H', 'T', 'H', 'H',\n",
        "'H', 'T', 'T', 'H', 'H', 'H', 'H', 'T', 'H', 'H', 'T', 'T', 'T', 'H', 'T', 'H', 'T', 'H', 'T', 'T', 'H', 'H', 'T', 'T',\n",
        "'T', 'T', 'H', 'T', 'T', 'H', 'H', 'T', 'T', 'T', 'T', 'T', 'H', 'T', 'T', 'T', 'T', 'H', 'H', 'T', 'H', 'H', 'H', 'T',\n",
        "'H', 'T', 'H']\n",
        "sum_H=0\n",
        "sum_T=0\n",
        "i=0\n",
        "while i<len(list)-2:\n",
        "    if list[i]==\"T\":\n",
        "        if list[i+1]==\"T\" and list[i+2]==\"T\":\n",
        "          if list[i+3]==\"T\":\n",
        "            i=i+4\n",
        "          else:\n",
        "            i+=3\n",
        "          sum_T+=1\n",
        "            \n",
        "    else:\n",
        "        if list[i+1]==\"H\" and list[i+2]==\"H\":\n",
        "          if list[i+3]==\"H\":\n",
        "            i+=4\n",
        "          else:\n",
        "            i+=3\n",
        "          sum_H+=1\n",
        "\n",
        "    i+=1\n",
        "print(\"The count of H :\",sum_H,\"The count of H : \",sum_T)\n",
        "print(\"Total count :\", sum_H+sum_T)"
      ],
      "metadata": {
        "colab": {
          "base_uri": "https://localhost:8080/"
        },
        "id": "dAy20Wg0XXn2",
        "outputId": "ff2b3783-4906-4d6d-debd-cbcd95808ed3"
      },
      "execution_count": null,
      "outputs": [
        {
          "output_type": "stream",
          "name": "stdout",
          "text": [
            "The count of H : 5 The count of H :  7\n",
            "Total count : 12\n"
          ]
        }
      ]
    },
    {
      "cell_type": "code",
      "source": [
        "# Q.10\n",
        "l=[]\n",
        "c=1\n",
        "i=1\n",
        "while i<=4:\n",
        "    a=[c]*4\n",
        "    l.append(a)\n",
        "    i+=1 \n",
        "print(l)\n",
        "\n",
        "a=[[1]*4]*4\n",
        "print(a)\n"
      ],
      "metadata": {
        "colab": {
          "base_uri": "https://localhost:8080/"
        },
        "id": "78Cg5IAbcSg2",
        "outputId": "776f38e0-1f93-46b6-9370-5695ffb5a551"
      },
      "execution_count": null,
      "outputs": [
        {
          "output_type": "stream",
          "name": "stdout",
          "text": [
            "[[1, 1, 1, 1], [1, 1, 1, 1], [1, 1, 1, 1], [1, 1, 1, 1]]\n",
            "[[1, 1, 1, 1], [1, 1, 1, 1], [1, 1, 1, 1], [1, 1, 1, 1]]\n"
          ]
        }
      ]
    },
    {
      "cell_type": "code",
      "source": [
        "# Q.11\n",
        "l=[]\n",
        "i=1\n",
        "while i<=16:\n",
        "    a=[0]*4\n",
        "    j=0\n",
        "    while j<4:\n",
        "        a[j]=i\n",
        "        i+=1\n",
        "        j+=1\n",
        "    l.append(a)\n",
        "print(l)"
      ],
      "metadata": {
        "colab": {
          "base_uri": "https://localhost:8080/"
        },
        "id": "fiCWJE0acUpE",
        "outputId": "6b7d11ca-52e7-4e84-fec8-483174450fc5"
      },
      "execution_count": null,
      "outputs": [
        {
          "output_type": "stream",
          "name": "stdout",
          "text": [
            "[[1, 2, 3, 4], [5, 6, 7, 8], [9, 10, 11, 12], [13, 14, 15, 16]]\n"
          ]
        }
      ]
    },
    {
      "cell_type": "code",
      "source": [
        "# Q.12\n",
        "l=[]\n",
        "num=int(input(\"enter num :\"))\n",
        "i=1\n",
        "while i<=4:\n",
        "    a=[num]*4\n",
        "    l.append(a)\n",
        "    i+=1\n",
        "print(l)"
      ],
      "metadata": {
        "colab": {
          "base_uri": "https://localhost:8080/"
        },
        "id": "C8CuSQsycgvv",
        "outputId": "fe56500d-bb5d-417f-b78f-21ed0ec7e9eb"
      },
      "execution_count": null,
      "outputs": [
        {
          "output_type": "stream",
          "name": "stdout",
          "text": [
            "enter num :45\n",
            "[[45, 45, 45, 45], [45, 45, 45, 45], [45, 45, 45, 45], [45, 45, 45, 45]]\n"
          ]
        }
      ]
    },
    {
      "cell_type": "code",
      "source": [
        "l=[]\n",
        "i=1\n",
        "while i<=16:\n",
        "    a=[0]*4\n",
        "    j=0\n",
        "    while j<4:\n",
        "      num=int(input(\"enter start num :\"))\n",
        "      a[j]=num\n",
        "      i+=1\n",
        "      j+=1\n",
        "    l.append(a)\n",
        "print(l)"
      ],
      "metadata": {
        "id": "8k6HcVLieIhs"
      },
      "execution_count": null,
      "outputs": []
    },
    {
      "cell_type": "code",
      "source": [
        "# Q.13\n",
        "l=[[2,4,6],\n",
        "   [7,8,9],\n",
        "   [1,2,3]]\n",
        "# row=[]\n",
        "# colom=[]\n",
        "# for i in range(len(l)):\n",
        "#     for j in range(len(l)):\n",
        "#         if i==1 :\n",
        "#             row.append(l[i][j])\n",
        "#         if j==2:\n",
        "#             colom.append(l[i][j])\n",
        "# print(\"elements of 2 row :\",row,\"elements of 3 colom :\",colom)\n",
        "\n",
        "for i in range(3):\n",
        "  print(l[1][i],end=\" \")\n",
        "print()\n",
        "for j in range(3):\n",
        "  print(l[j][2],end=\" \")\n"
      ],
      "metadata": {
        "id": "vy1BVt9OnKpS",
        "colab": {
          "base_uri": "https://localhost:8080/"
        },
        "outputId": "162ac020-1b99-4b44-cab0-7bf39f0dec3c"
      },
      "execution_count": null,
      "outputs": [
        {
          "output_type": "stream",
          "name": "stdout",
          "text": [
            "7 8 9 \n",
            "6 9 3 "
          ]
        }
      ]
    },
    {
      "cell_type": "code",
      "source": [
        "\n",
        "# Q.14\n",
        "l=[[2,4,6],\n",
        "   [7,8,9],\n",
        "   [1,2,3]]\n",
        "m=int(input(\"enter which row :\"))\n",
        "n=int(input(\"enter which colom :\"))\n",
        "row=[]\n",
        "colom=[]\n",
        "for i in range(len(l)):\n",
        "    for j in range(len(l)):\n",
        "        if i==m-1 :\n",
        "            row.append(l[i][j])\n",
        "        if j==n-1:\n",
        "            colom.append(l[i][j])\n",
        "print(\"elements of row :\",row,\"elements of colom :\",colom)"
      ],
      "metadata": {
        "colab": {
          "base_uri": "https://localhost:8080/"
        },
        "id": "yLsQp3l-pKCR",
        "outputId": "22754227-fb1e-4f1b-c63c-203c17473014"
      },
      "execution_count": null,
      "outputs": [
        {
          "output_type": "stream",
          "name": "stdout",
          "text": [
            "enter which row :1\n",
            "enter which colom :2\n",
            "elements of row : [2, 4, 6] elements of colom : [4, 8, 2]\n"
          ]
        }
      ]
    },
    {
      "cell_type": "code",
      "source": [
        "#   ..OO.OO..\n",
        "#   .OOOOOOO.\n",
        "#   .OOOOOOO.\n",
        "#   ..OOOOO..\n",
        "#   ...OOO...\n",
        "#   ....O....\n",
        "\n",
        "#  Q.19\n",
        "a=      [['.', '.', '.', '.', '.', '.'],\n",
        "        ['.', 'O', 'O', '.', '.', '.'],\n",
        "        ['O', 'O', 'O', 'O', '.', '.'],\n",
        "        ['O', 'O', 'O', 'O', 'O', '.'],\n",
        "        ['.', 'O', 'O', 'O', 'O', 'O'],\n",
        "        ['O', 'O', 'O', 'O', 'O', '.'],\n",
        "        ['O', 'O', 'O', 'O', '.', '.'],\n",
        "        ['.', 'O', 'O', '.', '.', '.'],\n",
        "        ['.', '.', '.', '.', '.', '.']]\n",
        "for i in range(6):\n",
        "  for j in range(9):\n",
        "    print(a[j][i],end=\" \")\n",
        "  print()"
      ],
      "metadata": {
        "id": "v-z6T40FTscY",
        "colab": {
          "base_uri": "https://localhost:8080/"
        },
        "outputId": "5e70c39a-73da-4dfb-839c-842ad319038c"
      },
      "execution_count": null,
      "outputs": [
        {
          "output_type": "stream",
          "name": "stdout",
          "text": [
            ". . O O . O O . . \n",
            ". O O O O O O O . \n",
            ". O O O O O O O . \n",
            ". . O O O O O . . \n",
            ". . . O O O . . . \n",
            ". . . . O . . . . \n"
          ]
        }
      ]
    },
    {
      "cell_type": "code",
      "source": [
        "#top             right\n",
        "#  left          \n",
        "a=[[ 1 ,2  ,3   ,4  ,5],\n",
        "   [16 ,17 ,18  ,19 ,6],\n",
        "   [15 ,24 ,25  ,20 ,7],\n",
        "   [14 ,23 ,22  ,21 ,8],\n",
        "   [13 ,12 ,11  ,10 ,9]]\n",
        "# bottom\n",
        "n=int(input(\" n :\"))\n",
        "top,bottom=0,n\n",
        "left,right=0,n\n",
        "d=0\n",
        "while top<bottom and left<right:\n",
        "  if d==0:\n",
        "    for i in range(left,right):\n",
        "      print(a[top][i],end=\" \")\n",
        "    top+=1\n",
        "  elif d==1:\n",
        "    for i in range(top,bottom):\n",
        "      print(a[i][right-1],end=\" \")\n",
        "    right-=1\n",
        "  elif d==2:\n",
        "    for i in range(right-1,left-1,-1):\n",
        "      print(a[bottom-1][i],end=\" \")\n",
        "    bottom-=1\n",
        "  elif d==3: \n",
        "    for i in range(bottom-1,top-1,-1):\n",
        "      print(a[i][left],end=\" \")\n",
        "    left+=1\n",
        "  d=(d+1)%4"
      ],
      "metadata": {
        "colab": {
          "base_uri": "https://localhost:8080/"
        },
        "id": "XjmXoDWfHjs1",
        "outputId": "726f3c58-4b29-46ed-9cbe-34aacdaf2bc8"
      },
      "execution_count": null,
      "outputs": [
        {
          "output_type": "stream",
          "name": "stdout",
          "text": [
            " n :5\n",
            "1 2 3 4 5 6 7 8 9 10 11 12 13 14 15 16 17 18 19 20 21 22 23 24 25 "
          ]
        }
      ]
    },
    {
      "cell_type": "code",
      "source": [
        "###   Q. 20\n",
        "num=int(input(\"enter the num :\"))\n",
        "n_list=[[1 for x in range(num)]for y in range(num)]       \n",
        "n=1\n",
        "low=0\n",
        "high=num-1\n",
        "count=int((num+1)/2)\n",
        "for i in range(count):\n",
        "  for j in range(low,high+1):\n",
        "    n_list[i][j]=n\n",
        "    n+=1\n",
        "  for j in range(low+1,high+1):\n",
        "    n_list[j][high]=n\n",
        "    n+=1\n",
        "  for j in range(high-1,low-1,-1):\n",
        "    n_list[high][j]=n\n",
        "    n+=1\n",
        "  for j in range(high-1,low,-1):\n",
        "    n_list[j][low]=n\n",
        "    n+=1\n",
        "  low+=1\n",
        "  high-=1\n",
        "for i in range(num):\n",
        "  for j in range(num):\n",
        "    print(n_list[i][j],end=\"\\t\")\n",
        "  print()\n",
        "  print()"
      ],
      "metadata": {
        "colab": {
          "base_uri": "https://localhost:8080/"
        },
        "id": "sWTg-TWVnX0e",
        "outputId": "2ba72907-6ac7-4e88-a813-de018c9110cc"
      },
      "execution_count": null,
      "outputs": [
        {
          "output_type": "stream",
          "name": "stdout",
          "text": [
            "enter the num :10\n",
            "1\t2\t3\t4\t5\t6\t7\t8\t9\t10\t\n",
            "\n",
            "36\t37\t38\t39\t40\t41\t42\t43\t44\t11\t\n",
            "\n",
            "35\t64\t65\t66\t67\t68\t69\t70\t45\t12\t\n",
            "\n",
            "34\t63\t84\t85\t86\t87\t88\t71\t46\t13\t\n",
            "\n",
            "33\t62\t83\t96\t97\t98\t89\t72\t47\t14\t\n",
            "\n",
            "32\t61\t82\t95\t100\t99\t90\t73\t48\t15\t\n",
            "\n",
            "31\t60\t81\t94\t93\t92\t91\t74\t49\t16\t\n",
            "\n",
            "30\t59\t80\t79\t78\t77\t76\t75\t50\t17\t\n",
            "\n",
            "29\t58\t57\t56\t55\t54\t53\t52\t51\t18\t\n",
            "\n",
            "28\t27\t26\t25\t24\t23\t22\t21\t20\t19\t\n",
            "\n"
          ]
        }
      ]
    },
    {
      "cell_type": "code",
      "source": [
        "#  Q.1 Write a Python Program to add two matrices and store them in a separate matrix.\n",
        "A =[[2,4,1],\n",
        "    [8,0,-1],\n",
        "    [1,-4,0]]\n",
        "\n",
        "B = [[8,0,3],\n",
        "     [2,-5,7],\n",
        "     [3,-1,5]] \n",
        "c=[]\n",
        "for i in range(len(A)):\n",
        "  for j in range(len(A[i])):\n",
        "    print((A[i][j]+B[i][j]),end=\" \")\n",
        "  print()"
      ],
      "metadata": {
        "id": "yjZji78mhNbV"
      },
      "execution_count": null,
      "outputs": []
    },
    {
      "cell_type": "code",
      "source": [
        "# Q.2 Write a program to subtract two matrices and store them in a separate matrix\n",
        "A =[[2,4,1],\n",
        "    [8,0,-1],\n",
        "    [1,-4,0]]\n",
        "\n",
        "B = [[8,0,3],\n",
        "     [2,-5,7],\n",
        "     [3,-1,5]] \n",
        "c=[]\n",
        "for i in range(len(A)):\n",
        "  for j in range(len(A[i])):\n",
        "    print((A[i][j]-B[i][j]),end=\" \")\n",
        "  print()"
      ],
      "metadata": {
        "id": "RKvLT4c_fJ8U"
      },
      "execution_count": null,
      "outputs": []
    },
    {
      "cell_type": "code",
      "source": [
        "#  Q.3  Write a program to multiply two matrices and store the result in a separate matrix.\n",
        "\n",
        "A =[[2,4,1],\n",
        "    [8,0,-1],\n",
        "    [1,-4,0]]\n",
        "\n",
        "B = [[8,0,3],\n",
        "     [2,-5,7],\n",
        "     [3,-1,5]] \n",
        "\n",
        "for i in range(len(A)):\n",
        "  for p in range(len(A[i])):\n",
        "    c=0\n",
        "    for j in range(len(A)):\n",
        "      c+=(A[i][j]*B[j][p])\n",
        "    print(c,end=\" , \")\n",
        "  print()"
      ],
      "metadata": {
        "colab": {
          "base_uri": "https://localhost:8080/"
        },
        "id": "fhJnfhX4EGmx",
        "outputId": "d418e1ba-8fa5-4aa7-bd12-ee430f93eb7b"
      },
      "execution_count": 25,
      "outputs": [
        {
          "output_type": "stream",
          "name": "stdout",
          "text": [
            "27 , -21 , 39 , \n",
            "61 , 1 , 19 , \n",
            "0 , 20 , -25 , \n"
          ]
        }
      ]
    },
    {
      "cell_type": "code",
      "source": [
        "#  Q.4 Write a Python program to transpose matrix A. Store the result in a separate matrix.\n",
        "P=[[0,0,0],\n",
        "[0,0,0],\n",
        "[0,0,0]]\n",
        "\n",
        "A=[[2,4,1],\n",
        "  [8,0,-1],\n",
        "  [1,-4,0]]\n",
        "for i in range(len(A)):\n",
        "  for j in range(len(A[i])):\n",
        "    P[j][i]=A[i][j]\n",
        "print(P)"
      ],
      "metadata": {
        "id": "YRKOIaokmX_7"
      },
      "execution_count": null,
      "outputs": []
    }
  ],
  "metadata": {
    "colab": {
      "collapsed_sections": [],
      "provenance": []
    },
    "kernelspec": {
      "display_name": "Python 3",
      "name": "python3"
    },
    "language_info": {
      "name": "python"
    }
  },
  "nbformat": 4,
  "nbformat_minor": 0
}