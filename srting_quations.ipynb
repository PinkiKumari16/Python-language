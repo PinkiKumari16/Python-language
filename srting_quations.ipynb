{
  "nbformat": 4,
  "nbformat_minor": 0,
  "metadata": {
    "colab": {
      "provenance": [],
      "authorship_tag": "ABX9TyN9tsv+P+7gtqTl5tU5HEnP",
      "include_colab_link": true
    },
    "kernelspec": {
      "name": "python3",
      "display_name": "Python 3"
    },
    "language_info": {
      "name": "python"
    }
  },
  "cells": [
    {
      "cell_type": "markdown",
      "metadata": {
        "id": "view-in-github",
        "colab_type": "text"
      },
      "source": [
        "<a href=\"https://colab.research.google.com/github/pinkikumari1/kbc/blob/main/srting_quations.ipynb\" target=\"_parent\"><img src=\"https://colab.research.google.com/assets/colab-badge.svg\" alt=\"Open In Colab\"/></a>"
      ]
    },
    {
      "cell_type": "code",
      "execution_count": null,
      "metadata": {
        "colab": {
          "base_uri": "https://localhost:8080/"
        },
        "id": "YrHz-xQN9JsY",
        "outputId": "a14c6770-cc79-42fe-95df-1402145ae43e"
      },
      "outputs": [
        {
          "output_type": "stream",
          "name": "stdout",
          "text": [
            "3\n",
            "4\n",
            "-1\n"
          ]
        }
      ],
      "source": [
        "s=\"welcome to my site https:\\\\nataksworld.com\"\n",
        "print(s.find(\"come\"))\n",
        "print(s.find(\"o\"))\n",
        "print(s.find(\"o\",10,20))"
      ]
    },
    {
      "cell_type": "code",
      "execution_count": null,
      "metadata": {
        "colab": {
          "base_uri": "https://localhost:8080/"
        },
        "id": "pTsD6dLdoV2_",
        "outputId": "a7b3fddc-2791-4b83-c196-74136f38db37"
      },
      "outputs": [
        {
          "name": "stdout",
          "output_type": "stream",
          "text": [
            "6\n",
            "7\n"
          ]
        }
      ],
      "source": [
        "x = 6        # initialize x\n",
        "print(x)\n",
        "x = x + 1    # update x\n",
        "print(x)\n"
      ]
    },
    {
      "cell_type": "code",
      "execution_count": null,
      "metadata": {
        "colab": {
          "base_uri": "https://localhost:8080/"
        },
        "id": "WFZEkOVgpW63",
        "outputId": "e643cb86-5725-43a3-bda2-62a17f6c08be"
      },
      "outputs": [
        {
          "name": "stdout",
          "output_type": "stream",
          "text": [
            "0 3 2\n"
          ]
        }
      ],
      "source": [
        "from typing import cast\n",
        "import builtins\n",
        "a,b=-1,3\n",
        "c=a%b\n",
        "a+=b%c\n",
        "b+=a%b%(-c)\n",
        "print(a,b,c)"
      ]
    },
    {
      "cell_type": "code",
      "execution_count": null,
      "metadata": {
        "colab": {
          "base_uri": "https://localhost:8080/"
        },
        "id": "rEWGSwmjpMqJ",
        "outputId": "6ae11364-0065-49b0-e1f4-bc74f959143e"
      },
      "outputs": [
        {
          "name": "stdout",
          "output_type": "stream",
          "text": [
            "write your name:-pinki\n",
            "pinki\n",
            "wriye your age:-19\n",
            "19\n"
          ]
        }
      ],
      "source": [
        "x=str(input(\"write your name:-\"))\n",
        "print(x)\n",
        "y=input(\"wriye your age:-\")\n",
        "print(y)"
      ]
    },
    {
      "cell_type": "code",
      "execution_count": null,
      "metadata": {
        "colab": {
          "base_uri": "https://localhost:8080/"
        },
        "id": "Mo6Ogqk0oqtR",
        "outputId": "fbb03aa0-c554-4469-851a-fd36181aaa59"
      },
      "outputs": [
        {
          "name": "stdout",
          "output_type": "stream",
          "text": [
            "navgurukul\n"
          ]
        }
      ],
      "source": [
        "x=(\"nav\")\n",
        "y=(\"gurukul\")\n",
        "print(x+y)"
      ]
    },
    {
      "cell_type": "code",
      "execution_count": null,
      "metadata": {
        "colab": {
          "base_uri": "https://localhost:8080/"
        },
        "id": "EY-plFENdPfa",
        "outputId": "514fcf2b-941b-4c0b-f8fc-3bf0cc1fa64c"
      },
      "outputs": [
        {
          "name": "stdout",
          "output_type": "stream",
          "text": [
            "36\n",
            "<class 'str'>\n"
          ]
        }
      ],
      "source": [
        "age=36\n",
        "age=str(age)\n",
        "print(age)\n",
        "print(type(age))"
      ]
    },
    {
      "cell_type": "code",
      "execution_count": null,
      "metadata": {
        "colab": {
          "base_uri": "https://localhost:8080/"
        },
        "id": "Z731C0iqeeux",
        "outputId": "b74dcc63-2b85-45c9-844f-f30154cf4ba2"
      },
      "outputs": [
        {
          "name": "stdout",
          "output_type": "stream",
          "text": [
            "16\n"
          ]
        }
      ],
      "source": [
        "var1=8\n",
        "var2=8\n",
        "print(var1+var2)"
      ]
    },
    {
      "cell_type": "markdown",
      "metadata": {
        "id": "yLAX2gx1f4vb"
      },
      "source": [
        "a=\"megha\"\n",
        "print(a) "
      ]
    },
    {
      "cell_type": "code",
      "execution_count": null,
      "metadata": {
        "colab": {
          "base_uri": "https://localhost:8080/"
        },
        "id": "VbmyAlSdgcF_",
        "outputId": "dee9d2ea-494a-41b6-d2bd-ef46ee79bf44"
      },
      "outputs": [
        {
          "name": "stdout",
          "output_type": "stream",
          "text": [
            "navgurukul 2016 me shuru hua tha\n"
          ]
        }
      ],
      "source": [
        "a=\"navgurukul\"\n",
        "b=2016\n",
        "c=\"me shuru hua tha\"\n",
        "print(a,+b,c)"
      ]
    },
    {
      "cell_type": "code",
      "execution_count": null,
      "metadata": {
        "colab": {
          "base_uri": "https://localhost:8080/"
        },
        "id": "eElK1NtKkpVx",
        "outputId": "05d35ae9-84c2-45d0-bdd7-53e361af70ad"
      },
      "outputs": [
        {
          "output_type": "stream",
          "name": "stdout",
          "text": [
            "navgurukul 13\n",
            "navgurukul13\n"
          ]
        }
      ],
      "source": [
        "a=\"navgurukul\"\n",
        "b=\"13\"\n",
        "print(a,b)\n",
        "print(a+b)"
      ]
    },
    {
      "cell_type": "code",
      "source": [
        "a = bool(\"\")\n",
        "b = bool(\" \")\n",
        "print(a+b)"
      ],
      "metadata": {
        "colab": {
          "base_uri": "https://localhost:8080/"
        },
        "id": "CGPejnQymBOR",
        "outputId": "31990312-9177-4379-b652-01ef1692bb60"
      },
      "execution_count": null,
      "outputs": [
        {
          "output_type": "stream",
          "name": "stdout",
          "text": [
            "1\n"
          ]
        }
      ]
    },
    {
      "cell_type": "code",
      "source": [
        "a=5\n",
        "a=a*\"5\"\n",
        "print(type(a))"
      ],
      "metadata": {
        "colab": {
          "base_uri": "https://localhost:8080/"
        },
        "id": "KcTbChy0np9f",
        "outputId": "72e61c1d-f890-46f4-ab53-eadb9a3e3b9e"
      },
      "execution_count": null,
      "outputs": [
        {
          "output_type": "stream",
          "name": "stdout",
          "text": [
            "<class 'str'>\n"
          ]
        }
      ]
    },
    {
      "cell_type": "code",
      "source": [
        "var1=\"nav\"\n",
        "var2=\"guru\"\n",
        "var3=\"kul\"\n",
        "print(type(var1+var2+var3))"
      ],
      "metadata": {
        "colab": {
          "base_uri": "https://localhost:8080/"
        },
        "id": "pqobQxJUoCVB",
        "outputId": "8803e68c-0cb8-4970-8550-51af9604a7ef"
      },
      "execution_count": null,
      "outputs": [
        {
          "output_type": "stream",
          "name": "stdout",
          "text": [
            "<class 'str'>\n"
          ]
        }
      ]
    },
    {
      "cell_type": "code",
      "source": [
        "num1=\"7\"\n",
        "num2=\"number\"\n",
        "print(type(num1+num2))"
      ],
      "metadata": {
        "colab": {
          "base_uri": "https://localhost:8080/"
        },
        "id": "YkdP9WSNoy5u",
        "outputId": "60887ace-7373-48e3-cb4f-b2d7a138b795"
      },
      "execution_count": null,
      "outputs": [
        {
          "output_type": "stream",
          "name": "stdout",
          "text": [
            "<class 'str'>\n"
          ]
        }
      ]
    },
    {
      "cell_type": "code",
      "source": [
        "a=\" \"\n",
        "print(a)"
      ],
      "metadata": {
        "colab": {
          "base_uri": "https://localhost:8080/"
        },
        "id": "ta6xu_FD-tbc",
        "outputId": "27e5c3bd-ee81-479b-9cb0-7e0fd574c1f1"
      },
      "execution_count": null,
      "outputs": [
        {
          "output_type": "stream",
          "name": "stdout",
          "text": [
            " \n"
          ]
        }
      ]
    },
    {
      "cell_type": "code",
      "source": [
        "a=\"my name is pinki, honey\"\n",
        "print(\"pinki\" not in a)"
      ],
      "metadata": {
        "colab": {
          "base_uri": "https://localhost:8080/"
        },
        "id": "lNN-Dtk9C7oO",
        "outputId": "cee13553-4de0-49f9-febe-8b02251c7761"
      },
      "execution_count": 2,
      "outputs": [
        {
          "output_type": "stream",
          "name": "stdout",
          "text": [
            "False\n"
          ]
        }
      ]
    },
    {
      "cell_type": "code",
      "source": [
        "a='''my name is 'honey i love my family and boyfriend currently i live delhi for my education , he also loves me i am very cute girl my mother name is renu d\n",
        "and my father name' is amit ray'''\n",
        "print(a)"
      ],
      "metadata": {
        "colab": {
          "base_uri": "https://localhost:8080/"
        },
        "id": "hf8oSdmBC2iJ",
        "outputId": "e905a464-1ad6-4dce-ce99-b26ec4813b5e"
      },
      "execution_count": 1,
      "outputs": [
        {
          "output_type": "stream",
          "name": "stdout",
          "text": [
            "my name is 'honey i love my family and boyfriend currently i live delhi for my education , he also loves me i am very cute girl my mother name is renu d\n",
            "and my father name' is amit ray\n"
          ]
        }
      ]
    },
    {
      "cell_type": "code",
      "execution_count": null,
      "metadata": {
        "id": "Q-brbj5IuoJe",
        "colab": {
          "base_uri": "https://localhost:8080/"
        },
        "outputId": "d54b4451-e71e-4ae3-ca09-b7d5f25f484e"
      },
      "outputs": [
        {
          "output_type": "stream",
          "name": "stdout",
          "text": [
            "3 5\n",
            "8\n"
          ]
        }
      ],
      "source": [
        "# Construct a flowchart to show how the sum of two numbers can be obtained.\n",
        "a,b=map(int,input().split())\n",
        "print(a+b)"
      ]
    },
    {
      "cell_type": "code",
      "source": [
        "# Construct a flowchart to show the procedure for obtaining the average of two given numbers.\n",
        "a,b=map(int,input().split())\n",
        "print((a+b)/2)"
      ],
      "metadata": {
        "colab": {
          "base_uri": "https://localhost:8080/"
        },
        "id": "lThbqVyB_Mp1",
        "outputId": "02f12c5a-083f-4aa1-e4c2-c9d00a01ce02"
      },
      "execution_count": null,
      "outputs": [
        {
          "output_type": "stream",
          "name": "stdout",
          "text": [
            "34 76\n",
            "55.0\n"
          ]
        }
      ]
    },
    {
      "cell_type": "code",
      "source": [
        "# Construct a flowchart to show how to obtain the daily wage of a worker on the basis of the hours worked during the day.\n",
        "# (Daily wage of a worker is determined by hours worked per day and the hourly wage rate. Input the number of hours worked from the user and the hourly wage rate)\n",
        "wage=int(input())\n",
        "hour=int(input())\n",
        "print(wage*hour)"
      ],
      "metadata": {
        "colab": {
          "base_uri": "https://localhost:8080/"
        },
        "id": "MKk6bF_KAGvD",
        "outputId": "8ac4e658-46a1-44e4-a185-ddd02dd7567a"
      },
      "execution_count": null,
      "outputs": [
        {
          "output_type": "stream",
          "name": "stdout",
          "text": [
            "45\n",
            "3\n",
            "135\n"
          ]
        }
      ]
    },
    {
      "cell_type": "code",
      "source": [
        "# Construct a flowchart to show how to obtain the area of a triangle on the basis of the base and height.\n",
        "# (Input the base and height of the triangle from the user)\n",
        "b,h=map(int,input().split())\n",
        "print(1/2*(b*h))"
      ],
      "metadata": {
        "colab": {
          "base_uri": "https://localhost:8080/"
        },
        "id": "BWbGejbxAoTZ",
        "outputId": "579f6bea-03b7-476c-9496-5e1ed83ceab9"
      },
      "execution_count": null,
      "outputs": [
        {
          "output_type": "stream",
          "name": "stdout",
          "text": [
            "4 8\n",
            "16.0\n"
          ]
        }
      ]
    },
    {
      "cell_type": "code",
      "source": [
        "# Construct a flowchart to show the steps in finding the simple interest on a given amount at a given rate of interest.\n",
        "a,t,r=map(int,input().split())\n",
        "print(a*t*r)"
      ],
      "metadata": {
        "id": "njWR7PfNBXPn"
      },
      "execution_count": null,
      "outputs": []
    },
    {
      "cell_type": "code",
      "source": [
        "'str'=10\n",
        "print(str)\n",
        "#str me '' coma nhi ayega."
      ],
      "metadata": {
        "colab": {
          "base_uri": "https://localhost:8080/",
          "height": 130
        },
        "id": "JRL8N4hZAJd8",
        "outputId": "5eb71068-4da7-4e76-b50a-cd763b203806"
      },
      "execution_count": null,
      "outputs": [
        {
          "output_type": "error",
          "ename": "SyntaxError",
          "evalue": "ignored",
          "traceback": [
            "\u001b[0;36m  File \u001b[0;32m\"<ipython-input-12-f7a24c5f395e>\"\u001b[0;36m, line \u001b[0;32m1\u001b[0m\n\u001b[0;31m    'str'=10\u001b[0m\n\u001b[0m            ^\u001b[0m\n\u001b[0;31mSyntaxError\u001b[0m\u001b[0;31m:\u001b[0m can't assign to literal\n"
          ]
        }
      ]
    },
    {
      "cell_type": "code",
      "source": [
        "str1=\"welcome to my blog\"\n",
        "print(str1[-1])\n",
        "print(str1[9])"
      ],
      "metadata": {
        "colab": {
          "base_uri": "https://localhost:8080/"
        },
        "id": "fH5aL2DtCFiY",
        "outputId": "f8a67a48-6b51-425e-f480-9ab32cec1817"
      },
      "execution_count": null,
      "outputs": [
        {
          "output_type": "stream",
          "name": "stdout",
          "text": [
            "g\n",
            "o\n"
          ]
        }
      ]
    },
    {
      "cell_type": "code",
      "source": [
        "str1=\"Hello world\"\n",
        "print(str1)"
      ],
      "metadata": {
        "colab": {
          "base_uri": "https://localhost:8080/"
        },
        "id": "uYOzTXwqEInS",
        "outputId": "35200e40-90e0-47d8-e898-3f53c7c7a538"
      },
      "execution_count": null,
      "outputs": [
        {
          "output_type": "stream",
          "name": "stdout",
          "text": [
            "Hello world\n"
          ]
        }
      ]
    },
    {
      "cell_type": "code",
      "source": [
        "str1=\"welcome to my blogstr\"\n",
        "a=1\n",
        "a<=18\n",
        "print(a)\n",
        "a+=1"
      ],
      "metadata": {
        "id": "yULETRxvEfNT",
        "colab": {
          "base_uri": "https://localhost:8080/"
        },
        "outputId": "7a8a6f94-4c45-453c-8736-d22459819f93"
      },
      "execution_count": null,
      "outputs": [
        {
          "output_type": "stream",
          "name": "stdout",
          "text": [
            "1\n"
          ]
        }
      ]
    },
    {
      "cell_type": "code",
      "source": [
        "b=\"welcome to my blog\"\n",
        "print(len(b))\n",
        "\n"
      ],
      "metadata": {
        "colab": {
          "base_uri": "https://localhost:8080/"
        },
        "id": "4XNCzJgr8cbq",
        "outputId": "a1113dd4-4cdc-4319-ee28-f4507dae958b"
      },
      "execution_count": null,
      "outputs": [
        {
          "output_type": "stream",
          "name": "stdout",
          "text": [
            "18\n"
          ]
        }
      ]
    },
    {
      "cell_type": "code",
      "source": [
        "a=6+3\n",
        "print(a)"
      ],
      "metadata": {
        "colab": {
          "base_uri": "https://localhost:8080/"
        },
        "id": "ofxrbU6qHz6x",
        "outputId": "141716a0-777c-44c5-f495-242b4c0ed07e"
      },
      "execution_count": null,
      "outputs": [
        {
          "output_type": "stream",
          "name": "stdout",
          "text": [
            "9\n"
          ]
        }
      ]
    },
    {
      "cell_type": "code",
      "source": [
        "a=\"welcome to the new delhi\"\n",
        "print(len(a))\n"
      ],
      "metadata": {
        "colab": {
          "base_uri": "https://localhost:8080/"
        },
        "id": "oDT7Mwh2Fgc7",
        "outputId": "b93ac4a0-bbf6-46bf-e5ad-8f78a2271b01"
      },
      "execution_count": null,
      "outputs": [
        {
          "output_type": "stream",
          "name": "stdout",
          "text": [
            "24\n"
          ]
        }
      ]
    },
    {
      "cell_type": "code",
      "source": [
        "i=\"welcome to my blog\"\n",
        "print(i)\n",
        "print(i,end='')\n",
        "print(i,end='#')"
      ],
      "metadata": {
        "colab": {
          "base_uri": "https://localhost:8080/"
        },
        "id": "VEDvd8wgY2US",
        "outputId": "67b5bcc0-b31e-4f4b-c510-763d2f095d6f"
      },
      "execution_count": null,
      "outputs": [
        {
          "output_type": "stream",
          "name": "stdout",
          "text": [
            "welcome to my blog\n",
            "welcome to my blogwelcome to my blog#"
          ]
        }
      ]
    },
    {
      "cell_type": "code",
      "source": [
        "i=\"amit\"\n",
        "print(i)\n",
        "print(i,end='')"
      ],
      "metadata": {
        "colab": {
          "base_uri": "https://localhost:8080/"
        },
        "id": "zoBL6WmGa6e-",
        "outputId": "77bc50f3-c9e7-4f27-af9f-f64f9bdb61e8"
      },
      "execution_count": null,
      "outputs": [
        {
          "output_type": "stream",
          "name": "stdout",
          "text": [
            "amit\n",
            "amit"
          ]
        }
      ]
    },
    {
      "cell_type": "code",
      "source": [
        "slicing=string[range]\n",
        "concarenation=string1+string2\n",
        "repetition=string*7\n",
        "membership=in,not in\n",
        "reverse=string[:-1]"
      ],
      "metadata": {
        "id": "hONmsHa8bIcA"
      },
      "execution_count": null,
      "outputs": []
    },
    {
      "cell_type": "code",
      "source": [
        "str1=\"wel\"\n",
        "str2=\"come\"\n",
        "str3=\"welcome\"\n",
        "print(str3)"
      ],
      "metadata": {
        "colab": {
          "base_uri": "https://localhost:8080/"
        },
        "id": "B9HrTGsVd8Ck",
        "outputId": "94afb7fb-b639-4304-af52-2e1a722d4aa3"
      },
      "execution_count": null,
      "outputs": [
        {
          "output_type": "stream",
          "name": "stdout",
          "text": [
            "welcome\n"
          ]
        }
      ]
    },
    {
      "cell_type": "code",
      "source": [
        "print(>>>'a'*3)"
      ],
      "metadata": {
        "colab": {
          "base_uri": "https://localhost:8080/",
          "height": 130
        },
        "id": "V9LOwzKqeaYO",
        "outputId": "aa1688c6-55e8-456c-ff6f-61fc58df9c71"
      },
      "execution_count": null,
      "outputs": [
        {
          "output_type": "error",
          "ename": "SyntaxError",
          "evalue": "ignored",
          "traceback": [
            "\u001b[0;36m  File \u001b[0;32m\"<ipython-input-9-3c36091846c0>\"\u001b[0;36m, line \u001b[0;32m1\u001b[0m\n\u001b[0;31m    print(>>>'a'*3)\u001b[0m\n\u001b[0m           ^\u001b[0m\n\u001b[0;31mSyntaxError\u001b[0m\u001b[0;31m:\u001b[0m invalid syntax\n"
          ]
        }
      ]
    },
    {
      "cell_type": "code",
      "source": [
        "i=range(2,5,2):\n",
        "print(i*'@')"
      ],
      "metadata": {
        "colab": {
          "base_uri": "https://localhost:8080/",
          "height": 130
        },
        "id": "LonbzIQHeyg1",
        "outputId": "146671ab-d08b-4fc3-9753-e6105a1ebb1e"
      },
      "execution_count": null,
      "outputs": [
        {
          "output_type": "error",
          "ename": "SyntaxError",
          "evalue": "ignored",
          "traceback": [
            "\u001b[0;36m  File \u001b[0;32m\"<ipython-input-10-b3462f73697d>\"\u001b[0;36m, line \u001b[0;32m1\u001b[0m\n\u001b[0;31m    i=range(2,5,2):\u001b[0m\n\u001b[0m                  ^\u001b[0m\n\u001b[0;31mSyntaxError\u001b[0m\u001b[0;31m:\u001b[0m invalid syntax\n"
          ]
        }
      ]
    },
    {
      "cell_type": "code",
      "source": [
        "a='HINDI'\n",
        "print(a[:1])\n",
        "print(a[1:2])"
      ],
      "metadata": {
        "id": "D394hAfwfFz2",
        "colab": {
          "base_uri": "https://localhost:8080/"
        },
        "outputId": "21715dc4-43e4-4559-bacd-774114c6b8b5"
      },
      "execution_count": null,
      "outputs": [
        {
          "output_type": "stream",
          "name": "stdout",
          "text": [
            "H\n",
            "I\n"
          ]
        }
      ]
    },
    {
      "cell_type": "code",
      "source": [
        "a='amit'\n",
        "print(a[2:3])"
      ],
      "metadata": {
        "colab": {
          "base_uri": "https://localhost:8080/"
        },
        "id": "uPqr_bLfB5A3",
        "outputId": "b328ff61-39d7-47c0-806f-688d9dcb1a96"
      },
      "execution_count": null,
      "outputs": [
        {
          "output_type": "stream",
          "name": "stdout",
          "text": [
            "i\n"
          ]
        }
      ]
    },
    {
      "cell_type": "code",
      "source": [
        "p=\"substring\"\n",
        "print(p[3:9])\n",
        "print(p[:3])"
      ],
      "metadata": {
        "colab": {
          "base_uri": "https://localhost:8080/"
        },
        "id": "Bu4ncZVjCgGR",
        "outputId": "e873d9cd-cbeb-4e80-c928-1a9857c5dc54"
      },
      "execution_count": null,
      "outputs": [
        {
          "output_type": "stream",
          "name": "stdout",
          "text": [
            "string\n",
            "sub\n"
          ]
        }
      ]
    },
    {
      "cell_type": "code",
      "source": [
        "s=\"welcome to my blog\"\n",
        "print(s[2:3])\n",
        "print(s[2:10])\n",
        "print(s[-2:])\n",
        "print(s[-10:-2:2])"
      ],
      "metadata": {
        "colab": {
          "base_uri": "https://localhost:8080/"
        },
        "id": "YLuUXcL9Duk4",
        "outputId": "f2d11de0-f5c8-48b6-ddea-61578e4e86d4"
      },
      "execution_count": null,
      "outputs": [
        {
          "output_type": "stream",
          "name": "stdout",
          "text": [
            "l\n",
            "lcome to\n",
            "og\n",
            "t yb\n"
          ]
        }
      ]
    },
    {
      "cell_type": "code",
      "source": [
        "str1=\"Anita\"\n",
        " str1\n",
        "print(str1)"
      ],
      "metadata": {
        "colab": {
          "base_uri": "https://localhost:8080/",
          "height": 200
        },
        "id": "canGj7bdGIjS",
        "outputId": "7fcc7fdc-b506-4883-9cd5-f068b709a6f1"
      },
      "execution_count": null,
      "outputs": [
        {
          "output_type": "error",
          "ename": "TypeError",
          "evalue": "ignored",
          "traceback": [
            "\u001b[0;31m---------------------------------------------------------------------------\u001b[0m",
            "\u001b[0;31mTypeError\u001b[0m                                 Traceback (most recent call last)",
            "\u001b[0;32m<ipython-input-6-d92908938622>\u001b[0m in \u001b[0;36m<module>\u001b[0;34m()\u001b[0m\n\u001b[1;32m      1\u001b[0m \u001b[0mstr1\u001b[0m\u001b[0;34m=\u001b[0m\u001b[0;34m\"Anita\"\u001b[0m\u001b[0;34m\u001b[0m\u001b[0;34m\u001b[0m\u001b[0m\n\u001b[0;32m----> 2\u001b[0;31m \u001b[0mstr1\u001b[0m\u001b[0;34m[\u001b[0m\u001b[0;36m1\u001b[0m\u001b[0;34m]\u001b[0m\u001b[0;34m=\u001b[0m\u001b[0;34m'm'\u001b[0m\u001b[0;34m\u001b[0m\u001b[0;34m\u001b[0m\u001b[0m\n\u001b[0m\u001b[1;32m      3\u001b[0m \u001b[0mprint\u001b[0m\u001b[0;34m(\u001b[0m\u001b[0mstr1\u001b[0m\u001b[0;34m)\u001b[0m\u001b[0;34m\u001b[0m\u001b[0;34m\u001b[0m\u001b[0m\n",
            "\u001b[0;31mTypeError\u001b[0m: 'str' object does not support item assignment"
          ]
        }
      ]
    },
    {
      "cell_type": "code",
      "source": [
        "str1=\"Amit\"\n",
        "str2=\"MyBlog\"\n",
        "str3=\"#blog\"\n",
        "str4=\"My 1st Blog\"\n",
        "print(str1.isalpha())\n",
        "print(str2.isalpha())\n",
        "print(str3.isalpha())\n",
        "print(str4.isalpha())\n",
        "print(len(str4))"
      ],
      "metadata": {
        "colab": {
          "base_uri": "https://localhost:8080/"
        },
        "id": "OEV45DzgXyYj",
        "outputId": "c4a69bec-f985-4f5a-f9d6-65659fb9ce32"
      },
      "execution_count": null,
      "outputs": [
        {
          "output_type": "stream",
          "name": "stdout",
          "text": [
            "True\n",
            "True\n",
            "False\n",
            "False\n",
            "11\n"
          ]
        }
      ]
    },
    {
      "cell_type": "code",
      "source": [
        "a=\"1234\"\n",
        "b=\"73hjh\"\n",
        "print(a.isdigit())\n",
        "print(b.isdigit())"
      ],
      "metadata": {
        "colab": {
          "base_uri": "https://localhost:8080/"
        },
        "id": "W-8gS9d1he8T",
        "outputId": "0b8297cc-84d7-438e-df3c-2c46c98e8405"
      },
      "execution_count": null,
      "outputs": [
        {
          "output_type": "stream",
          "name": "stdout",
          "text": [
            "True\n",
            "False\n"
          ]
        }
      ]
    },
    {
      "cell_type": "code",
      "source": [
        "a=\"pinki\"\n",
        "b=\"PINKI\"\n",
        "print(b.lower())\n",
        "print(a.islower())\n",
        "print(b.islower())"
      ],
      "metadata": {
        "colab": {
          "base_uri": "https://localhost:8080/"
        },
        "id": "t9ITN3RV1zSS",
        "outputId": "93ea62dd-f35c-4167-906e-4078ad62a8ff"
      },
      "execution_count": null,
      "outputs": [
        {
          "output_type": "stream",
          "name": "stdout",
          "text": [
            "pinki\n",
            "True\n",
            "False\n"
          ]
        }
      ]
    },
    {
      "cell_type": "code",
      "source": [
        "a=str(input(\"write the word=>\"))\n",
        "print(a.lower())\n",
        "print(len(a))"
      ],
      "metadata": {
        "colab": {
          "base_uri": "https://localhost:8080/"
        },
        "id": "GDitKfeu23mu",
        "outputId": "95d7fbeb-fa61-4504-b83d-445c8d4c5329"
      },
      "execution_count": null,
      "outputs": [
        {
          "output_type": "stream",
          "name": "stdout",
          "text": [
            "write the word=>PINKI\n",
            "pinki\n",
            "5\n"
          ]
        }
      ]
    },
    {
      "cell_type": "code",
      "source": [
        "s=\"My blog\"\n",
        "print(s.upper())\n",
        "print(s.lower())\n",
        "print(s.islower())\n",
        "print(s.isupper())\n",
        "print(s.isalpha())\n",
        "print(s.isdigit())            "
      ],
      "metadata": {
        "colab": {
          "base_uri": "https://localhost:8080/"
        },
        "id": "g1PQDanDPAZ8",
        "outputId": "ad72dc60-58bd-49c9-868e-14e2ba9266f4"
      },
      "execution_count": null,
      "outputs": [
        {
          "output_type": "stream",
          "name": "stdout",
          "text": [
            "MY BLOG\n",
            "my blog\n",
            "False\n",
            "False\n",
            "False\n",
            "False\n"
          ]
        }
      ]
    },
    {
      "cell_type": "code",
      "source": [
        "a=\"Welcome to my Blog\"\n",
        "print(len(a))\n",
        "b=\"   Welcome to my Blog\"\n",
        "print(len(b))\n",
        "print(len(b.lstrip()))\n"
      ],
      "metadata": {
        "id": "6jH0-ckwQOLm",
        "colab": {
          "base_uri": "https://localhost:8080/"
        },
        "outputId": "c702e39a-93a9-4b9f-fdc7-2398d56a0f48"
      },
      "execution_count": null,
      "outputs": [
        {
          "output_type": "stream",
          "name": "stdout",
          "text": [
            "18\n",
            "21\n",
            "18\n"
          ]
        }
      ]
    },
    {
      "cell_type": "code",
      "source": [
        "p=10"
      ],
      "metadata": {
        "colab": {
          "base_uri": "https://localhost:8080/"
        },
        "id": "vMK7uVsqX6eX",
        "outputId": "f3fa91b6-980e-4e99-f09e-aa06768d808c"
      },
      "execution_count": null,
      "outputs": [
        {
          "output_type": "stream",
          "name": "stdout",
          "text": [
            "25\n",
            "18\n",
            "21\n",
            "22\n"
          ]
        }
      ]
    },
    {
      "cell_type": "code",
      "source": [
        "p=\"Welcome to my Blog\"\n",
        "print(p.rstrip(\"og\"))\n",
        "print(p.lstrip(\"We\"))\n",
        "print(p.strip(\"Welog\"))\n",
        "print(len(p.rstrip(\"og\")))\n",
        "print(len(p.lstrip(\"We\")))\n",
        "print(len(p.strip(\"Welog\")))"
      ],
      "metadata": {
        "colab": {
          "base_uri": "https://localhost:8080/"
        },
        "id": "OIA_Jbz6fjqN",
        "outputId": "df1a8e34-0ede-4efe-8d54-d2f69588ad6c"
      },
      "execution_count": null,
      "outputs": [
        {
          "output_type": "stream",
          "name": "stdout",
          "text": [
            "Welcome to my Bl\n",
            "lcome to my Blog\n",
            "come to my B\n",
            "16\n",
            "16\n",
            "12\n"
          ]
        }
      ]
    },
    {
      "cell_type": "code",
      "source": [
        "p=\"pinkiisgoo\"\n",
        "print(p[13])"
      ],
      "metadata": {
        "colab": {
          "base_uri": "https://localhost:8080/",
          "height": 183
        },
        "id": "OXqgYo8Cg9VZ",
        "outputId": "dad50eea-654e-4f6b-8dc9-c69be377f47e"
      },
      "execution_count": null,
      "outputs": [
        {
          "output_type": "error",
          "ename": "IndexError",
          "evalue": "ignored",
          "traceback": [
            "\u001b[0;31m---------------------------------------------------------------------------\u001b[0m",
            "\u001b[0;31mIndexError\u001b[0m                                Traceback (most recent call last)",
            "\u001b[0;32m<ipython-input-17-7fe43c9faa21>\u001b[0m in \u001b[0;36m<module>\u001b[0;34m()\u001b[0m\n\u001b[1;32m      1\u001b[0m \u001b[0mp\u001b[0m\u001b[0;34m=\u001b[0m\u001b[0;34m\"pinkiisgoo\"\u001b[0m\u001b[0;34m\u001b[0m\u001b[0;34m\u001b[0m\u001b[0m\n\u001b[0;32m----> 2\u001b[0;31m \u001b[0mprint\u001b[0m\u001b[0;34m(\u001b[0m\u001b[0mp\u001b[0m\u001b[0;34m[\u001b[0m\u001b[0;36m13\u001b[0m\u001b[0;34m]\u001b[0m\u001b[0;34m)\u001b[0m\u001b[0;34m\u001b[0m\u001b[0;34m\u001b[0m\u001b[0m\n\u001b[0m",
            "\u001b[0;31mIndexError\u001b[0m: string index out of range"
          ]
        }
      ]
    },
    {
      "cell_type": "code",
      "source": [
        "str1 = \"    \"\n",
        "str2 = \"  7  \"\n",
        "\n",
        "print(str1.isspace())\n",
        "print(str2.isspace())"
      ],
      "metadata": {
        "colab": {
          "base_uri": "https://localhost:8080/"
        },
        "id": "W50R8hI-km5L",
        "outputId": "bfe3ab5c-f586-4e12-9153-7cfabda36655"
      },
      "execution_count": null,
      "outputs": [
        {
          "output_type": "stream",
          "name": "stdout",
          "text": [
            "True\n",
            "False\n"
          ]
        }
      ]
    },
    {
      "cell_type": "code",
      "source": [
        "s1=\" \"\n",
        "s2=\"  Amit\"\n",
        "print(s1.isspace())\n",
        "print(s2.isspace())"
      ],
      "metadata": {
        "colab": {
          "base_uri": "https://localhost:8080/"
        },
        "id": "iVt_EkQVlZRg",
        "outputId": "d3bef375-20ea-454c-87b6-0a5d49bcde40"
      },
      "execution_count": null,
      "outputs": [
        {
          "output_type": "stream",
          "name": "stdout",
          "text": [
            "True\n",
            "False\n"
          ]
        }
      ]
    },
    {
      "cell_type": "code",
      "source": [
        "p=\"Rahat Fateh Ali Khan\"\n",
        "print(p.istitle())\n",
        "print(p.title())\n"
      ],
      "metadata": {
        "colab": {
          "base_uri": "https://localhost:8080/"
        },
        "id": "740wVG5WmtpP",
        "outputId": "62910d3a-d7e2-4821-84e3-4292b1e2a811"
      },
      "execution_count": null,
      "outputs": [
        {
          "output_type": "stream",
          "name": "stdout",
          "text": [
            "True\n",
            "Rahat Fateh Ali Khan\n"
          ]
        }
      ]
    },
    {
      "cell_type": "code",
      "source": [
        "a=\"pinki\"\n",
        "b=\"GOOD\"\n",
        "print(b.swapcase())\n",
        "print(a.swapcase())\n",
        "#change to upper to lower, and lower to upper"
      ],
      "metadata": {
        "colab": {
          "base_uri": "https://localhost:8080/"
        },
        "id": "uErOnuOVoGsx",
        "outputId": "d7d5e1e5-ee1e-49d8-dfd7-afe7413efd44"
      },
      "execution_count": null,
      "outputs": [
        {
          "output_type": "stream",
          "name": "stdout",
          "text": [
            "good\n",
            "PINKI\n"
          ]
        }
      ]
    },
    {
      "cell_type": "code",
      "source": [
        "p=\"welcome to my Blog\"\n",
        "print(p.capitalize())"
      ],
      "metadata": {
        "colab": {
          "base_uri": "https://localhost:8080/"
        },
        "id": "kZ6olSCPoGb7",
        "outputId": "4bd84d7d-15ac-491c-ae6f-e06083e9c0cf"
      },
      "execution_count": null,
      "outputs": [
        {
          "output_type": "stream",
          "name": "stdout",
          "text": [
            "Welcome to my blog\n"
          ]
        }
      ]
    },
    {
      "cell_type": "code",
      "source": [
        "str1=\"Welcome to my Blog\"\n",
        "p = str1.split()\n",
        "print(p)\n",
        "print(p[0])"
      ],
      "metadata": {
        "colab": {
          "base_uri": "https://localhost:8080/"
        },
        "id": "yt41whBXseSV",
        "outputId": "9a7ad9a8-3826-43e1-8fab-46aa83b485b8"
      },
      "execution_count": null,
      "outputs": [
        {
          "output_type": "stream",
          "name": "stdout",
          "text": [
            "['Welcome', 'to', 'my', 'Blog']\n",
            "Welcome\n"
          ]
        }
      ]
    },
    {
      "cell_type": "code",
      "source": [
        "a=\"welcome to blog\"\n",
        "print(a.title())"
      ],
      "metadata": {
        "colab": {
          "base_uri": "https://localhost:8080/"
        },
        "id": "z2Fy8htUx8i5",
        "outputId": "dfb4cd50-cb32-4e61-f8e6-8fe670a2206a"
      },
      "execution_count": null,
      "outputs": [
        {
          "output_type": "stream",
          "name": "stdout",
          "text": [
            "Welcome To Blog\n"
          ]
        }
      ]
    },
    {
      "cell_type": "code",
      "source": [
        "p=\"Mummy?Papa?Brother?Sister?Uncle\"\n",
        "print(p.split( ))\n",
        "print(p.split(\"?\"))\n",
        "print(p.split(\"?\",1))\n",
        "print(p.split(\"?\",3))\n",
        "print(p.split(\"?,10\"))\n",
        "print(p.split(\"?,-1\"))"
      ],
      "metadata": {
        "colab": {
          "base_uri": "https://localhost:8080/"
        },
        "id": "OhcuaE-sLFKN",
        "outputId": "399503f5-56b4-4475-a0c7-6674d49e848d"
      },
      "execution_count": null,
      "outputs": [
        {
          "output_type": "stream",
          "name": "stdout",
          "text": [
            "['Mummy?Papa?Brother?Sister?Uncle']\n",
            "['Mummy', 'Papa', 'Brother', 'Sister', 'Uncle']\n",
            "['Mummy', 'Papa?Brother?Sister?Uncle']\n",
            "['Mummy', 'Papa', 'Brother', 'Sister?Uncle']\n",
            "['Mummy?Papa?Brother?Sister?Uncle']\n",
            "['Mummy?Papa?Brother?Sister?Uncle']\n"
          ]
        }
      ]
    },
    {
      "cell_type": "code",
      "source": [
        "a=\"I do you do and we all will do\"\n",
        "print(a.replace(\"do\",\"does\"))"
      ],
      "metadata": {
        "colab": {
          "base_uri": "https://localhost:8080/"
        },
        "id": "wuPp_TK7uP-r",
        "outputId": "a4866f51-65de-4c13-f9d1-f6bc4a6b1373"
      },
      "execution_count": null,
      "outputs": [
        {
          "output_type": "stream",
          "name": "stdout",
          "text": [
            "I do you do and does all will do\n"
          ]
        }
      ]
    },
    {
      "cell_type": "code",
      "source": [
        "p=\"I went to Auli\"\n",
        "print( p.replace(\"I\",\"we\"))"
      ],
      "metadata": {
        "colab": {
          "base_uri": "https://localhost:8080/"
        },
        "id": "UD1ZO8xJuQVH",
        "outputId": "31b4db91-3759-4490-9433-6e71a22c1374"
      },
      "execution_count": null,
      "outputs": [
        {
          "output_type": "stream",
          "name": "stdout",
          "text": [
            "we went to Auli\n"
          ]
        }
      ]
    },
    {
      "cell_type": "code",
      "source": [
        "a=\"Welcome to my Blog\"\n",
        "print(a.find(\"o\"))\n",
        "print(a.find('o',3))\n",
        "print(a.find('o,7'))\n",
        "print(a.find('o',7,10))\n",
        "print(a[-1])"
      ],
      "metadata": {
        "colab": {
          "base_uri": "https://localhost:8080/"
        },
        "id": "KBPzNOpwwSeb",
        "outputId": "1386192e-53e6-4645-d0e6-9d6a36e1977b"
      },
      "execution_count": null,
      "outputs": [
        {
          "output_type": "stream",
          "name": "stdout",
          "text": [
            "4\n",
            "4\n",
            "-1\n",
            "9\n",
            "g\n"
          ]
        }
      ]
    },
    {
      "cell_type": "code",
      "source": [
        "p=\"pinki \"\n",
        "print(p*20)"
      ],
      "metadata": {
        "colab": {
          "base_uri": "https://localhost:8080/"
        },
        "id": "7LTvePbx5ELs",
        "outputId": "8821c810-92c9-4ed9-98dc-f81c2061c5c7"
      },
      "execution_count": null,
      "outputs": [
        {
          "output_type": "stream",
          "name": "stdout",
          "text": [
            "pinki pinki pinki pinki pinki pinki pinki pinki pinki pinki pinki pinki pinki pinki pinki pinki pinki pinki pinki pinki \n"
          ]
        }
      ]
    },
    {
      "cell_type": "code",
      "source": [
        "a=\"i lovE MY DreaM anD familY alsO\"\n",
        "print(a.swapcase())\n",
        "print(a.upper())\n",
        "print(a.lower())\n",
        "print(a.title())"
      ],
      "metadata": {
        "id": "u9IQbfVX6s1J",
        "colab": {
          "base_uri": "https://localhost:8080/"
        },
        "outputId": "8b8a3161-d8e4-48c8-89bf-a7e02b51dd6b"
      },
      "execution_count": null,
      "outputs": [
        {
          "output_type": "stream",
          "name": "stdout",
          "text": [
            "I LOVe my dREAm ANd FAMILy ALSo\n",
            "I LOVE MY DREAM AND FAMILY ALSO\n",
            "i love my dream and family also\n",
            "I Love My Dream And Family Also\n"
          ]
        }
      ]
    },
    {
      "cell_type": "code",
      "source": [
        "a=\"kalyanpuri\"\n",
        "print(a[:3])"
      ],
      "metadata": {
        "colab": {
          "base_uri": "https://localhost:8080/"
        },
        "id": "Wg5dhjTx7-AE",
        "outputId": "a9dc58b0-e089-4efa-ecb7-0a52ea0d04af"
      },
      "execution_count": null,
      "outputs": [
        {
          "output_type": "stream",
          "name": "stdout",
          "text": [
            "kal\n"
          ]
        }
      ]
    },
    {
      "cell_type": "code",
      "source": [
        "a=\"whats your name\"\n",
        "p=(a.split())\n",
        "print(p)\n",
        "q=(p[0])"
      ],
      "metadata": {
        "colab": {
          "base_uri": "https://localhost:8080/"
        },
        "id": "1s213xrh8rO7",
        "outputId": "4f6a8357-ee88-4d1c-81ca-af8ed339df19"
      },
      "execution_count": null,
      "outputs": [
        {
          "output_type": "stream",
          "name": "stdout",
          "text": [
            "['whats', 'your', 'name']\n"
          ]
        }
      ]
    },
    {
      "cell_type": "code",
      "source": [
        "a=int(input(\"write a num any factorial=\"))\n",
        "i=1\n",
        "sum=0\n",
        "while i>=5:\n",
        "  print(a*i)\n",
        "  i-=1\n"
      ],
      "metadata": {
        "id": "oOtsoetMC2Km",
        "colab": {
          "base_uri": "https://localhost:8080/"
        },
        "outputId": "902f7cc7-9f36-4cdb-a6a7-9f1bbe3285dd"
      },
      "execution_count": null,
      "outputs": [
        {
          "name": "stdout",
          "output_type": "stream",
          "text": [
            "write a num any factorial=3\n"
          ]
        }
      ]
    },
    {
      "cell_type": "code",
      "source": [
        "#  *************    string Questions   ***********************\n",
        "name='pinki'\n",
        "age=20\n",
        "print('my name is %s.I am %s years old.'%(name,age))"
      ],
      "metadata": {
        "colab": {
          "base_uri": "https://localhost:8080/"
        },
        "id": "9VlkfDAwTjum",
        "outputId": "44d5b888-507e-4151-cd38-b5f0af6afedc"
      },
      "execution_count": null,
      "outputs": [
        {
          "output_type": "stream",
          "name": "stdout",
          "text": [
            "my name is pinki.I am 20 years old.\n"
          ]
        }
      ]
    },
    {
      "cell_type": "code",
      "source": [
        "name='pinki'\n",
        "age=20\n",
        "print('my name is %a.I am %a years old.'%(name,age))"
      ],
      "metadata": {
        "colab": {
          "base_uri": "https://localhost:8080/"
        },
        "id": "3O9EZ8kAvZ4a",
        "outputId": "9642c840-21a2-4626-e0ed-c99520f86d2e"
      },
      "execution_count": null,
      "outputs": [
        {
          "output_type": "stream",
          "name": "stdout",
          "text": [
            "my name is 'pinki'.I am 20 years old.\n"
          ]
        }
      ]
    },
    {
      "cell_type": "code",
      "source": [
        "name='pinki'\n",
        "age=19\n",
        "print(f'my name is {name}.I am {age+1} years old.')"
      ],
      "metadata": {
        "colab": {
          "base_uri": "https://localhost:8080/"
        },
        "id": "-a0XUBIVv5_e",
        "outputId": "13008032-fd2e-4f05-c9e9-525b50aca9ed"
      },
      "execution_count": null,
      "outputs": [
        {
          "output_type": "stream",
          "name": "stdout",
          "text": [
            "my name is {name}.I am {age+1} years old.\n"
          ]
        }
      ]
    },
    {
      "cell_type": "code",
      "source": [
        "#Q.59\n",
        "a=input(\"Enter your Last name:=\")\n",
        "b=input(\"Enter your First Name:=\")\n",
        "a,b = b,a\n",
        "if a:\n",
        "  print(a+' '+b)"
      ],
      "metadata": {
        "colab": {
          "base_uri": "https://localhost:8080/"
        },
        "id": "W-o9KZX9hLC4",
        "outputId": "dd51ee96-fafe-49ca-a931-d76d3c1c406e"
      },
      "execution_count": null,
      "outputs": [
        {
          "output_type": "stream",
          "name": "stdout",
          "text": [
            "Enter your Last name:=kumari\n",
            "Enter your First Name:=pinki\n",
            "pinki kumari\n"
          ]
        }
      ]
    },
    {
      "cell_type": "code",
      "source": [
        "#Q.59\n",
        "a=input(\"Enter your Last name:=\")\n",
        "b=input(\"Enter your First Name:=\")\n",
        "c=a\n",
        "a=b\n",
        "b=c\n",
        "if a:\n",
        "  print(a+' '+b)"
      ],
      "metadata": {
        "colab": {
          "base_uri": "https://localhost:8080/"
        },
        "id": "pleQSQrywmTa",
        "outputId": "d772679a-e61e-4861-af69-f0087b97e694"
      },
      "execution_count": null,
      "outputs": [
        {
          "output_type": "stream",
          "name": "stdout",
          "text": [
            "Enter your Last name:=kumari\n",
            "Enter your First Name:=pinki\n",
            "pinki kumari\n"
          ]
        }
      ]
    },
    {
      "cell_type": "code",
      "source": [
        "#abc.pinki hme . se todna hai or isse aage ka print karvana hai\n",
        "#eg:abc=0,pinki=1\n",
        "#Q.60\n",
        "a=input(\"Enter your file name: \")\n",
        "b=a.split(\".\")\n",
        "print(b[0])"
      ],
      "metadata": {
        "colab": {
          "base_uri": "https://localhost:8080/"
        },
        "id": "SPKa9gWv0J14",
        "outputId": "0633b694-3c8a-4e68-fd26-9da31ce2cf4d"
      },
      "execution_count": null,
      "outputs": [
        {
          "output_type": "stream",
          "name": "stdout",
          "text": [
            "Enter your file name: pinki.org\n",
            "pinki\n"
          ]
        }
      ]
    }
  ]
}